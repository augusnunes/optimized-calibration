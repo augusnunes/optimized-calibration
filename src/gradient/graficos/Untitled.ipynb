{
 "cells": [
  {
   "cell_type": "code",
   "execution_count": 1,
   "metadata": {},
   "outputs": [
    {
     "name": "stdout",
     "output_type": "stream",
     "text": [
      "  Page 1                                    Thu Jul 30 09:00:49 2020\n",
      "\n",
      "  ******************************************************************\n",
      "  *                           E P A N E T                          *\n",
      "  *                   Hydraulic and Water Quality                  *\n",
      "  *                   Analysis for Pipe Networks                   *\n",
      "  *                         Version 2.2                            *\n",
      "  ******************************************************************\n",
      "  \n",
      "  Analysis begun Thu Jul 30 09:00:49 2020\n"
     ]
    },
    {
     "data": {
      "text/plain": [
       "GLMakie.Screen(...)"
      ]
     },
     "execution_count": 1,
     "metadata": {},
     "output_type": "execute_result"
    }
   ],
   "source": [
    "# Including epamodule.jl\n",
    "include(\"/home/augusto/Documents/IC-2020/epanet-julia/epamodule.jl\")\n",
    "em = Main.epamodule\n",
    "\n",
    "#Including epanet.jl\n",
    "include(\"/home/augusto/Documents/IC-2020/optimized-calibration/epanet/epanet.jl\")\n",
    "sm = Main.simulation\n",
    "\n",
    "path_nodes = \"/home/augusto/Documents/IC-2020/optimized-calibration/networks/b-town/nodes\"\n",
    "path_links = \"/home/augusto/Documents/IC-2020/optimized-calibration/networks/b-town/links\"\n",
    "path_inp = \"/home/augusto/Documents/IC-2020/optimized-calibration/networks/b-town/rede.inp\"\n",
    "path_saida = \"/home/augusto/Documents/IC-2020/optimized-calibration/gradient/f_b/other2/socorro.csv\"\n",
    "\n",
    "paths = sm.Paths(path_nodes, path_links, path_inp, path_saida)\n",
    "sm.start(paths)\n",
    "group_link = Dict{Int64, Array{Int64,1}}(1 => em.ENgetlinkindex.([\"2\",\"3\",\"15\",\"14\",\"13\",\"12\",\"11\",\"10\",\"1\"]), 2=>em.ENgetlinkindex.([\"16\",\"17\",\"18\",\"19\",\"20\"]), 3=> em.ENgetlinkindex.([\"5\",\"4\",\"6\",\"7\",\"8\",\"9\"]))\n",
    "\n",
    "v = Dict{Float64, Dict{Int64, Float64}}(\n",
    "    20.0 => Dict(6 =>26.434926986694336,11 => 34.299713134765625,15 => 32.01907730102539), \n",
    "    30.0 => Dict(6 =>26.037752151489258,11 => 34.08491516113281, 15 => 31.50044059753418), \n",
    "    50.0 => Dict(6 =>24.853008270263672,11 => 33.45237731933594, 15 => 29.963409423828125 ), \n",
    "    55.0 => Dict(6 =>24.47783660888672, 11 => 33.25362014770508, 15 => 29.47846031188965 ),\n",
    "    60.0 => Dict(6 =>24.071619033813477,11 => 33.03902816772461, 15 => 28.954042434692383),\n",
    "    70.0 => Dict(6 =>23.16685676574707, 11 => 32.56293487548828, 15 => 27.788007736206055))\n",
    "net = sm.Network(paths, 3, group_link, v)\n",
    "\n",
    "a = 0.01 # 0.01\n",
    "b = 0.079 # 0.079\n",
    "c = 0.115 # 0.115\n",
    "\n",
    "intime_smvalues = sm.Simulation(Dict{Int64,Float64}(1 => a, 2=>b, 3 => c)) \n",
    "\n",
    "sm.update_network_values(net,intime_smvalues)\n",
    "\n",
    "using Makie\n",
    "\n",
    "function get_data(rugo_g2, rugo_g3, v)\n",
    "    # Atualizando valores das rugo das tubulações\n",
    "    v.link_values[2] = rugo_g2\n",
    "    v.link_values[3] = rugo_g3\n",
    "    sm.update_network_values(net,intime_smvalues)\n",
    "    \n",
    "    # Puxando valores para Rugo g1\n",
    "    erro = Array{Float64,1}([])\n",
    "    for i in 1e-3:1e-3:0.2\n",
    "        sm.f(net, i, 1) |> valor -> append!(erro, valor)\n",
    "    end\n",
    "    return erro\n",
    "end\n",
    "\n",
    "g2_i = 0.079 #0.079\n",
    "g3_i = 0.115 #0.115\n",
    "xr = 0.001:0.001:0.2\n",
    "## setup sliders \n",
    "sg2, g2 = textslider(xr, \"Rugo g2\", start = g2_i)\n",
    "sg3, g3 = textslider(xr, \"Rugo g3\", start = g3_i)\n",
    "\n",
    "## setup lifts\n",
    "erro = lift((g2, g3) -> get_data(g2,g3, intime_smvalues), g2, g3)\n",
    "\n",
    "## setup plot\n",
    "scene = lines(               # plot x=y, the bisector line\n",
    "    xr,                   # xs\n",
    "    erro,                 # ys\n",
    "    #linestyle = :dash,    # style of line\n",
    "    linewidth = 2,        # width of line\n",
    "    color = :green         # colour of line\n",
    ")\n",
    "scene[Axis][:names][:axisnames] = (\"Rugosidade g1\", \"Erro\") # set axis names\n",
    "\n",
    "final = hbox(scene, vbox(sg2, sg3))\n",
    "\n",
    "display(final)\n",
    "\n"
   ]
  },
  {
   "cell_type": "code",
   "execution_count": 2,
   "metadata": {},
   "outputs": [
    {
     "data": {
      "text/plain": [
       "GLMakie.Screen(...)"
      ]
     },
     "execution_count": 2,
     "metadata": {},
     "output_type": "execute_result"
    }
   ],
   "source": [
    "display(final)"
   ]
  },
  {
   "cell_type": "code",
   "execution_count": null,
   "metadata": {},
   "outputs": [],
   "source": []
  }
 ],
 "metadata": {
  "kernelspec": {
   "display_name": "Julia 1.4.1",
   "language": "julia",
   "name": "julia-1.4"
  },
  "language_info": {
   "file_extension": ".jl",
   "mimetype": "application/julia",
   "name": "julia",
   "version": "1.4.1"
  }
 },
 "nbformat": 4,
 "nbformat_minor": 4
}
