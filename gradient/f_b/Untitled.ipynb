{
 "cells": [
  {
   "cell_type": "code",
   "execution_count": 2,
   "metadata": {},
   "outputs": [
    {
     "name": "stderr",
     "output_type": "stream",
     "text": [
      "WARNING: replacing module epamodule.\n",
      "WARNING: replacing module simulation.\n"
     ]
    },
    {
     "data": {
      "text/plain": [
       "Main.simulation"
      ]
     },
     "execution_count": 2,
     "metadata": {},
     "output_type": "execute_result"
    }
   ],
   "source": [
    "# Including epamodule.jl\n",
    "include(\"/home/augusto/Documents/IC-2020/epanet-julia/epamodule.jl\")\n",
    "em = Main.epamodule\n",
    "\n",
    "#Including epanet.jl\n",
    "include(\"/home/augusto/Documents/IC-2020/optimized-calibration/epanet/epanet.jl\")\n",
    "sm = Main.simulation\n"
   ]
  },
  {
   "cell_type": "code",
   "execution_count": 4,
   "metadata": {},
   "outputs": [
    {
     "data": {
      "text/plain": [
       "\"/home/augusto/Documents/IC-2020/optimized-calibration/gradient/f_b/other/round_5/4_casas/derivada3.csv\""
      ]
     },
     "execution_count": 4,
     "metadata": {},
     "output_type": "execute_result"
    }
   ],
   "source": [
    "path_nodes = \"/home/augusto/Documents/IC-2020/optimized-calibration/networks/b-town/nodes\"\n",
    "path_links = \"/home/augusto/Documents/IC-2020/optimized-calibration/networks/b-town/links\"\n",
    "path_inp = \"/home/augusto/Documents/IC-2020/optimized-calibration/networks/b-town/rede.inp\"\n",
    "path_saida = \"/home/augusto/Documents/IC-2020/optimized-calibration/gradient/f_b/other/round_5/4_casas/derivada3.csv\""
   ]
  },
  {
   "cell_type": "code",
   "execution_count": null,
   "metadata": {},
   "outputs": [],
   "source": [
    "paths = sm.Paths(path_nodes, path_links, path_inp, path_saida)\n",
    "sm.start(paths)\n",
    "group_link = Dict{Int64, Array{Int64,1}}(1 => em.ENgetlinkindex.([\"2\",\"3\",\"15\",\"14\",\"13\",\"12\",\"11\",\"10\",\"1\"]), 2=>em.ENgetlinkindex.([\"16\",\"17\",\"18\",\"19\",\"20\"]), 3=> em.ENgetlinkindex.([\"5\",\"4\",\"6\",\"7\",\"8\",\"9\"]))\n",
    "net = sm.Network(paths, 3, group_link, values)\n",
    "a = 0.01 # 0.01\n",
    "b = 0.079 # 0.079\n",
    "c = 0.115 # 0.115\n",
    "intime_smvalues = sm.Simulation(Dict{Int64,Float64}(1 => a, 2=>b, 3 => c)) \n",
    "sm.update_network_values(net,intime_smvalues)\n",
    "cria_saida(paths)"
   ]
  },
  {
   "cell_type": "code",
   "execution_count": 5,
   "metadata": {},
   "outputs": [
    {
     "name": "stdout",
     "output_type": "stream",
     "text": [
      "  Page 1                                    Thu Jul  9 14:17:27 2020\n",
      "\n",
      "  ******************************************************************\n",
      "  *                           E P A N E T                          *\n",
      "  *                   Hydraulic and Water Quality                  *\n",
      "  *                   Analysis for Pipe Networks                   *\n",
      "  *                         Version 2.2                            *\n",
      "  ******************************************************************\n",
      "  \n",
      "  Analysis begun Thu Jul  9 14:17:27 2020\n"
     ]
    },
    {
     "data": {
      "text/plain": [
       "Dict{Int64,Array{Int64,1}} with 3 entries:\n",
       "  2 => [15, 16, 17, 18, 19]\n",
       "  3 => [4, 3, 5, 6, 7, 8]\n",
       "  1 => [1, 2, 14, 13, 12, 11, 10, 9, 20]"
      ]
     },
     "execution_count": 5,
     "metadata": {},
     "output_type": "execute_result"
    }
   ],
   "source": [
    "paths = sm.Paths(path_nodes, path_links, path_inp, path_saida)\n",
    "sm.start(paths)\n",
    "group_link = Dict{Int64, Array{Int64,1}}(1 => em.ENgetlinkindex.([\"2\",\"3\",\"15\",\"14\",\"13\",\"12\",\"11\",\"10\",\"1\"]), 2=>em.ENgetlinkindex.([\"16\",\"17\",\"18\",\"19\",\"20\"]), 3=> em.ENgetlinkindex.([\"5\",\"4\",\"6\",\"7\",\"8\",\"9\"]))\n"
   ]
  },
  {
   "cell_type": "code",
   "execution_count": 6,
   "metadata": {},
   "outputs": [
    {
     "data": {
      "text/plain": [
       "Main.simulation.Network([1, 2, 3, 4, 5, 6, 7, 8, 9, 10, 11, 12, 13, 14, 15, 16, 17], Dict(2 => [15, 16, 17, 18, 19],3 => [4, 3, 5, 6, 7, 8],1 => [1, 2, 14, 13, 12, 11, 10, 9, 20]), Dict(30.0 => Dict(11 => 34.08491516113281,15 => 31.50044059753418,6 => 26.037752151489258),50.0 => Dict(11 => 33.45237731933594,15 => 29.963409423828125,6 => 24.853008270263672),55.0 => Dict(11 => 33.25362014770508,15 => 29.47846031188965,6 => 24.47783660888672),60.0 => Dict(11 => 33.03902816772461,15 => 28.954042434692383,6 => 24.071619033813477),70.0 => Dict(11 => 32.56293487548828,15 => 27.788007736206055,6 => 23.16685676574707),20.0 => Dict(11 => 34.299713134765625,15 => 32.01907730102539,6 => 26.434926986694336)))"
      ]
     },
     "execution_count": 6,
     "metadata": {},
     "output_type": "execute_result"
    }
   ],
   "source": [
    "values = Dict{Float64, Dict{Int64, Float64}}(\n",
    "    20.0 => Dict(6 =>26.434926986694336,11 => 34.299713134765625,15 => 32.01907730102539), \n",
    "    30.0 => Dict(6 =>26.037752151489258,11 => 34.08491516113281, 15 => 31.50044059753418), \n",
    "    50.0 => Dict(6 =>24.853008270263672,11 => 33.45237731933594, 15 => 29.963409423828125 ), \n",
    "    55.0 => Dict(6 =>24.47783660888672, 11 => 33.25362014770508, 15 => 29.47846031188965 ),\n",
    "    60.0 => Dict(6 =>24.071619033813477,11 => 33.03902816772461, 15 => 28.954042434692383),\n",
    "    70.0 => Dict(6 =>23.16685676574707, 11 => 32.56293487548828, 15 => 27.788007736206055))\n",
    "net = sm.Network(paths, 3, group_link, values)"
   ]
  },
  {
   "cell_type": "code",
   "execution_count": 7,
   "metadata": {},
   "outputs": [
    {
     "data": {
      "text/plain": [
       "0.115"
      ]
     },
     "execution_count": 7,
     "metadata": {},
     "output_type": "execute_result"
    }
   ],
   "source": [
    "a = 0.01 # 0.01\n",
    "b = 0.079 # 0.079\n",
    "c = 0.115 # 0.115"
   ]
  },
  {
   "cell_type": "code",
   "execution_count": 8,
   "metadata": {},
   "outputs": [
    {
     "data": {
      "text/plain": [
       "Main.simulation.Simulation(Dict(2 => 0.079,3 => 0.115,1 => 0.01))"
      ]
     },
     "execution_count": 8,
     "metadata": {},
     "output_type": "execute_result"
    }
   ],
   "source": [
    "intime_smvalues = sm.Simulation(Dict{Int64,Float64}(1 => a, 2=>b, 3 => c)) "
   ]
  },
  {
   "cell_type": "code",
   "execution_count": 9,
   "metadata": {},
   "outputs": [],
   "source": [
    "sm.update_network_values(net,intime_smvalues)"
   ]
  },
  {
   "cell_type": "code",
   "execution_count": 14,
   "metadata": {},
   "outputs": [
    {
     "data": {
      "text/plain": [
       "-0.00029"
      ]
     },
     "execution_count": 14,
     "metadata": {},
     "output_type": "execute_result"
    }
   ],
   "source": [
    "i = 1\n",
    "sm.calcula_derivada(net, 0.01, 1)"
   ]
  },
  {
   "cell_type": "code",
   "execution_count": 45,
   "metadata": {},
   "outputs": [
    {
     "data": {
      "text/plain": [
       "deriva (generic function with 1 method)"
      ]
     },
     "execution_count": 45,
     "metadata": {},
     "output_type": "execute_result"
    }
   ],
   "source": [
    "function deriva(net, r, grupo)\n",
    "    h = 0.0001\n",
    "    value = (sm.f(net, r+h, grupo)-sm.f(net, r, grupo))/(h)\n",
    "end"
   ]
  },
  {
   "cell_type": "code",
   "execution_count": 46,
   "metadata": {},
   "outputs": [
    {
     "data": {
      "text/plain": [
       "-2.6999999999999247"
      ]
     },
     "execution_count": 46,
     "metadata": {},
     "output_type": "execute_result"
    }
   ],
   "source": [
    "deriva(net, 0.01,1)"
   ]
  },
  {
   "cell_type": "code",
   "execution_count": null,
   "metadata": {},
   "outputs": [],
   "source": []
  },
  {
   "cell_type": "code",
   "execution_count": null,
   "metadata": {},
   "outputs": [],
   "source": []
  }
 ],
 "metadata": {
  "kernelspec": {
   "display_name": "Julia 1.4.1",
   "language": "julia",
   "name": "julia-1.4"
  },
  "language_info": {
   "file_extension": ".jl",
   "mimetype": "application/julia",
   "name": "julia",
   "version": "1.4.1"
  }
 },
 "nbformat": 4,
 "nbformat_minor": 4
}
