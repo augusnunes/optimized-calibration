{
 "cells": [
  {
   "cell_type": "code",
   "execution_count": 28,
   "metadata": {},
   "outputs": [],
   "source": [
    "import numpy as np\n",
    "import matplotlib.pyplot as plt\n",
    "import pandas as pd\n",
    "import epanet as epa\n",
    "import epamodule as em\n",
    "import seaborn as sns"
   ]
  },
  {
   "cell_type": "code",
   "execution_count": 2,
   "metadata": {},
   "outputs": [],
   "source": [
    "links = [\"../../networks/b-town/nodes\", \n",
    "         \"../../networks/b-town/links\", \n",
    "         \"../../networks/b-town/rede.inp\", \n",
    "         \"../../networks/b-town/3dim.csv\"]"
   ]
  },
  {
   "cell_type": "code",
   "execution_count": 3,
   "metadata": {},
   "outputs": [],
   "source": [
    "group_links = [[1,2,14,13,12,11,10,9,20],[15,16,17,18,19],[4,3,5,6,7,8]]\n",
    "# 2 => [15, 16, 17, 18, 19]\n",
    "# 3 => [4, 3, 5, 6, 7, 8]\n",
    "# 1 => [1, 2, 14, 13, 12, 11, 10, 9, 20]"
   ]
  },
  {
   "cell_type": "code",
   "execution_count": 4,
   "metadata": {},
   "outputs": [],
   "source": [
    "t = np.array([0.01, 0.079,0.115])"
   ]
  },
  {
   "cell_type": "code",
   "execution_count": 5,
   "metadata": {},
   "outputs": [
    {
     "name": "stdout",
     "output_type": "stream",
     "text": [
      "Começando simulação\n"
     ]
    }
   ],
   "source": [
    "net = epa.Rede(links, group_links, t)"
   ]
  },
  {
   "cell_type": "code",
   "execution_count": 6,
   "metadata": {
    "scrolled": true
   },
   "outputs": [
    {
     "data": {
      "text/plain": [
       "array([0., 0., 0.])"
      ]
     },
     "execution_count": 6,
     "metadata": {},
     "output_type": "execute_result"
    }
   ],
   "source": [
    "net.gradient(t)"
   ]
  },
  {
   "cell_type": "code",
   "execution_count": null,
   "metadata": {},
   "outputs": [],
   "source": [
    "sum(net.gradient(t))"
   ]
  },
  {
   "cell_type": "code",
   "execution_count": null,
   "metadata": {},
   "outputs": [],
   "source": [
    "net.target"
   ]
  },
  {
   "cell_type": "code",
   "execution_count": null,
   "metadata": {
    "scrolled": true
   },
   "outputs": [],
   "source": [
    "x,y,z = np.mgrid[0.002:0.2:0.001,0.002:0.2:0.001,0.002:0.2:0.001]\n",
    "xyz = np.vstack((x.flatten(), y.flatten(), z.flatten())).T\n",
    "xyz"
   ]
  },
  {
   "cell_type": "code",
   "execution_count": null,
   "metadata": {
    "scrolled": true
   },
   "outputs": [],
   "source": [
    "xyz.shape"
   ]
  },
  {
   "cell_type": "code",
   "execution_count": null,
   "metadata": {},
   "outputs": [],
   "source": [
    "res = np.zeros((xyz.shape[0],))\n",
    "res"
   ]
  },
  {
   "cell_type": "code",
   "execution_count": null,
   "metadata": {},
   "outputs": [],
   "source": [
    "for i in range(xyz.shape[0]):\n",
    "    res[i] += abs(sum(net.gradient(xyz[i,:])))\n",
    "    net.restart()"
   ]
  },
  {
   "cell_type": "code",
   "execution_count": null,
   "metadata": {},
   "outputs": [],
   "source": [
    "plt.plot(res)"
   ]
  },
  {
   "cell_type": "code",
   "execution_count": null,
   "metadata": {},
   "outputs": [],
   "source": [
    "interacoes = 100\n",
    "lr = 0.001\n",
    "dim = 3\n",
    "x0 = np.array([0.002,0.1,0.100])\n",
    "x = np.zeros((interacoes,dim))\n",
    "x[0,:] = x0\n",
    "y = np.zeros((interacoes,))\n",
    "y[0] = net.objetivo(x0)\n",
    "for i in range(1,interacoes):\n",
    "    x[i,:] += x[i-1,:] - lr*net.gradient(x[i-1,:])\n",
    "    y[i] += net.objetivo(x[i,:]) "
   ]
  },
  {
   "cell_type": "code",
   "execution_count": null,
   "metadata": {
    "scrolled": true
   },
   "outputs": [],
   "source": [
    "plt.plot(y)"
   ]
  },
  {
   "cell_type": "code",
   "execution_count": null,
   "metadata": {},
   "outputs": [],
   "source": [
    "min(y)"
   ]
  },
  {
   "cell_type": "code",
   "execution_count": null,
   "metadata": {},
   "outputs": [],
   "source": [
    "lr = 0.001\n",
    "dim = 3\n",
    "x0 = np.array([0.002,0.1,0.100])\n",
    "x = x0\n",
    "y = [net.objetivo(x0)]de\n",
    "i = 0\n",
    "values = [x0]\n",
    "while sum(abs(net.gradient(x)) > 0.1):\n",
    "    x -= lr*net.gradient(x)    \n",
    "    y.append(net.objetivo(x)) \n",
    "    values.append(x)\n",
    "    i+=1\n",
    "    if i > 200:\n",
    "        break"
   ]
  },
  {
   "cell_type": "code",
   "execution_count": null,
   "metadata": {},
   "outputs": [],
   "source": [
    "plt.plot(y[:90:])"
   ]
  },
  {
   "cell_type": "code",
   "execution_count": null,
   "metadata": {},
   "outputs": [],
   "source": [
    "values[y.index(min(y))]"
   ]
  },
  {
   "cell_type": "code",
   "execution_count": null,
   "metadata": {},
   "outputs": [],
   "source": [
    "bool(sum(x > 0))"
   ]
  },
  {
   "cell_type": "markdown",
   "metadata": {},
   "source": [
    "# Fazendo a função para aplicar em múltiplos pontos iniciais"
   ]
  },
  {
   "cell_type": "code",
   "execution_count": null,
   "metadata": {},
   "outputs": [],
   "source": [
    "a = np.array([1,-2,3])\n",
    "f = lambda x: -1 if x < 0 else 1\n",
    "np.vectorize(f)(a)"
   ]
  },
  {
   "cell_type": "code",
   "execution_count": 7,
   "metadata": {},
   "outputs": [],
   "source": [
    "def grad_steps(x0, lr=0.001, max_interacoes=1000):\n",
    "    try:\n",
    "        dim = len(x0)\n",
    "        x = x0\n",
    "        y = [net.objetivo(x0)]\n",
    "        caminho = [net.get_dist(x0)]\n",
    "        i = 0\n",
    "        values = [x0]\n",
    "        while np.sqrt(sum(net.gradient(x)**2))>0:\n",
    "            increment = np.vectorize(lambda x: 1 if x>0 else -1)\n",
    "            g = increment(net.gradient(x))\n",
    "            x -= lr*g\n",
    "            caminho.append(net.get_dist(x))\n",
    "            y.append(net.objetivo(x)) \n",
    "            values.append(x)\n",
    "            i+=1\n",
    "            if i > max_interacoes:\n",
    "                print(\"Excedeu as interações limite\")\n",
    "                break\n",
    "            if sum(x<0):\n",
    "                print(\"Escapou do intervalo de confiança\")\n",
    "                break\n",
    "    finally:\n",
    "        net.restart()\n",
    "        return values[y.index(min(y))], y, caminho"
   ]
  },
  {
   "cell_type": "code",
   "execution_count": 8,
   "metadata": {},
   "outputs": [
    {
     "data": {
      "text/plain": [
       "array([0., 0., 0.])"
      ]
     },
     "execution_count": 8,
     "metadata": {},
     "output_type": "execute_result"
    }
   ],
   "source": [
    "net.gradient(net.target)"
   ]
  },
  {
   "cell_type": "code",
   "execution_count": 9,
   "metadata": {},
   "outputs": [
    {
     "data": {
      "text/plain": [
       "array([0.174, 0.181, 0.164])"
      ]
     },
     "execution_count": 9,
     "metadata": {},
     "output_type": "execute_result"
    }
   ],
   "source": [
    "x0 = np.round(np.random.random(3)*0.2 +0.001, decimals=3)\n",
    "#x0 = np.array([0.09435675, 0.18852395, 0.14145076])\n",
    "x0"
   ]
  },
  {
   "cell_type": "code",
   "execution_count": 10,
   "metadata": {},
   "outputs": [
    {
     "name": "stdout",
     "output_type": "stream",
     "text": [
      "Excedeu as interações limite\n"
     ]
    }
   ],
   "source": [
    "x, y, caminho = grad_steps(x0, lr=0.001)"
   ]
  },
  {
   "cell_type": "code",
   "execution_count": 11,
   "metadata": {
    "scrolled": false
   },
   "outputs": [
    {
     "data": {
      "text/plain": [
       "[<matplotlib.lines.Line2D at 0x7f16d12bc190>]"
      ]
     },
     "execution_count": 11,
     "metadata": {},
     "output_type": "execute_result"
    },
    {
     "data": {
      "image/png": "[encoded data removed]",
      "text/plain": [
       "<Figure size 432x288 with 1 Axes>"
      ]
     },
     "metadata": {
      "needs_background": "light"
     },
     "output_type": "display_data"
    }
   ],
   "source": [
    "plt.plot(y)"
   ]
  },
  {
   "cell_type": "code",
   "execution_count": 12,
   "metadata": {},
   "outputs": [
    {
     "data": {
      "text/plain": [
       "[<matplotlib.lines.Line2D at 0x7f16d11c1160>]"
      ]
     },
     "execution_count": 12,
     "metadata": {},
     "output_type": "execute_result"
    },
    {
     "data": {
      "image/png": "[encoded data removed]",
      "text/plain": [
       "<Figure size 432x288 with 1 Axes>"
      ]
     },
     "metadata": {
      "needs_background": "light"
     },
     "output_type": "display_data"
    }
   ],
   "source": [
    "plt.plot(caminho)"
   ]
  },
  {
   "cell_type": "code",
   "execution_count": 13,
   "metadata": {},
   "outputs": [
    {
     "data": {
      "text/plain": [
       "array([0.017, 0.042, 0.091])"
      ]
     },
     "execution_count": 13,
     "metadata": {},
     "output_type": "execute_result"
    }
   ],
   "source": [
    "x"
   ]
  },
  {
   "cell_type": "code",
   "execution_count": 14,
   "metadata": {
    "scrolled": false
   },
   "outputs": [
    {
     "data": {
      "text/plain": [
       "0.04465422712353233"
      ]
     },
     "execution_count": 14,
     "metadata": {},
     "output_type": "execute_result"
    }
   ],
   "source": [
    "net.get_dist(x)"
   ]
  },
  {
   "cell_type": "code",
   "execution_count": 15,
   "metadata": {},
   "outputs": [
    {
     "data": {
      "text/plain": [
       "7.100409412588807e-05"
      ]
     },
     "execution_count": 15,
     "metadata": {},
     "output_type": "execute_result"
    }
   ],
   "source": [
    "net.objetivo(x)"
   ]
  },
  {
   "cell_type": "code",
   "execution_count": 16,
   "metadata": {},
   "outputs": [
    {
     "data": {
      "text/plain": [
       "array([-0.006, -0.001, -0.006])"
      ]
     },
     "execution_count": 16,
     "metadata": {},
     "output_type": "execute_result"
    }
   ],
   "source": [
    "net.gradient(x)"
   ]
  },
  {
   "cell_type": "code",
   "execution_count": 17,
   "metadata": {},
   "outputs": [
    {
     "data": {
      "text/plain": [
       "0.04465422712353233"
      ]
     },
     "execution_count": 17,
     "metadata": {},
     "output_type": "execute_result"
    }
   ],
   "source": [
    "net.get_dist(x)"
   ]
  },
  {
   "cell_type": "code",
   "execution_count": null,
   "metadata": {},
   "outputs": [],
   "source": []
  },
  {
   "cell_type": "code",
   "execution_count": null,
   "metadata": {},
   "outputs": [],
   "source": []
  },
  {
   "cell_type": "code",
   "execution_count": null,
   "metadata": {},
   "outputs": [],
   "source": [
    "x, y = grad_steps(x0, max_interacoes=400)"
   ]
  },
  {
   "cell_type": "code",
   "execution_count": null,
   "metadata": {},
   "outputs": [],
   "source": [
    "plt.plot(y)"
   ]
  },
  {
   "cell_type": "code",
   "execution_count": null,
   "metadata": {},
   "outputs": [],
   "source": [
    "x"
   ]
  },
  {
   "cell_type": "code",
   "execution_count": null,
   "metadata": {},
   "outputs": [],
   "source": [
    "net.restart()"
   ]
  },
  {
   "cell_type": "markdown",
   "metadata": {},
   "source": [
    "# Gerando os números aleatórios"
   ]
  },
  {
   "cell_type": "code",
   "execution_count": null,
   "metadata": {},
   "outputs": [],
   "source": [
    "#values = np.random.random((100,3))*0.2 +0.001"
   ]
  },
  {
   "cell_type": "code",
   "execution_count": null,
   "metadata": {},
   "outputs": [],
   "source": [
    "# arq = open(\"teste1.txt\", 'w')\n",
    "# np.savetxt(arq, values)\n",
    "# arq.close()"
   ]
  },
  {
   "cell_type": "code",
   "execution_count": null,
   "metadata": {},
   "outputs": [],
   "source": [
    "arq = open(\"teste1.txt\")\n",
    "values = np.loadtxt(arq)\n",
    "arq.close()"
   ]
  },
  {
   "cell_type": "code",
   "execution_count": null,
   "metadata": {},
   "outputs": [],
   "source": [
    "net.restart()"
   ]
  },
  {
   "cell_type": "code",
   "execution_count": null,
   "metadata": {},
   "outputs": [],
   "source": [
    "pontos = []\n",
    "pontos_y = []\n",
    "for i in range(values.shape[0]):\n",
    "    try:\n",
    "        x, y = grad_steps(values[i,:])\n",
    "        pontos.append(x)\n",
    "        pontos_y.append(net.objetivo(x))\n",
    "        print(i, x)\n",
    "        print()\n",
    "    except:\n",
    "        continue"
   ]
  },
  {
   "cell_type": "code",
   "execution_count": null,
   "metadata": {
    "scrolled": true
   },
   "outputs": [],
   "source": [
    "pontos = np.array(pontos)\n",
    "pontos_y = np.array(pontos_y)"
   ]
  },
  {
   "cell_type": "code",
   "execution_count": null,
   "metadata": {},
   "outputs": [],
   "source": [
    "# arq = open(\"teste1/result.txt\", 'w')\n",
    "# np.savetxt(arq, pontos)\n",
    "# arq.close()"
   ]
  },
  {
   "cell_type": "code",
   "execution_count": null,
   "metadata": {},
   "outputs": [],
   "source": [
    "# arq = open(\"teste\")"
   ]
  },
  {
   "cell_type": "code",
   "execution_count": null,
   "metadata": {},
   "outputs": [],
   "source": [
    "plt.plot(pontos_y)"
   ]
  },
  {
   "cell_type": "code",
   "execution_count": null,
   "metadata": {},
   "outputs": [],
   "source": [
    "pontos_y.mean()"
   ]
  },
  {
   "cell_type": "code",
   "execution_count": null,
   "metadata": {},
   "outputs": [],
   "source": []
  },
  {
   "cell_type": "code",
   "execution_count": null,
   "metadata": {
    "scrolled": true
   },
   "outputs": [],
   "source": [
    "plt.plot(pontos_y[np.where(pontos_y<=pontos_y.mean())])"
   ]
  },
  {
   "cell_type": "code",
   "execution_count": null,
   "metadata": {},
   "outputs": [],
   "source": [
    "indices = np.where(pontos_y<=pontos_y.mean())"
   ]
  },
  {
   "cell_type": "markdown",
   "metadata": {},
   "source": [
    "# Calculando Centróide dos pontos resultantes"
   ]
  },
  {
   "cell_type": "markdown",
   "metadata": {},
   "source": [
    "## Centróide:"
   ]
  },
  {
   "cell_type": "code",
   "execution_count": 23,
   "metadata": {},
   "outputs": [],
   "source": [
    "def calc_centroide(vetor_pontos):\n",
    "    tamanho = vetor_pontos.shape[0]\n",
    "    v = []\n",
    "    for i in range(vetor_pontos.shape[1]):\n",
    "        v.append(vetor_pontos[:,i].sum()/tamanho)\n",
    "    return v\n",
    "    "
   ]
  },
  {
   "cell_type": "code",
   "execution_count": null,
   "metadata": {},
   "outputs": [],
   "source": [
    "v = calc_centroide(pontos)"
   ]
  },
  {
   "cell_type": "code",
   "execution_count": null,
   "metadata": {},
   "outputs": [],
   "source": [
    "v"
   ]
  },
  {
   "cell_type": "code",
   "execution_count": null,
   "metadata": {},
   "outputs": [],
   "source": [
    "net.target"
   ]
  },
  {
   "cell_type": "markdown",
   "metadata": {},
   "source": [
    "### Calculando Centróide dos pontos abaixo da média"
   ]
  },
  {
   "cell_type": "code",
   "execution_count": null,
   "metadata": {
    "scrolled": true
   },
   "outputs": [],
   "source": [
    "calc_centroide(pontos[indices])"
   ]
  },
  {
   "cell_type": "markdown",
   "metadata": {},
   "source": [
    "## Distancia do Centróide ao ponto Target"
   ]
  },
  {
   "cell_type": "code",
   "execution_count": null,
   "metadata": {},
   "outputs": [],
   "source": [
    "net.get_dist(v) # isso tem que tender a 0"
   ]
  },
  {
   "cell_type": "code",
   "execution_count": null,
   "metadata": {},
   "outputs": [],
   "source": [
    "net.get_dist(calc_centroide(pontos[indices]))"
   ]
  },
  {
   "cell_type": "markdown",
   "metadata": {},
   "source": [
    "# Gerando uma quantidade maior de pontos - Teste 2"
   ]
  },
  {
   "cell_type": "code",
   "execution_count": null,
   "metadata": {},
   "outputs": [],
   "source": [
    "# values = np.random.random((500,3))*0.2 +0.001"
   ]
  },
  {
   "cell_type": "code",
   "execution_count": null,
   "metadata": {},
   "outputs": [],
   "source": [
    "# arq = open(\"teste2/teste2.txt\", 'w')\n",
    "# np.savetxt(arq, values)\n",
    "# arq.close()"
   ]
  },
  {
   "cell_type": "code",
   "execution_count": null,
   "metadata": {},
   "outputs": [],
   "source": [
    "arq = open(\"teste2/teste2.txt\")\n",
    "values = np.loadtxt(arq)\n",
    "arq.close()"
   ]
  },
  {
   "cell_type": "code",
   "execution_count": null,
   "metadata": {},
   "outputs": [],
   "source": [
    "net.restart()"
   ]
  },
  {
   "cell_type": "code",
   "execution_count": null,
   "metadata": {},
   "outputs": [],
   "source": [
    "pontos = []\n",
    "pontos_y = []\n",
    "for i in range(values.shape[0]):\n",
    "    try:\n",
    "        x, y = grad_steps(values[i,:])\n",
    "        pontos.append(x)\n",
    "        pontos_y.append(net.objetivo(x))\n",
    "        print(i, x)\n",
    "        print()\n",
    "    except:\n",
    "        continue"
   ]
  },
  {
   "cell_type": "code",
   "execution_count": null,
   "metadata": {},
   "outputs": [],
   "source": [
    "pontos = np.array(pontos)\n",
    "pontos_y = np.array(pontos_y)"
   ]
  },
  {
   "cell_type": "code",
   "execution_count": null,
   "metadata": {},
   "outputs": [],
   "source": [
    "#arq = open(\"teste2/result.txt\", 'w')\n",
    "#np.savetxt(arq, pontos)\n",
    "#arq.close()"
   ]
  },
  {
   "cell_type": "code",
   "execution_count": 21,
   "metadata": {},
   "outputs": [],
   "source": [
    "arq = open(\"teste2/result.txt\")\n",
    "pontos = np.loadtxt(arq)"
   ]
  },
  {
   "cell_type": "code",
   "execution_count": 24,
   "metadata": {},
   "outputs": [],
   "source": [
    "v = calc_centroide(pontos)"
   ]
  },
  {
   "cell_type": "code",
   "execution_count": 25,
   "metadata": {
    "scrolled": true
   },
   "outputs": [
    {
     "data": {
      "text/plain": [
       "0.005971095993946788"
      ]
     },
     "execution_count": 25,
     "metadata": {},
     "output_type": "execute_result"
    }
   ],
   "source": [
    "net.get_dist(v) # isso tem que tender a 0"
   ]
  },
  {
   "cell_type": "code",
   "execution_count": 33,
   "metadata": {},
   "outputs": [
    {
     "data": {
      "text/plain": [
       "array([0.00910282, 0.01206841, 0.01128139, 0.00900441, 0.01005598,\n",
       "       0.00921083, 0.01452041, 0.01163472, 0.0121436 , 0.00390564,\n",
       "       0.01222696, 0.0069874 , 0.01807905, 0.01031739, 0.00998553,\n",
       "       0.01138945, 0.01067452, 0.01040178, 0.00938754, 0.01090206,\n",
       "       0.0122344 , 0.01081996, 0.00768693, 0.01065488, 0.01205481,\n",
       "       0.01110813, 0.00820881, 0.01186794, 0.00987982, 0.01037302,\n",
       "       0.01206772, 0.00723763, 0.00979189, 0.01020003, 0.00966532,\n",
       "       0.01215464, 0.01063309, 0.01039418, 0.0114284 , 0.01515304,\n",
       "       0.00769742, 0.01179919, 0.01219339, 0.00830849, 0.01185376,\n",
       "       0.00710374, 0.0105032 , 0.01173857, 0.0117848 , 0.00781343,\n",
       "       0.00874408, 0.00943339, 0.00832226, 0.00986833, 0.01059787,\n",
       "       0.01018805, 0.01169572, 0.01000436, 0.00995531, 0.01022924,\n",
       "       0.01290166, 0.00971781, 0.01031496, 0.00880606, 0.00795433,\n",
       "       0.00627805, 0.01020917, 0.00955045, 0.00813367, 0.0094924 ,\n",
       "       0.00942635, 0.0119642 , 0.01300801, 0.01183221, 0.01222806,\n",
       "       0.01109789, 0.0070026 , 0.01129812, 0.00948771, 0.00984792,\n",
       "       0.00868826, 0.01063149, 0.00537227, 0.01127779, 0.01175705,\n",
       "       0.00810086, 0.00983846, 0.01034818, 0.00637439, 0.01437933,\n",
       "       0.00873342, 0.0118376 , 0.00707594, 0.01524138, 0.00820873,\n",
       "       0.0118717 , 0.00422943, 0.00932531, 0.01210984, 0.00747515,\n",
       "       0.01300757, 0.00882208, 0.011792  , 0.00905644, 0.01221327,\n",
       "       0.01218654, 0.01134851, 0.00825754, 0.00262952, 0.01046433,\n",
       "       0.01035468, 0.00736254, 0.01528402, 0.00935973, 0.00968514,\n",
       "       0.01459505, 0.00614544, 0.01392979, 0.01412055, 0.00268967,\n",
       "       0.00867104, 0.0104563 , 0.0114004 , 0.00824526, 0.01637673,\n",
       "       0.00382676, 0.01054794, 0.01025821, 0.00461417, 0.00915633,\n",
       "       0.00769519, 0.0122024 , 0.00152422, 0.00910539, 0.01165466,\n",
       "       0.01148645, 0.01706967, 0.01093021, 0.01194362, 0.01087631,\n",
       "       0.01309595, 0.01220473, 0.01219327, 0.01537888, 0.01187612,\n",
       "       0.01798325, 0.00820384, 0.0088016 , 0.01003735, 0.00977004,\n",
       "       0.00696038, 0.00916441, 0.01214557, 0.01558072, 0.01125492,\n",
       "       0.01213987, 0.01234806, 0.0118113 , 0.00687916, 0.00475447,\n",
       "       0.01224672, 0.01522877, 0.01221148, 0.00474253, 0.01174435,\n",
       "       0.01221083, 0.01107893, 0.00698379, 0.00618248, 0.00832262,\n",
       "       0.01201467, 0.01396619, 0.01178622, 0.01179455, 0.00794794,\n",
       "       0.00395541, 0.00126197, 0.00964154, 0.00968196, 0.00953453,\n",
       "       0.00957791, 0.01755872, 0.01087522, 0.00934034, 0.01135114,\n",
       "       0.00879299, 0.00793825, 0.01182995, 0.01233591, 0.01314722,\n",
       "       0.01011761, 0.00708912, 0.01025251, 0.00726785, 0.00989371,\n",
       "       0.01287111, 0.01018859, 0.00693551, 0.0132185 , 0.01501514,\n",
       "       0.01219366, 0.01270097, 0.01611273, 0.00702151, 0.00257229,\n",
       "       0.00788346, 0.01135139, 0.01051342, 0.01182465, 0.00843352,\n",
       "       0.01179921, 0.01006563, 0.01221794, 0.01069403, 0.00935998,\n",
       "       0.0147015 , 0.01237357, 0.02091673, 0.01164305, 0.01053482,\n",
       "       0.01041191, 0.01344788, 0.00815464, 0.01451791, 0.01180898,\n",
       "       0.00228002, 0.01139395, 0.0107901 , 0.01222597, 0.00689311,\n",
       "       0.01000416, 0.01096952, 0.00694108, 0.01216568, 0.01216256,\n",
       "       0.01028238, 0.01193452, 0.01024526, 0.01179004, 0.00629253,\n",
       "       0.01087195, 0.01141612, 0.00490535, 0.01019871, 0.01076311,\n",
       "       0.00930438, 0.01066546, 0.00388726, 0.00998838, 0.0083438 ,\n",
       "       0.01171656, 0.00851019, 0.00731907, 0.00933808, 0.00750433,\n",
       "       0.00970232, 0.00878161, 0.01069988, 0.00886577, 0.00934173,\n",
       "       0.00618615, 0.01292038, 0.00932577, 0.01046516, 0.01056251,\n",
       "       0.01222758, 0.0164813 , 0.01140522, 0.0074335 , 0.00557889,\n",
       "       0.01084522, 0.0082047 , 0.00938152, 0.0115683 , 0.01296852,\n",
       "       0.01296659, 0.00757585, 0.01065842, 0.01216974, 0.01375571,\n",
       "       0.01065055, 0.00448802, 0.00844258, 0.01656453, 0.01354092,\n",
       "       0.00868079, 0.01189049, 0.01032412, 0.01438064, 0.010314  ,\n",
       "       0.01404247, 0.00948933, 0.01167067, 0.015232  , 0.01216643,\n",
       "       0.00746861, 0.01032214, 0.0088002 , 0.01171332, 0.00579532,\n",
       "       0.00899084, 0.00616618, 0.00694286, 0.0091043 , 0.01211446,\n",
       "       0.00913374, 0.00872019, 0.01054426, 0.01011027, 0.01257953,\n",
       "       0.01000138, 0.01094007, 0.01015595, 0.00786743, 0.01224034,\n",
       "       0.01077404, 0.01366421, 0.01439727, 0.01012723, 0.00933518,\n",
       "       0.01269854, 0.01147225, 0.01190693, 0.01123537, 0.01027264,\n",
       "       0.01072333, 0.01671227, 0.01219033, 0.01980998, 0.00997925,\n",
       "       0.00751811, 0.01166932, 0.0043223 , 0.00783036, 0.00866534,\n",
       "       0.00826592, 0.00688225, 0.00378379, 0.00991404, 0.00763091,\n",
       "       0.00764332, 0.00553292, 0.00879022, 0.01182628, 0.01217431,\n",
       "       0.01226792, 0.00798464, 0.00897245, 0.01690762, 0.01006734,\n",
       "       0.01250806, 0.0122385 , 0.01199757, 0.01010666, 0.01138711,\n",
       "       0.01227521, 0.00762259, 0.00910883, 0.00944458, 0.00945705])"
      ]
     },
     "execution_count": 33,
     "metadata": {},
     "output_type": "execute_result"
    }
   ],
   "source": [
    "pontos[:,0]"
   ]
  },
  {
   "cell_type": "code",
   "execution_count": 34,
   "metadata": {},
   "outputs": [
    {
     "name": "stderr",
     "output_type": "stream",
     "text": [
      "/home/augusto/.local/lib/python3.8/site-packages/seaborn/_decorators.py:36: FutureWarning: Pass the following variable as a keyword arg: x. From version 0.12, the only valid positional argument will be `data`, and passing other arguments without an explicit keyword will result in an error or misinterpretation.\n",
      "  warnings.warn(\n"
     ]
    },
    {
     "data": {
      "text/plain": [
       "<matplotlib.axes._subplots.AxesSubplot at 0x7f16d11372e0>"
      ]
     },
     "execution_count": 34,
     "metadata": {},
     "output_type": "execute_result"
    },
    {
     "data": {
      "image/png": "[encoded data removed]",
      "text/plain": [
       "<Figure size 432x288 with 1 Axes>"
      ]
     },
     "metadata": {
      "needs_background": "light"
     },
     "output_type": "display_data"
    }
   ],
   "source": [
    "sns.boxplot(pontos[:,1])"
   ]
  },
  {
   "cell_type": "code",
   "execution_count": 37,
   "metadata": {},
   "outputs": [
    {
     "data": {
      "text/plain": [
       "<seaborn.axisgrid.FacetGrid at 0x7f16cf423c40>"
      ]
     },
     "execution_count": 37,
     "metadata": {},
     "output_type": "execute_result"
    },
    {
     "data": {
      "image/png": "[encoded data removed]",
      "text/plain": [
       "<Figure size 360x360 with 1 Axes>"
      ]
     },
     "metadata": {
      "needs_background": "light"
     },
     "output_type": "display_data"
    }
   ],
   "source": [
    "sns.displot(pontos[:,1])"
   ]
  },
  {
   "cell_type": "code",
   "execution_count": 38,
   "metadata": {},
   "outputs": [],
   "source": [
    "df = pd.DataFrame(pontos, columns=['g1', 'g2', 'g3'])"
   ]
  },
  {
   "cell_type": "code",
   "execution_count": 39,
   "metadata": {},
   "outputs": [
    {
     "data": {
      "text/html": [
       "<div>\n",
       "<style scoped>\n",
       "    .dataframe tbody tr th:only-of-type {\n",
       "        vertical-align: middle;\n",
       "    }\n",
       "\n",
       "    .dataframe tbody tr th {\n",
       "        vertical-align: top;\n",
       "    }\n",
       "\n",
       "    .dataframe thead th {\n",
       "        text-align: right;\n",
       "    }\n",
       "</style>\n",
       "<table border=\"1\" class=\"dataframe\">\n",
       "  <thead>\n",
       "    <tr style=\"text-align: right;\">\n",
       "      <th></th>\n",
       "      <th>g1</th>\n",
       "      <th>g2</th>\n",
       "      <th>g3</th>\n",
       "    </tr>\n",
       "  </thead>\n",
       "  <tbody>\n",
       "    <tr>\n",
       "      <th>0</th>\n",
       "      <td>0.009103</td>\n",
       "      <td>0.119947</td>\n",
       "      <td>0.114067</td>\n",
       "    </tr>\n",
       "    <tr>\n",
       "      <th>1</th>\n",
       "      <td>0.012068</td>\n",
       "      <td>0.081576</td>\n",
       "      <td>0.112906</td>\n",
       "    </tr>\n",
       "    <tr>\n",
       "      <th>2</th>\n",
       "      <td>0.011281</td>\n",
       "      <td>0.087717</td>\n",
       "      <td>0.114269</td>\n",
       "    </tr>\n",
       "    <tr>\n",
       "      <th>3</th>\n",
       "      <td>0.009004</td>\n",
       "      <td>0.083831</td>\n",
       "      <td>0.112751</td>\n",
       "    </tr>\n",
       "    <tr>\n",
       "      <th>4</th>\n",
       "      <td>0.010056</td>\n",
       "      <td>0.094154</td>\n",
       "      <td>0.117217</td>\n",
       "    </tr>\n",
       "    <tr>\n",
       "      <th>...</th>\n",
       "      <td>...</td>\n",
       "      <td>...</td>\n",
       "      <td>...</td>\n",
       "    </tr>\n",
       "    <tr>\n",
       "      <th>355</th>\n",
       "      <td>0.012275</td>\n",
       "      <td>0.071498</td>\n",
       "      <td>0.111309</td>\n",
       "    </tr>\n",
       "    <tr>\n",
       "      <th>356</th>\n",
       "      <td>0.007623</td>\n",
       "      <td>0.088341</td>\n",
       "      <td>0.119581</td>\n",
       "    </tr>\n",
       "    <tr>\n",
       "      <th>357</th>\n",
       "      <td>0.009109</td>\n",
       "      <td>0.141640</td>\n",
       "      <td>0.111414</td>\n",
       "    </tr>\n",
       "    <tr>\n",
       "      <th>358</th>\n",
       "      <td>0.009445</td>\n",
       "      <td>0.113998</td>\n",
       "      <td>0.108344</td>\n",
       "    </tr>\n",
       "    <tr>\n",
       "      <th>359</th>\n",
       "      <td>0.009457</td>\n",
       "      <td>0.078693</td>\n",
       "      <td>0.111113</td>\n",
       "    </tr>\n",
       "  </tbody>\n",
       "</table>\n",
       "<p>360 rows × 3 columns</p>\n",
       "</div>"
      ],
      "text/plain": [
       "           g1        g2        g3\n",
       "0    0.009103  0.119947  0.114067\n",
       "1    0.012068  0.081576  0.112906\n",
       "2    0.011281  0.087717  0.114269\n",
       "3    0.009004  0.083831  0.112751\n",
       "4    0.010056  0.094154  0.117217\n",
       "..        ...       ...       ...\n",
       "355  0.012275  0.071498  0.111309\n",
       "356  0.007623  0.088341  0.119581\n",
       "357  0.009109  0.141640  0.111414\n",
       "358  0.009445  0.113998  0.108344\n",
       "359  0.009457  0.078693  0.111113\n",
       "\n",
       "[360 rows x 3 columns]"
      ]
     },
     "execution_count": 39,
     "metadata": {},
     "output_type": "execute_result"
    }
   ],
   "source": [
    "df"
   ]
  },
  {
   "cell_type": "code",
   "execution_count": 41,
   "metadata": {},
   "outputs": [
    {
     "data": {
      "text/plain": [
       "g1    0.010364\n",
       "g2    0.080720\n",
       "g3    0.112613\n",
       "dtype: float64"
      ]
     },
     "execution_count": 41,
     "metadata": {},
     "output_type": "execute_result"
    }
   ],
   "source": [
    "df.median()"
   ]
  },
  {
   "cell_type": "code",
   "execution_count": 42,
   "metadata": {},
   "outputs": [
    {
     "data": {
      "text/plain": [
       "0.002964809852170824"
      ]
     },
     "execution_count": 42,
     "metadata": {},
     "output_type": "execute_result"
    }
   ],
   "source": [
    "net.get_dist(df.median())"
   ]
  },
  {
   "cell_type": "code",
   "execution_count": 43,
   "metadata": {},
   "outputs": [
    {
     "data": {
      "text/plain": [
       "0.005971095993946721"
      ]
     },
     "execution_count": 43,
     "metadata": {},
     "output_type": "execute_result"
    }
   ],
   "source": [
    "net.get_dist(df.mean())"
   ]
  },
  {
   "cell_type": "code",
   "execution_count": 45,
   "metadata": {},
   "outputs": [
    {
     "data": {
      "text/plain": [
       "<matplotlib.axes._subplots.AxesSubplot at 0x7f16cb2891f0>"
      ]
     },
     "execution_count": 45,
     "metadata": {},
     "output_type": "execute_result"
    },
    {
     "data": {
      "image/png": "[encoded data removed]",
      "text/plain": [
       "<Figure size 432x288 with 1 Axes>"
      ]
     },
     "metadata": {
      "needs_background": "light"
     },
     "output_type": "display_data"
    }
   ],
   "source": [
    "sns.violinplot(df['g1'])"
   ]
  },
  {
   "cell_type": "code",
   "execution_count": 46,
   "metadata": {},
   "outputs": [
    {
     "name": "stderr",
     "output_type": "stream",
     "text": [
      "/home/augusto/.local/lib/python3.8/site-packages/seaborn/_decorators.py:36: FutureWarning: Pass the following variable as a keyword arg: x. From version 0.12, the only valid positional argument will be `data`, and passing other arguments without an explicit keyword will result in an error or misinterpretation.\n",
      "  warnings.warn(\n"
     ]
    },
    {
     "data": {
      "text/plain": [
       "<matplotlib.axes._subplots.AxesSubplot at 0x7f16c9a2dee0>"
      ]
     },
     "execution_count": 46,
     "metadata": {},
     "output_type": "execute_result"
    },
    {
     "data": {
      "image/png": "[encoded data removed]",
      "text/plain": [
       "<Figure size 432x288 with 1 Axes>"
      ]
     },
     "metadata": {
      "needs_background": "light"
     },
     "output_type": "display_data"
    }
   ],
   "source": [
    "sns.violinplot(df['g2'])"
   ]
  },
  {
   "cell_type": "code",
   "execution_count": 47,
   "metadata": {},
   "outputs": [
    {
     "name": "stderr",
     "output_type": "stream",
     "text": [
      "/home/augusto/.local/lib/python3.8/site-packages/seaborn/_decorators.py:36: FutureWarning: Pass the following variable as a keyword arg: x. From version 0.12, the only valid positional argument will be `data`, and passing other arguments without an explicit keyword will result in an error or misinterpretation.\n",
      "  warnings.warn(\n"
     ]
    },
    {
     "data": {
      "text/plain": [
       "<matplotlib.axes._subplots.AxesSubplot at 0x7f16c9b02160>"
      ]
     },
     "execution_count": 47,
     "metadata": {},
     "output_type": "execute_result"
    },
    {
     "data": {
      "image/png": "[encoded data removed]",
      "text/plain": [
       "<Figure size 432x288 with 1 Axes>"
      ]
     },
     "metadata": {
      "needs_background": "light"
     },
     "output_type": "display_data"
    }
   ],
   "source": [
    "sns.violinplot(df['g3'])"
   ]
  },
  {
   "cell_type": "code",
   "execution_count": 48,
   "metadata": {},
   "outputs": [
    {
     "data": {
      "text/html": [
       "<div>\n",
       "<style scoped>\n",
       "    .dataframe tbody tr th:only-of-type {\n",
       "        vertical-align: middle;\n",
       "    }\n",
       "\n",
       "    .dataframe tbody tr th {\n",
       "        vertical-align: top;\n",
       "    }\n",
       "\n",
       "    .dataframe thead th {\n",
       "        text-align: right;\n",
       "    }\n",
       "</style>\n",
       "<table border=\"1\" class=\"dataframe\">\n",
       "  <thead>\n",
       "    <tr style=\"text-align: right;\">\n",
       "      <th></th>\n",
       "      <th>g1</th>\n",
       "      <th>g2</th>\n",
       "      <th>g3</th>\n",
       "    </tr>\n",
       "  </thead>\n",
       "  <tbody>\n",
       "    <tr>\n",
       "      <th>count</th>\n",
       "      <td>360.000000</td>\n",
       "      <td>360.000000</td>\n",
       "      <td>360.000000</td>\n",
       "    </tr>\n",
       "    <tr>\n",
       "      <th>mean</th>\n",
       "      <td>0.010301</td>\n",
       "      <td>0.084732</td>\n",
       "      <td>0.113356</td>\n",
       "    </tr>\n",
       "    <tr>\n",
       "      <th>std</th>\n",
       "      <td>0.002856</td>\n",
       "      <td>0.025345</td>\n",
       "      <td>0.010021</td>\n",
       "    </tr>\n",
       "    <tr>\n",
       "      <th>min</th>\n",
       "      <td>0.001262</td>\n",
       "      <td>0.025831</td>\n",
       "      <td>0.082401</td>\n",
       "    </tr>\n",
       "    <tr>\n",
       "      <th>25%</th>\n",
       "      <td>0.008741</td>\n",
       "      <td>0.065169</td>\n",
       "      <td>0.108572</td>\n",
       "    </tr>\n",
       "    <tr>\n",
       "      <th>50%</th>\n",
       "      <td>0.010364</td>\n",
       "      <td>0.080720</td>\n",
       "      <td>0.112613</td>\n",
       "    </tr>\n",
       "    <tr>\n",
       "      <th>75%</th>\n",
       "      <td>0.011949</td>\n",
       "      <td>0.096758</td>\n",
       "      <td>0.119129</td>\n",
       "    </tr>\n",
       "    <tr>\n",
       "      <th>max</th>\n",
       "      <td>0.020917</td>\n",
       "      <td>0.156139</td>\n",
       "      <td>0.144585</td>\n",
       "    </tr>\n",
       "  </tbody>\n",
       "</table>\n",
       "</div>"
      ],
      "text/plain": [
       "               g1          g2          g3\n",
       "count  360.000000  360.000000  360.000000\n",
       "mean     0.010301    0.084732    0.113356\n",
       "std      0.002856    0.025345    0.010021\n",
       "min      0.001262    0.025831    0.082401\n",
       "25%      0.008741    0.065169    0.108572\n",
       "50%      0.010364    0.080720    0.112613\n",
       "75%      0.011949    0.096758    0.119129\n",
       "max      0.020917    0.156139    0.144585"
      ]
     },
     "execution_count": 48,
     "metadata": {},
     "output_type": "execute_result"
    }
   ],
   "source": [
    "df.describe()"
   ]
  },
  {
   "cell_type": "code",
   "execution_count": null,
   "metadata": {},
   "outputs": [],
   "source": []
  }
 ],
 "metadata": {
  "kernelspec": {
   "display_name": "Python 3",
   "language": "python",
   "name": "python3"
  },
  "language_info": {
   "codemirror_mode": {
    "name": "ipython",
    "version": 3
   },
   "file_extension": ".py",
   "mimetype": "text/x-python",
   "name": "python",
   "nbconvert_exporter": "python",
   "pygments_lexer": "ipython3",
   "version": "3.8.5"
  }
 },
 "nbformat": 4,
 "nbformat_minor": 4
}
