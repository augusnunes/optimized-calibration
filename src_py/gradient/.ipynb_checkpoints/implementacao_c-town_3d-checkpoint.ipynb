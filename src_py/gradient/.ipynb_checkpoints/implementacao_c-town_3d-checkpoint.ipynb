{
 "cells": [
  {
   "cell_type": "code",
   "execution_count": 1,
   "metadata": {},
   "outputs": [],
   "source": [
    "import numpy as np\n",
    "import matplotlib.pyplot as plt\n",
    "import pandas as pd\n",
    "import epanet as epa\n",
    "import epamodule as em\n",
    "import seaborn as sns\n",
    "from cjsbot import CjsBot\n",
    "import time"
   ]
  },
  {
   "cell_type": "code",
   "execution_count": 2,
   "metadata": {},
   "outputs": [],
   "source": [
    "links = [\"../../networks/c-town/nodes\", \n",
    "         \"../../networks/c-town/links\", \n",
    "         \"../../networks/c-town/rede.inp\", \n",
    "         \"../../networks/c-town/3dim.csv\"]"
   ]
  },
  {
   "cell_type": "code",
   "execution_count": 3,
   "metadata": {},
   "outputs": [],
   "source": [
    "group_links = [[  1,   2,   3,   4,   5,   6,   7,   8,   9,  10,  11,  12,  13,\n",
    "         14,  15,  16,  17,  18,  19,  20,  21,  22,  23,  24,  25,  26,\n",
    "         27,  28,  29,  30,  31,  32,  33,  34,  35,  36,  37,  38,  39,\n",
    "         40,  41,  42,  43,  44,  45,  46,  47,  48,  49,  50,  51,  52,\n",
    "         53,  54,  55,  56,  57,  58,  59,  60,  61,  62,  63,  64,  65,\n",
    "         66,  67,  68,  69,  70,  71,  72,  73,  74,  75,  76,  77,  78,\n",
    "         79,  80,  81,  82,  83,  84,  85,  86,  87,  88,  89,  90,  91,\n",
    "         92,  93,  94,  95,  96,  97,  98,  99, 100, 101, 102, 103, 104,\n",
    "        105, 106, 107, 108, 109, 110, 111, 112, 113, 114, 115, 116, 117,\n",
    "        118, 119, 120, 121, 122, 123, 124, 125, 126, 127, 128, 129, 130,\n",
    "        131, 132, 133, 134, 135, 136, 137, 138, 139, 140, 141, 142, 143],\n",
    "       [144, 145, 146, 147, 148, 149, 150, 151, 152, 153, 154, 155, 156,\n",
    "        157, 158, 159, 160, 161, 162, 163, 164, 165, 166, 167, 168, 169,\n",
    "        170, 171, 172, 173, 174, 175, 176, 177, 178, 179, 180, 181, 182,\n",
    "        183, 184, 185, 186, 187, 188, 189, 190, 191, 192, 193, 194, 195,\n",
    "        196, 197, 198, 199, 200, 201, 202, 203, 204, 205, 206, 207, 208,\n",
    "        209, 210, 211, 212, 213, 214, 215, 216, 217, 218, 219, 220, 221,\n",
    "        222, 223, 224, 225, 226, 227, 228, 229, 230, 231, 232, 233, 234,\n",
    "        235, 236, 237, 238, 239, 240, 241, 242, 243, 244, 245, 246, 247,\n",
    "        248, 249, 250, 251, 252, 253, 254, 255, 256, 257, 258, 259, 260,\n",
    "        261, 262, 263, 264, 265, 266, 267, 268, 269, 270, 271, 272, 273,\n",
    "        274, 275, 276, 277, 278, 279, 280, 281, 282, 283, 284, 285, 286],\n",
    "       [287, 288, 289, 290, 291, 292, 293, 294, 295, 296, 297, 298, 299,\n",
    "        300, 301, 302, 303, 304, 305, 306, 307, 308, 309, 310, 311, 312,\n",
    "        313, 314, 315, 316, 317, 318, 319, 320, 321, 322, 323, 324, 325,\n",
    "        326, 327, 328, 329, 330, 331, 332, 333, 334, 335, 336, 337, 338,\n",
    "        339, 340, 341, 342, 343, 344, 345, 346, 347, 348, 349, 350, 351,\n",
    "        352, 353, 354, 355, 356, 357, 358, 359, 360, 361, 362, 363, 364,\n",
    "        365, 366, 367, 368, 369, 370, 371, 372, 373, 374, 375, 376, 377,\n",
    "        378, 379, 380, 381, 382, 383, 384, 385, 386, 387, 388, 389, 390,\n",
    "        391, 392, 393, 394, 395, 396, 397, 398, 399, 400, 401, 402, 403,\n",
    "        404, 405, 406, 407, 408, 409, 410, 411, 412, 413, 414, 415, 416,\n",
    "        417, 418, 419, 420, 421, 422, 423, 424, 425, 426, 427, 428, 429]]\n"
   ]
  },
  {
   "cell_type": "code",
   "execution_count": 4,
   "metadata": {},
   "outputs": [],
   "source": [
    "t = np.array([0.01, 0.079,0.115])\n",
    "t_link = [58, 201, 359]"
   ]
  },
  {
   "cell_type": "code",
   "execution_count": 5,
   "metadata": {},
   "outputs": [],
   "source": [
    "# realV = epa.RealValues(links, t_link, t, dim=3)\n",
    "# realV.getRealValue()"
   ]
  },
  {
   "cell_type": "code",
   "execution_count": 6,
   "metadata": {},
   "outputs": [
    {
     "name": "stdout",
     "output_type": "stream",
     "text": [
      "Começando simulação\n"
     ]
    }
   ],
   "source": [
    "net = epa.Rede(links, group_links, t)"
   ]
  },
  {
   "cell_type": "code",
   "execution_count": 7,
   "metadata": {},
   "outputs": [
    {
     "data": {
      "text/plain": [
       "1.9633871418834072e-29"
      ]
     },
     "execution_count": 7,
     "metadata": {},
     "output_type": "execute_result"
    }
   ],
   "source": [
    "net.objetivo(net.target)"
   ]
  },
  {
   "cell_type": "code",
   "execution_count": 8,
   "metadata": {},
   "outputs": [
    {
     "data": {
      "text/plain": [
       "array([0., 0., 0.])"
      ]
     },
     "execution_count": 8,
     "metadata": {},
     "output_type": "execute_result"
    }
   ],
   "source": [
    "net.gradient(net.target)"
   ]
  },
  {
   "cell_type": "code",
   "execution_count": 9,
   "metadata": {},
   "outputs": [],
   "source": [
    "def grad_steps(x0, lr=0.001, max_interacoes=100):\n",
    "    try:\n",
    "        dim = len(x0)\n",
    "        x = x0\n",
    "        y = [net.objetivo(x0)]\n",
    "        caminho = [net.get_dist(x0)]\n",
    "        i = 0\n",
    "        values = [x0]\n",
    "        while np.sqrt(sum(net.gradient(x)**2))>0:\n",
    "            increment = np.vectorize(lambda x: 1 if x>0 else -1)\n",
    "            g = increment(net.gradient(x))\n",
    "            x -= lr*g\n",
    "            caminho.append(net.get_dist(x))\n",
    "            y.append(net.objetivo(x)) \n",
    "            values.append(x)\n",
    "            i+=1\n",
    "            if i > max_interacoes:\n",
    "                print(\"Excedeu as interações limite\")\n",
    "                break\n",
    "            if sum(x<0):\n",
    "                print(\"Escapou do intervalo de confiança\")\n",
    "                break\n",
    "    finally:\n",
    "        net.restart()\n",
    "        return values[y.index(min(y))], y, caminho"
   ]
  },
  {
   "cell_type": "code",
   "execution_count": 10,
   "metadata": {},
   "outputs": [],
   "source": [
    "def calc_centroide(vetor_pontos):\n",
    "    tamanho = vetor_pontos.shape[0]\n",
    "    v = []\n",
    "    for i in range(vetor_pontos.shape[1]):\n",
    "        v.append(vetor_pontos[:,i].sum()/tamanho)\n",
    "    return v"
   ]
  },
  {
   "cell_type": "code",
   "execution_count": 11,
   "metadata": {},
   "outputs": [],
   "source": [
    "# values = np.random.random((100,3))*0.2 +0.001\n",
    "# arq = open(\"teste3/teste3.txt\", 'w')\n",
    "# np.savetxt(arq, values)\n",
    "# arq.close()"
   ]
  },
  {
   "cell_type": "code",
   "execution_count": 12,
   "metadata": {},
   "outputs": [],
   "source": [
    "arq = open(\"teste3/teste3.txt\")\n",
    "values = np.loadtxt(arq)\n",
    "arq.close()"
   ]
  },
  {
   "cell_type": "code",
   "execution_count": 13,
   "metadata": {},
   "outputs": [],
   "source": [
    "net.restart()"
   ]
  },
  {
   "cell_type": "code",
   "execution_count": 14,
   "metadata": {},
   "outputs": [
    {
     "name": "stderr",
     "output_type": "stream",
     "text": [
      "2021-01-06 19:16:45,673 - apscheduler.scheduler - INFO - Scheduler started\n"
     ]
    },
    {
     "name": "stdout",
     "output_type": "stream",
     "text": [
      "Excedeu as interações limite\n"
     ]
    },
    {
     "name": "stderr",
     "output_type": "stream",
     "text": [
      "2021-01-06 19:16:47,670 - telegram.ext.updater - ERROR - Error while getting Updates: Conflict: terminated by other getUpdates request; make sure that only one bot instance is running\n",
      "2021-01-06 19:16:47,671 - telegram.ext.dispatcher - ERROR - No error handlers are registered, logging exception.\n",
      "Traceback (most recent call last):\n",
      "  File \"/home/augusto/.local/lib/python3.8/site-packages/telegram/ext/updater.py\", line 465, in _network_loop_retry\n",
      "    if not action_cb():\n",
      "  File \"/home/augusto/.local/lib/python3.8/site-packages/telegram/ext/updater.py\", line 416, in polling_action_cb\n",
      "    updates = self.bot.get_updates(\n",
      "  File \"<decorator-gen-156>\", line 2, in get_updates\n",
      "  File \"/home/augusto/.local/lib/python3.8/site-packages/telegram/bot.py\", line 135, in decorator\n",
      "    result = func(*args, **kwargs)\n",
      "  File \"/home/augusto/.local/lib/python3.8/site-packages/telegram/bot.py\", line 2638, in get_updates\n",
      "    result = self._post(\n",
      "  File \"/home/augusto/.local/lib/python3.8/site-packages/telegram/bot.py\", line 245, in _post\n",
      "    return self.request.post(f'{self.base_url}/{endpoint}', data=data, timeout=timeout)\n",
      "  File \"/home/augusto/.local/lib/python3.8/site-packages/telegram/utils/request.py\", line 349, in post\n",
      "    result = self._request_wrapper(\n",
      "  File \"/home/augusto/.local/lib/python3.8/site-packages/telegram/utils/request.py\", line 276, in _request_wrapper\n",
      "    raise Conflict(message)\n",
      "telegram.error.Conflict: Conflict: terminated by other getUpdates request; make sure that only one bot instance is running\n",
      "2021-01-06 19:16:53,303 - telegram.ext.updater - ERROR - Error while getting Updates: Conflict: terminated by other getUpdates request; make sure that only one bot instance is running\n",
      "2021-01-06 19:16:53,304 - telegram.ext.dispatcher - ERROR - No error handlers are registered, logging exception.\n",
      "Traceback (most recent call last):\n",
      "  File \"/home/augusto/.local/lib/python3.8/site-packages/telegram/ext/updater.py\", line 465, in _network_loop_retry\n",
      "    if not action_cb():\n",
      "  File \"/home/augusto/.local/lib/python3.8/site-packages/telegram/ext/updater.py\", line 416, in polling_action_cb\n",
      "    updates = self.bot.get_updates(\n",
      "  File \"<decorator-gen-156>\", line 2, in get_updates\n",
      "  File \"/home/augusto/.local/lib/python3.8/site-packages/telegram/bot.py\", line 135, in decorator\n",
      "    result = func(*args, **kwargs)\n",
      "  File \"/home/augusto/.local/lib/python3.8/site-packages/telegram/bot.py\", line 2638, in get_updates\n",
      "    result = self._post(\n",
      "  File \"/home/augusto/.local/lib/python3.8/site-packages/telegram/bot.py\", line 245, in _post\n",
      "    return self.request.post(f'{self.base_url}/{endpoint}', data=data, timeout=timeout)\n",
      "  File \"/home/augusto/.local/lib/python3.8/site-packages/telegram/utils/request.py\", line 349, in post\n",
      "    result = self._request_wrapper(\n",
      "  File \"/home/augusto/.local/lib/python3.8/site-packages/telegram/utils/request.py\", line 276, in _request_wrapper\n",
      "    raise Conflict(message)\n",
      "telegram.error.Conflict: Conflict: terminated by other getUpdates request; make sure that only one bot instance is running\n",
      "2021-01-06 19:16:59,855 - telegram.ext.updater - ERROR - Error while getting Updates: Conflict: terminated by other getUpdates request; make sure that only one bot instance is running\n",
      "2021-01-06 19:16:59,857 - telegram.ext.dispatcher - ERROR - No error handlers are registered, logging exception.\n",
      "Traceback (most recent call last):\n",
      "  File \"/home/augusto/.local/lib/python3.8/site-packages/telegram/ext/updater.py\", line 465, in _network_loop_retry\n",
      "    if not action_cb():\n",
      "  File \"/home/augusto/.local/lib/python3.8/site-packages/telegram/ext/updater.py\", line 416, in polling_action_cb\n",
      "    updates = self.bot.get_updates(\n",
      "  File \"<decorator-gen-156>\", line 2, in get_updates\n",
      "  File \"/home/augusto/.local/lib/python3.8/site-packages/telegram/bot.py\", line 135, in decorator\n",
      "    result = func(*args, **kwargs)\n",
      "  File \"/home/augusto/.local/lib/python3.8/site-packages/telegram/bot.py\", line 2638, in get_updates\n",
      "    result = self._post(\n",
      "  File \"/home/augusto/.local/lib/python3.8/site-packages/telegram/bot.py\", line 245, in _post\n",
      "    return self.request.post(f'{self.base_url}/{endpoint}', data=data, timeout=timeout)\n",
      "  File \"/home/augusto/.local/lib/python3.8/site-packages/telegram/utils/request.py\", line 349, in post\n",
      "    result = self._request_wrapper(\n",
      "  File \"/home/augusto/.local/lib/python3.8/site-packages/telegram/utils/request.py\", line 276, in _request_wrapper\n",
      "    raise Conflict(message)\n",
      "telegram.error.Conflict: Conflict: terminated by other getUpdates request; make sure that only one bot instance is running\n",
      "2021-01-06 19:17:07,832 - telegram.ext.updater - ERROR - Error while getting Updates: Conflict: terminated by other getUpdates request; make sure that only one bot instance is running\n",
      "2021-01-06 19:17:07,835 - telegram.ext.dispatcher - ERROR - No error handlers are registered, logging exception.\n",
      "Traceback (most recent call last):\n",
      "  File \"/home/augusto/.local/lib/python3.8/site-packages/telegram/ext/updater.py\", line 465, in _network_loop_retry\n",
      "    if not action_cb():\n",
      "  File \"/home/augusto/.local/lib/python3.8/site-packages/telegram/ext/updater.py\", line 416, in polling_action_cb\n",
      "    updates = self.bot.get_updates(\n",
      "  File \"<decorator-gen-156>\", line 2, in get_updates\n",
      "  File \"/home/augusto/.local/lib/python3.8/site-packages/telegram/bot.py\", line 135, in decorator\n",
      "    result = func(*args, **kwargs)\n",
      "  File \"/home/augusto/.local/lib/python3.8/site-packages/telegram/bot.py\", line 2638, in get_updates\n",
      "    result = self._post(\n",
      "  File \"/home/augusto/.local/lib/python3.8/site-packages/telegram/bot.py\", line 245, in _post\n",
      "    return self.request.post(f'{self.base_url}/{endpoint}', data=data, timeout=timeout)\n",
      "  File \"/home/augusto/.local/lib/python3.8/site-packages/telegram/utils/request.py\", line 349, in post\n",
      "    result = self._request_wrapper(\n",
      "  File \"/home/augusto/.local/lib/python3.8/site-packages/telegram/utils/request.py\", line 276, in _request_wrapper\n",
      "    raise Conflict(message)\n",
      "telegram.error.Conflict: Conflict: terminated by other getUpdates request; make sure that only one bot instance is running\n",
      "2021-01-06 19:17:15,112 - telegram.ext.updater - ERROR - Error while getting Updates: Conflict: terminated by other getUpdates request; make sure that only one bot instance is running\n",
      "2021-01-06 19:17:15,113 - telegram.ext.dispatcher - ERROR - No error handlers are registered, logging exception.\n",
      "Traceback (most recent call last):\n",
      "  File \"/home/augusto/.local/lib/python3.8/site-packages/telegram/ext/updater.py\", line 465, in _network_loop_retry\n",
      "    if not action_cb():\n",
      "  File \"/home/augusto/.local/lib/python3.8/site-packages/telegram/ext/updater.py\", line 416, in polling_action_cb\n",
      "    updates = self.bot.get_updates(\n",
      "  File \"<decorator-gen-156>\", line 2, in get_updates\n",
      "  File \"/home/augusto/.local/lib/python3.8/site-packages/telegram/bot.py\", line 135, in decorator\n",
      "    result = func(*args, **kwargs)\n",
      "  File \"/home/augusto/.local/lib/python3.8/site-packages/telegram/bot.py\", line 2638, in get_updates\n",
      "    result = self._post(\n",
      "  File \"/home/augusto/.local/lib/python3.8/site-packages/telegram/bot.py\", line 245, in _post\n",
      "    return self.request.post(f'{self.base_url}/{endpoint}', data=data, timeout=timeout)\n",
      "  File \"/home/augusto/.local/lib/python3.8/site-packages/telegram/utils/request.py\", line 349, in post\n",
      "    result = self._request_wrapper(\n",
      "  File \"/home/augusto/.local/lib/python3.8/site-packages/telegram/utils/request.py\", line 276, in _request_wrapper\n",
      "    raise Conflict(message)\n",
      "telegram.error.Conflict: Conflict: terminated by other getUpdates request; make sure that only one bot instance is running\n",
      "2021-01-06 19:17:17,458 - apscheduler.scheduler - INFO - Scheduler has been shut down\n"
     ]
    },
    {
     "name": "stdout",
     "output_type": "stream",
     "text": [
      "Excedeu as interações limite\n"
     ]
    },
    {
     "name": "stderr",
     "output_type": "stream",
     "text": [
      "2021-01-06 19:17:20,183 - apscheduler.scheduler - INFO - Scheduler started\n",
      "2021-01-06 19:17:26,685 - telegram.ext.updater - ERROR - Error while getting Updates: Conflict: terminated by other getUpdates request; make sure that only one bot instance is running\n",
      "2021-01-06 19:17:26,685 - telegram.ext.dispatcher - ERROR - No error handlers are registered, logging exception.\n",
      "Traceback (most recent call last):\n",
      "  File \"/home/augusto/.local/lib/python3.8/site-packages/telegram/ext/updater.py\", line 465, in _network_loop_retry\n",
      "    if not action_cb():\n",
      "  File \"/home/augusto/.local/lib/python3.8/site-packages/telegram/ext/updater.py\", line 416, in polling_action_cb\n",
      "    updates = self.bot.get_updates(\n",
      "  File \"<decorator-gen-156>\", line 2, in get_updates\n",
      "  File \"/home/augusto/.local/lib/python3.8/site-packages/telegram/bot.py\", line 135, in decorator\n",
      "    result = func(*args, **kwargs)\n",
      "  File \"/home/augusto/.local/lib/python3.8/site-packages/telegram/bot.py\", line 2638, in get_updates\n",
      "    result = self._post(\n",
      "  File \"/home/augusto/.local/lib/python3.8/site-packages/telegram/bot.py\", line 245, in _post\n",
      "    return self.request.post(f'{self.base_url}/{endpoint}', data=data, timeout=timeout)\n",
      "  File \"/home/augusto/.local/lib/python3.8/site-packages/telegram/utils/request.py\", line 349, in post\n",
      "    result = self._request_wrapper(\n",
      "  File \"/home/augusto/.local/lib/python3.8/site-packages/telegram/utils/request.py\", line 276, in _request_wrapper\n",
      "    raise Conflict(message)\n",
      "telegram.error.Conflict: Conflict: terminated by other getUpdates request; make sure that only one bot instance is running\n",
      "2021-01-06 19:17:38,766 - telegram.ext.updater - ERROR - Error while getting Updates: Conflict: terminated by other getUpdates request; make sure that only one bot instance is running\n",
      "2021-01-06 19:17:38,767 - telegram.ext.dispatcher - ERROR - No error handlers are registered, logging exception.\n",
      "Traceback (most recent call last):\n",
      "  File \"/home/augusto/.local/lib/python3.8/site-packages/telegram/ext/updater.py\", line 465, in _network_loop_retry\n",
      "    if not action_cb():\n",
      "  File \"/home/augusto/.local/lib/python3.8/site-packages/telegram/ext/updater.py\", line 416, in polling_action_cb\n",
      "    updates = self.bot.get_updates(\n",
      "  File \"<decorator-gen-156>\", line 2, in get_updates\n",
      "  File \"/home/augusto/.local/lib/python3.8/site-packages/telegram/bot.py\", line 135, in decorator\n",
      "    result = func(*args, **kwargs)\n",
      "  File \"/home/augusto/.local/lib/python3.8/site-packages/telegram/bot.py\", line 2638, in get_updates\n",
      "    result = self._post(\n",
      "  File \"/home/augusto/.local/lib/python3.8/site-packages/telegram/bot.py\", line 245, in _post\n",
      "    return self.request.post(f'{self.base_url}/{endpoint}', data=data, timeout=timeout)\n",
      "  File \"/home/augusto/.local/lib/python3.8/site-packages/telegram/utils/request.py\", line 349, in post\n",
      "    result = self._request_wrapper(\n",
      "  File \"/home/augusto/.local/lib/python3.8/site-packages/telegram/utils/request.py\", line 276, in _request_wrapper\n",
      "    raise Conflict(message)\n",
      "telegram.error.Conflict: Conflict: terminated by other getUpdates request; make sure that only one bot instance is running\n",
      "2021-01-06 19:17:49,343 - apscheduler.scheduler - INFO - Scheduler has been shut down\n"
     ]
    },
    {
     "name": "stdout",
     "output_type": "stream",
     "text": [
      "Excedeu as interações limite\n"
     ]
    },
    {
     "name": "stderr",
     "output_type": "stream",
     "text": [
      "2021-01-06 19:17:54,740 - telegram.ext.updater - ERROR - Error while getting Updates: Conflict: terminated by other getUpdates request; make sure that only one bot instance is running\n",
      "2021-01-06 19:17:55,750 - apscheduler.scheduler - INFO - Scheduler started\n",
      "2021-01-06 19:17:55,758 - telegram.ext.dispatcher - ERROR - No error handlers are registered, logging exception.\n",
      "Traceback (most recent call last):\n",
      "  File \"/home/augusto/.local/lib/python3.8/site-packages/telegram/ext/updater.py\", line 465, in _network_loop_retry\n",
      "    if not action_cb():\n",
      "  File \"/home/augusto/.local/lib/python3.8/site-packages/telegram/ext/updater.py\", line 416, in polling_action_cb\n",
      "    updates = self.bot.get_updates(\n",
      "  File \"<decorator-gen-156>\", line 2, in get_updates\n",
      "  File \"/home/augusto/.local/lib/python3.8/site-packages/telegram/bot.py\", line 135, in decorator\n",
      "    result = func(*args, **kwargs)\n",
      "  File \"/home/augusto/.local/lib/python3.8/site-packages/telegram/bot.py\", line 2638, in get_updates\n",
      "    result = self._post(\n",
      "  File \"/home/augusto/.local/lib/python3.8/site-packages/telegram/bot.py\", line 245, in _post\n",
      "    return self.request.post(f'{self.base_url}/{endpoint}', data=data, timeout=timeout)\n",
      "  File \"/home/augusto/.local/lib/python3.8/site-packages/telegram/utils/request.py\", line 349, in post\n",
      "    result = self._request_wrapper(\n",
      "  File \"/home/augusto/.local/lib/python3.8/site-packages/telegram/utils/request.py\", line 276, in _request_wrapper\n",
      "    raise Conflict(message)\n",
      "telegram.error.Conflict: Conflict: terminated by other getUpdates request; make sure that only one bot instance is running\n",
      "2021-01-06 19:18:24,756 - apscheduler.scheduler - INFO - Scheduler has been shut down\n"
     ]
    },
    {
     "name": "stdout",
     "output_type": "stream",
     "text": [
      "Excedeu as interações limite\n"
     ]
    },
    {
     "name": "stderr",
     "output_type": "stream",
     "text": [
      "2021-01-06 19:18:27,514 - apscheduler.scheduler - INFO - Scheduler started\n",
      "2021-01-06 19:18:43,448 - telegram.ext.updater - ERROR - Error while getting Updates: Conflict: terminated by other getUpdates request; make sure that only one bot instance is running\n",
      "2021-01-06 19:18:43,450 - telegram.ext.dispatcher - ERROR - No error handlers are registered, logging exception.\n",
      "Traceback (most recent call last):\n",
      "  File \"/home/augusto/.local/lib/python3.8/site-packages/telegram/ext/updater.py\", line 465, in _network_loop_retry\n",
      "    if not action_cb():\n",
      "  File \"/home/augusto/.local/lib/python3.8/site-packages/telegram/ext/updater.py\", line 416, in polling_action_cb\n",
      "    updates = self.bot.get_updates(\n",
      "  File \"<decorator-gen-156>\", line 2, in get_updates\n",
      "  File \"/home/augusto/.local/lib/python3.8/site-packages/telegram/bot.py\", line 135, in decorator\n",
      "    result = func(*args, **kwargs)\n",
      "  File \"/home/augusto/.local/lib/python3.8/site-packages/telegram/bot.py\", line 2638, in get_updates\n",
      "    result = self._post(\n",
      "  File \"/home/augusto/.local/lib/python3.8/site-packages/telegram/bot.py\", line 245, in _post\n",
      "    return self.request.post(f'{self.base_url}/{endpoint}', data=data, timeout=timeout)\n",
      "  File \"/home/augusto/.local/lib/python3.8/site-packages/telegram/utils/request.py\", line 349, in post\n",
      "    result = self._request_wrapper(\n",
      "  File \"/home/augusto/.local/lib/python3.8/site-packages/telegram/utils/request.py\", line 276, in _request_wrapper\n",
      "    raise Conflict(message)\n",
      "telegram.error.Conflict: Conflict: terminated by other getUpdates request; make sure that only one bot instance is running\n",
      "2021-01-06 19:19:00,862 - apscheduler.scheduler - INFO - Scheduler has been shut down\n"
     ]
    },
    {
     "name": "stdout",
     "output_type": "stream",
     "text": [
      "Excedeu as interações limite\n"
     ]
    },
    {
     "name": "stderr",
     "output_type": "stream",
     "text": [
      "2021-01-06 19:19:04,895 - apscheduler.scheduler - INFO - Scheduler started\n",
      "2021-01-06 19:19:26,590 - telegram.ext.updater - ERROR - Error while getting Updates: Conflict: terminated by other getUpdates request; make sure that only one bot instance is running\n",
      "2021-01-06 19:19:26,591 - telegram.ext.dispatcher - ERROR - No error handlers are registered, logging exception.\n",
      "Traceback (most recent call last):\n",
      "  File \"/home/augusto/.local/lib/python3.8/site-packages/telegram/ext/updater.py\", line 465, in _network_loop_retry\n",
      "    if not action_cb():\n",
      "  File \"/home/augusto/.local/lib/python3.8/site-packages/telegram/ext/updater.py\", line 416, in polling_action_cb\n",
      "    updates = self.bot.get_updates(\n",
      "  File \"<decorator-gen-156>\", line 2, in get_updates\n",
      "  File \"/home/augusto/.local/lib/python3.8/site-packages/telegram/bot.py\", line 135, in decorator\n",
      "    result = func(*args, **kwargs)\n",
      "  File \"/home/augusto/.local/lib/python3.8/site-packages/telegram/bot.py\", line 2638, in get_updates\n",
      "    result = self._post(\n",
      "  File \"/home/augusto/.local/lib/python3.8/site-packages/telegram/bot.py\", line 245, in _post\n",
      "    return self.request.post(f'{self.base_url}/{endpoint}', data=data, timeout=timeout)\n",
      "  File \"/home/augusto/.local/lib/python3.8/site-packages/telegram/utils/request.py\", line 349, in post\n",
      "    result = self._request_wrapper(\n",
      "  File \"/home/augusto/.local/lib/python3.8/site-packages/telegram/utils/request.py\", line 276, in _request_wrapper\n",
      "    raise Conflict(message)\n",
      "telegram.error.Conflict: Conflict: terminated by other getUpdates request; make sure that only one bot instance is running\n",
      "2021-01-06 19:19:38,669 - apscheduler.scheduler - INFO - Scheduler has been shut down\n"
     ]
    },
    {
     "name": "stdout",
     "output_type": "stream",
     "text": [
      "Excedeu as interações limite\n"
     ]
    },
    {
     "name": "stderr",
     "output_type": "stream",
     "text": [
      "2021-01-06 19:19:48,072 - apscheduler.scheduler - INFO - Scheduler started\n",
      "2021-01-06 19:20:01,199 - telegram.ext.updater - ERROR - Error while getting Updates: Conflict: terminated by other getUpdates request; make sure that only one bot instance is running\n",
      "2021-01-06 19:20:01,200 - telegram.ext.dispatcher - ERROR - No error handlers are registered, logging exception.\n",
      "Traceback (most recent call last):\n",
      "  File \"/home/augusto/.local/lib/python3.8/site-packages/telegram/ext/updater.py\", line 465, in _network_loop_retry\n",
      "    if not action_cb():\n",
      "  File \"/home/augusto/.local/lib/python3.8/site-packages/telegram/ext/updater.py\", line 416, in polling_action_cb\n",
      "    updates = self.bot.get_updates(\n",
      "  File \"<decorator-gen-156>\", line 2, in get_updates\n",
      "  File \"/home/augusto/.local/lib/python3.8/site-packages/telegram/bot.py\", line 135, in decorator\n",
      "    result = func(*args, **kwargs)\n",
      "  File \"/home/augusto/.local/lib/python3.8/site-packages/telegram/bot.py\", line 2638, in get_updates\n",
      "    result = self._post(\n",
      "  File \"/home/augusto/.local/lib/python3.8/site-packages/telegram/bot.py\", line 245, in _post\n",
      "    return self.request.post(f'{self.base_url}/{endpoint}', data=data, timeout=timeout)\n",
      "  File \"/home/augusto/.local/lib/python3.8/site-packages/telegram/utils/request.py\", line 349, in post\n",
      "    result = self._request_wrapper(\n",
      "  File \"/home/augusto/.local/lib/python3.8/site-packages/telegram/utils/request.py\", line 276, in _request_wrapper\n",
      "    raise Conflict(message)\n",
      "telegram.error.Conflict: Conflict: terminated by other getUpdates request; make sure that only one bot instance is running\n",
      "2021-01-06 19:20:18,748 - apscheduler.scheduler - INFO - Scheduler has been shut down\n"
     ]
    },
    {
     "name": "stdout",
     "output_type": "stream",
     "text": [
      "Excedeu as interações limite\n"
     ]
    },
    {
     "name": "stderr",
     "output_type": "stream",
     "text": [
      "2021-01-06 19:20:22,706 - apscheduler.scheduler - INFO - Scheduler started\n",
      "2021-01-06 19:20:35,812 - telegram.ext.updater - ERROR - Error while getting Updates: Conflict: terminated by other getUpdates request; make sure that only one bot instance is running\n",
      "2021-01-06 19:20:35,815 - telegram.ext.dispatcher - ERROR - No error handlers are registered, logging exception.\n",
      "Traceback (most recent call last):\n",
      "  File \"/home/augusto/.local/lib/python3.8/site-packages/telegram/ext/updater.py\", line 465, in _network_loop_retry\n",
      "    if not action_cb():\n",
      "  File \"/home/augusto/.local/lib/python3.8/site-packages/telegram/ext/updater.py\", line 416, in polling_action_cb\n",
      "    updates = self.bot.get_updates(\n",
      "  File \"<decorator-gen-156>\", line 2, in get_updates\n",
      "  File \"/home/augusto/.local/lib/python3.8/site-packages/telegram/bot.py\", line 135, in decorator\n",
      "    result = func(*args, **kwargs)\n",
      "  File \"/home/augusto/.local/lib/python3.8/site-packages/telegram/bot.py\", line 2638, in get_updates\n",
      "    result = self._post(\n",
      "  File \"/home/augusto/.local/lib/python3.8/site-packages/telegram/bot.py\", line 245, in _post\n",
      "    return self.request.post(f'{self.base_url}/{endpoint}', data=data, timeout=timeout)\n",
      "  File \"/home/augusto/.local/lib/python3.8/site-packages/telegram/utils/request.py\", line 349, in post\n",
      "    result = self._request_wrapper(\n",
      "  File \"/home/augusto/.local/lib/python3.8/site-packages/telegram/utils/request.py\", line 276, in _request_wrapper\n",
      "    raise Conflict(message)\n",
      "telegram.error.Conflict: Conflict: terminated by other getUpdates request; make sure that only one bot instance is running\n",
      "2021-01-06 19:20:54,126 - apscheduler.scheduler - INFO - Scheduler has been shut down\n"
     ]
    },
    {
     "name": "stdout",
     "output_type": "stream",
     "text": [
      "Excedeu as interações limite\n"
     ]
    },
    {
     "name": "stderr",
     "output_type": "stream",
     "text": [
      "2021-01-06 19:20:57,418 - apscheduler.scheduler - INFO - Scheduler started\n",
      "2021-01-06 19:21:10,418 - telegram.ext.updater - ERROR - Error while getting Updates: Conflict: terminated by other getUpdates request; make sure that only one bot instance is running\n",
      "2021-01-06 19:21:10,421 - telegram.ext.dispatcher - ERROR - No error handlers are registered, logging exception.\n",
      "Traceback (most recent call last):\n",
      "  File \"/home/augusto/.local/lib/python3.8/site-packages/telegram/ext/updater.py\", line 465, in _network_loop_retry\n",
      "    if not action_cb():\n",
      "  File \"/home/augusto/.local/lib/python3.8/site-packages/telegram/ext/updater.py\", line 416, in polling_action_cb\n",
      "    updates = self.bot.get_updates(\n",
      "  File \"<decorator-gen-156>\", line 2, in get_updates\n",
      "  File \"/home/augusto/.local/lib/python3.8/site-packages/telegram/bot.py\", line 135, in decorator\n",
      "    result = func(*args, **kwargs)\n",
      "  File \"/home/augusto/.local/lib/python3.8/site-packages/telegram/bot.py\", line 2638, in get_updates\n",
      "    result = self._post(\n",
      "  File \"/home/augusto/.local/lib/python3.8/site-packages/telegram/bot.py\", line 245, in _post\n",
      "    return self.request.post(f'{self.base_url}/{endpoint}', data=data, timeout=timeout)\n",
      "  File \"/home/augusto/.local/lib/python3.8/site-packages/telegram/utils/request.py\", line 349, in post\n",
      "    result = self._request_wrapper(\n",
      "  File \"/home/augusto/.local/lib/python3.8/site-packages/telegram/utils/request.py\", line 276, in _request_wrapper\n",
      "    raise Conflict(message)\n",
      "telegram.error.Conflict: Conflict: terminated by other getUpdates request; make sure that only one bot instance is running\n",
      "2021-01-06 19:21:26,874 - apscheduler.scheduler - INFO - Scheduler has been shut down\n"
     ]
    },
    {
     "name": "stdout",
     "output_type": "stream",
     "text": [
      "Excedeu as interações limite\n"
     ]
    },
    {
     "name": "stderr",
     "output_type": "stream",
     "text": [
      "2021-01-06 19:21:32,029 - apscheduler.scheduler - INFO - Scheduler started\n",
      "2021-01-06 19:21:45,028 - telegram.ext.updater - ERROR - Error while getting Updates: Conflict: terminated by other getUpdates request; make sure that only one bot instance is running\n",
      "2021-01-06 19:21:45,029 - telegram.ext.dispatcher - ERROR - No error handlers are registered, logging exception.\n",
      "Traceback (most recent call last):\n",
      "  File \"/home/augusto/.local/lib/python3.8/site-packages/telegram/ext/updater.py\", line 465, in _network_loop_retry\n",
      "    if not action_cb():\n",
      "  File \"/home/augusto/.local/lib/python3.8/site-packages/telegram/ext/updater.py\", line 416, in polling_action_cb\n",
      "    updates = self.bot.get_updates(\n",
      "  File \"<decorator-gen-156>\", line 2, in get_updates\n",
      "  File \"/home/augusto/.local/lib/python3.8/site-packages/telegram/bot.py\", line 135, in decorator\n",
      "    result = func(*args, **kwargs)\n",
      "  File \"/home/augusto/.local/lib/python3.8/site-packages/telegram/bot.py\", line 2638, in get_updates\n",
      "    result = self._post(\n",
      "  File \"/home/augusto/.local/lib/python3.8/site-packages/telegram/bot.py\", line 245, in _post\n",
      "    return self.request.post(f'{self.base_url}/{endpoint}', data=data, timeout=timeout)\n",
      "  File \"/home/augusto/.local/lib/python3.8/site-packages/telegram/utils/request.py\", line 349, in post\n",
      "    result = self._request_wrapper(\n",
      "  File \"/home/augusto/.local/lib/python3.8/site-packages/telegram/utils/request.py\", line 276, in _request_wrapper\n",
      "    raise Conflict(message)\n",
      "telegram.error.Conflict: Conflict: terminated by other getUpdates request; make sure that only one bot instance is running\n",
      "2021-01-06 19:22:01,333 - apscheduler.scheduler - INFO - Scheduler has been shut down\n"
     ]
    },
    {
     "name": "stdout",
     "output_type": "stream",
     "text": [
      "Excedeu as interações limite\n"
     ]
    },
    {
     "name": "stderr",
     "output_type": "stream",
     "text": [
      "2021-01-06 19:22:06,638 - apscheduler.scheduler - INFO - Scheduler started\n",
      "2021-01-06 19:22:19,618 - telegram.ext.updater - ERROR - Error while getting Updates: Conflict: terminated by other getUpdates request; make sure that only one bot instance is running\n",
      "2021-01-06 19:22:19,623 - telegram.ext.dispatcher - ERROR - No error handlers are registered, logging exception.\n",
      "Traceback (most recent call last):\n",
      "  File \"/home/augusto/.local/lib/python3.8/site-packages/telegram/ext/updater.py\", line 465, in _network_loop_retry\n",
      "    if not action_cb():\n",
      "  File \"/home/augusto/.local/lib/python3.8/site-packages/telegram/ext/updater.py\", line 416, in polling_action_cb\n",
      "    updates = self.bot.get_updates(\n",
      "  File \"<decorator-gen-156>\", line 2, in get_updates\n",
      "  File \"/home/augusto/.local/lib/python3.8/site-packages/telegram/bot.py\", line 135, in decorator\n",
      "    result = func(*args, **kwargs)\n",
      "  File \"/home/augusto/.local/lib/python3.8/site-packages/telegram/bot.py\", line 2638, in get_updates\n",
      "    result = self._post(\n",
      "  File \"/home/augusto/.local/lib/python3.8/site-packages/telegram/bot.py\", line 245, in _post\n",
      "    return self.request.post(f'{self.base_url}/{endpoint}', data=data, timeout=timeout)\n",
      "  File \"/home/augusto/.local/lib/python3.8/site-packages/telegram/utils/request.py\", line 349, in post\n",
      "    result = self._request_wrapper(\n",
      "  File \"/home/augusto/.local/lib/python3.8/site-packages/telegram/utils/request.py\", line 276, in _request_wrapper\n",
      "    raise Conflict(message)\n",
      "telegram.error.Conflict: Conflict: terminated by other getUpdates request; make sure that only one bot instance is running\n",
      "2021-01-06 19:22:36,429 - apscheduler.scheduler - INFO - Scheduler has been shut down\n"
     ]
    },
    {
     "name": "stdout",
     "output_type": "stream",
     "text": [
      "Excedeu as interações limite\n"
     ]
    },
    {
     "name": "stderr",
     "output_type": "stream",
     "text": [
      "2021-01-06 19:22:41,128 - apscheduler.scheduler - INFO - Scheduler started\n",
      "2021-01-06 19:22:54,149 - telegram.ext.updater - ERROR - Error while getting Updates: Conflict: terminated by other getUpdates request; make sure that only one bot instance is running\n",
      "2021-01-06 19:22:54,155 - telegram.ext.dispatcher - ERROR - No error handlers are registered, logging exception.\n",
      "Traceback (most recent call last):\n",
      "  File \"/home/augusto/.local/lib/python3.8/site-packages/telegram/ext/updater.py\", line 465, in _network_loop_retry\n",
      "    if not action_cb():\n",
      "  File \"/home/augusto/.local/lib/python3.8/site-packages/telegram/ext/updater.py\", line 416, in polling_action_cb\n",
      "    updates = self.bot.get_updates(\n",
      "  File \"<decorator-gen-156>\", line 2, in get_updates\n",
      "  File \"/home/augusto/.local/lib/python3.8/site-packages/telegram/bot.py\", line 135, in decorator\n",
      "    result = func(*args, **kwargs)\n",
      "  File \"/home/augusto/.local/lib/python3.8/site-packages/telegram/bot.py\", line 2638, in get_updates\n",
      "    result = self._post(\n",
      "  File \"/home/augusto/.local/lib/python3.8/site-packages/telegram/bot.py\", line 245, in _post\n",
      "    return self.request.post(f'{self.base_url}/{endpoint}', data=data, timeout=timeout)\n",
      "  File \"/home/augusto/.local/lib/python3.8/site-packages/telegram/utils/request.py\", line 349, in post\n",
      "    result = self._request_wrapper(\n",
      "  File \"/home/augusto/.local/lib/python3.8/site-packages/telegram/utils/request.py\", line 276, in _request_wrapper\n",
      "    raise Conflict(message)\n",
      "telegram.error.Conflict: Conflict: terminated by other getUpdates request; make sure that only one bot instance is running\n",
      "2021-01-06 19:23:11,366 - apscheduler.scheduler - INFO - Scheduler has been shut down\n"
     ]
    },
    {
     "name": "stdout",
     "output_type": "stream",
     "text": [
      "Excedeu as interações limite\n"
     ]
    },
    {
     "name": "stderr",
     "output_type": "stream",
     "text": [
      "2021-01-06 19:23:11,969 - apscheduler.scheduler - INFO - Scheduler started\n",
      "2021-01-06 19:23:28,758 - telegram.ext.updater - ERROR - Error while getting Updates: Conflict: terminated by other getUpdates request; make sure that only one bot instance is running\n",
      "2021-01-06 19:23:28,759 - telegram.ext.dispatcher - ERROR - No error handlers are registered, logging exception.\n",
      "Traceback (most recent call last):\n",
      "  File \"/home/augusto/.local/lib/python3.8/site-packages/telegram/ext/updater.py\", line 465, in _network_loop_retry\n",
      "    if not action_cb():\n",
      "  File \"/home/augusto/.local/lib/python3.8/site-packages/telegram/ext/updater.py\", line 416, in polling_action_cb\n",
      "    updates = self.bot.get_updates(\n",
      "  File \"<decorator-gen-156>\", line 2, in get_updates\n",
      "  File \"/home/augusto/.local/lib/python3.8/site-packages/telegram/bot.py\", line 135, in decorator\n",
      "    result = func(*args, **kwargs)\n",
      "  File \"/home/augusto/.local/lib/python3.8/site-packages/telegram/bot.py\", line 2638, in get_updates\n",
      "    result = self._post(\n",
      "  File \"/home/augusto/.local/lib/python3.8/site-packages/telegram/bot.py\", line 245, in _post\n",
      "    return self.request.post(f'{self.base_url}/{endpoint}', data=data, timeout=timeout)\n",
      "  File \"/home/augusto/.local/lib/python3.8/site-packages/telegram/utils/request.py\", line 349, in post\n",
      "    result = self._request_wrapper(\n",
      "  File \"/home/augusto/.local/lib/python3.8/site-packages/telegram/utils/request.py\", line 276, in _request_wrapper\n",
      "    raise Conflict(message)\n",
      "telegram.error.Conflict: Conflict: terminated by other getUpdates request; make sure that only one bot instance is running\n",
      "2021-01-06 19:23:42,558 - apscheduler.scheduler - INFO - Scheduler has been shut down\n"
     ]
    },
    {
     "name": "stdout",
     "output_type": "stream",
     "text": [
      "Excedeu as interações limite\n"
     ]
    },
    {
     "name": "stderr",
     "output_type": "stream",
     "text": [
      "2021-01-06 19:23:50,365 - apscheduler.scheduler - INFO - Scheduler started\n",
      "2021-01-06 19:24:03,369 - telegram.ext.updater - ERROR - Error while getting Updates: Conflict: terminated by other getUpdates request; make sure that only one bot instance is running\n",
      "2021-01-06 19:24:03,370 - telegram.ext.dispatcher - ERROR - No error handlers are registered, logging exception.\n",
      "Traceback (most recent call last):\n",
      "  File \"/home/augusto/.local/lib/python3.8/site-packages/telegram/ext/updater.py\", line 465, in _network_loop_retry\n",
      "    if not action_cb():\n",
      "  File \"/home/augusto/.local/lib/python3.8/site-packages/telegram/ext/updater.py\", line 416, in polling_action_cb\n",
      "    updates = self.bot.get_updates(\n",
      "  File \"<decorator-gen-156>\", line 2, in get_updates\n",
      "  File \"/home/augusto/.local/lib/python3.8/site-packages/telegram/bot.py\", line 135, in decorator\n",
      "    result = func(*args, **kwargs)\n",
      "  File \"/home/augusto/.local/lib/python3.8/site-packages/telegram/bot.py\", line 2638, in get_updates\n",
      "    result = self._post(\n",
      "  File \"/home/augusto/.local/lib/python3.8/site-packages/telegram/bot.py\", line 245, in _post\n",
      "    return self.request.post(f'{self.base_url}/{endpoint}', data=data, timeout=timeout)\n",
      "  File \"/home/augusto/.local/lib/python3.8/site-packages/telegram/utils/request.py\", line 349, in post\n",
      "    result = self._request_wrapper(\n",
      "  File \"/home/augusto/.local/lib/python3.8/site-packages/telegram/utils/request.py\", line 276, in _request_wrapper\n",
      "    raise Conflict(message)\n",
      "telegram.error.Conflict: Conflict: terminated by other getUpdates request; make sure that only one bot instance is running\n",
      "2021-01-06 19:24:20,344 - apscheduler.scheduler - INFO - Scheduler has been shut down\n"
     ]
    },
    {
     "name": "stdout",
     "output_type": "stream",
     "text": [
      "Excedeu as interações limite\n"
     ]
    },
    {
     "name": "stderr",
     "output_type": "stream",
     "text": [
      "2021-01-06 19:24:22,113 - apscheduler.scheduler - INFO - Scheduler started\n",
      "2021-01-06 19:24:37,980 - telegram.ext.updater - ERROR - Error while getting Updates: Conflict: terminated by other getUpdates request; make sure that only one bot instance is running\n",
      "2021-01-06 19:24:37,981 - telegram.ext.dispatcher - ERROR - No error handlers are registered, logging exception.\n",
      "Traceback (most recent call last):\n",
      "  File \"/home/augusto/.local/lib/python3.8/site-packages/telegram/ext/updater.py\", line 465, in _network_loop_retry\n",
      "    if not action_cb():\n",
      "  File \"/home/augusto/.local/lib/python3.8/site-packages/telegram/ext/updater.py\", line 416, in polling_action_cb\n",
      "    updates = self.bot.get_updates(\n",
      "  File \"<decorator-gen-156>\", line 2, in get_updates\n",
      "  File \"/home/augusto/.local/lib/python3.8/site-packages/telegram/bot.py\", line 135, in decorator\n",
      "    result = func(*args, **kwargs)\n",
      "  File \"/home/augusto/.local/lib/python3.8/site-packages/telegram/bot.py\", line 2638, in get_updates\n",
      "    result = self._post(\n",
      "  File \"/home/augusto/.local/lib/python3.8/site-packages/telegram/bot.py\", line 245, in _post\n",
      "    return self.request.post(f'{self.base_url}/{endpoint}', data=data, timeout=timeout)\n",
      "  File \"/home/augusto/.local/lib/python3.8/site-packages/telegram/utils/request.py\", line 349, in post\n",
      "    result = self._request_wrapper(\n",
      "  File \"/home/augusto/.local/lib/python3.8/site-packages/telegram/utils/request.py\", line 276, in _request_wrapper\n",
      "    raise Conflict(message)\n",
      "telegram.error.Conflict: Conflict: terminated by other getUpdates request; make sure that only one bot instance is running\n",
      "2021-01-06 19:24:56,042 - apscheduler.scheduler - INFO - Scheduler has been shut down\n"
     ]
    },
    {
     "name": "stdout",
     "output_type": "stream",
     "text": [
      "Excedeu as interações limite\n"
     ]
    },
    {
     "name": "stderr",
     "output_type": "stream",
     "text": [
      "2021-01-06 19:25:01,827 - apscheduler.scheduler - INFO - Scheduler started\n",
      "2021-01-06 19:25:12,459 - telegram.ext.updater - ERROR - Error while getting Updates: Conflict: terminated by other getUpdates request; make sure that only one bot instance is running\n",
      "2021-01-06 19:25:12,459 - telegram.ext.dispatcher - ERROR - No error handlers are registered, logging exception.\n",
      "Traceback (most recent call last):\n",
      "  File \"/home/augusto/.local/lib/python3.8/site-packages/telegram/ext/updater.py\", line 465, in _network_loop_retry\n",
      "    if not action_cb():\n",
      "  File \"/home/augusto/.local/lib/python3.8/site-packages/telegram/ext/updater.py\", line 416, in polling_action_cb\n",
      "    updates = self.bot.get_updates(\n",
      "  File \"<decorator-gen-156>\", line 2, in get_updates\n",
      "  File \"/home/augusto/.local/lib/python3.8/site-packages/telegram/bot.py\", line 135, in decorator\n",
      "    result = func(*args, **kwargs)\n",
      "  File \"/home/augusto/.local/lib/python3.8/site-packages/telegram/bot.py\", line 2638, in get_updates\n",
      "    result = self._post(\n",
      "  File \"/home/augusto/.local/lib/python3.8/site-packages/telegram/bot.py\", line 245, in _post\n",
      "    return self.request.post(f'{self.base_url}/{endpoint}', data=data, timeout=timeout)\n",
      "  File \"/home/augusto/.local/lib/python3.8/site-packages/telegram/utils/request.py\", line 349, in post\n",
      "    result = self._request_wrapper(\n",
      "  File \"/home/augusto/.local/lib/python3.8/site-packages/telegram/utils/request.py\", line 276, in _request_wrapper\n",
      "    raise Conflict(message)\n",
      "telegram.error.Conflict: Conflict: terminated by other getUpdates request; make sure that only one bot instance is running\n",
      "2021-01-06 19:25:30,912 - apscheduler.scheduler - INFO - Scheduler has been shut down\n"
     ]
    },
    {
     "name": "stdout",
     "output_type": "stream",
     "text": [
      "Excedeu as interações limite\n"
     ]
    },
    {
     "name": "stderr",
     "output_type": "stream",
     "text": [
      "2021-01-06 19:25:34,097 - apscheduler.scheduler - INFO - Scheduler started\n",
      "2021-01-06 19:25:47,100 - telegram.ext.updater - ERROR - Error while getting Updates: Conflict: terminated by other getUpdates request; make sure that only one bot instance is running\n",
      "2021-01-06 19:25:47,101 - telegram.ext.dispatcher - ERROR - No error handlers are registered, logging exception.\n",
      "Traceback (most recent call last):\n",
      "  File \"/home/augusto/.local/lib/python3.8/site-packages/telegram/ext/updater.py\", line 465, in _network_loop_retry\n",
      "    if not action_cb():\n",
      "  File \"/home/augusto/.local/lib/python3.8/site-packages/telegram/ext/updater.py\", line 416, in polling_action_cb\n",
      "    updates = self.bot.get_updates(\n",
      "  File \"<decorator-gen-156>\", line 2, in get_updates\n",
      "  File \"/home/augusto/.local/lib/python3.8/site-packages/telegram/bot.py\", line 135, in decorator\n",
      "    result = func(*args, **kwargs)\n",
      "  File \"/home/augusto/.local/lib/python3.8/site-packages/telegram/bot.py\", line 2638, in get_updates\n",
      "    result = self._post(\n",
      "  File \"/home/augusto/.local/lib/python3.8/site-packages/telegram/bot.py\", line 245, in _post\n",
      "    return self.request.post(f'{self.base_url}/{endpoint}', data=data, timeout=timeout)\n",
      "  File \"/home/augusto/.local/lib/python3.8/site-packages/telegram/utils/request.py\", line 349, in post\n",
      "    result = self._request_wrapper(\n",
      "  File \"/home/augusto/.local/lib/python3.8/site-packages/telegram/utils/request.py\", line 276, in _request_wrapper\n",
      "    raise Conflict(message)\n",
      "telegram.error.Conflict: Conflict: terminated by other getUpdates request; make sure that only one bot instance is running\n",
      "2021-01-06 19:26:06,893 - apscheduler.scheduler - INFO - Scheduler has been shut down\n"
     ]
    },
    {
     "name": "stdout",
     "output_type": "stream",
     "text": [
      "Excedeu as interações limite\n"
     ]
    },
    {
     "name": "stderr",
     "output_type": "stream",
     "text": [
      "2021-01-06 19:26:08,707 - apscheduler.scheduler - INFO - Scheduler started\n",
      "2021-01-06 19:26:21,709 - telegram.ext.updater - ERROR - Error while getting Updates: Conflict: terminated by other getUpdates request; make sure that only one bot instance is running\n",
      "2021-01-06 19:26:21,710 - telegram.ext.dispatcher - ERROR - No error handlers are registered, logging exception.\n",
      "Traceback (most recent call last):\n",
      "  File \"/home/augusto/.local/lib/python3.8/site-packages/telegram/ext/updater.py\", line 465, in _network_loop_retry\n",
      "    if not action_cb():\n",
      "  File \"/home/augusto/.local/lib/python3.8/site-packages/telegram/ext/updater.py\", line 416, in polling_action_cb\n",
      "    updates = self.bot.get_updates(\n",
      "  File \"<decorator-gen-156>\", line 2, in get_updates\n",
      "  File \"/home/augusto/.local/lib/python3.8/site-packages/telegram/bot.py\", line 135, in decorator\n",
      "    result = func(*args, **kwargs)\n",
      "  File \"/home/augusto/.local/lib/python3.8/site-packages/telegram/bot.py\", line 2638, in get_updates\n",
      "    result = self._post(\n",
      "  File \"/home/augusto/.local/lib/python3.8/site-packages/telegram/bot.py\", line 245, in _post\n",
      "    return self.request.post(f'{self.base_url}/{endpoint}', data=data, timeout=timeout)\n",
      "  File \"/home/augusto/.local/lib/python3.8/site-packages/telegram/utils/request.py\", line 349, in post\n",
      "    result = self._request_wrapper(\n",
      "  File \"/home/augusto/.local/lib/python3.8/site-packages/telegram/utils/request.py\", line 276, in _request_wrapper\n",
      "    raise Conflict(message)\n",
      "telegram.error.Conflict: Conflict: terminated by other getUpdates request; make sure that only one bot instance is running\n",
      "2021-01-06 19:26:38,475 - apscheduler.scheduler - INFO - Scheduler has been shut down\n"
     ]
    },
    {
     "name": "stdout",
     "output_type": "stream",
     "text": [
      "Excedeu as interações limite\n"
     ]
    },
    {
     "name": "stderr",
     "output_type": "stream",
     "text": [
      "2021-01-06 19:26:43,315 - apscheduler.scheduler - INFO - Scheduler started\n",
      "2021-01-06 19:26:56,225 - telegram.ext.updater - ERROR - Error while getting Updates: Conflict: terminated by other getUpdates request; make sure that only one bot instance is running\n",
      "2021-01-06 19:26:56,226 - telegram.ext.dispatcher - ERROR - No error handlers are registered, logging exception.\n",
      "Traceback (most recent call last):\n",
      "  File \"/home/augusto/.local/lib/python3.8/site-packages/telegram/ext/updater.py\", line 465, in _network_loop_retry\n",
      "    if not action_cb():\n",
      "  File \"/home/augusto/.local/lib/python3.8/site-packages/telegram/ext/updater.py\", line 416, in polling_action_cb\n",
      "    updates = self.bot.get_updates(\n",
      "  File \"<decorator-gen-156>\", line 2, in get_updates\n",
      "  File \"/home/augusto/.local/lib/python3.8/site-packages/telegram/bot.py\", line 135, in decorator\n",
      "    result = func(*args, **kwargs)\n",
      "  File \"/home/augusto/.local/lib/python3.8/site-packages/telegram/bot.py\", line 2638, in get_updates\n",
      "    result = self._post(\n",
      "  File \"/home/augusto/.local/lib/python3.8/site-packages/telegram/bot.py\", line 245, in _post\n",
      "    return self.request.post(f'{self.base_url}/{endpoint}', data=data, timeout=timeout)\n",
      "  File \"/home/augusto/.local/lib/python3.8/site-packages/telegram/utils/request.py\", line 349, in post\n",
      "    result = self._request_wrapper(\n",
      "  File \"/home/augusto/.local/lib/python3.8/site-packages/telegram/utils/request.py\", line 276, in _request_wrapper\n",
      "    raise Conflict(message)\n",
      "telegram.error.Conflict: Conflict: terminated by other getUpdates request; make sure that only one bot instance is running\n",
      "2021-01-06 19:27:13,136 - apscheduler.scheduler - INFO - Scheduler has been shut down\n"
     ]
    },
    {
     "name": "stdout",
     "output_type": "stream",
     "text": [
      "Excedeu as interações limite\n"
     ]
    },
    {
     "name": "stderr",
     "output_type": "stream",
     "text": [
      "2021-01-06 19:27:17,826 - apscheduler.scheduler - INFO - Scheduler started\n",
      "2021-01-06 19:27:30,828 - telegram.ext.updater - ERROR - Error while getting Updates: Conflict: terminated by other getUpdates request; make sure that only one bot instance is running\n",
      "2021-01-06 19:27:30,828 - telegram.ext.dispatcher - ERROR - No error handlers are registered, logging exception.\n",
      "Traceback (most recent call last):\n",
      "  File \"/home/augusto/.local/lib/python3.8/site-packages/telegram/ext/updater.py\", line 465, in _network_loop_retry\n",
      "    if not action_cb():\n",
      "  File \"/home/augusto/.local/lib/python3.8/site-packages/telegram/ext/updater.py\", line 416, in polling_action_cb\n",
      "    updates = self.bot.get_updates(\n",
      "  File \"<decorator-gen-156>\", line 2, in get_updates\n",
      "  File \"/home/augusto/.local/lib/python3.8/site-packages/telegram/bot.py\", line 135, in decorator\n",
      "    result = func(*args, **kwargs)\n",
      "  File \"/home/augusto/.local/lib/python3.8/site-packages/telegram/bot.py\", line 2638, in get_updates\n",
      "    result = self._post(\n",
      "  File \"/home/augusto/.local/lib/python3.8/site-packages/telegram/bot.py\", line 245, in _post\n",
      "    return self.request.post(f'{self.base_url}/{endpoint}', data=data, timeout=timeout)\n",
      "  File \"/home/augusto/.local/lib/python3.8/site-packages/telegram/utils/request.py\", line 349, in post\n",
      "    result = self._request_wrapper(\n",
      "  File \"/home/augusto/.local/lib/python3.8/site-packages/telegram/utils/request.py\", line 276, in _request_wrapper\n",
      "    raise Conflict(message)\n",
      "telegram.error.Conflict: Conflict: terminated by other getUpdates request; make sure that only one bot instance is running\n",
      "2021-01-06 19:27:46,704 - apscheduler.scheduler - INFO - Scheduler has been shut down\n"
     ]
    },
    {
     "name": "stdout",
     "output_type": "stream",
     "text": [
      "Excedeu as interações limite\n"
     ]
    },
    {
     "name": "stderr",
     "output_type": "stream",
     "text": [
      "2021-01-06 19:27:52,439 - apscheduler.scheduler - INFO - Scheduler started\n",
      "2021-01-06 19:28:05,440 - telegram.ext.updater - ERROR - Error while getting Updates: Conflict: terminated by other getUpdates request; make sure that only one bot instance is running\n",
      "2021-01-06 19:28:05,440 - telegram.ext.dispatcher - ERROR - No error handlers are registered, logging exception.\n",
      "Traceback (most recent call last):\n",
      "  File \"/home/augusto/.local/lib/python3.8/site-packages/telegram/ext/updater.py\", line 465, in _network_loop_retry\n",
      "    if not action_cb():\n",
      "  File \"/home/augusto/.local/lib/python3.8/site-packages/telegram/ext/updater.py\", line 416, in polling_action_cb\n",
      "    updates = self.bot.get_updates(\n",
      "  File \"<decorator-gen-156>\", line 2, in get_updates\n",
      "  File \"/home/augusto/.local/lib/python3.8/site-packages/telegram/bot.py\", line 135, in decorator\n",
      "    result = func(*args, **kwargs)\n",
      "  File \"/home/augusto/.local/lib/python3.8/site-packages/telegram/bot.py\", line 2638, in get_updates\n",
      "    result = self._post(\n",
      "  File \"/home/augusto/.local/lib/python3.8/site-packages/telegram/bot.py\", line 245, in _post\n",
      "    return self.request.post(f'{self.base_url}/{endpoint}', data=data, timeout=timeout)\n",
      "  File \"/home/augusto/.local/lib/python3.8/site-packages/telegram/utils/request.py\", line 349, in post\n",
      "    result = self._request_wrapper(\n",
      "  File \"/home/augusto/.local/lib/python3.8/site-packages/telegram/utils/request.py\", line 276, in _request_wrapper\n",
      "    raise Conflict(message)\n",
      "telegram.error.Conflict: Conflict: terminated by other getUpdates request; make sure that only one bot instance is running\n",
      "2021-01-06 19:28:22,358 - apscheduler.scheduler - INFO - Scheduler has been shut down\n"
     ]
    },
    {
     "name": "stdout",
     "output_type": "stream",
     "text": [
      "Excedeu as interações limite\n"
     ]
    },
    {
     "name": "stderr",
     "output_type": "stream",
     "text": [
      "2021-01-06 19:28:27,049 - apscheduler.scheduler - INFO - Scheduler started\n",
      "2021-01-06 19:28:39,958 - telegram.ext.updater - ERROR - Error while getting Updates: Conflict: terminated by other getUpdates request; make sure that only one bot instance is running\n",
      "2021-01-06 19:28:39,959 - telegram.ext.dispatcher - ERROR - No error handlers are registered, logging exception.\n",
      "Traceback (most recent call last):\n",
      "  File \"/home/augusto/.local/lib/python3.8/site-packages/telegram/ext/updater.py\", line 465, in _network_loop_retry\n",
      "    if not action_cb():\n",
      "  File \"/home/augusto/.local/lib/python3.8/site-packages/telegram/ext/updater.py\", line 416, in polling_action_cb\n",
      "    updates = self.bot.get_updates(\n",
      "  File \"<decorator-gen-156>\", line 2, in get_updates\n",
      "  File \"/home/augusto/.local/lib/python3.8/site-packages/telegram/bot.py\", line 135, in decorator\n",
      "    result = func(*args, **kwargs)\n",
      "  File \"/home/augusto/.local/lib/python3.8/site-packages/telegram/bot.py\", line 2638, in get_updates\n",
      "    result = self._post(\n",
      "  File \"/home/augusto/.local/lib/python3.8/site-packages/telegram/bot.py\", line 245, in _post\n",
      "    return self.request.post(f'{self.base_url}/{endpoint}', data=data, timeout=timeout)\n",
      "  File \"/home/augusto/.local/lib/python3.8/site-packages/telegram/utils/request.py\", line 349, in post\n",
      "    result = self._request_wrapper(\n",
      "  File \"/home/augusto/.local/lib/python3.8/site-packages/telegram/utils/request.py\", line 276, in _request_wrapper\n",
      "    raise Conflict(message)\n",
      "telegram.error.Conflict: Conflict: terminated by other getUpdates request; make sure that only one bot instance is running\n",
      "2021-01-06 19:28:57,476 - apscheduler.scheduler - INFO - Scheduler has been shut down\n"
     ]
    },
    {
     "name": "stdout",
     "output_type": "stream",
     "text": [
      "Excedeu as interações limite\n"
     ]
    },
    {
     "name": "stderr",
     "output_type": "stream",
     "text": [
      "2021-01-06 19:29:01,554 - apscheduler.scheduler - INFO - Scheduler started\n",
      "2021-01-06 19:29:14,559 - telegram.ext.updater - ERROR - Error while getting Updates: Conflict: terminated by other getUpdates request; make sure that only one bot instance is running\n",
      "2021-01-06 19:29:14,559 - telegram.ext.dispatcher - ERROR - No error handlers are registered, logging exception.\n",
      "Traceback (most recent call last):\n",
      "  File \"/home/augusto/.local/lib/python3.8/site-packages/telegram/ext/updater.py\", line 465, in _network_loop_retry\n",
      "    if not action_cb():\n",
      "  File \"/home/augusto/.local/lib/python3.8/site-packages/telegram/ext/updater.py\", line 416, in polling_action_cb\n",
      "    updates = self.bot.get_updates(\n",
      "  File \"<decorator-gen-156>\", line 2, in get_updates\n",
      "  File \"/home/augusto/.local/lib/python3.8/site-packages/telegram/bot.py\", line 135, in decorator\n",
      "    result = func(*args, **kwargs)\n",
      "  File \"/home/augusto/.local/lib/python3.8/site-packages/telegram/bot.py\", line 2638, in get_updates\n",
      "    result = self._post(\n",
      "  File \"/home/augusto/.local/lib/python3.8/site-packages/telegram/bot.py\", line 245, in _post\n",
      "    return self.request.post(f'{self.base_url}/{endpoint}', data=data, timeout=timeout)\n",
      "  File \"/home/augusto/.local/lib/python3.8/site-packages/telegram/utils/request.py\", line 349, in post\n",
      "    result = self._request_wrapper(\n",
      "  File \"/home/augusto/.local/lib/python3.8/site-packages/telegram/utils/request.py\", line 276, in _request_wrapper\n",
      "    raise Conflict(message)\n",
      "telegram.error.Conflict: Conflict: terminated by other getUpdates request; make sure that only one bot instance is running\n",
      "2021-01-06 19:29:31,678 - apscheduler.scheduler - INFO - Scheduler has been shut down\n"
     ]
    },
    {
     "name": "stdout",
     "output_type": "stream",
     "text": [
      "Excedeu as interações limite\n"
     ]
    },
    {
     "name": "stderr",
     "output_type": "stream",
     "text": [
      "2021-01-06 19:29:36,168 - apscheduler.scheduler - INFO - Scheduler started\n",
      "2021-01-06 19:29:49,168 - telegram.ext.updater - ERROR - Error while getting Updates: Conflict: terminated by other getUpdates request; make sure that only one bot instance is running\n",
      "2021-01-06 19:29:49,169 - telegram.ext.dispatcher - ERROR - No error handlers are registered, logging exception.\n",
      "Traceback (most recent call last):\n",
      "  File \"/home/augusto/.local/lib/python3.8/site-packages/telegram/ext/updater.py\", line 465, in _network_loop_retry\n",
      "    if not action_cb():\n",
      "  File \"/home/augusto/.local/lib/python3.8/site-packages/telegram/ext/updater.py\", line 416, in polling_action_cb\n",
      "    updates = self.bot.get_updates(\n",
      "  File \"<decorator-gen-156>\", line 2, in get_updates\n",
      "  File \"/home/augusto/.local/lib/python3.8/site-packages/telegram/bot.py\", line 135, in decorator\n",
      "    result = func(*args, **kwargs)\n",
      "  File \"/home/augusto/.local/lib/python3.8/site-packages/telegram/bot.py\", line 2638, in get_updates\n",
      "    result = self._post(\n",
      "  File \"/home/augusto/.local/lib/python3.8/site-packages/telegram/bot.py\", line 245, in _post\n",
      "    return self.request.post(f'{self.base_url}/{endpoint}', data=data, timeout=timeout)\n",
      "  File \"/home/augusto/.local/lib/python3.8/site-packages/telegram/utils/request.py\", line 349, in post\n",
      "    result = self._request_wrapper(\n",
      "  File \"/home/augusto/.local/lib/python3.8/site-packages/telegram/utils/request.py\", line 276, in _request_wrapper\n",
      "    raise Conflict(message)\n",
      "telegram.error.Conflict: Conflict: terminated by other getUpdates request; make sure that only one bot instance is running\n",
      "2021-01-06 19:30:07,220 - apscheduler.scheduler - INFO - Scheduler has been shut down\n"
     ]
    },
    {
     "name": "stdout",
     "output_type": "stream",
     "text": [
      "Excedeu as interações limite\n"
     ]
    },
    {
     "name": "stderr",
     "output_type": "stream",
     "text": [
      "2021-01-06 19:30:10,781 - apscheduler.scheduler - INFO - Scheduler started\n",
      "2021-01-06 19:30:23,780 - telegram.ext.updater - ERROR - Error while getting Updates: Conflict: terminated by other getUpdates request; make sure that only one bot instance is running\n",
      "2021-01-06 19:30:23,781 - telegram.ext.dispatcher - ERROR - No error handlers are registered, logging exception.\n",
      "Traceback (most recent call last):\n",
      "  File \"/home/augusto/.local/lib/python3.8/site-packages/telegram/ext/updater.py\", line 465, in _network_loop_retry\n",
      "    if not action_cb():\n",
      "  File \"/home/augusto/.local/lib/python3.8/site-packages/telegram/ext/updater.py\", line 416, in polling_action_cb\n",
      "    updates = self.bot.get_updates(\n",
      "  File \"<decorator-gen-156>\", line 2, in get_updates\n",
      "  File \"/home/augusto/.local/lib/python3.8/site-packages/telegram/bot.py\", line 135, in decorator\n",
      "    result = func(*args, **kwargs)\n",
      "  File \"/home/augusto/.local/lib/python3.8/site-packages/telegram/bot.py\", line 2638, in get_updates\n",
      "    result = self._post(\n",
      "  File \"/home/augusto/.local/lib/python3.8/site-packages/telegram/bot.py\", line 245, in _post\n",
      "    return self.request.post(f'{self.base_url}/{endpoint}', data=data, timeout=timeout)\n",
      "  File \"/home/augusto/.local/lib/python3.8/site-packages/telegram/utils/request.py\", line 349, in post\n",
      "    result = self._request_wrapper(\n",
      "  File \"/home/augusto/.local/lib/python3.8/site-packages/telegram/utils/request.py\", line 276, in _request_wrapper\n",
      "    raise Conflict(message)\n",
      "telegram.error.Conflict: Conflict: terminated by other getUpdates request; make sure that only one bot instance is running\n",
      "2021-01-06 19:30:39,457 - apscheduler.scheduler - INFO - Scheduler has been shut down\n"
     ]
    },
    {
     "name": "stdout",
     "output_type": "stream",
     "text": [
      "Excedeu as interações limite\n"
     ]
    },
    {
     "name": "stderr",
     "output_type": "stream",
     "text": [
      "2021-01-06 19:30:45,388 - apscheduler.scheduler - INFO - Scheduler started\n",
      "2021-01-06 19:30:58,392 - telegram.ext.updater - ERROR - Error while getting Updates: Conflict: terminated by other getUpdates request; make sure that only one bot instance is running\n",
      "2021-01-06 19:30:58,394 - telegram.ext.dispatcher - ERROR - No error handlers are registered, logging exception.\n",
      "Traceback (most recent call last):\n",
      "  File \"/home/augusto/.local/lib/python3.8/site-packages/telegram/ext/updater.py\", line 465, in _network_loop_retry\n",
      "    if not action_cb():\n",
      "  File \"/home/augusto/.local/lib/python3.8/site-packages/telegram/ext/updater.py\", line 416, in polling_action_cb\n",
      "    updates = self.bot.get_updates(\n",
      "  File \"<decorator-gen-156>\", line 2, in get_updates\n",
      "  File \"/home/augusto/.local/lib/python3.8/site-packages/telegram/bot.py\", line 135, in decorator\n",
      "    result = func(*args, **kwargs)\n",
      "  File \"/home/augusto/.local/lib/python3.8/site-packages/telegram/bot.py\", line 2638, in get_updates\n",
      "    result = self._post(\n",
      "  File \"/home/augusto/.local/lib/python3.8/site-packages/telegram/bot.py\", line 245, in _post\n",
      "    return self.request.post(f'{self.base_url}/{endpoint}', data=data, timeout=timeout)\n",
      "  File \"/home/augusto/.local/lib/python3.8/site-packages/telegram/utils/request.py\", line 349, in post\n",
      "    result = self._request_wrapper(\n",
      "  File \"/home/augusto/.local/lib/python3.8/site-packages/telegram/utils/request.py\", line 276, in _request_wrapper\n",
      "    raise Conflict(message)\n",
      "telegram.error.Conflict: Conflict: terminated by other getUpdates request; make sure that only one bot instance is running\n",
      "2021-01-06 19:31:16,751 - apscheduler.scheduler - INFO - Scheduler has been shut down\n"
     ]
    },
    {
     "name": "stdout",
     "output_type": "stream",
     "text": [
      "Excedeu as interações limite\n"
     ]
    },
    {
     "name": "stderr",
     "output_type": "stream",
     "text": [
      "2021-01-06 19:31:19,882 - apscheduler.scheduler - INFO - Scheduler started\n",
      "2021-01-06 19:31:32,933 - telegram.ext.updater - ERROR - Error while getting Updates: Conflict: terminated by other getUpdates request; make sure that only one bot instance is running\n",
      "2021-01-06 19:31:32,934 - telegram.ext.dispatcher - ERROR - No error handlers are registered, logging exception.\n",
      "Traceback (most recent call last):\n",
      "  File \"/home/augusto/.local/lib/python3.8/site-packages/telegram/ext/updater.py\", line 465, in _network_loop_retry\n",
      "    if not action_cb():\n",
      "  File \"/home/augusto/.local/lib/python3.8/site-packages/telegram/ext/updater.py\", line 416, in polling_action_cb\n",
      "    updates = self.bot.get_updates(\n",
      "  File \"<decorator-gen-156>\", line 2, in get_updates\n",
      "  File \"/home/augusto/.local/lib/python3.8/site-packages/telegram/bot.py\", line 135, in decorator\n",
      "    result = func(*args, **kwargs)\n",
      "  File \"/home/augusto/.local/lib/python3.8/site-packages/telegram/bot.py\", line 2638, in get_updates\n",
      "    result = self._post(\n",
      "  File \"/home/augusto/.local/lib/python3.8/site-packages/telegram/bot.py\", line 245, in _post\n",
      "    return self.request.post(f'{self.base_url}/{endpoint}', data=data, timeout=timeout)\n",
      "  File \"/home/augusto/.local/lib/python3.8/site-packages/telegram/utils/request.py\", line 349, in post\n",
      "    result = self._request_wrapper(\n",
      "  File \"/home/augusto/.local/lib/python3.8/site-packages/telegram/utils/request.py\", line 276, in _request_wrapper\n",
      "    raise Conflict(message)\n",
      "telegram.error.Conflict: Conflict: terminated by other getUpdates request; make sure that only one bot instance is running\n",
      "2021-01-06 19:31:49,753 - apscheduler.scheduler - INFO - Scheduler has been shut down\n"
     ]
    },
    {
     "name": "stdout",
     "output_type": "stream",
     "text": [
      "Excedeu as interações limite\n"
     ]
    },
    {
     "name": "stderr",
     "output_type": "stream",
     "text": [
      "2021-01-06 19:31:54,612 - apscheduler.scheduler - INFO - Scheduler started\n",
      "2021-01-06 19:32:07,510 - telegram.ext.updater - ERROR - Error while getting Updates: Conflict: terminated by other getUpdates request; make sure that only one bot instance is running\n",
      "2021-01-06 19:32:07,512 - telegram.ext.dispatcher - ERROR - No error handlers are registered, logging exception.\n",
      "Traceback (most recent call last):\n",
      "  File \"/home/augusto/.local/lib/python3.8/site-packages/telegram/ext/updater.py\", line 465, in _network_loop_retry\n",
      "    if not action_cb():\n",
      "  File \"/home/augusto/.local/lib/python3.8/site-packages/telegram/ext/updater.py\", line 416, in polling_action_cb\n",
      "    updates = self.bot.get_updates(\n",
      "  File \"<decorator-gen-156>\", line 2, in get_updates\n",
      "  File \"/home/augusto/.local/lib/python3.8/site-packages/telegram/bot.py\", line 135, in decorator\n",
      "    result = func(*args, **kwargs)\n",
      "  File \"/home/augusto/.local/lib/python3.8/site-packages/telegram/bot.py\", line 2638, in get_updates\n",
      "    result = self._post(\n",
      "  File \"/home/augusto/.local/lib/python3.8/site-packages/telegram/bot.py\", line 245, in _post\n",
      "    return self.request.post(f'{self.base_url}/{endpoint}', data=data, timeout=timeout)\n",
      "  File \"/home/augusto/.local/lib/python3.8/site-packages/telegram/utils/request.py\", line 349, in post\n",
      "    result = self._request_wrapper(\n",
      "  File \"/home/augusto/.local/lib/python3.8/site-packages/telegram/utils/request.py\", line 276, in _request_wrapper\n",
      "    raise Conflict(message)\n",
      "telegram.error.Conflict: Conflict: terminated by other getUpdates request; make sure that only one bot instance is running\n",
      "2021-01-06 19:32:23,896 - apscheduler.scheduler - INFO - Scheduler has been shut down\n"
     ]
    },
    {
     "name": "stdout",
     "output_type": "stream",
     "text": [
      "Excedeu as interações limite\n"
     ]
    },
    {
     "name": "stderr",
     "output_type": "stream",
     "text": [
      "2021-01-06 19:32:29,040 - apscheduler.scheduler - INFO - Scheduler started\n",
      "2021-01-06 19:32:42,071 - telegram.ext.updater - ERROR - Error while getting Updates: Conflict: terminated by other getUpdates request; make sure that only one bot instance is running\n",
      "2021-01-06 19:32:42,072 - telegram.ext.dispatcher - ERROR - No error handlers are registered, logging exception.\n",
      "Traceback (most recent call last):\n",
      "  File \"/home/augusto/.local/lib/python3.8/site-packages/telegram/ext/updater.py\", line 465, in _network_loop_retry\n",
      "    if not action_cb():\n",
      "  File \"/home/augusto/.local/lib/python3.8/site-packages/telegram/ext/updater.py\", line 416, in polling_action_cb\n",
      "    updates = self.bot.get_updates(\n",
      "  File \"<decorator-gen-156>\", line 2, in get_updates\n",
      "  File \"/home/augusto/.local/lib/python3.8/site-packages/telegram/bot.py\", line 135, in decorator\n",
      "    result = func(*args, **kwargs)\n",
      "  File \"/home/augusto/.local/lib/python3.8/site-packages/telegram/bot.py\", line 2638, in get_updates\n",
      "    result = self._post(\n",
      "  File \"/home/augusto/.local/lib/python3.8/site-packages/telegram/bot.py\", line 245, in _post\n",
      "    return self.request.post(f'{self.base_url}/{endpoint}', data=data, timeout=timeout)\n",
      "  File \"/home/augusto/.local/lib/python3.8/site-packages/telegram/utils/request.py\", line 349, in post\n",
      "    result = self._request_wrapper(\n",
      "  File \"/home/augusto/.local/lib/python3.8/site-packages/telegram/utils/request.py\", line 276, in _request_wrapper\n",
      "    raise Conflict(message)\n",
      "telegram.error.Conflict: Conflict: terminated by other getUpdates request; make sure that only one bot instance is running\n",
      "2021-01-06 19:33:00,959 - apscheduler.scheduler - INFO - Scheduler has been shut down\n"
     ]
    },
    {
     "name": "stdout",
     "output_type": "stream",
     "text": [
      "Excedeu as interações limite\n"
     ]
    },
    {
     "name": "stderr",
     "output_type": "stream",
     "text": [
      "2021-01-06 19:33:03,637 - apscheduler.scheduler - INFO - Scheduler started\n",
      "2021-01-06 19:33:16,636 - telegram.ext.updater - ERROR - Error while getting Updates: Conflict: terminated by other getUpdates request; make sure that only one bot instance is running\n",
      "2021-01-06 19:33:16,637 - telegram.ext.dispatcher - ERROR - No error handlers are registered, logging exception.\n",
      "Traceback (most recent call last):\n",
      "  File \"/home/augusto/.local/lib/python3.8/site-packages/telegram/ext/updater.py\", line 465, in _network_loop_retry\n",
      "    if not action_cb():\n",
      "  File \"/home/augusto/.local/lib/python3.8/site-packages/telegram/ext/updater.py\", line 416, in polling_action_cb\n",
      "    updates = self.bot.get_updates(\n",
      "  File \"<decorator-gen-156>\", line 2, in get_updates\n",
      "  File \"/home/augusto/.local/lib/python3.8/site-packages/telegram/bot.py\", line 135, in decorator\n",
      "    result = func(*args, **kwargs)\n",
      "  File \"/home/augusto/.local/lib/python3.8/site-packages/telegram/bot.py\", line 2638, in get_updates\n",
      "    result = self._post(\n",
      "  File \"/home/augusto/.local/lib/python3.8/site-packages/telegram/bot.py\", line 245, in _post\n",
      "    return self.request.post(f'{self.base_url}/{endpoint}', data=data, timeout=timeout)\n",
      "  File \"/home/augusto/.local/lib/python3.8/site-packages/telegram/utils/request.py\", line 349, in post\n",
      "    result = self._request_wrapper(\n",
      "  File \"/home/augusto/.local/lib/python3.8/site-packages/telegram/utils/request.py\", line 276, in _request_wrapper\n",
      "    raise Conflict(message)\n",
      "telegram.error.Conflict: Conflict: terminated by other getUpdates request; make sure that only one bot instance is running\n",
      "2021-01-06 19:33:34,940 - apscheduler.scheduler - INFO - Scheduler has been shut down\n"
     ]
    },
    {
     "name": "stdout",
     "output_type": "stream",
     "text": [
      "Excedeu as interações limite\n"
     ]
    },
    {
     "name": "stderr",
     "output_type": "stream",
     "text": [
      "2021-01-06 19:33:38,126 - apscheduler.scheduler - INFO - Scheduler started\n",
      "2021-01-06 19:33:51,250 - telegram.ext.updater - ERROR - Error while getting Updates: Conflict: terminated by other getUpdates request; make sure that only one bot instance is running\n",
      "2021-01-06 19:33:51,251 - telegram.ext.dispatcher - ERROR - No error handlers are registered, logging exception.\n",
      "Traceback (most recent call last):\n",
      "  File \"/home/augusto/.local/lib/python3.8/site-packages/telegram/ext/updater.py\", line 465, in _network_loop_retry\n",
      "    if not action_cb():\n",
      "  File \"/home/augusto/.local/lib/python3.8/site-packages/telegram/ext/updater.py\", line 416, in polling_action_cb\n",
      "    updates = self.bot.get_updates(\n",
      "  File \"<decorator-gen-156>\", line 2, in get_updates\n",
      "  File \"/home/augusto/.local/lib/python3.8/site-packages/telegram/bot.py\", line 135, in decorator\n",
      "    result = func(*args, **kwargs)\n",
      "  File \"/home/augusto/.local/lib/python3.8/site-packages/telegram/bot.py\", line 2638, in get_updates\n",
      "    result = self._post(\n",
      "  File \"/home/augusto/.local/lib/python3.8/site-packages/telegram/bot.py\", line 245, in _post\n",
      "    return self.request.post(f'{self.base_url}/{endpoint}', data=data, timeout=timeout)\n",
      "  File \"/home/augusto/.local/lib/python3.8/site-packages/telegram/utils/request.py\", line 349, in post\n",
      "    result = self._request_wrapper(\n",
      "  File \"/home/augusto/.local/lib/python3.8/site-packages/telegram/utils/request.py\", line 276, in _request_wrapper\n",
      "    raise Conflict(message)\n",
      "telegram.error.Conflict: Conflict: terminated by other getUpdates request; make sure that only one bot instance is running\n",
      "2021-01-06 19:34:08,978 - apscheduler.scheduler - INFO - Scheduler has been shut down\n"
     ]
    },
    {
     "name": "stdout",
     "output_type": "stream",
     "text": [
      "Excedeu as interações limite\n"
     ]
    },
    {
     "name": "stderr",
     "output_type": "stream",
     "text": [
      "2021-01-06 19:34:12,741 - apscheduler.scheduler - INFO - Scheduler started\n",
      "2021-01-06 19:34:25,887 - telegram.ext.updater - ERROR - Error while getting Updates: Conflict: terminated by other getUpdates request; make sure that only one bot instance is running\n",
      "2021-01-06 19:34:25,888 - telegram.ext.dispatcher - ERROR - No error handlers are registered, logging exception.\n",
      "Traceback (most recent call last):\n",
      "  File \"/home/augusto/.local/lib/python3.8/site-packages/telegram/ext/updater.py\", line 465, in _network_loop_retry\n",
      "    if not action_cb():\n",
      "  File \"/home/augusto/.local/lib/python3.8/site-packages/telegram/ext/updater.py\", line 416, in polling_action_cb\n",
      "    updates = self.bot.get_updates(\n",
      "  File \"<decorator-gen-156>\", line 2, in get_updates\n",
      "  File \"/home/augusto/.local/lib/python3.8/site-packages/telegram/bot.py\", line 135, in decorator\n",
      "    result = func(*args, **kwargs)\n",
      "  File \"/home/augusto/.local/lib/python3.8/site-packages/telegram/bot.py\", line 2638, in get_updates\n",
      "    result = self._post(\n",
      "  File \"/home/augusto/.local/lib/python3.8/site-packages/telegram/bot.py\", line 245, in _post\n",
      "    return self.request.post(f'{self.base_url}/{endpoint}', data=data, timeout=timeout)\n",
      "  File \"/home/augusto/.local/lib/python3.8/site-packages/telegram/utils/request.py\", line 349, in post\n",
      "    result = self._request_wrapper(\n",
      "  File \"/home/augusto/.local/lib/python3.8/site-packages/telegram/utils/request.py\", line 276, in _request_wrapper\n",
      "    raise Conflict(message)\n",
      "telegram.error.Conflict: Conflict: terminated by other getUpdates request; make sure that only one bot instance is running\n",
      "2021-01-06 19:34:45,466 - apscheduler.scheduler - INFO - Scheduler has been shut down\n"
     ]
    },
    {
     "name": "stdout",
     "output_type": "stream",
     "text": [
      "Excedeu as interações limite\n"
     ]
    },
    {
     "name": "stderr",
     "output_type": "stream",
     "text": [
      "2021-01-06 19:34:47,565 - apscheduler.scheduler - INFO - Scheduler started\n",
      "2021-01-06 19:35:00,471 - telegram.ext.updater - ERROR - Error while getting Updates: Conflict: terminated by other getUpdates request; make sure that only one bot instance is running\n",
      "2021-01-06 19:35:00,472 - telegram.ext.dispatcher - ERROR - No error handlers are registered, logging exception.\n",
      "Traceback (most recent call last):\n",
      "  File \"/home/augusto/.local/lib/python3.8/site-packages/telegram/ext/updater.py\", line 465, in _network_loop_retry\n",
      "    if not action_cb():\n",
      "  File \"/home/augusto/.local/lib/python3.8/site-packages/telegram/ext/updater.py\", line 416, in polling_action_cb\n",
      "    updates = self.bot.get_updates(\n",
      "  File \"<decorator-gen-156>\", line 2, in get_updates\n",
      "  File \"/home/augusto/.local/lib/python3.8/site-packages/telegram/bot.py\", line 135, in decorator\n",
      "    result = func(*args, **kwargs)\n",
      "  File \"/home/augusto/.local/lib/python3.8/site-packages/telegram/bot.py\", line 2638, in get_updates\n",
      "    result = self._post(\n",
      "  File \"/home/augusto/.local/lib/python3.8/site-packages/telegram/bot.py\", line 245, in _post\n",
      "    return self.request.post(f'{self.base_url}/{endpoint}', data=data, timeout=timeout)\n",
      "  File \"/home/augusto/.local/lib/python3.8/site-packages/telegram/utils/request.py\", line 349, in post\n",
      "    result = self._request_wrapper(\n",
      "  File \"/home/augusto/.local/lib/python3.8/site-packages/telegram/utils/request.py\", line 276, in _request_wrapper\n",
      "    raise Conflict(message)\n",
      "telegram.error.Conflict: Conflict: terminated by other getUpdates request; make sure that only one bot instance is running\n",
      "2021-01-06 19:35:18,784 - apscheduler.scheduler - INFO - Scheduler has been shut down\n"
     ]
    },
    {
     "name": "stdout",
     "output_type": "stream",
     "text": [
      "Excedeu as interações limite\n"
     ]
    },
    {
     "name": "stderr",
     "output_type": "stream",
     "text": [
      "2021-01-06 19:35:22,080 - apscheduler.scheduler - INFO - Scheduler started\n",
      "2021-01-06 19:35:35,026 - telegram.ext.updater - ERROR - Error while getting Updates: Conflict: terminated by other getUpdates request; make sure that only one bot instance is running\n",
      "2021-01-06 19:35:35,028 - telegram.ext.dispatcher - ERROR - No error handlers are registered, logging exception.\n",
      "Traceback (most recent call last):\n",
      "  File \"/home/augusto/.local/lib/python3.8/site-packages/telegram/ext/updater.py\", line 465, in _network_loop_retry\n",
      "    if not action_cb():\n",
      "  File \"/home/augusto/.local/lib/python3.8/site-packages/telegram/ext/updater.py\", line 416, in polling_action_cb\n",
      "    updates = self.bot.get_updates(\n",
      "  File \"<decorator-gen-156>\", line 2, in get_updates\n",
      "  File \"/home/augusto/.local/lib/python3.8/site-packages/telegram/bot.py\", line 135, in decorator\n",
      "    result = func(*args, **kwargs)\n",
      "  File \"/home/augusto/.local/lib/python3.8/site-packages/telegram/bot.py\", line 2638, in get_updates\n",
      "    result = self._post(\n",
      "  File \"/home/augusto/.local/lib/python3.8/site-packages/telegram/bot.py\", line 245, in _post\n",
      "    return self.request.post(f'{self.base_url}/{endpoint}', data=data, timeout=timeout)\n",
      "  File \"/home/augusto/.local/lib/python3.8/site-packages/telegram/utils/request.py\", line 349, in post\n",
      "    result = self._request_wrapper(\n",
      "  File \"/home/augusto/.local/lib/python3.8/site-packages/telegram/utils/request.py\", line 276, in _request_wrapper\n",
      "    raise Conflict(message)\n",
      "telegram.error.Conflict: Conflict: terminated by other getUpdates request; make sure that only one bot instance is running\n",
      "2021-01-06 19:35:51,145 - apscheduler.scheduler - INFO - Scheduler has been shut down\n"
     ]
    },
    {
     "name": "stdout",
     "output_type": "stream",
     "text": [
      "Excedeu as interações limite\n"
     ]
    },
    {
     "name": "stderr",
     "output_type": "stream",
     "text": [
      "2021-01-06 19:35:56,688 - apscheduler.scheduler - INFO - Scheduler started\n",
      "2021-01-06 19:36:09,586 - telegram.ext.updater - ERROR - Error while getting Updates: Conflict: terminated by other getUpdates request; make sure that only one bot instance is running\n",
      "2021-01-06 19:36:09,588 - telegram.ext.dispatcher - ERROR - No error handlers are registered, logging exception.\n",
      "Traceback (most recent call last):\n",
      "  File \"/home/augusto/.local/lib/python3.8/site-packages/telegram/ext/updater.py\", line 465, in _network_loop_retry\n",
      "    if not action_cb():\n",
      "  File \"/home/augusto/.local/lib/python3.8/site-packages/telegram/ext/updater.py\", line 416, in polling_action_cb\n",
      "    updates = self.bot.get_updates(\n",
      "  File \"<decorator-gen-156>\", line 2, in get_updates\n",
      "  File \"/home/augusto/.local/lib/python3.8/site-packages/telegram/bot.py\", line 135, in decorator\n",
      "    result = func(*args, **kwargs)\n",
      "  File \"/home/augusto/.local/lib/python3.8/site-packages/telegram/bot.py\", line 2638, in get_updates\n",
      "    result = self._post(\n",
      "  File \"/home/augusto/.local/lib/python3.8/site-packages/telegram/bot.py\", line 245, in _post\n",
      "    return self.request.post(f'{self.base_url}/{endpoint}', data=data, timeout=timeout)\n",
      "  File \"/home/augusto/.local/lib/python3.8/site-packages/telegram/utils/request.py\", line 349, in post\n",
      "    result = self._request_wrapper(\n",
      "  File \"/home/augusto/.local/lib/python3.8/site-packages/telegram/utils/request.py\", line 276, in _request_wrapper\n",
      "    raise Conflict(message)\n",
      "telegram.error.Conflict: Conflict: terminated by other getUpdates request; make sure that only one bot instance is running\n",
      "2021-01-06 19:36:25,314 - apscheduler.scheduler - INFO - Scheduler has been shut down\n"
     ]
    },
    {
     "name": "stdout",
     "output_type": "stream",
     "text": [
      "Excedeu as interações limite\n"
     ]
    },
    {
     "name": "stderr",
     "output_type": "stream",
     "text": [
      "2021-01-06 19:36:31,096 - apscheduler.scheduler - INFO - Scheduler started\n",
      "2021-01-06 19:36:44,066 - telegram.ext.updater - ERROR - Error while getting Updates: Conflict: terminated by other getUpdates request; make sure that only one bot instance is running\n",
      "2021-01-06 19:36:44,068 - telegram.ext.dispatcher - ERROR - No error handlers are registered, logging exception.\n",
      "Traceback (most recent call last):\n",
      "  File \"/home/augusto/.local/lib/python3.8/site-packages/telegram/ext/updater.py\", line 465, in _network_loop_retry\n",
      "    if not action_cb():\n",
      "  File \"/home/augusto/.local/lib/python3.8/site-packages/telegram/ext/updater.py\", line 416, in polling_action_cb\n",
      "    updates = self.bot.get_updates(\n",
      "  File \"<decorator-gen-156>\", line 2, in get_updates\n",
      "  File \"/home/augusto/.local/lib/python3.8/site-packages/telegram/bot.py\", line 135, in decorator\n",
      "    result = func(*args, **kwargs)\n",
      "  File \"/home/augusto/.local/lib/python3.8/site-packages/telegram/bot.py\", line 2638, in get_updates\n",
      "    result = self._post(\n",
      "  File \"/home/augusto/.local/lib/python3.8/site-packages/telegram/bot.py\", line 245, in _post\n",
      "    return self.request.post(f'{self.base_url}/{endpoint}', data=data, timeout=timeout)\n",
      "  File \"/home/augusto/.local/lib/python3.8/site-packages/telegram/utils/request.py\", line 349, in post\n",
      "    result = self._request_wrapper(\n",
      "  File \"/home/augusto/.local/lib/python3.8/site-packages/telegram/utils/request.py\", line 276, in _request_wrapper\n",
      "    raise Conflict(message)\n",
      "telegram.error.Conflict: Conflict: terminated by other getUpdates request; make sure that only one bot instance is running\n",
      "2021-01-06 19:37:18,603 - telegram.ext.updater - ERROR - Error while getting Updates: Conflict: terminated by other getUpdates request; make sure that only one bot instance is running\n",
      "2021-01-06 19:37:18,603 - telegram.ext.dispatcher - ERROR - No error handlers are registered, logging exception.\n",
      "Traceback (most recent call last):\n",
      "  File \"/home/augusto/.local/lib/python3.8/site-packages/telegram/ext/updater.py\", line 465, in _network_loop_retry\n",
      "    if not action_cb():\n",
      "  File \"/home/augusto/.local/lib/python3.8/site-packages/telegram/ext/updater.py\", line 416, in polling_action_cb\n",
      "    updates = self.bot.get_updates(\n",
      "  File \"<decorator-gen-156>\", line 2, in get_updates\n",
      "  File \"/home/augusto/.local/lib/python3.8/site-packages/telegram/bot.py\", line 135, in decorator\n",
      "    result = func(*args, **kwargs)\n",
      "  File \"/home/augusto/.local/lib/python3.8/site-packages/telegram/bot.py\", line 2638, in get_updates\n",
      "    result = self._post(\n",
      "  File \"/home/augusto/.local/lib/python3.8/site-packages/telegram/bot.py\", line 245, in _post\n",
      "    return self.request.post(f'{self.base_url}/{endpoint}', data=data, timeout=timeout)\n",
      "  File \"/home/augusto/.local/lib/python3.8/site-packages/telegram/utils/request.py\", line 349, in post\n",
      "    result = self._request_wrapper(\n",
      "  File \"/home/augusto/.local/lib/python3.8/site-packages/telegram/utils/request.py\", line 276, in _request_wrapper\n",
      "    raise Conflict(message)\n",
      "telegram.error.Conflict: Conflict: terminated by other getUpdates request; make sure that only one bot instance is running\n",
      "2021-01-06 19:37:21,651 - apscheduler.scheduler - INFO - Scheduler has been shut down\n"
     ]
    },
    {
     "name": "stdout",
     "output_type": "stream",
     "text": [
      "Excedeu as interações limite\n"
     ]
    },
    {
     "name": "stderr",
     "output_type": "stream",
     "text": [
      "2021-01-06 19:37:29,840 - apscheduler.scheduler - INFO - Scheduler started\n",
      "2021-01-06 19:37:53,114 - telegram.ext.updater - ERROR - Error while getting Updates: Conflict: terminated by other getUpdates request; make sure that only one bot instance is running\n",
      "2021-01-06 19:37:53,120 - telegram.ext.dispatcher - ERROR - No error handlers are registered, logging exception.\n",
      "Traceback (most recent call last):\n",
      "  File \"/home/augusto/.local/lib/python3.8/site-packages/telegram/ext/updater.py\", line 465, in _network_loop_retry\n",
      "    if not action_cb():\n",
      "  File \"/home/augusto/.local/lib/python3.8/site-packages/telegram/ext/updater.py\", line 416, in polling_action_cb\n",
      "    updates = self.bot.get_updates(\n",
      "  File \"<decorator-gen-156>\", line 2, in get_updates\n",
      "  File \"/home/augusto/.local/lib/python3.8/site-packages/telegram/bot.py\", line 135, in decorator\n",
      "    result = func(*args, **kwargs)\n",
      "  File \"/home/augusto/.local/lib/python3.8/site-packages/telegram/bot.py\", line 2638, in get_updates\n",
      "    result = self._post(\n",
      "  File \"/home/augusto/.local/lib/python3.8/site-packages/telegram/bot.py\", line 245, in _post\n",
      "    return self.request.post(f'{self.base_url}/{endpoint}', data=data, timeout=timeout)\n",
      "  File \"/home/augusto/.local/lib/python3.8/site-packages/telegram/utils/request.py\", line 349, in post\n",
      "    result = self._request_wrapper(\n",
      "  File \"/home/augusto/.local/lib/python3.8/site-packages/telegram/utils/request.py\", line 276, in _request_wrapper\n",
      "    raise Conflict(message)\n",
      "telegram.error.Conflict: Conflict: terminated by other getUpdates request; make sure that only one bot instance is running\n",
      "2021-01-06 19:38:00,463 - apscheduler.scheduler - INFO - Scheduler has been shut down\n"
     ]
    },
    {
     "name": "stdout",
     "output_type": "stream",
     "text": [
      "Excedeu as interações limite\n"
     ]
    },
    {
     "name": "stderr",
     "output_type": "stream",
     "text": [
      "2021-01-06 19:38:04,381 - apscheduler.scheduler - INFO - Scheduler started\n",
      "2021-01-06 19:38:27,726 - telegram.ext.updater - ERROR - Error while getting Updates: Conflict: terminated by other getUpdates request; make sure that only one bot instance is running\n",
      "2021-01-06 19:38:27,727 - telegram.ext.dispatcher - ERROR - No error handlers are registered, logging exception.\n",
      "Traceback (most recent call last):\n",
      "  File \"/home/augusto/.local/lib/python3.8/site-packages/telegram/ext/updater.py\", line 465, in _network_loop_retry\n",
      "    if not action_cb():\n",
      "  File \"/home/augusto/.local/lib/python3.8/site-packages/telegram/ext/updater.py\", line 416, in polling_action_cb\n",
      "    updates = self.bot.get_updates(\n",
      "  File \"<decorator-gen-156>\", line 2, in get_updates\n",
      "  File \"/home/augusto/.local/lib/python3.8/site-packages/telegram/bot.py\", line 135, in decorator\n",
      "    result = func(*args, **kwargs)\n",
      "  File \"/home/augusto/.local/lib/python3.8/site-packages/telegram/bot.py\", line 2638, in get_updates\n",
      "    result = self._post(\n",
      "  File \"/home/augusto/.local/lib/python3.8/site-packages/telegram/bot.py\", line 245, in _post\n",
      "    return self.request.post(f'{self.base_url}/{endpoint}', data=data, timeout=timeout)\n",
      "  File \"/home/augusto/.local/lib/python3.8/site-packages/telegram/utils/request.py\", line 349, in post\n",
      "    result = self._request_wrapper(\n",
      "  File \"/home/augusto/.local/lib/python3.8/site-packages/telegram/utils/request.py\", line 276, in _request_wrapper\n",
      "    raise Conflict(message)\n",
      "telegram.error.Conflict: Conflict: terminated by other getUpdates request; make sure that only one bot instance is running\n",
      "2021-01-06 19:38:36,781 - apscheduler.scheduler - INFO - Scheduler has been shut down\n"
     ]
    },
    {
     "name": "stdout",
     "output_type": "stream",
     "text": [
      "Excedeu as interações limite\n"
     ]
    },
    {
     "name": "stderr",
     "output_type": "stream",
     "text": [
      "2021-01-06 19:38:38,964 - apscheduler.scheduler - INFO - Scheduler started\n",
      "2021-01-06 19:39:02,335 - telegram.ext.updater - ERROR - Error while getting Updates: Conflict: terminated by other getUpdates request; make sure that only one bot instance is running\n",
      "2021-01-06 19:39:02,336 - telegram.ext.dispatcher - ERROR - No error handlers are registered, logging exception.\n",
      "Traceback (most recent call last):\n",
      "  File \"/home/augusto/.local/lib/python3.8/site-packages/telegram/ext/updater.py\", line 465, in _network_loop_retry\n",
      "    if not action_cb():\n",
      "  File \"/home/augusto/.local/lib/python3.8/site-packages/telegram/ext/updater.py\", line 416, in polling_action_cb\n",
      "    updates = self.bot.get_updates(\n",
      "  File \"<decorator-gen-156>\", line 2, in get_updates\n",
      "  File \"/home/augusto/.local/lib/python3.8/site-packages/telegram/bot.py\", line 135, in decorator\n",
      "    result = func(*args, **kwargs)\n",
      "  File \"/home/augusto/.local/lib/python3.8/site-packages/telegram/bot.py\", line 2638, in get_updates\n",
      "    result = self._post(\n",
      "  File \"/home/augusto/.local/lib/python3.8/site-packages/telegram/bot.py\", line 245, in _post\n",
      "    return self.request.post(f'{self.base_url}/{endpoint}', data=data, timeout=timeout)\n",
      "  File \"/home/augusto/.local/lib/python3.8/site-packages/telegram/utils/request.py\", line 349, in post\n",
      "    result = self._request_wrapper(\n",
      "  File \"/home/augusto/.local/lib/python3.8/site-packages/telegram/utils/request.py\", line 276, in _request_wrapper\n",
      "    raise Conflict(message)\n",
      "telegram.error.Conflict: Conflict: terminated by other getUpdates request; make sure that only one bot instance is running\n",
      "2021-01-06 19:39:08,294 - apscheduler.scheduler - INFO - Scheduler has been shut down\n"
     ]
    },
    {
     "name": "stdout",
     "output_type": "stream",
     "text": [
      "Excedeu as interações limite\n"
     ]
    },
    {
     "name": "stderr",
     "output_type": "stream",
     "text": [
      "2021-01-06 19:39:13,601 - apscheduler.scheduler - INFO - Scheduler started\n",
      "2021-01-06 19:39:36,945 - telegram.ext.updater - ERROR - Error while getting Updates: Conflict: terminated by other getUpdates request; make sure that only one bot instance is running\n",
      "2021-01-06 19:39:36,947 - telegram.ext.dispatcher - ERROR - No error handlers are registered, logging exception.\n",
      "Traceback (most recent call last):\n",
      "  File \"/home/augusto/.local/lib/python3.8/site-packages/telegram/ext/updater.py\", line 465, in _network_loop_retry\n",
      "    if not action_cb():\n",
      "  File \"/home/augusto/.local/lib/python3.8/site-packages/telegram/ext/updater.py\", line 416, in polling_action_cb\n",
      "    updates = self.bot.get_updates(\n",
      "  File \"<decorator-gen-156>\", line 2, in get_updates\n",
      "  File \"/home/augusto/.local/lib/python3.8/site-packages/telegram/bot.py\", line 135, in decorator\n",
      "    result = func(*args, **kwargs)\n",
      "  File \"/home/augusto/.local/lib/python3.8/site-packages/telegram/bot.py\", line 2638, in get_updates\n",
      "    result = self._post(\n",
      "  File \"/home/augusto/.local/lib/python3.8/site-packages/telegram/bot.py\", line 245, in _post\n",
      "    return self.request.post(f'{self.base_url}/{endpoint}', data=data, timeout=timeout)\n",
      "  File \"/home/augusto/.local/lib/python3.8/site-packages/telegram/utils/request.py\", line 349, in post\n",
      "    result = self._request_wrapper(\n",
      "  File \"/home/augusto/.local/lib/python3.8/site-packages/telegram/utils/request.py\", line 276, in _request_wrapper\n",
      "    raise Conflict(message)\n",
      "telegram.error.Conflict: Conflict: terminated by other getUpdates request; make sure that only one bot instance is running\n",
      "2021-01-06 19:39:44,800 - apscheduler.scheduler - INFO - Scheduler has been shut down\n"
     ]
    },
    {
     "name": "stdout",
     "output_type": "stream",
     "text": [
      "Excedeu as interações limite\n"
     ]
    },
    {
     "name": "stderr",
     "output_type": "stream",
     "text": [
      "2021-01-06 19:39:48,215 - apscheduler.scheduler - INFO - Scheduler started\n",
      "2021-01-06 19:40:11,424 - telegram.ext.updater - ERROR - Error while getting Updates: Conflict: terminated by other getUpdates request; make sure that only one bot instance is running\n",
      "2021-01-06 19:40:11,426 - telegram.ext.dispatcher - ERROR - No error handlers are registered, logging exception.\n",
      "Traceback (most recent call last):\n",
      "  File \"/home/augusto/.local/lib/python3.8/site-packages/telegram/ext/updater.py\", line 465, in _network_loop_retry\n",
      "    if not action_cb():\n",
      "  File \"/home/augusto/.local/lib/python3.8/site-packages/telegram/ext/updater.py\", line 416, in polling_action_cb\n",
      "    updates = self.bot.get_updates(\n",
      "  File \"<decorator-gen-156>\", line 2, in get_updates\n",
      "  File \"/home/augusto/.local/lib/python3.8/site-packages/telegram/bot.py\", line 135, in decorator\n",
      "    result = func(*args, **kwargs)\n",
      "  File \"/home/augusto/.local/lib/python3.8/site-packages/telegram/bot.py\", line 2638, in get_updates\n",
      "    result = self._post(\n",
      "  File \"/home/augusto/.local/lib/python3.8/site-packages/telegram/bot.py\", line 245, in _post\n",
      "    return self.request.post(f'{self.base_url}/{endpoint}', data=data, timeout=timeout)\n",
      "  File \"/home/augusto/.local/lib/python3.8/site-packages/telegram/utils/request.py\", line 349, in post\n",
      "    result = self._request_wrapper(\n",
      "  File \"/home/augusto/.local/lib/python3.8/site-packages/telegram/utils/request.py\", line 276, in _request_wrapper\n",
      "    raise Conflict(message)\n",
      "telegram.error.Conflict: Conflict: terminated by other getUpdates request; make sure that only one bot instance is running\n",
      "2021-01-06 19:40:29,498 - apscheduler.scheduler - INFO - Scheduler has been shut down\n"
     ]
    },
    {
     "name": "stdout",
     "output_type": "stream",
     "text": [
      "Excedeu as interações limite\n"
     ]
    },
    {
     "name": "stderr",
     "output_type": "stream",
     "text": [
      "2021-01-06 19:40:32,963 - apscheduler.scheduler - INFO - Scheduler started\n",
      "2021-01-06 19:40:46,065 - telegram.ext.updater - ERROR - Error while getting Updates: Conflict: terminated by other getUpdates request; make sure that only one bot instance is running\n",
      "2021-01-06 19:40:46,066 - telegram.ext.dispatcher - ERROR - No error handlers are registered, logging exception.\n",
      "Traceback (most recent call last):\n",
      "  File \"/home/augusto/.local/lib/python3.8/site-packages/telegram/ext/updater.py\", line 465, in _network_loop_retry\n",
      "    if not action_cb():\n",
      "  File \"/home/augusto/.local/lib/python3.8/site-packages/telegram/ext/updater.py\", line 416, in polling_action_cb\n",
      "    updates = self.bot.get_updates(\n",
      "  File \"<decorator-gen-156>\", line 2, in get_updates\n",
      "  File \"/home/augusto/.local/lib/python3.8/site-packages/telegram/bot.py\", line 135, in decorator\n",
      "    result = func(*args, **kwargs)\n",
      "  File \"/home/augusto/.local/lib/python3.8/site-packages/telegram/bot.py\", line 2638, in get_updates\n",
      "    result = self._post(\n",
      "  File \"/home/augusto/.local/lib/python3.8/site-packages/telegram/bot.py\", line 245, in _post\n",
      "    return self.request.post(f'{self.base_url}/{endpoint}', data=data, timeout=timeout)\n",
      "  File \"/home/augusto/.local/lib/python3.8/site-packages/telegram/utils/request.py\", line 349, in post\n",
      "    result = self._request_wrapper(\n",
      "  File \"/home/augusto/.local/lib/python3.8/site-packages/telegram/utils/request.py\", line 276, in _request_wrapper\n",
      "    raise Conflict(message)\n",
      "telegram.error.Conflict: Conflict: terminated by other getUpdates request; make sure that only one bot instance is running\n",
      "2021-01-06 19:41:03,005 - apscheduler.scheduler - INFO - Scheduler has been shut down\n"
     ]
    },
    {
     "name": "stdout",
     "output_type": "stream",
     "text": [
      "Excedeu as interações limite\n"
     ]
    },
    {
     "name": "stderr",
     "output_type": "stream",
     "text": [
      "2021-01-06 19:41:07,678 - apscheduler.scheduler - INFO - Scheduler started\n",
      "2021-01-06 19:41:20,680 - telegram.ext.updater - ERROR - Error while getting Updates: Conflict: terminated by other getUpdates request; make sure that only one bot instance is running\n",
      "2021-01-06 19:41:20,681 - telegram.ext.dispatcher - ERROR - No error handlers are registered, logging exception.\n",
      "Traceback (most recent call last):\n",
      "  File \"/home/augusto/.local/lib/python3.8/site-packages/telegram/ext/updater.py\", line 465, in _network_loop_retry\n",
      "    if not action_cb():\n",
      "  File \"/home/augusto/.local/lib/python3.8/site-packages/telegram/ext/updater.py\", line 416, in polling_action_cb\n",
      "    updates = self.bot.get_updates(\n",
      "  File \"<decorator-gen-156>\", line 2, in get_updates\n",
      "  File \"/home/augusto/.local/lib/python3.8/site-packages/telegram/bot.py\", line 135, in decorator\n",
      "    result = func(*args, **kwargs)\n",
      "  File \"/home/augusto/.local/lib/python3.8/site-packages/telegram/bot.py\", line 2638, in get_updates\n",
      "    result = self._post(\n",
      "  File \"/home/augusto/.local/lib/python3.8/site-packages/telegram/bot.py\", line 245, in _post\n",
      "    return self.request.post(f'{self.base_url}/{endpoint}', data=data, timeout=timeout)\n",
      "  File \"/home/augusto/.local/lib/python3.8/site-packages/telegram/utils/request.py\", line 349, in post\n",
      "    result = self._request_wrapper(\n",
      "  File \"/home/augusto/.local/lib/python3.8/site-packages/telegram/utils/request.py\", line 276, in _request_wrapper\n",
      "    raise Conflict(message)\n",
      "telegram.error.Conflict: Conflict: terminated by other getUpdates request; make sure that only one bot instance is running\n",
      "2021-01-06 19:41:36,875 - apscheduler.scheduler - INFO - Scheduler has been shut down\n"
     ]
    },
    {
     "name": "stdout",
     "output_type": "stream",
     "text": [
      "Excedeu as interações limite\n"
     ]
    },
    {
     "name": "stderr",
     "output_type": "stream",
     "text": [
      "2021-01-06 19:41:42,281 - apscheduler.scheduler - INFO - Scheduler started\n",
      "2021-01-06 19:41:55,289 - telegram.ext.updater - ERROR - Error while getting Updates: Conflict: terminated by other getUpdates request; make sure that only one bot instance is running\n",
      "2021-01-06 19:41:55,293 - telegram.ext.dispatcher - ERROR - No error handlers are registered, logging exception.\n",
      "Traceback (most recent call last):\n",
      "  File \"/home/augusto/.local/lib/python3.8/site-packages/telegram/ext/updater.py\", line 465, in _network_loop_retry\n",
      "    if not action_cb():\n",
      "  File \"/home/augusto/.local/lib/python3.8/site-packages/telegram/ext/updater.py\", line 416, in polling_action_cb\n",
      "    updates = self.bot.get_updates(\n",
      "  File \"<decorator-gen-156>\", line 2, in get_updates\n",
      "  File \"/home/augusto/.local/lib/python3.8/site-packages/telegram/bot.py\", line 135, in decorator\n",
      "    result = func(*args, **kwargs)\n",
      "  File \"/home/augusto/.local/lib/python3.8/site-packages/telegram/bot.py\", line 2638, in get_updates\n",
      "    result = self._post(\n",
      "  File \"/home/augusto/.local/lib/python3.8/site-packages/telegram/bot.py\", line 245, in _post\n",
      "    return self.request.post(f'{self.base_url}/{endpoint}', data=data, timeout=timeout)\n",
      "  File \"/home/augusto/.local/lib/python3.8/site-packages/telegram/utils/request.py\", line 349, in post\n",
      "    result = self._request_wrapper(\n",
      "  File \"/home/augusto/.local/lib/python3.8/site-packages/telegram/utils/request.py\", line 276, in _request_wrapper\n",
      "    raise Conflict(message)\n",
      "telegram.error.Conflict: Conflict: terminated by other getUpdates request; make sure that only one bot instance is running\n",
      "2021-01-06 19:42:12,637 - apscheduler.scheduler - INFO - Scheduler has been shut down\n"
     ]
    },
    {
     "name": "stdout",
     "output_type": "stream",
     "text": [
      "Excedeu as interações limite\n"
     ]
    },
    {
     "name": "stderr",
     "output_type": "stream",
     "text": [
      "2021-01-06 19:42:16,904 - apscheduler.scheduler - INFO - Scheduler started\n",
      "2021-01-06 19:42:29,908 - telegram.ext.updater - ERROR - Error while getting Updates: Conflict: terminated by other getUpdates request; make sure that only one bot instance is running\n",
      "2021-01-06 19:42:29,909 - telegram.ext.dispatcher - ERROR - No error handlers are registered, logging exception.\n",
      "Traceback (most recent call last):\n",
      "  File \"/home/augusto/.local/lib/python3.8/site-packages/telegram/ext/updater.py\", line 465, in _network_loop_retry\n",
      "    if not action_cb():\n",
      "  File \"/home/augusto/.local/lib/python3.8/site-packages/telegram/ext/updater.py\", line 416, in polling_action_cb\n",
      "    updates = self.bot.get_updates(\n",
      "  File \"<decorator-gen-156>\", line 2, in get_updates\n",
      "  File \"/home/augusto/.local/lib/python3.8/site-packages/telegram/bot.py\", line 135, in decorator\n",
      "    result = func(*args, **kwargs)\n",
      "  File \"/home/augusto/.local/lib/python3.8/site-packages/telegram/bot.py\", line 2638, in get_updates\n",
      "    result = self._post(\n",
      "  File \"/home/augusto/.local/lib/python3.8/site-packages/telegram/bot.py\", line 245, in _post\n",
      "    return self.request.post(f'{self.base_url}/{endpoint}', data=data, timeout=timeout)\n",
      "  File \"/home/augusto/.local/lib/python3.8/site-packages/telegram/utils/request.py\", line 349, in post\n",
      "    result = self._request_wrapper(\n",
      "  File \"/home/augusto/.local/lib/python3.8/site-packages/telegram/utils/request.py\", line 276, in _request_wrapper\n",
      "    raise Conflict(message)\n",
      "telegram.error.Conflict: Conflict: terminated by other getUpdates request; make sure that only one bot instance is running\n",
      "2021-01-06 19:42:46,178 - apscheduler.scheduler - INFO - Scheduler has been shut down\n"
     ]
    },
    {
     "name": "stdout",
     "output_type": "stream",
     "text": [
      "Excedeu as interações limite\n"
     ]
    },
    {
     "name": "stderr",
     "output_type": "stream",
     "text": [
      "2021-01-06 19:42:51,410 - apscheduler.scheduler - INFO - Scheduler started\n",
      "2021-01-06 19:43:04,399 - telegram.ext.updater - ERROR - Error while getting Updates: Conflict: terminated by other getUpdates request; make sure that only one bot instance is running\n",
      "2021-01-06 19:43:04,400 - telegram.ext.dispatcher - ERROR - No error handlers are registered, logging exception.\n",
      "Traceback (most recent call last):\n",
      "  File \"/home/augusto/.local/lib/python3.8/site-packages/telegram/ext/updater.py\", line 465, in _network_loop_retry\n",
      "    if not action_cb():\n",
      "  File \"/home/augusto/.local/lib/python3.8/site-packages/telegram/ext/updater.py\", line 416, in polling_action_cb\n",
      "    updates = self.bot.get_updates(\n",
      "  File \"<decorator-gen-156>\", line 2, in get_updates\n",
      "  File \"/home/augusto/.local/lib/python3.8/site-packages/telegram/bot.py\", line 135, in decorator\n",
      "    result = func(*args, **kwargs)\n",
      "  File \"/home/augusto/.local/lib/python3.8/site-packages/telegram/bot.py\", line 2638, in get_updates\n",
      "    result = self._post(\n",
      "  File \"/home/augusto/.local/lib/python3.8/site-packages/telegram/bot.py\", line 245, in _post\n",
      "    return self.request.post(f'{self.base_url}/{endpoint}', data=data, timeout=timeout)\n",
      "  File \"/home/augusto/.local/lib/python3.8/site-packages/telegram/utils/request.py\", line 349, in post\n",
      "    result = self._request_wrapper(\n",
      "  File \"/home/augusto/.local/lib/python3.8/site-packages/telegram/utils/request.py\", line 276, in _request_wrapper\n",
      "    raise Conflict(message)\n",
      "telegram.error.Conflict: Conflict: terminated by other getUpdates request; make sure that only one bot instance is running\n",
      "2021-01-06 19:43:20,926 - apscheduler.scheduler - INFO - Scheduler has been shut down\n"
     ]
    },
    {
     "name": "stdout",
     "output_type": "stream",
     "text": [
      "Excedeu as interações limite\n"
     ]
    },
    {
     "name": "stderr",
     "output_type": "stream",
     "text": [
      "2021-01-06 19:43:26,027 - apscheduler.scheduler - INFO - Scheduler started\n",
      "2021-01-06 19:43:39,027 - telegram.ext.updater - ERROR - Error while getting Updates: Conflict: terminated by other getUpdates request; make sure that only one bot instance is running\n",
      "2021-01-06 19:43:39,040 - telegram.ext.dispatcher - ERROR - No error handlers are registered, logging exception.\n",
      "Traceback (most recent call last):\n",
      "  File \"/home/augusto/.local/lib/python3.8/site-packages/telegram/ext/updater.py\", line 465, in _network_loop_retry\n",
      "    if not action_cb():\n",
      "  File \"/home/augusto/.local/lib/python3.8/site-packages/telegram/ext/updater.py\", line 416, in polling_action_cb\n",
      "    updates = self.bot.get_updates(\n",
      "  File \"<decorator-gen-156>\", line 2, in get_updates\n",
      "  File \"/home/augusto/.local/lib/python3.8/site-packages/telegram/bot.py\", line 135, in decorator\n",
      "    result = func(*args, **kwargs)\n",
      "  File \"/home/augusto/.local/lib/python3.8/site-packages/telegram/bot.py\", line 2638, in get_updates\n",
      "    result = self._post(\n",
      "  File \"/home/augusto/.local/lib/python3.8/site-packages/telegram/bot.py\", line 245, in _post\n",
      "    return self.request.post(f'{self.base_url}/{endpoint}', data=data, timeout=timeout)\n",
      "  File \"/home/augusto/.local/lib/python3.8/site-packages/telegram/utils/request.py\", line 349, in post\n",
      "    result = self._request_wrapper(\n",
      "  File \"/home/augusto/.local/lib/python3.8/site-packages/telegram/utils/request.py\", line 276, in _request_wrapper\n",
      "    raise Conflict(message)\n",
      "telegram.error.Conflict: Conflict: terminated by other getUpdates request; make sure that only one bot instance is running\n",
      "2021-01-06 19:43:58,152 - apscheduler.scheduler - INFO - Scheduler has been shut down\n"
     ]
    },
    {
     "name": "stdout",
     "output_type": "stream",
     "text": [
      "Excedeu as interações limite\n"
     ]
    },
    {
     "name": "stderr",
     "output_type": "stream",
     "text": [
      "2021-01-06 19:44:06,296 - apscheduler.scheduler - INFO - Scheduler started\n",
      "2021-01-06 19:44:13,584 - telegram.ext.updater - ERROR - Error while getting Updates: Conflict: terminated by other getUpdates request; make sure that only one bot instance is running\n",
      "2021-01-06 19:44:13,587 - telegram.ext.dispatcher - ERROR - No error handlers are registered, logging exception.\n",
      "Traceback (most recent call last):\n",
      "  File \"/home/augusto/.local/lib/python3.8/site-packages/telegram/ext/updater.py\", line 465, in _network_loop_retry\n",
      "    if not action_cb():\n",
      "  File \"/home/augusto/.local/lib/python3.8/site-packages/telegram/ext/updater.py\", line 416, in polling_action_cb\n",
      "    updates = self.bot.get_updates(\n",
      "  File \"<decorator-gen-156>\", line 2, in get_updates\n",
      "  File \"/home/augusto/.local/lib/python3.8/site-packages/telegram/bot.py\", line 135, in decorator\n",
      "    result = func(*args, **kwargs)\n",
      "  File \"/home/augusto/.local/lib/python3.8/site-packages/telegram/bot.py\", line 2638, in get_updates\n",
      "    result = self._post(\n",
      "  File \"/home/augusto/.local/lib/python3.8/site-packages/telegram/bot.py\", line 245, in _post\n",
      "    return self.request.post(f'{self.base_url}/{endpoint}', data=data, timeout=timeout)\n",
      "  File \"/home/augusto/.local/lib/python3.8/site-packages/telegram/utils/request.py\", line 349, in post\n",
      "    result = self._request_wrapper(\n",
      "  File \"/home/augusto/.local/lib/python3.8/site-packages/telegram/utils/request.py\", line 276, in _request_wrapper\n",
      "    raise Conflict(message)\n",
      "telegram.error.Conflict: Conflict: terminated by other getUpdates request; make sure that only one bot instance is running\n",
      "2021-01-06 19:44:36,648 - apscheduler.scheduler - INFO - Scheduler has been shut down\n"
     ]
    },
    {
     "name": "stdout",
     "output_type": "stream",
     "text": [
      "Excedeu as interações limite\n"
     ]
    },
    {
     "name": "stderr",
     "output_type": "stream",
     "text": [
      "2021-01-06 19:44:45,472 - apscheduler.scheduler - INFO - Scheduler started\n",
      "2021-01-06 19:44:48,153 - telegram.ext.updater - ERROR - Error while getting Updates: Conflict: terminated by other getUpdates request; make sure that only one bot instance is running\n",
      "2021-01-06 19:44:48,154 - telegram.ext.dispatcher - ERROR - No error handlers are registered, logging exception.\n",
      "Traceback (most recent call last):\n",
      "  File \"/home/augusto/.local/lib/python3.8/site-packages/telegram/ext/updater.py\", line 465, in _network_loop_retry\n",
      "    if not action_cb():\n",
      "  File \"/home/augusto/.local/lib/python3.8/site-packages/telegram/ext/updater.py\", line 416, in polling_action_cb\n",
      "    updates = self.bot.get_updates(\n",
      "  File \"<decorator-gen-156>\", line 2, in get_updates\n",
      "  File \"/home/augusto/.local/lib/python3.8/site-packages/telegram/bot.py\", line 135, in decorator\n",
      "    result = func(*args, **kwargs)\n",
      "  File \"/home/augusto/.local/lib/python3.8/site-packages/telegram/bot.py\", line 2638, in get_updates\n",
      "    result = self._post(\n",
      "  File \"/home/augusto/.local/lib/python3.8/site-packages/telegram/bot.py\", line 245, in _post\n",
      "    return self.request.post(f'{self.base_url}/{endpoint}', data=data, timeout=timeout)\n",
      "  File \"/home/augusto/.local/lib/python3.8/site-packages/telegram/utils/request.py\", line 349, in post\n",
      "    result = self._request_wrapper(\n",
      "  File \"/home/augusto/.local/lib/python3.8/site-packages/telegram/utils/request.py\", line 276, in _request_wrapper\n",
      "    raise Conflict(message)\n",
      "telegram.error.Conflict: Conflict: terminated by other getUpdates request; make sure that only one bot instance is running\n",
      "2021-01-06 19:45:20,258 - apscheduler.scheduler - INFO - Scheduler has been shut down\n"
     ]
    },
    {
     "name": "stdout",
     "output_type": "stream",
     "text": [
      "Excedeu as interações limite\n"
     ]
    },
    {
     "name": "stderr",
     "output_type": "stream",
     "text": [
      "2021-01-06 19:45:22,769 - telegram.ext.updater - ERROR - Error while getting Updates: Conflict: terminated by other getUpdates request; make sure that only one bot instance is running\n",
      "2021-01-06 19:45:23,777 - apscheduler.scheduler - INFO - Scheduler started\n",
      "2021-01-06 19:45:23,780 - telegram.ext.dispatcher - ERROR - No error handlers are registered, logging exception.\n",
      "Traceback (most recent call last):\n",
      "  File \"/home/augusto/.local/lib/python3.8/site-packages/telegram/ext/updater.py\", line 465, in _network_loop_retry\n",
      "    if not action_cb():\n",
      "  File \"/home/augusto/.local/lib/python3.8/site-packages/telegram/ext/updater.py\", line 416, in polling_action_cb\n",
      "    updates = self.bot.get_updates(\n",
      "  File \"<decorator-gen-156>\", line 2, in get_updates\n",
      "  File \"/home/augusto/.local/lib/python3.8/site-packages/telegram/bot.py\", line 135, in decorator\n",
      "    result = func(*args, **kwargs)\n",
      "  File \"/home/augusto/.local/lib/python3.8/site-packages/telegram/bot.py\", line 2638, in get_updates\n",
      "    result = self._post(\n",
      "  File \"/home/augusto/.local/lib/python3.8/site-packages/telegram/bot.py\", line 245, in _post\n",
      "    return self.request.post(f'{self.base_url}/{endpoint}', data=data, timeout=timeout)\n",
      "  File \"/home/augusto/.local/lib/python3.8/site-packages/telegram/utils/request.py\", line 349, in post\n",
      "    result = self._request_wrapper(\n",
      "  File \"/home/augusto/.local/lib/python3.8/site-packages/telegram/utils/request.py\", line 276, in _request_wrapper\n",
      "    raise Conflict(message)\n",
      "telegram.error.Conflict: Conflict: terminated by other getUpdates request; make sure that only one bot instance is running\n",
      "2021-01-06 19:45:56,846 - apscheduler.scheduler - INFO - Scheduler has been shut down\n"
     ]
    },
    {
     "name": "stdout",
     "output_type": "stream",
     "text": [
      "Excedeu as interações limite\n"
     ]
    },
    {
     "name": "stderr",
     "output_type": "stream",
     "text": [
      "2021-01-06 19:46:05,782 - apscheduler.scheduler - INFO - Scheduler started\n",
      "2021-01-06 19:46:37,119 - apscheduler.scheduler - INFO - Scheduler has been shut down\n"
     ]
    },
    {
     "name": "stdout",
     "output_type": "stream",
     "text": [
      "Excedeu as interações limite\n"
     ]
    },
    {
     "name": "stderr",
     "output_type": "stream",
     "text": [
      "2021-01-06 19:46:37,823 - apscheduler.scheduler - INFO - Scheduler started\n",
      "2021-01-06 19:47:06,993 - apscheduler.scheduler - INFO - Scheduler has been shut down\n"
     ]
    },
    {
     "name": "stdout",
     "output_type": "stream",
     "text": [
      "Excedeu as interações limite\n"
     ]
    },
    {
     "name": "stderr",
     "output_type": "stream",
     "text": [
      "2021-01-06 19:47:09,478 - apscheduler.scheduler - INFO - Scheduler started\n",
      "2021-01-06 19:47:40,260 - apscheduler.scheduler - INFO - Scheduler has been shut down\n"
     ]
    },
    {
     "name": "stdout",
     "output_type": "stream",
     "text": [
      "Excedeu as interações limite\n"
     ]
    },
    {
     "name": "stderr",
     "output_type": "stream",
     "text": [
      "2021-01-06 19:47:41,214 - apscheduler.scheduler - INFO - Scheduler started\n",
      "2021-01-06 19:48:11,175 - apscheduler.scheduler - INFO - Scheduler has been shut down\n"
     ]
    },
    {
     "name": "stdout",
     "output_type": "stream",
     "text": [
      "Excedeu as interações limite\n"
     ]
    },
    {
     "name": "stderr",
     "output_type": "stream",
     "text": [
      "2021-01-06 19:48:13,073 - apscheduler.scheduler - INFO - Scheduler started\n",
      "2021-01-06 19:48:45,996 - apscheduler.scheduler - INFO - Scheduler has been shut down\n"
     ]
    },
    {
     "name": "stdout",
     "output_type": "stream",
     "text": [
      "Excedeu as interações limite\n"
     ]
    },
    {
     "name": "stderr",
     "output_type": "stream",
     "text": [
      "2021-01-06 19:48:53,735 - apscheduler.scheduler - INFO - Scheduler started\n",
      "2021-01-06 19:49:23,754 - apscheduler.scheduler - INFO - Scheduler has been shut down\n"
     ]
    },
    {
     "name": "stdout",
     "output_type": "stream",
     "text": [
      "Excedeu as interações limite\n"
     ]
    },
    {
     "name": "stderr",
     "output_type": "stream",
     "text": [
      "2021-01-06 19:49:25,580 - apscheduler.scheduler - INFO - Scheduler started\n",
      "2021-01-06 19:50:05,916 - apscheduler.scheduler - INFO - Scheduler has been shut down\n"
     ]
    },
    {
     "name": "stdout",
     "output_type": "stream",
     "text": [
      "Excedeu as interações limite\n"
     ]
    },
    {
     "name": "stderr",
     "output_type": "stream",
     "text": [
      "2021-01-06 19:50:07,876 - apscheduler.scheduler - INFO - Scheduler started\n",
      "2021-01-06 19:50:37,445 - apscheduler.scheduler - INFO - Scheduler has been shut down\n"
     ]
    },
    {
     "name": "stdout",
     "output_type": "stream",
     "text": [
      "Excedeu as interações limite\n"
     ]
    },
    {
     "name": "stderr",
     "output_type": "stream",
     "text": [
      "2021-01-06 19:50:39,985 - apscheduler.scheduler - INFO - Scheduler started\n",
      "2021-01-06 19:51:19,839 - apscheduler.scheduler - INFO - Scheduler has been shut down\n"
     ]
    },
    {
     "name": "stdout",
     "output_type": "stream",
     "text": [
      "Excedeu as interações limite\n"
     ]
    },
    {
     "name": "stderr",
     "output_type": "stream",
     "text": [
      "2021-01-06 19:51:22,089 - apscheduler.scheduler - INFO - Scheduler started\n",
      "2021-01-06 19:51:56,617 - apscheduler.scheduler - INFO - Scheduler has been shut down\n"
     ]
    },
    {
     "name": "stdout",
     "output_type": "stream",
     "text": [
      "Excedeu as interações limite\n"
     ]
    },
    {
     "name": "stderr",
     "output_type": "stream",
     "text": [
      "2021-01-06 19:52:04,202 - apscheduler.scheduler - INFO - Scheduler started\n",
      "2021-01-06 19:52:38,342 - apscheduler.scheduler - INFO - Scheduler has been shut down\n"
     ]
    },
    {
     "name": "stdout",
     "output_type": "stream",
     "text": [
      "Excedeu as interações limite\n"
     ]
    },
    {
     "name": "stderr",
     "output_type": "stream",
     "text": [
      "2021-01-06 19:52:46,290 - apscheduler.scheduler - INFO - Scheduler started\n",
      "2021-01-06 19:53:17,669 - apscheduler.scheduler - INFO - Scheduler has been shut down\n"
     ]
    },
    {
     "name": "stdout",
     "output_type": "stream",
     "text": [
      "Excedeu as interações limite\n"
     ]
    },
    {
     "name": "stderr",
     "output_type": "stream",
     "text": [
      "2021-01-06 19:53:18,374 - apscheduler.scheduler - INFO - Scheduler started\n",
      "2021-01-06 19:53:54,419 - apscheduler.scheduler - INFO - Scheduler has been shut down\n"
     ]
    },
    {
     "name": "stdout",
     "output_type": "stream",
     "text": [
      "Excedeu as interações limite\n"
     ]
    },
    {
     "name": "stderr",
     "output_type": "stream",
     "text": [
      "2021-01-06 19:54:00,533 - apscheduler.scheduler - INFO - Scheduler started\n",
      "2021-01-06 19:54:31,998 - apscheduler.scheduler - INFO - Scheduler has been shut down\n"
     ]
    },
    {
     "name": "stdout",
     "output_type": "stream",
     "text": [
      "Excedeu as interações limite\n"
     ]
    },
    {
     "name": "stderr",
     "output_type": "stream",
     "text": [
      "2021-01-06 19:54:32,603 - apscheduler.scheduler - INFO - Scheduler started\n",
      "2021-01-06 19:55:11,735 - apscheduler.scheduler - INFO - Scheduler has been shut down\n"
     ]
    },
    {
     "name": "stdout",
     "output_type": "stream",
     "text": [
      "Excedeu as interações limite\n"
     ]
    },
    {
     "name": "stderr",
     "output_type": "stream",
     "text": [
      "2021-01-06 19:55:14,675 - apscheduler.scheduler - INFO - Scheduler started\n",
      "2021-01-06 19:55:47,128 - apscheduler.scheduler - INFO - Scheduler has been shut down\n"
     ]
    },
    {
     "name": "stdout",
     "output_type": "stream",
     "text": [
      "Excedeu as interações limite\n"
     ]
    },
    {
     "name": "stderr",
     "output_type": "stream",
     "text": [
      "2021-01-06 19:55:56,542 - apscheduler.scheduler - INFO - Scheduler started\n",
      "2021-01-06 19:56:28,118 - apscheduler.scheduler - INFO - Scheduler has been shut down\n"
     ]
    },
    {
     "name": "stdout",
     "output_type": "stream",
     "text": [
      "Excedeu as interações limite\n"
     ]
    },
    {
     "name": "stderr",
     "output_type": "stream",
     "text": [
      "2021-01-06 19:56:28,626 - apscheduler.scheduler - INFO - Scheduler started\n",
      "2021-01-06 19:57:00,442 - apscheduler.scheduler - INFO - Scheduler has been shut down\n"
     ]
    },
    {
     "name": "stdout",
     "output_type": "stream",
     "text": [
      "Excedeu as interações limite\n"
     ]
    },
    {
     "name": "stderr",
     "output_type": "stream",
     "text": [
      "2021-01-06 19:57:00,661 - apscheduler.scheduler - INFO - Scheduler started\n",
      "2021-01-06 19:57:32,626 - apscheduler.scheduler - INFO - Scheduler has been shut down\n"
     ]
    },
    {
     "name": "stdout",
     "output_type": "stream",
     "text": [
      "Excedeu as interações limite\n"
     ]
    },
    {
     "name": "stderr",
     "output_type": "stream",
     "text": [
      "2021-01-06 19:57:42,648 - apscheduler.scheduler - INFO - Scheduler started\n",
      "2021-01-06 19:58:15,131 - apscheduler.scheduler - INFO - Scheduler has been shut down\n"
     ]
    },
    {
     "name": "stdout",
     "output_type": "stream",
     "text": [
      "Excedeu as interações limite\n"
     ]
    },
    {
     "name": "stderr",
     "output_type": "stream",
     "text": [
      "2021-01-06 19:58:25,247 - apscheduler.scheduler - INFO - Scheduler started\n",
      "2021-01-06 19:58:56,849 - apscheduler.scheduler - INFO - Scheduler has been shut down\n"
     ]
    },
    {
     "name": "stdout",
     "output_type": "stream",
     "text": [
      "Excedeu as interações limite\n"
     ]
    },
    {
     "name": "stderr",
     "output_type": "stream",
     "text": [
      "2021-01-06 19:58:57,354 - apscheduler.scheduler - INFO - Scheduler started\n",
      "2021-01-06 19:59:29,839 - apscheduler.scheduler - INFO - Scheduler has been shut down\n"
     ]
    },
    {
     "name": "stdout",
     "output_type": "stream",
     "text": [
      "Excedeu as interações limite\n"
     ]
    },
    {
     "name": "stderr",
     "output_type": "stream",
     "text": [
      "2021-01-06 19:59:39,594 - apscheduler.scheduler - INFO - Scheduler started\n",
      "2021-01-06 20:00:11,192 - apscheduler.scheduler - INFO - Scheduler has been shut down\n"
     ]
    },
    {
     "name": "stdout",
     "output_type": "stream",
     "text": [
      "Excedeu as interações limite\n"
     ]
    },
    {
     "name": "stderr",
     "output_type": "stream",
     "text": [
      "2021-01-06 20:00:11,700 - apscheduler.scheduler - INFO - Scheduler started\n",
      "2021-01-06 20:00:47,922 - apscheduler.scheduler - INFO - Scheduler has been shut down\n"
     ]
    },
    {
     "name": "stdout",
     "output_type": "stream",
     "text": [
      "Excedeu as interações limite\n"
     ]
    },
    {
     "name": "stderr",
     "output_type": "stream",
     "text": [
      "2021-01-06 20:00:53,515 - apscheduler.scheduler - INFO - Scheduler started\n",
      "2021-01-06 20:01:26,862 - apscheduler.scheduler - INFO - Scheduler has been shut down\n"
     ]
    },
    {
     "name": "stdout",
     "output_type": "stream",
     "text": [
      "Excedeu as interações limite\n"
     ]
    },
    {
     "name": "stderr",
     "output_type": "stream",
     "text": [
      "2021-01-06 20:01:35,615 - apscheduler.scheduler - INFO - Scheduler started\n",
      "2021-01-06 20:02:07,999 - apscheduler.scheduler - INFO - Scheduler has been shut down\n"
     ]
    },
    {
     "name": "stdout",
     "output_type": "stream",
     "text": [
      "Excedeu as interações limite\n"
     ]
    },
    {
     "name": "stderr",
     "output_type": "stream",
     "text": [
      "2021-01-06 20:02:17,500 - apscheduler.scheduler - INFO - Scheduler started\n",
      "2021-01-06 20:02:48,670 - apscheduler.scheduler - INFO - Scheduler has been shut down\n"
     ]
    },
    {
     "name": "stdout",
     "output_type": "stream",
     "text": [
      "Excedeu as interações limite\n"
     ]
    },
    {
     "name": "stderr",
     "output_type": "stream",
     "text": [
      "2021-01-06 20:02:49,578 - apscheduler.scheduler - INFO - Scheduler started\n",
      "2021-01-06 20:03:22,734 - apscheduler.scheduler - INFO - Scheduler has been shut down\n"
     ]
    },
    {
     "name": "stdout",
     "output_type": "stream",
     "text": [
      "Excedeu as interações limite\n"
     ]
    },
    {
     "name": "stderr",
     "output_type": "stream",
     "text": [
      "2021-01-06 20:03:31,928 - apscheduler.scheduler - INFO - Scheduler started\n",
      "2021-01-06 20:04:02,971 - apscheduler.scheduler - INFO - Scheduler has been shut down\n"
     ]
    },
    {
     "name": "stdout",
     "output_type": "stream",
     "text": [
      "Excedeu as interações limite\n"
     ]
    },
    {
     "name": "stderr",
     "output_type": "stream",
     "text": [
      "2021-01-06 20:04:03,975 - apscheduler.scheduler - INFO - Scheduler started\n",
      "2021-01-06 20:04:37,568 - apscheduler.scheduler - INFO - Scheduler has been shut down\n"
     ]
    },
    {
     "name": "stdout",
     "output_type": "stream",
     "text": [
      "Excedeu as interações limite\n"
     ]
    },
    {
     "name": "stderr",
     "output_type": "stream",
     "text": [
      "2021-01-06 20:04:46,392 - apscheduler.scheduler - INFO - Scheduler started\n",
      "2021-01-06 20:05:18,072 - apscheduler.scheduler - INFO - Scheduler has been shut down\n"
     ]
    },
    {
     "name": "stdout",
     "output_type": "stream",
     "text": [
      "Excedeu as interações limite\n"
     ]
    },
    {
     "name": "stderr",
     "output_type": "stream",
     "text": [
      "2021-01-06 20:05:18,480 - apscheduler.scheduler - INFO - Scheduler started\n",
      "2021-01-06 20:05:52,261 - apscheduler.scheduler - INFO - Scheduler has been shut down\n"
     ]
    },
    {
     "name": "stdout",
     "output_type": "stream",
     "text": [
      "Excedeu as interações limite\n"
     ]
    },
    {
     "name": "stderr",
     "output_type": "stream",
     "text": [
      "2021-01-06 20:06:00,426 - apscheduler.scheduler - INFO - Scheduler started\n",
      "2021-01-06 20:06:33,092 - apscheduler.scheduler - INFO - Scheduler has been shut down\n"
     ]
    },
    {
     "name": "stdout",
     "output_type": "stream",
     "text": [
      "Excedeu as interações limite\n"
     ]
    },
    {
     "name": "stderr",
     "output_type": "stream",
     "text": [
      "2021-01-06 20:06:42,310 - apscheduler.scheduler - INFO - Scheduler started\n",
      "2021-01-06 20:07:14,706 - apscheduler.scheduler - INFO - Scheduler has been shut down\n"
     ]
    },
    {
     "name": "stdout",
     "output_type": "stream",
     "text": [
      "Excedeu as interações limite\n"
     ]
    },
    {
     "name": "stderr",
     "output_type": "stream",
     "text": [
      "2021-01-06 20:07:24,309 - apscheduler.scheduler - INFO - Scheduler started\n",
      "2021-01-06 20:07:56,492 - apscheduler.scheduler - INFO - Scheduler has been shut down\n"
     ]
    },
    {
     "name": "stdout",
     "output_type": "stream",
     "text": [
      "Excedeu as interações limite\n"
     ]
    },
    {
     "name": "stderr",
     "output_type": "stream",
     "text": [
      "2021-01-06 20:08:06,386 - apscheduler.scheduler - INFO - Scheduler started\n",
      "2021-01-06 20:08:37,573 - apscheduler.scheduler - INFO - Scheduler has been shut down\n"
     ]
    },
    {
     "name": "stdout",
     "output_type": "stream",
     "text": [
      "Excedeu as interações limite\n"
     ]
    },
    {
     "name": "stderr",
     "output_type": "stream",
     "text": [
      "2021-01-06 20:08:38,478 - apscheduler.scheduler - INFO - Scheduler started\n",
      "2021-01-06 20:09:10,401 - apscheduler.scheduler - INFO - Scheduler has been shut down\n"
     ]
    },
    {
     "name": "stdout",
     "output_type": "stream",
     "text": [
      "Excedeu as interações limite\n"
     ]
    },
    {
     "name": "stderr",
     "output_type": "stream",
     "text": [
      "2021-01-06 20:09:20,389 - apscheduler.scheduler - INFO - Scheduler started\n",
      "2021-01-06 20:09:51,646 - apscheduler.scheduler - INFO - Scheduler has been shut down\n"
     ]
    },
    {
     "name": "stdout",
     "output_type": "stream",
     "text": [
      "Excedeu as interações limite\n"
     ]
    },
    {
     "name": "stderr",
     "output_type": "stream",
     "text": [
      "2021-01-06 20:09:52,453 - apscheduler.scheduler - INFO - Scheduler started\n",
      "2021-01-06 20:10:25,266 - apscheduler.scheduler - INFO - Scheduler has been shut down\n"
     ]
    },
    {
     "name": "stdout",
     "output_type": "stream",
     "text": [
      "Excedeu as interações limite\n"
     ]
    },
    {
     "name": "stderr",
     "output_type": "stream",
     "text": [
      "2021-01-06 20:10:34,970 - apscheduler.scheduler - INFO - Scheduler started\n",
      "2021-01-06 20:11:07,887 - apscheduler.scheduler - INFO - Scheduler has been shut down\n"
     ]
    },
    {
     "name": "stdout",
     "output_type": "stream",
     "text": [
      "Excedeu as interações limite\n"
     ]
    },
    {
     "name": "stderr",
     "output_type": "stream",
     "text": [
      "2021-01-06 20:11:16,923 - apscheduler.scheduler - INFO - Scheduler started\n",
      "2021-01-06 20:11:50,166 - apscheduler.scheduler - INFO - Scheduler has been shut down\n"
     ]
    },
    {
     "name": "stdout",
     "output_type": "stream",
     "text": [
      "Excedeu as interações limite\n"
     ]
    },
    {
     "name": "stderr",
     "output_type": "stream",
     "text": [
      "2021-01-06 20:11:58,839 - apscheduler.scheduler - INFO - Scheduler started\n",
      "2021-01-06 20:12:34,281 - apscheduler.scheduler - INFO - Scheduler has been shut down\n"
     ]
    },
    {
     "name": "stdout",
     "output_type": "stream",
     "text": [
      "Excedeu as interações limite\n"
     ]
    },
    {
     "name": "stderr",
     "output_type": "stream",
     "text": [
      "2021-01-06 20:12:41,028 - apscheduler.scheduler - INFO - Scheduler started\n"
     ]
    }
   ],
   "source": [
    "bot = CjsBot()\n",
    "pontos = []\n",
    "pontos_y = []\n",
    "inicio = time.time()\n",
    "for i in range(values.shape[0]):\n",
    "    try:\n",
    "        x, y, caminho = grad_steps(values[i,:])\n",
    "        pontos.append(x)\n",
    "        pontos_y.append(net.objetivo(x))\n",
    "        bot.add_commandMessage('status', f\"Posição: {i}\")\n",
    "        #bot.create_commandMessage('tempo', f\"Tempo utilizado: \\n{time.strftime('%H horas %M minutos e %S segundos',time.gmtime(time.time()-inicio) )}\")\n",
    "        bot.start()\n",
    "    except:\n",
    "        continue\n",
    "pontos = np.array(pontos)\n",
    "pontos_y = np.array(pontos_y)\n",
    "centroide_c = calc_centroide(pontos)\n",
    "\n",
    "bot.send_message(f\"\"\"\n",
    "A simulação acabou:\n",
    "Target: {net.target}\n",
    "Centroide: {centroide_c}\n",
    "Distância entre centroide e target: {net.get_dist(centroide_c)}\n",
    "\n",
    "\"\"\")"
   ]
  },
  {
   "cell_type": "code",
   "execution_count": 15,
   "metadata": {},
   "outputs": [],
   "source": [
    "arq = open(\"teste1/result.txt\", 'w')\n",
    "np.savetxt(arq, pontos)\n",
    "arq.close()"
   ]
  },
  {
   "cell_type": "code",
   "execution_count": null,
   "metadata": {},
   "outputs": [],
   "source": [
    "centroide_c"
   ]
  },
  {
   "cell_type": "code",
   "execution_count": 24,
   "metadata": {},
   "outputs": [],
   "source": [
    "bot.send_message(f\"\"\"\n",
    "A simulação acabou:\n",
    "Target: {net.target}\n",
    "Centroide: {centroide_c}\n",
    "Distância entre centroide e target: {net.get_dist(centroide_c)}\n",
    "\n",
    "\"\"\")"
   ]
  },
  {
   "cell_type": "code",
   "execution_count": 26,
   "metadata": {},
   "outputs": [],
   "source": [
    "df = pd.DataFrame(pontos, columns=['g1','g2','g3'])"
   ]
  },
  {
   "cell_type": "code",
   "execution_count": 27,
   "metadata": {},
   "outputs": [
    {
     "data": {
      "text/html": [
       "<div>\n",
       "<style scoped>\n",
       "    .dataframe tbody tr th:only-of-type {\n",
       "        vertical-align: middle;\n",
       "    }\n",
       "\n",
       "    .dataframe tbody tr th {\n",
       "        vertical-align: top;\n",
       "    }\n",
       "\n",
       "    .dataframe thead th {\n",
       "        text-align: right;\n",
       "    }\n",
       "</style>\n",
       "<table border=\"1\" class=\"dataframe\">\n",
       "  <thead>\n",
       "    <tr style=\"text-align: right;\">\n",
       "      <th></th>\n",
       "      <th>g1</th>\n",
       "      <th>g2</th>\n",
       "      <th>g3</th>\n",
       "    </tr>\n",
       "  </thead>\n",
       "  <tbody>\n",
       "    <tr>\n",
       "      <th>0</th>\n",
       "      <td>0.015063</td>\n",
       "      <td>0.069133</td>\n",
       "      <td>0.103791</td>\n",
       "    </tr>\n",
       "    <tr>\n",
       "      <th>1</th>\n",
       "      <td>0.018097</td>\n",
       "      <td>0.066613</td>\n",
       "      <td>0.102498</td>\n",
       "    </tr>\n",
       "    <tr>\n",
       "      <th>2</th>\n",
       "      <td>0.001436</td>\n",
       "      <td>0.094724</td>\n",
       "      <td>0.130576</td>\n",
       "    </tr>\n",
       "    <tr>\n",
       "      <th>3</th>\n",
       "      <td>0.063969</td>\n",
       "      <td>0.034395</td>\n",
       "      <td>0.068373</td>\n",
       "    </tr>\n",
       "    <tr>\n",
       "      <th>4</th>\n",
       "      <td>0.055917</td>\n",
       "      <td>0.055752</td>\n",
       "      <td>0.098119</td>\n",
       "    </tr>\n",
       "    <tr>\n",
       "      <th>...</th>\n",
       "      <td>...</td>\n",
       "      <td>...</td>\n",
       "      <td>...</td>\n",
       "    </tr>\n",
       "    <tr>\n",
       "      <th>95</th>\n",
       "      <td>0.022236</td>\n",
       "      <td>0.060806</td>\n",
       "      <td>0.096117</td>\n",
       "    </tr>\n",
       "    <tr>\n",
       "      <th>96</th>\n",
       "      <td>0.026146</td>\n",
       "      <td>0.056878</td>\n",
       "      <td>0.090209</td>\n",
       "    </tr>\n",
       "    <tr>\n",
       "      <th>97</th>\n",
       "      <td>0.019742</td>\n",
       "      <td>0.065128</td>\n",
       "      <td>0.100015</td>\n",
       "    </tr>\n",
       "    <tr>\n",
       "      <th>98</th>\n",
       "      <td>-0.000554</td>\n",
       "      <td>0.088814</td>\n",
       "      <td>0.149635</td>\n",
       "    </tr>\n",
       "    <tr>\n",
       "      <th>99</th>\n",
       "      <td>0.018107</td>\n",
       "      <td>0.068215</td>\n",
       "      <td>0.103111</td>\n",
       "    </tr>\n",
       "  </tbody>\n",
       "</table>\n",
       "<p>100 rows × 3 columns</p>\n",
       "</div>"
      ],
      "text/plain": [
       "          g1        g2        g3\n",
       "0   0.015063  0.069133  0.103791\n",
       "1   0.018097  0.066613  0.102498\n",
       "2   0.001436  0.094724  0.130576\n",
       "3   0.063969  0.034395  0.068373\n",
       "4   0.055917  0.055752  0.098119\n",
       "..       ...       ...       ...\n",
       "95  0.022236  0.060806  0.096117\n",
       "96  0.026146  0.056878  0.090209\n",
       "97  0.019742  0.065128  0.100015\n",
       "98 -0.000554  0.088814  0.149635\n",
       "99  0.018107  0.068215  0.103111\n",
       "\n",
       "[100 rows x 3 columns]"
      ]
     },
     "execution_count": 27,
     "metadata": {},
     "output_type": "execute_result"
    }
   ],
   "source": [
    "df"
   ]
  },
  {
   "cell_type": "code",
   "execution_count": 28,
   "metadata": {},
   "outputs": [
    {
     "data": {
      "text/html": [
       "<div>\n",
       "<style scoped>\n",
       "    .dataframe tbody tr th:only-of-type {\n",
       "        vertical-align: middle;\n",
       "    }\n",
       "\n",
       "    .dataframe tbody tr th {\n",
       "        vertical-align: top;\n",
       "    }\n",
       "\n",
       "    .dataframe thead th {\n",
       "        text-align: right;\n",
       "    }\n",
       "</style>\n",
       "<table border=\"1\" class=\"dataframe\">\n",
       "  <thead>\n",
       "    <tr style=\"text-align: right;\">\n",
       "      <th></th>\n",
       "      <th>g1</th>\n",
       "      <th>g2</th>\n",
       "      <th>g3</th>\n",
       "    </tr>\n",
       "  </thead>\n",
       "  <tbody>\n",
       "    <tr>\n",
       "      <th>count</th>\n",
       "      <td>100.000000</td>\n",
       "      <td>100.000000</td>\n",
       "      <td>100.000000</td>\n",
       "    </tr>\n",
       "    <tr>\n",
       "      <th>mean</th>\n",
       "      <td>0.032096</td>\n",
       "      <td>0.065269</td>\n",
       "      <td>0.093530</td>\n",
       "    </tr>\n",
       "    <tr>\n",
       "      <th>std</th>\n",
       "      <td>0.026867</td>\n",
       "      <td>0.029392</td>\n",
       "      <td>0.025558</td>\n",
       "    </tr>\n",
       "    <tr>\n",
       "      <th>min</th>\n",
       "      <td>-0.000771</td>\n",
       "      <td>0.010709</td>\n",
       "      <td>0.034098</td>\n",
       "    </tr>\n",
       "    <tr>\n",
       "      <th>25%</th>\n",
       "      <td>0.015384</td>\n",
       "      <td>0.051042</td>\n",
       "      <td>0.079957</td>\n",
       "    </tr>\n",
       "    <tr>\n",
       "      <th>50%</th>\n",
       "      <td>0.022334</td>\n",
       "      <td>0.063196</td>\n",
       "      <td>0.097139</td>\n",
       "    </tr>\n",
       "    <tr>\n",
       "      <th>75%</th>\n",
       "      <td>0.044219</td>\n",
       "      <td>0.072410</td>\n",
       "      <td>0.105518</td>\n",
       "    </tr>\n",
       "    <tr>\n",
       "      <th>max</th>\n",
       "      <td>0.096913</td>\n",
       "      <td>0.195776</td>\n",
       "      <td>0.152323</td>\n",
       "    </tr>\n",
       "  </tbody>\n",
       "</table>\n",
       "</div>"
      ],
      "text/plain": [
       "               g1          g2          g3\n",
       "count  100.000000  100.000000  100.000000\n",
       "mean     0.032096    0.065269    0.093530\n",
       "std      0.026867    0.029392    0.025558\n",
       "min     -0.000771    0.010709    0.034098\n",
       "25%      0.015384    0.051042    0.079957\n",
       "50%      0.022334    0.063196    0.097139\n",
       "75%      0.044219    0.072410    0.105518\n",
       "max      0.096913    0.195776    0.152323"
      ]
     },
     "execution_count": 28,
     "metadata": {},
     "output_type": "execute_result"
    }
   ],
   "source": [
    "df.describe()"
   ]
  },
  {
   "cell_type": "code",
   "execution_count": 31,
   "metadata": {},
   "outputs": [
    {
     "data": {
      "text/plain": [
       "<seaborn.axisgrid.FacetGrid at 0x7fe699fc9f40>"
      ]
     },
     "execution_count": 31,
     "metadata": {},
     "output_type": "execute_result"
    },
    {
     "data": {
      "image/png": "[encoded data removed]",
      "text/plain": [
       "<Figure size 360x360 with 1 Axes>"
      ]
     },
     "metadata": {
      "needs_background": "light"
     },
     "output_type": "display_data"
    },
    {
     "data": {
      "image/png": "[encoded data removed]",
      "text/plain": [
       "<Figure size 360x360 with 1 Axes>"
      ]
     },
     "metadata": {
      "needs_background": "light"
     },
     "output_type": "display_data"
    },
    {
     "data": {
      "image/png": "[encoded data removed]",
      "text/plain": [
       "<Figure size 360x360 with 1 Axes>"
      ]
     },
     "metadata": {
      "needs_background": "light"
     },
     "output_type": "display_data"
    }
   ],
   "source": [
    "sns.displot(df['g1'])\n",
    "sns.displot(df['g2'])\n",
    "sns.displot(df['g3'])"
   ]
  },
  {
   "cell_type": "code",
   "execution_count": null,
   "metadata": {},
   "outputs": [],
   "source": [
    "}"
   ]
  }
 ],
 "metadata": {
  "kernelspec": {
   "display_name": "Python 3",
   "language": "python",
   "name": "python3"
  },
  "language_info": {
   "codemirror_mode": {
    "name": "ipython",
    "version": 3
   },
   "file_extension": ".py",
   "mimetype": "text/x-python",
   "name": "python",
   "nbconvert_exporter": "python",
   "pygments_lexer": "ipython3",
   "version": "3.8.5"
  }
 },
 "nbformat": 4,
 "nbformat_minor": 4
}
