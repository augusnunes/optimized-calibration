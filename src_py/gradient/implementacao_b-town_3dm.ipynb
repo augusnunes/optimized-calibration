{
 "cells": [
  {
   "cell_type": "code",
   "execution_count": 2,
   "metadata": {},
   "outputs": [],
   "source": [
    "import numpy as np\n",
    "import matplotlib.pyplot as plt\n",
    "import pandas as pd\n",
    "import epanet as epa\n",
    "import epamodule as em"
   ]
  },
  {
   "cell_type": "code",
   "execution_count": 3,
   "metadata": {},
   "outputs": [],
   "source": [
    "links = [\"../../networks/b-town/nodes\", \"../../networks/b-town/links\", \"../../networks/b-town/rede.inp\", \\\n",
    "         \"../../networks/b-town/3dim.csv\"]"
   ]
  },
  {
   "cell_type": "code",
   "execution_count": 4,
   "metadata": {},
   "outputs": [],
   "source": [
    "group_links = [[1,2,14,13,12,11,10,9,20],[15,16,17,18,19],[4,3,5,6,7,8]]\n",
    "# 2 => [15, 16, 17, 18, 19]\n",
    "# 3 => [4, 3, 5, 6, 7, 8]\n",
    "# 1 => [1, 2, 14, 13, 12, 11, 10, 9, 20]"
   ]
  },
  {
   "cell_type": "code",
   "execution_count": 5,
   "metadata": {},
   "outputs": [],
   "source": [
    "t = np.array([0.01, 0.079,0.115])"
   ]
  },
  {
   "cell_type": "code",
   "execution_count": 6,
   "metadata": {},
   "outputs": [
    {
     "name": "stdout",
     "output_type": "stream",
     "text": [
      "Começando simulação\n"
     ]
    }
   ],
   "source": [
    "net = epa.Rede(links, group_links, t)"
   ]
  },
  {
   "cell_type": "code",
   "execution_count": 7,
   "metadata": {},
   "outputs": [
    {
     "data": {
      "text/plain": [
       "array([-0.012,  0.   , -0.001])"
      ]
     },
     "execution_count": 7,
     "metadata": {},
     "output_type": "execute_result"
    }
   ],
   "source": [
    "net.gradient([0.01, 0.079, 0.115])"
   ]
  },
  {
   "cell_type": "code",
   "execution_count": null,
   "metadata": {},
   "outputs": [],
   "source": [
    "interacoes = 100\n",
    "lr = 0.001\n",
    "dim = 3\n",
    "x0 = np.array([0.002,0.1,0.100])\n",
    "x = np.zeros((interacoes,dim))\n",
    "x[0,:] = x0\n",
    "y = np.zeros((interacoes,))\n",
    "y[0] = net.objetivo(x0)\n",
    "for i in range(1,interacoes):\n",
    "    x[i,:] += x[i-1,:] - lr*net.gradient(x[i-1,:])\n",
    "    y[i] += net.objetivo(x[i,:]) "
   ]
  },
  {
   "cell_type": "code",
   "execution_count": null,
   "metadata": {
    "scrolled": true
   },
   "outputs": [],
   "source": [
    "plt.plot(y)"
   ]
  },
  {
   "cell_type": "code",
   "execution_count": null,
   "metadata": {},
   "outputs": [],
   "source": [
    "min(y)"
   ]
  },
  {
   "cell_type": "code",
   "execution_count": null,
   "metadata": {},
   "outputs": [],
   "source": [
    "lr = 0.001\n",
    "dim = 3\n",
    "x0 = np.array([0.002,0.1,0.100])\n",
    "x = x0\n",
    "y = [net.objetivo(x0)]\n",
    "i = 0\n",
    "values = [x0]\n",
    "while sum(abs(net.gradient(x)) > 0.1):\n",
    "    x -= lr*net.gradient(x)    \n",
    "    y.append(net.objetivo(x)) \n",
    "    values.append(x)\n",
    "    i+=1\n",
    "    if i > 200:\n",
    "        break"
   ]
  },
  {
   "cell_type": "code",
   "execution_count": null,
   "metadata": {},
   "outputs": [],
   "source": [
    "plt.plot(y[:90:])"
   ]
  },
  {
   "cell_type": "code",
   "execution_count": null,
   "metadata": {},
   "outputs": [],
   "source": [
    "values[y.index(min(y))]"
   ]
  },
  {
   "cell_type": "code",
   "execution_count": null,
   "metadata": {},
   "outputs": [],
   "source": [
    "bool(sum(x > 0))"
   ]
  },
  {
   "cell_type": "markdown",
   "metadata": {},
   "source": [
    "# Fazendo a função para aplicar em múltiplos pontos iniciais"
   ]
  },
  {
   "cell_type": "code",
   "execution_count": 26,
   "metadata": {},
   "outputs": [],
   "source": [
    "def grad_steps(x0, lr=0.001, max_interacoes=400):\n",
    "    dim = len(x0)\n",
    "    x = x0\n",
    "    y = [net.objetivo(x0)]\n",
    "    i = 0\n",
    "    values = [x0]\n",
    "    while sum(abs(net.gradient(x)) > 0.1):\n",
    "        x -= lr*net.gradient(x)    \n",
    "        y.append(net.objetivo(x)) \n",
    "        values.append(x)\n",
    "        i+=1\n",
    "        if i > max_interacoes:\n",
    "            print(\"Excedeu as interações limite\")\n",
    "            break\n",
    "        if sum(x<0):\n",
    "            print(\"Escapou do intervalo de confiança\")\n",
    "            break\n",
    "    net.restart()\n",
    "    return values[y.index(min(y))], y"
   ]
  },
  {
   "cell_type": "code",
   "execution_count": 13,
   "metadata": {},
   "outputs": [
    {
     "data": {
      "text/plain": [
       "array([0.09435675, 0.18852395, 0.14145076])"
      ]
     },
     "execution_count": 13,
     "metadata": {},
     "output_type": "execute_result"
    }
   ],
   "source": [
    "#x0 = np.random.random(3)*0.2 +0.001\n",
    "x0 = np.array([0.09435675, 0.18852395, 0.14145076])"
   ]
  },
  {
   "cell_type": "code",
   "execution_count": 16,
   "metadata": {},
   "outputs": [
    {
     "name": "stdout",
     "output_type": "stream",
     "text": [
      "Excedeu as interações limite\n"
     ]
    }
   ],
   "source": [
    "x, y = grad_steps(x0)"
   ]
  },
  {
   "cell_type": "code",
   "execution_count": 17,
   "metadata": {},
   "outputs": [
    {
     "data": {
      "text/plain": [
       "[<matplotlib.lines.Line2D at 0x7f90d3b46b80>]"
      ]
     },
     "execution_count": 17,
     "metadata": {},
     "output_type": "execute_result"
    },
    {
     "data": {
      "image/png": "[encoded data removed]",
      "text/plain": [
       "<Figure size 432x288 with 1 Axes>"
      ]
     },
     "metadata": {
      "needs_background": "light"
     },
     "output_type": "display_data"
    }
   ],
   "source": [
    "plt.plot(y)"
   ]
  },
  {
   "cell_type": "code",
   "execution_count": 18,
   "metadata": {},
   "outputs": [
    {
     "data": {
      "text/plain": [
       "array([0.00230275, 0.16758295, 0.14111576])"
      ]
     },
     "execution_count": 18,
     "metadata": {},
     "output_type": "execute_result"
    }
   ],
   "source": [
    "x"
   ]
  },
  {
   "cell_type": "code",
   "execution_count": 19,
   "metadata": {},
   "outputs": [
    {
     "data": {
      "text/plain": [
       "0.0926726481140464"
      ]
     },
     "execution_count": 19,
     "metadata": {},
     "output_type": "execute_result"
    }
   ],
   "source": [
    "net.get_dist(x)"
   ]
  },
  {
   "cell_type": "code",
   "execution_count": null,
   "metadata": {},
   "outputs": [],
   "source": [
    "x, y = grad_steps(x0, max_interacoes=400)"
   ]
  },
  {
   "cell_type": "code",
   "execution_count": null,
   "metadata": {},
   "outputs": [],
   "source": [
    "plt.plot(y)"
   ]
  },
  {
   "cell_type": "code",
   "execution_count": null,
   "metadata": {},
   "outputs": [],
   "source": [
    "x"
   ]
  },
  {
   "cell_type": "code",
   "execution_count": 15,
   "metadata": {},
   "outputs": [],
   "source": [
    "net.restart()"
   ]
  },
  {
   "cell_type": "markdown",
   "metadata": {},
   "source": [
    "# Gerando os números aleatórios"
   ]
  },
  {
   "cell_type": "code",
   "execution_count": 9,
   "metadata": {},
   "outputs": [],
   "source": [
    "#values = np.random.random((100,3))*0.2 +0.001"
   ]
  },
  {
   "cell_type": "code",
   "execution_count": 12,
   "metadata": {},
   "outputs": [],
   "source": [
    "# arq = open(\"teste1.txt\", 'w')\n",
    "# np.savetxt(arq, values)\n",
    "# arq.close()"
   ]
  },
  {
   "cell_type": "code",
   "execution_count": 14,
   "metadata": {},
   "outputs": [],
   "source": [
    "arq = open(\"teste1.txt\")\n",
    "values = np.loadtxt(arq)\n",
    "arq.close()"
   ]
  },
  {
   "cell_type": "code",
   "execution_count": 27,
   "metadata": {},
   "outputs": [],
   "source": [
    "net.restart()"
   ]
  },
  {
   "cell_type": "code",
   "execution_count": 28,
   "metadata": {},
   "outputs": [
    {
     "name": "stdout",
     "output_type": "stream",
     "text": [
      "Excedeu as interações limite\n",
      "0 [0.00832063 0.09262374 0.11578415]\n",
      "\n",
      "Excedeu as interações limite\n",
      "1 [0.01006734 0.09410777 0.11719681]\n",
      "\n",
      "Excedeu as interações limite\n",
      "3 [0.01007716 0.09405726 0.1171708 ]\n",
      "\n",
      "Excedeu as interações limite\n",
      "5 [0.00855389 0.07281928 0.1238765 ]\n",
      "\n",
      "Excedeu as interações limite\n",
      "6 [0.00878549 0.07018028 0.11599268]\n",
      "\n",
      "Excedeu as interações limite\n",
      "7 [0.01001547 0.09433832 0.11729988]\n",
      "\n",
      "Excedeu as interações limite\n",
      "8 [0.00929945 0.08066345 0.11177863]\n",
      "\n",
      "Excedeu as interações limite\n",
      "9 [0.00988306 0.0656234  0.11293975]\n",
      "\n",
      "Excedeu as interações limite\n",
      "10 [0.01211505 0.05840022 0.10729514]\n",
      "\n",
      "Excedeu as interações limite\n",
      "11 [0.01256642 0.05636105 0.10594625]\n",
      "\n",
      "Excedeu as interações limite\n",
      "12 [0.01191405 0.06452389 0.11264305]\n",
      "\n",
      "Excedeu as interações limite\n",
      "15 [0.01183167 0.06541169 0.11331316]\n",
      "\n",
      "Excedeu as interações limite\n",
      "16 [0.00531375 0.124453   0.12966331]\n",
      "\n",
      "Excedeu as interações limite\n",
      "17 [0.01064945 0.09061786 0.10784968]\n",
      "\n",
      "Excedeu as interações limite\n",
      "20 [0.0118578  0.06505867 0.11306826]\n",
      "\n",
      "Excedeu as interações limite\n",
      "21 [0.01293003 0.06677878 0.10783617]\n",
      "\n",
      "Excedeu as interações limite\n",
      "24 [0.01195115 0.06439331 0.11246714]\n",
      "\n",
      "Excedeu as interações limite\n",
      "25 [0.00923153 0.08181507 0.11210159]\n",
      "\n",
      "Excedeu as interações limite\n",
      "26 [0.01038773 0.09264013 0.11634073]\n",
      "\n",
      "Excedeu as interações limite\n",
      "27 [0.00995429 0.09459843 0.11740718]\n",
      "\n",
      "Excedeu as interações limite\n",
      "28 [0.00934096 0.08029173 0.11160027]\n",
      "\n",
      "Excedeu as interações limite\n",
      "30 [0.01187563 0.06467868 0.11281565]\n",
      "\n",
      "Excedeu as interações limite\n",
      "33 [0.01183748 0.06535576 0.113272  ]\n",
      "\n",
      "Excedeu as interações limite\n",
      "34 [0.01540217 0.04498038 0.09802724]\n",
      "\n",
      "Excedeu as interações limite\n",
      "35 [0.00820767 0.09414968 0.11668386]\n",
      "\n",
      "Excedeu as interações limite\n",
      "36 [0.01083738 0.0768954  0.1182326 ]\n",
      "\n",
      "Excedeu as interações limite\n",
      "37 [0.0072576  0.10777838 0.12505893]\n",
      "\n",
      "Excedeu as interações limite\n",
      "38 [0.00995078 0.09461278 0.11741646]\n",
      "\n",
      "Excedeu as interações limite\n",
      "39 [0.01248146 0.06908454 0.11027736]\n",
      "\n",
      "Excedeu as interações limite\n",
      "40 [0.00889493 0.14254476 0.11540751]\n",
      "\n",
      "Excedeu as interações limite\n",
      "41 [0.01000041 0.09440535 0.11733102]\n",
      "\n",
      "Excedeu as interações limite\n",
      "42 [0.01065953 0.09845861 0.10413197]\n",
      "\n",
      "Excedeu as interações limite\n",
      "44 [0.01057335 0.08173457 0.11943284]\n",
      "\n",
      "Excedeu as interações limite\n",
      "45 [0.00971658 0.12604604 0.10197456]\n",
      "\n",
      "Excedeu as interações limite\n",
      "46 [0.01103046 0.07050392 0.11689853]\n",
      "\n",
      "Excedeu as interações limite\n",
      "48 [0.01151757 0.08624149 0.11368097]\n",
      "\n",
      "Excedeu as interações limite\n",
      "51 [0.01241828 0.0691574  0.110782  ]\n",
      "\n",
      "Excedeu as interações limite\n",
      "53 [0.0122217  0.05791547 0.10697507]\n",
      "\n",
      "Excedeu as interações limite\n",
      "54 [0.00964547 0.13001201 0.10280089]\n",
      "\n",
      "Excedeu as interações limite\n",
      "56 [0.01134225 0.06358761 0.10727413]\n",
      "\n",
      "Excedeu as interações limite\n",
      "58 [0.0092784  0.07946854 0.1118819 ]\n",
      "\n",
      "Excedeu as interações limite\n",
      "59 [0.01184313 0.06527173 0.11321376]\n",
      "\n",
      "Excedeu as interações limite\n",
      "60 [0.01051569 0.11849201 0.09649198]\n",
      "\n",
      "Excedeu as interações limite\n",
      "61 [0.01018557 0.06451183 0.11217502]\n",
      "\n",
      "Excedeu as interações limite\n",
      "62 [0.00933917 0.07821329 0.11144301]\n",
      "\n",
      "Excedeu as interações limite\n",
      "63 [0.01132248 0.15051454 0.07845892]\n",
      "\n",
      "Excedeu as interações limite\n",
      "65 [0.00494183 0.11762464 0.12996284]\n",
      "\n",
      "Excedeu as interações limite\n",
      "67 [0.01176724 0.0659859  0.11375534]\n",
      "\n",
      "Excedeu as interações limite\n",
      "68 [0.01007839 0.06489608 0.11244148]\n",
      "\n",
      "Excedeu as interações limite\n",
      "72 [0.00778391 0.09826853 0.11990746]\n",
      "\n",
      "Excedeu as interações limite\n",
      "73 [0.01864974 0.03409206 0.09067855]\n",
      "\n",
      "Excedeu as interações limite\n",
      "74 [0.0078358  0.08071788 0.11854599]\n",
      "\n",
      "Excedeu as interações limite\n",
      "75 [0.00913867 0.13956866 0.11108468]\n",
      "\n",
      "Excedeu as interações limite\n",
      "77 [0.00782522 0.08451469 0.11875974]\n",
      "\n",
      "Excedeu as interações limite\n",
      "78 [0.01031077 0.15377114 0.08879828]\n",
      "\n",
      "Excedeu as interações limite\n",
      "79 [0.00960246 0.13872693 0.10262032]\n",
      "\n",
      "Excedeu as interações limite\n",
      "80 [0.00879735 0.0703828  0.1156176 ]\n",
      "\n",
      "Excedeu as interações limite\n",
      "82 [0.00834021 0.08572912 0.11562743]\n",
      "\n",
      "Excedeu as interações limite\n",
      "83 [0.00477039 0.14440183 0.1325779 ]\n",
      "\n",
      "Excedeu as interações limite\n",
      "86 [0.01079267 0.08245025 0.11889762]\n",
      "\n",
      "Excedeu as interações limite\n",
      "87 [0.00822169 0.09380451 0.11649421]\n",
      "\n",
      "Excedeu as interações limite\n",
      "88 [0.01084239 0.0685528  0.10773076]\n",
      "\n",
      "Excedeu as interações limite\n",
      "89 [0.00404579 0.12096961 0.13261066]\n",
      "\n",
      "Excedeu as interações limite\n",
      "90 [0.00998163 0.09447973 0.11736302]\n",
      "\n",
      "Excedeu as interações limite\n",
      "91 [0.0160385  0.04577426 0.09808715]\n",
      "\n",
      "Excedeu as interações limite\n",
      "92 [0.01136825 0.06250037 0.10749751]\n",
      "\n",
      "Excedeu as interações limite\n",
      "93 [0.00890181 0.12379212 0.11747616]\n",
      "\n",
      "Excedeu as interações limite\n",
      "95 [0.00906725 0.11500473 0.11536401]\n",
      "\n",
      "Excedeu as interações limite\n",
      "96 [0.01200731 0.0641394  0.11214988]\n",
      "\n",
      "Excedeu as interações limite\n",
      "97 [0.00754807 0.08991753 0.11978438]\n",
      "\n",
      "Excedeu as interações limite\n",
      "98 [0.00993807 0.06541927 0.11278383]\n",
      "\n",
      "Excedeu as interações limite\n",
      "99 [0.00295684 0.13681273 0.13821344]\n",
      "\n"
     ]
    }
   ],
   "source": [
    "pontos = []\n",
    "pontos_y = []\n",
    "for i in range(values.shape[0]):\n",
    "    try:\n",
    "        x, y = grad_steps(values[i,:])\n",
    "        pontos.append(x)\n",
    "        pontos_y.append(net.objetivo(x))\n",
    "        print(i, x)\n",
    "        print()\n",
    "    except:\n",
    "        continue"
   ]
  },
  {
   "cell_type": "code",
   "execution_count": 50,
   "metadata": {
    "scrolled": true
   },
   "outputs": [],
   "source": [
    "pontos = np.array(pontos)\n",
    "pontos_y = np.array(pontos_y)"
   ]
  },
  {
   "cell_type": "code",
   "execution_count": 34,
   "metadata": {},
   "outputs": [],
   "source": [
    "arq = open(\"teste1/result.txt\", 'w')\n",
    "np.savetxt(arq, pontos)\n",
    "arq.close()"
   ]
  },
  {
   "cell_type": "code",
   "execution_count": 51,
   "metadata": {},
   "outputs": [
    {
     "data": {
      "text/plain": [
       "[<matplotlib.lines.Line2D at 0x7f1541ffe040>]"
      ]
     },
     "execution_count": 51,
     "metadata": {},
     "output_type": "execute_result"
    },
    {
     "data": {
      "image/png": "[encoded data removed]",
      "text/plain": [
       "<Figure size 432x288 with 1 Axes>"
      ]
     },
     "metadata": {
      "needs_background": "light"
     },
     "output_type": "display_data"
    }
   ],
   "source": [
    "plt.plot(pontos_y)"
   ]
  },
  {
   "cell_type": "code",
   "execution_count": 52,
   "metadata": {},
   "outputs": [
    {
     "data": {
      "text/plain": [
       "0.004419986112618147"
      ]
     },
     "execution_count": 52,
     "metadata": {},
     "output_type": "execute_result"
    }
   ],
   "source": [
    "pontos_y.mean()"
   ]
  },
  {
   "cell_type": "code",
   "execution_count": 59,
   "metadata": {},
   "outputs": [
    {
     "data": {
      "text/plain": [
       "array([0.00320286, 0.00290701, 0.00291549, 0.00352679, 0.00376182,\n",
       "       0.00283909, 0.00387573, 0.0028766 , 0.00276195, 0.00301891,\n",
       "       0.00271278, 0.0029565 , 0.00501166, 0.00332483, 0.00285477,\n",
       "       0.00277827, 0.0026989 , 0.00376754, 0.00318442, 0.00274976,\n",
       "       0.00389979, 0.00272348, 0.00294357, 0.00445429, 0.00288211,\n",
       "       0.00420549, 0.00333648, 0.00274626, 0.00324864, 0.00892353,\n",
       "       0.00282023, 0.00494523, 0.00461811, 0.00905122, 0.00334697,\n",
       "       0.00422933, 0.00339381, 0.00282256, 0.00943216, 0.00350126,\n",
       "       0.0039835 , 0.00291782, 0.00889768, 0.00258308, 0.00419543,\n",
       "       0.01642185, 0.00415611, 0.00309372, 0.00269032, 0.00250011,\n",
       "       0.0056448 , 0.00402832, 0.00926251, 0.00358539, 0.01494567,\n",
       "       0.01059172, 0.00393772, 0.00385496, 0.00715987, 0.00499344,\n",
       "       0.00297684, 0.00358582, 0.00462765, 0.00279151, 0.00403637,\n",
       "       0.00343037, 0.00616572, 0.00532521, 0.00264168, 0.0033066 ,\n",
       "       0.00283368, 0.00582335])"
      ]
     },
     "execution_count": 59,
     "metadata": {},
     "output_type": "execute_result"
    }
   ],
   "source": []
  },
  {
   "cell_type": "code",
   "execution_count": 53,
   "metadata": {
    "scrolled": true
   },
   "outputs": [
    {
     "data": {
      "text/plain": [
       "[<matplotlib.lines.Line2D at 0x7f1542079fa0>]"
      ]
     },
     "execution_count": 53,
     "metadata": {},
     "output_type": "execute_result"
    },
    {
     "data": {
      "image/png": "[encoded data removed]",
      "text/plain": [
       "<Figure size 432x288 with 1 Axes>"
      ]
     },
     "metadata": {
      "needs_background": "light"
     },
     "output_type": "display_data"
    }
   ],
   "source": [
    "plt.plot(pontos_y[np.where(pontos_y<=pontos_y.mean())])"
   ]
  },
  {
   "cell_type": "code",
   "execution_count": 54,
   "metadata": {},
   "outputs": [],
   "source": [
    "indices = np.where(pontos_y<=pontos_y.mean())"
   ]
  },
  {
   "cell_type": "markdown",
   "metadata": {},
   "source": [
    "# Calculando Centróide dos pontos resultantes"
   ]
  },
  {
   "cell_type": "markdown",
   "metadata": {},
   "source": [
    "## Centróide:"
   ]
  },
  {
   "cell_type": "code",
   "execution_count": 35,
   "metadata": {},
   "outputs": [],
   "source": [
    "def calc_centroide(vetor_pontos):\n",
    "    tamanho = vetor_pontos.shape[0]\n",
    "    v = []\n",
    "    for i in range(vetor_pontos.shape[1]):\n",
    "        v.append(vetor_pontos[:,i].sum()/tamanho)\n",
    "    return v\n",
    "    "
   ]
  },
  {
   "cell_type": "code",
   "execution_count": 36,
   "metadata": {},
   "outputs": [],
   "source": [
    "v = calc_centroide(pontos)"
   ]
  },
  {
   "cell_type": "code",
   "execution_count": 40,
   "metadata": {},
   "outputs": [
    {
     "data": {
      "text/plain": [
       "[0.01006880326016945, 0.0875926346996257, 0.11300749327287618]"
      ]
     },
     "execution_count": 40,
     "metadata": {},
     "output_type": "execute_result"
    }
   ],
   "source": [
    "v"
   ]
  },
  {
   "cell_type": "code",
   "execution_count": 42,
   "metadata": {},
   "outputs": [
    {
     "data": {
      "text/plain": [
       "array([0.01 , 0.079, 0.115])"
      ]
     },
     "execution_count": 42,
     "metadata": {},
     "output_type": "execute_result"
    }
   ],
   "source": [
    "net.target"
   ]
  },
  {
   "cell_type": "markdown",
   "metadata": {},
   "source": [
    "### Calculando Centróide dos pontos abaixo da média"
   ]
  },
  {
   "cell_type": "code",
   "execution_count": 55,
   "metadata": {
    "scrolled": true
   },
   "outputs": [
    {
     "data": {
      "text/plain": [
       "[0.010276857784830782, 0.07735554166567311, 0.11399676764509119]"
      ]
     },
     "execution_count": 55,
     "metadata": {},
     "output_type": "execute_result"
    }
   ],
   "source": [
    "calc_centroide(pontos[indices])"
   ]
  },
  {
   "cell_type": "markdown",
   "metadata": {},
   "source": [
    "## Distancia do Centróide ao ponto Target"
   ]
  },
  {
   "cell_type": "code",
   "execution_count": 39,
   "metadata": {},
   "outputs": [
    {
     "data": {
      "text/plain": [
       "0.008820894967488002"
      ]
     },
     "execution_count": 39,
     "metadata": {},
     "output_type": "execute_result"
    }
   ],
   "source": [
    "net.get_dist(v) # isso tem que tender a 0"
   ]
  },
  {
   "cell_type": "code",
   "execution_count": 56,
   "metadata": {},
   "outputs": [
    {
     "data": {
      "text/plain": [
       "0.0019461162874541847"
      ]
     },
     "execution_count": 56,
     "metadata": {},
     "output_type": "execute_result"
    }
   ],
   "source": [
    "net.get_dist(calc_centroide(pontos[indices]))"
   ]
  },
  {
   "cell_type": "markdown",
   "metadata": {},
   "source": [
    "# Gerando uma quantidade maior de pontos"
   ]
  },
  {
   "cell_type": "code",
   "execution_count": 44,
   "metadata": {},
   "outputs": [],
   "source": [
    "# values = np.random.random((500,3))*0.2 +0.001"
   ]
  },
  {
   "cell_type": "code",
   "execution_count": 45,
   "metadata": {},
   "outputs": [],
   "source": [
    "# arq = open(\"teste2/teste2.txt\", 'w')\n",
    "# np.savetxt(arq, values)\n",
    "# arq.close()"
   ]
  },
  {
   "cell_type": "code",
   "execution_count": null,
   "metadata": {},
   "outputs": [],
   "source": [
    "arq = open(\"teste2/teste2.txt\")\n",
    "values = np.loadtxt(arq)\n",
    "arq.close()"
   ]
  },
  {
   "cell_type": "code",
   "execution_count": 46,
   "metadata": {},
   "outputs": [],
   "source": [
    "net.restart()"
   ]
  },
  {
   "cell_type": "code",
   "execution_count": 60,
   "metadata": {},
   "outputs": [
    {
     "name": "stdout",
     "output_type": "stream",
     "text": [
      "Excedeu as interações limite\n",
      "0 [0.00910282 0.11994653 0.11406675]\n",
      "\n",
      "Excedeu as interações limite\n",
      "1 [0.01206841 0.08157649 0.11290617]\n",
      "\n",
      "Excedeu as interações limite\n",
      "3 [0.01128139 0.08771704 0.11426929]\n",
      "\n",
      "Excedeu as interações limite\n",
      "5 [0.00900441 0.08383144 0.11275139]\n",
      "\n",
      "Excedeu as interações limite\n",
      "6 [0.01005598 0.09415412 0.11721708]\n",
      "\n",
      "Excedeu as interações limite\n",
      "7 [0.00921083 0.08330071 0.11212239]\n",
      "\n",
      "Excedeu as interações limite\n",
      "8 [0.01452041 0.04833284 0.10037984]\n",
      "\n",
      "Excedeu as interações limite\n",
      "9 [0.01163472 0.06186378 0.10676504]\n",
      "\n",
      "Excedeu as interações limite\n",
      "10 [0.0121436  0.08044081 0.11222228]\n",
      "\n",
      "Excedeu as interações limite\n",
      "11 [0.00390564 0.13010508 0.13678734]\n",
      "\n",
      "Excedeu as interações limite\n",
      "15 [0.01222696 0.07651707 0.11148442]\n",
      "\n",
      "Excedeu as interações limite\n",
      "16 [0.0069874  0.09478539 0.12267518]\n",
      "\n",
      "Excedeu as interações limite\n",
      "17 [0.01807905 0.03637975 0.09214044]\n",
      "\n",
      "Excedeu as interações limite\n",
      "18 [0.01031739 0.0641465  0.11169237]\n",
      "\n",
      "Excedeu as interações limite\n",
      "20 [0.00998553 0.06524366 0.11265467]\n",
      "\n",
      "Excedeu as interações limite\n",
      "21 [0.01138945 0.06516127 0.10692331]\n",
      "\n",
      "Excedeu as interações limite\n",
      "22 [0.01067452 0.09137642 0.10725341]\n",
      "\n",
      "Excedeu as interações limite\n",
      "25 [0.01040178 0.06388363 0.11145669]\n",
      "\n",
      "Excedeu as interações limite\n",
      "27 [0.00938754 0.07483141 0.11100442]\n",
      "\n",
      "Excedeu as interações limite\n",
      "28 [0.01090206 0.06264806 0.11013493]\n",
      "\n",
      "Excedeu as interações limite\n",
      "29 [0.0122344  0.07711807 0.11146416]\n",
      "\n",
      "Excedeu as interações limite\n",
      "30 [0.01081996 0.09052497 0.11538174]\n",
      "\n",
      "Excedeu as interações limite\n",
      "31 [0.00768693 0.10492121 0.12367147]\n",
      "\n",
      "Excedeu as interações limite\n",
      "36 [0.01065488 0.10947867 0.09929841]\n",
      "\n",
      "Excedeu as interações limite\n",
      "37 [0.01205481 0.08165676 0.11299287]\n",
      "\n",
      "Excedeu as interações limite\n",
      "38 [0.01110813 0.08481665 0.11748333]\n",
      "\n",
      "Excedeu as interações limite\n",
      "39 [0.00820881 0.09406086 0.11663888]\n",
      "\n",
      "Excedeu as interações limite\n",
      "40 [0.01186794 0.06473689 0.11286136]\n",
      "\n",
      "Excedeu as interações limite\n",
      "41 [0.00987982 0.11122421 0.104399  ]\n",
      "\n",
      "Excedeu as interações limite\n",
      "42 [0.01037302 0.06397691 0.11153656]\n",
      "\n",
      "Excedeu as interações limite\n",
      "43 [0.01206772 0.06369864 0.11174886]\n",
      "\n",
      "Excedeu as interações limite\n",
      "44 [0.00723763 0.10258043 0.1223028 ]\n",
      "\n",
      "Excedeu as interações limite\n",
      "45 [0.00979189 0.07062043 0.10997738]\n",
      "\n",
      "Excedeu as interações limite\n",
      "46 [0.01020003 0.06446885 0.11211901]\n",
      "\n",
      "Excedeu as interações limite\n",
      "47 [0.00966532 0.09565221 0.11814128]\n",
      "\n",
      "Excedeu as interações limite\n",
      "48 [0.01215464 0.07488951 0.10568038]\n",
      "\n",
      "Excedeu as interações limite\n",
      "49 [0.01063309 0.06319306 0.11078052]\n",
      "\n",
      "Excedeu as interações limite\n",
      "51 [0.01039418 0.08973087 0.11020708]\n",
      "\n",
      "Excedeu as interações limite\n",
      "52 [0.0114284  0.07043437 0.11608387]\n",
      "\n",
      "Excedeu as interações limite\n",
      "53 [0.01515304 0.04701019 0.09869312]\n",
      "\n",
      "Excedeu as interações limite\n",
      "54 [0.00769742 0.08563162 0.1194878 ]\n",
      "\n",
      "Excedeu as interações limite\n",
      "55 [0.01179919 0.06569968 0.11353531]\n",
      "\n",
      "Excedeu as interações limite\n",
      "56 [0.01219339 0.0790624  0.1118168 ]\n",
      "\n",
      "Excedeu as interações limite\n",
      "58 [0.00830849 0.10084823 0.12167209]\n",
      "\n",
      "Excedeu as interações limite\n",
      "59 [0.01185376 0.06512244 0.1131105 ]\n",
      "\n",
      "Excedeu as interações limite\n",
      "60 [0.00710374 0.09539325 0.1218481 ]\n",
      "\n",
      "Excedeu as interações limite\n",
      "61 [0.0105032  0.08738321 0.1195822 ]\n",
      "\n",
      "Excedeu as interações limite\n",
      "62 [0.01173857 0.06625741 0.11395591]\n",
      "\n",
      "Excedeu as interações limite\n",
      "64 [0.0117848  0.06728169 0.1142417 ]\n",
      "\n",
      "Excedeu as interações limite\n",
      "65 [0.00781343 0.10407964 0.12325835]\n",
      "\n",
      "Excedeu as interações limite\n",
      "66 [0.00874408 0.09436203 0.12344816]\n",
      "\n",
      "Excedeu as interações limite\n",
      "68 [0.00943339 0.08069884 0.11136088]\n",
      "\n",
      "Excedeu as interações limite\n",
      "70 [0.00832226 0.12584107 0.12165204]\n",
      "\n",
      "Excedeu as interações limite\n",
      "71 [0.00986833 0.09496029 0.11760821]\n",
      "\n",
      "Excedeu as interações limite\n",
      "72 [0.01059787 0.0874245  0.11912083]\n",
      "\n",
      "Excedeu as interações limite\n",
      "73 [0.01018805 0.11498384 0.10076186]\n",
      "\n",
      "Excedeu as interações limite\n",
      "74 [0.01169572 0.08512825 0.11323714]\n",
      "\n",
      "Excedeu as interações limite\n",
      "77 [0.01000436 0.06517206 0.11260625]\n",
      "\n",
      "Excedeu as interações limite\n",
      "79 [0.00995531 0.09459426 0.11740707]\n",
      "\n",
      "Excedeu as interações limite\n",
      "80 [0.01022924 0.09336751 0.11676946]\n",
      "\n",
      "Excedeu as interações limite\n",
      "84 [0.01290166 0.0653953  0.10820743]\n",
      "\n",
      "Excedeu as interações limite\n",
      "85 [0.00971781 0.11633389 0.10360779]\n",
      "\n",
      "Excedeu as interações limite\n",
      "87 [0.01031496 0.14165124 0.08992774]\n",
      "\n",
      "Excedeu as interações limite\n",
      "89 [0.00880606 0.07046655 0.115428  ]\n",
      "\n",
      "Excedeu as interações limite\n",
      "90 [0.00795433 0.08636146 0.11761418]\n",
      "\n",
      "Excedeu as interações limite\n",
      "91 [0.00627805 0.10800007 0.12658184]\n",
      "\n",
      "Excedeu as interações limite\n",
      "92 [0.01020917 0.09345797 0.11682361]\n",
      "\n",
      "Excedeu as interações limite\n",
      "93 [0.00955045 0.09609211 0.11835238]\n",
      "\n",
      "Excedeu as interações limite\n",
      "94 [0.00813367 0.13630731 0.12298847]\n",
      "\n",
      "Excedeu as interações limite\n",
      "95 [0.0094924  0.07817526 0.1109701 ]\n",
      "\n",
      "Excedeu as interações limite\n",
      "96 [0.00942635 0.07358278 0.11080512]\n",
      "\n",
      "Excedeu as interações limite\n",
      "98 [0.0119642  0.08299034 0.11299959]\n",
      "\n",
      "Excedeu as interações limite\n",
      "100 [0.01300801 0.05810762 0.10737139]\n",
      "\n",
      "Excedeu as interações limite\n",
      "101 [0.01183221 0.06539836 0.11330436]\n",
      "\n",
      "Excedeu as interações limite\n",
      "102 [0.01222806 0.06250596 0.11037813]\n",
      "\n",
      "Excedeu as interações limite\n",
      "103 [0.01109789 0.11661646 0.09302541]\n",
      "\n",
      "Excedeu as interações limite\n",
      "105 [0.0070026  0.09331192 0.12278709]\n",
      "\n",
      "Excedeu as interações limite\n",
      "107 [0.01129812 0.08637331 0.10495708]\n",
      "\n",
      "Excedeu as interações limite\n",
      "108 [0.00948771 0.09636283 0.11850994]\n",
      "\n",
      "Excedeu as interações limite\n",
      "109 [0.00984792 0.09505227 0.11767717]\n",
      "\n",
      "Excedeu as interações limite\n",
      "111 [0.00868826 0.09874328 0.12059572]\n",
      "\n",
      "Excedeu as interações limite\n",
      "112 [0.01063149 0.08127039 0.11922871]\n",
      "\n",
      "Excedeu as interações limite\n",
      "113 [0.00537227 0.1324574  0.13001556]\n",
      "\n",
      "Excedeu as interações limite\n",
      "114 [0.01127779 0.12057082 0.09012529]\n",
      "\n",
      "Excedeu as interações limite\n",
      "118 [0.01175705 0.06607554 0.11382051]\n",
      "\n",
      "Excedeu as interações limite\n",
      "119 [0.00810086 0.09541781 0.11759955]\n",
      "\n",
      "Excedeu as interações limite\n",
      "121 [0.00983846 0.09509587 0.11771231]\n",
      "\n",
      "Excedeu as interações limite\n",
      "122 [0.01034818 0.06405764 0.1116062 ]\n",
      "\n",
      "Excedeu as interações limite\n",
      "123 [0.00637439 0.10829503 0.12510541]\n",
      "\n",
      "Excedeu as interações limite\n",
      "124 [0.01437933 0.05226846 0.10343696]\n",
      "\n",
      "Excedeu as interações limite\n",
      "127 [0.00873342 0.09441695 0.12346741]\n",
      "\n",
      "Excedeu as interações limite\n",
      "128 [0.0118376  0.06534421 0.11326503]\n",
      "\n",
      "Excedeu as interações limite\n",
      "129 [0.00707594 0.09174355 0.12255366]\n",
      "\n",
      "Excedeu as interações limite\n",
      "130 [0.01524138 0.04873307 0.1009424 ]\n",
      "\n",
      "Excedeu as interações limite\n",
      "131 [0.00820873 0.09404762 0.11663415]\n",
      "\n",
      "Excedeu as interações limite\n",
      "132 [0.0118717  0.06470407 0.11283696]\n",
      "\n",
      "Excedeu as interações limite\n",
      "133 [0.00422943 0.12740857 0.13360214]\n",
      "\n",
      "Excedeu as interações limite\n",
      "134 [0.00932531 0.13731037 0.10782549]\n",
      "\n",
      "Excedeu as interações limite\n",
      "135 [0.01210984 0.06345479 0.11151018]\n",
      "\n",
      "Excedeu as interações limite\n",
      "137 [0.00747515 0.10632175 0.12435261]\n",
      "\n",
      "Excedeu as interações limite\n",
      "138 [0.01300757 0.06566894 0.10754242]\n",
      "\n",
      "Excedeu as interações limite\n",
      "139 [0.00882208 0.1227662  0.11915306]\n",
      "\n",
      "Excedeu as interações limite\n",
      "142 [0.011792   0.06576607 0.11358428]\n",
      "\n",
      "Excedeu as interações limite\n",
      "144 [0.00905644 0.09138721 0.12301734]\n",
      "\n",
      "Excedeu as interações limite\n",
      "145 [0.01221327 0.07316553 0.11165164]\n",
      "\n",
      "Excedeu as interações limite\n",
      "147 [0.01218654 0.07918556 0.11186666]\n",
      "\n",
      "Excedeu as interações limite\n",
      "152 [0.01134851 0.06479678 0.10707114]\n",
      "\n",
      "Excedeu as interações limite\n",
      "153 [0.00825754 0.09338356 0.11623714]\n",
      "\n",
      "Excedeu as interações limite\n",
      "155 [0.00262952 0.14062962 0.13932949]\n",
      "\n",
      "Excedeu as interações limite\n",
      "157 [0.01046433 0.06369617 0.11128362]\n",
      "\n",
      "Excedeu as interações limite\n",
      "158 [0.01035468 0.06403626 0.11158772]\n",
      "\n",
      "Excedeu as interações limite\n",
      "160 [0.00736254 0.107077   0.12472012]\n",
      "\n",
      "Excedeu as interações limite\n",
      "161 [0.01528402 0.04872789 0.10090343]\n",
      "\n",
      "Excedeu as interações limite\n",
      "162 [0.00935973 0.07927372 0.11145486]\n",
      "\n",
      "Excedeu as interações limite\n",
      "163 [0.00968514 0.09558293 0.11811396]\n",
      "\n",
      "Excedeu as interações limite\n",
      "164 [0.01459505 0.05293308 0.10309013]\n",
      "\n",
      "Excedeu as interações limite\n",
      "165 [0.00614544 0.10984202 0.12585589]\n",
      "\n",
      "Excedeu as interações limite\n",
      "166 [0.01392979 0.0541501  0.1047464 ]\n",
      "\n",
      "Excedeu as interações limite\n",
      "167 [0.01412055 0.05334289 0.10418797]\n",
      "\n",
      "Excedeu as interações limite\n",
      "168 [0.00268967 0.13251428 0.1379202 ]\n",
      "\n"
     ]
    },
    {
     "name": "stdout",
     "output_type": "stream",
     "text": [
      "Excedeu as interações limite\n",
      "170 [0.00867104 0.07421742 0.12106759]\n",
      "\n",
      "Excedeu as interações limite\n",
      "171 [0.0104563  0.08769962 0.11966062]\n",
      "\n",
      "Excedeu as interações limite\n",
      "172 [0.0114004  0.07045778 0.11616174]\n",
      "\n",
      "Excedeu as interações limite\n",
      "174 [0.00824526 0.09350605 0.11631588]\n",
      "\n",
      "Excedeu as interações limite\n",
      "175 [0.01637673 0.04416573 0.09773309]\n",
      "\n",
      "Excedeu as interações limite\n",
      "176 [0.00382676 0.13062137 0.13701747]\n",
      "\n",
      "Excedeu as interações limite\n",
      "177 [0.01054794 0.13841755 0.0883436 ]\n",
      "\n",
      "Excedeu as interações limite\n",
      "178 [0.01025821 0.064307   0.1119021 ]\n",
      "\n",
      "Excedeu as interações limite\n",
      "180 [0.00461417 0.11980028 0.13111046]\n",
      "\n",
      "Excedeu as interações limite\n",
      "181 [0.00915633 0.12142895 0.11285504]\n",
      "\n",
      "Excedeu as interações limite\n",
      "182 [0.00769519 0.08783339 0.11917503]\n",
      "\n",
      "Excedeu as interações limite\n",
      "183 [0.0122024  0.07294956 0.11184221]\n",
      "\n",
      "Excedeu as interações limite\n",
      "184 [0.00152422 0.14979852 0.14344832]\n",
      "\n",
      "Excedeu as interações limite\n",
      "185 [0.00910539 0.09789361 0.11984817]\n",
      "\n",
      "Excedeu as interações limite\n",
      "187 [0.01165466 0.06883377 0.11528436]\n",
      "\n",
      "Excedeu as interações limite\n",
      "188 [0.01148645 0.0612669  0.10913289]\n",
      "\n",
      "Excedeu as interações limite\n",
      "189 [0.01706967 0.04054391 0.09475228]\n",
      "\n",
      "Excedeu as interações limite\n",
      "190 [0.01093021 0.1016026  0.10073608]\n",
      "\n",
      "Excedeu as interações limite\n",
      "191 [0.01194362 0.06442354 0.11250631]\n",
      "\n",
      "Excedeu as interações limite\n",
      "192 [0.01087631 0.10514965 0.0995741 ]\n",
      "\n",
      "Excedeu as interações limite\n",
      "194 [0.01309595 0.05405364 0.1043892 ]\n",
      "\n",
      "Excedeu as interações limite\n",
      "195 [0.01220473 0.07717393 0.1116658 ]\n",
      "\n",
      "Excedeu as interações limite\n",
      "196 [0.01219327 0.07745568 0.11176609]\n",
      "\n",
      "Excedeu as interações limite\n",
      "197 [0.01537888 0.04816137 0.10054564]\n",
      "\n",
      "Excedeu as interações limite\n",
      "198 [0.01187612 0.06467903 0.11281498]\n",
      "\n",
      "Excedeu as interações limite\n",
      "200 [0.01798325 0.03676496 0.09238216]\n",
      "\n",
      "Excedeu as interações limite\n",
      "202 [0.00820384 0.09423754 0.11673169]\n",
      "\n",
      "Excedeu as interações limite\n",
      "203 [0.0088016  0.07039366 0.11556566]\n",
      "\n",
      "Excedeu as interações limite\n",
      "204 [0.01003735 0.06505309 0.11252726]\n",
      "\n",
      "Excedeu as interações limite\n",
      "209 [0.00977004 0.09533775 0.11797564]\n",
      "\n",
      "Excedeu as interações limite\n",
      "211 [0.00696038 0.09422325 0.12292018]\n",
      "\n",
      "Excedeu as interações limite\n",
      "213 [0.00916441 0.08385696 0.11228039]\n",
      "\n",
      "Excedeu as interações limite\n",
      "215 [0.01214557 0.07994256 0.11219409]\n",
      "\n",
      "Excedeu as interações limite\n",
      "216 [0.01558072 0.0442653  0.09749313]\n",
      "\n",
      "Excedeu as interações limite\n",
      "218 [0.01125492 0.07047924 0.1165533 ]\n",
      "\n",
      "Excedeu as interações limite\n",
      "219 [0.01213987 0.06743222 0.11319733]\n",
      "\n",
      "Excedeu as interações limite\n",
      "220 [0.01234806 0.05734104 0.10659673]\n",
      "\n",
      "Excedeu as interações limite\n",
      "221 [0.0118113  0.06559533 0.11345236]\n",
      "\n",
      "Excedeu as interações limite\n",
      "223 [0.00687916 0.10493066 0.12346048]\n",
      "\n",
      "Excedeu as interações limite\n",
      "225 [0.00475447 0.12431667 0.13369865]\n",
      "\n",
      "Excedeu as interações limite\n",
      "226 [0.01224672 0.07050478 0.11196548]\n",
      "\n",
      "Excedeu as interações limite\n",
      "227 [0.01522877 0.04635066 0.09830897]\n",
      "\n",
      "Excedeu as interações limite\n",
      "230 [0.01221148 0.07949795 0.11171483]\n",
      "\n",
      "Excedeu as interações limite\n",
      "231 [0.00474253 0.1189478  0.13066261]\n",
      "\n",
      "Excedeu as interações limite\n",
      "232 [0.01174435 0.13029269 0.08307215]\n",
      "\n",
      "Excedeu as interações limite\n",
      "233 [0.01221083 0.07293362 0.11172616]\n",
      "\n",
      "Excedeu as interações limite\n",
      "234 [0.01107893 0.06237924 0.10988529]\n",
      "\n",
      "Excedeu as interações limite\n",
      "235 [0.00698379 0.09473856 0.12269964]\n",
      "\n",
      "Excedeu as interações limite\n",
      "237 [0.00618248 0.11431624 0.12682792]\n",
      "\n",
      "Excedeu as interações limite\n",
      "238 [0.00832262 0.09260107 0.11577021]\n",
      "\n",
      "Excedeu as interações limite\n",
      "239 [0.01201467 0.08066279 0.103355  ]\n",
      "\n",
      "Excedeu as interações limite\n",
      "240 [0.01396619 0.05400232 0.10464084]\n",
      "\n",
      "Excedeu as interações limite\n",
      "242 [0.01178622 0.11014439 0.09084961]\n",
      "\n",
      "Excedeu as interações limite\n",
      "244 [0.01179455 0.06574095 0.11356693]\n",
      "\n",
      "Excedeu as interações limite\n",
      "245 [0.00794794 0.10320779 0.12283257]\n",
      "\n",
      "Excedeu as interações limite\n",
      "247 [0.00395541 0.12572282 0.13505109]\n",
      "\n",
      "Excedeu as interações limite\n",
      "248 [0.00126197 0.15014253 0.14458458]\n",
      "\n",
      "Excedeu as interações limite\n",
      "250 [0.00964154 0.13951095 0.10182261]\n",
      "\n",
      "Excedeu as interações limite\n",
      "254 [0.00968196 0.15432403 0.0995372 ]\n",
      "\n",
      "Excedeu as interações limite\n",
      "255 [0.00953453 0.0718264  0.11051014]\n",
      "\n",
      "Excedeu as interações limite\n",
      "256 [0.00957791 0.09598244 0.11829503]\n",
      "\n",
      "Excedeu as interações limite\n",
      "257 [0.01755872 0.03851419 0.09348085]\n",
      "\n",
      "Excedeu as interações limite\n",
      "259 [0.01087522 0.07550083 0.11799104]\n",
      "\n",
      "Excedeu as interações limite\n",
      "263 [0.00934034 0.11674566 0.10995977]\n",
      "\n",
      "Excedeu as interações limite\n",
      "264 [0.01135114 0.06181625 0.10948796]\n",
      "\n",
      "Excedeu as interações limite\n",
      "267 [0.00879299 0.07045811 0.11555799]\n",
      "\n",
      "Excedeu as interações limite\n",
      "268 [0.00793825 0.15613948 0.1249612 ]\n",
      "\n",
      "Excedeu as interações limite\n",
      "269 [0.01182995 0.08059725 0.11527767]\n",
      "\n",
      "Excedeu as interações limite\n",
      "270 [0.01233591 0.06114443 0.1093251 ]\n",
      "\n",
      "Excedeu as interações limite\n",
      "273 [0.01314722 0.0613898  0.10732363]\n",
      "\n",
      "Excedeu as interações limite\n",
      "274 [0.01011761 0.09387483 0.11707241]\n",
      "\n",
      "Excedeu as interações limite\n",
      "275 [0.00708912 0.09147857 0.12250509]\n",
      "\n",
      "Excedeu as interações limite\n",
      "277 [0.01025251 0.15372143 0.08976923]\n",
      "\n",
      "Excedeu as interações limite\n",
      "278 [0.00726785 0.15262814 0.12649903]\n",
      "\n",
      "Excedeu as interações limite\n",
      "279 [0.00989371 0.1257489  0.09886628]\n",
      "\n",
      "Excedeu as interações limite\n",
      "280 [0.01287111 0.0656118  0.10836007]\n",
      "\n",
      "Excedeu as interações limite\n",
      "281 [0.01018859 0.0935501  0.11688276]\n",
      "\n",
      "Excedeu as interações limite\n",
      "282 [0.00693551 0.09475148 0.12300886]\n",
      "\n",
      "Excedeu as interações limite\n",
      "283 [0.0132185  0.05355918 0.10404224]\n",
      "\n",
      "Excedeu as interações limite\n",
      "285 [0.01501514 0.04646664 0.0990714 ]\n",
      "\n",
      "Excedeu as interações limite\n",
      "286 [0.01219366 0.07635772 0.11173451]\n",
      "\n",
      "Excedeu as interações limite\n",
      "287 [0.01270097 0.0594758  0.10825818]\n",
      "\n",
      "Excedeu as interações limite\n",
      "288 [0.01611273 0.04521663 0.09847354]\n",
      "\n",
      "Excedeu as interações limite\n",
      "289 [0.00702151 0.09286302 0.1227312 ]\n",
      "\n",
      "Excedeu as interações limite\n",
      "291 [0.00257229 0.13706546 0.14007664]\n",
      "\n",
      "Excedeu as interações limite\n",
      "294 [0.00788346 0.08354703 0.11842783]\n",
      "\n",
      "Excedeu as interações limite\n",
      "295 [0.01135139 0.07092527 0.11633209]\n",
      "\n",
      "Excedeu as interações limite\n",
      "297 [0.01051342 0.09100564 0.10872019]\n",
      "\n",
      "Excedeu as interações limite\n",
      "299 [0.01182465 0.09964941 0.09507821]\n",
      "\n",
      "Excedeu as interações limite\n",
      "300 [0.00843352 0.10005906 0.12127703]\n",
      "\n",
      "Excedeu as interações limite\n",
      "301 [0.01179921 0.06569477 0.11353045]\n",
      "\n",
      "Excedeu as interações limite\n",
      "302 [0.01006563 0.06494188 0.11246379]\n",
      "\n",
      "Excedeu as interações limite\n",
      "303 [0.01221794 0.06233021 0.11019476]\n",
      "\n",
      "Excedeu as interações limite\n",
      "304 [0.01069403 0.08954724 0.10799207]\n",
      "\n",
      "Excedeu as interações limite\n",
      "305 [0.00935998 0.07993096 0.11150789]\n",
      "\n",
      "Excedeu as interações limite\n",
      "306 [0.0147015  0.05096119 0.10250592]\n",
      "\n",
      "Excedeu as interações limite\n",
      "307 [0.01237357 0.06096436 0.10921098]\n",
      "\n",
      "Excedeu as interações limite\n",
      "308 [0.02091673 0.02583084 0.08502618]\n",
      "\n",
      "Excedeu as interações limite\n",
      "309 [0.01164305 0.06351838 0.10658559]\n",
      "\n",
      "Excedeu as interações limite\n",
      "310 [0.01053482 0.09193639 0.11599237]\n",
      "\n",
      "Excedeu as interações limite\n",
      "311 [0.01041191 0.08567346 0.11302572]\n",
      "\n",
      "Excedeu as interações limite\n",
      "312 [0.01344788 0.05252631 0.10322561]\n",
      "\n",
      "Excedeu as interações limite\n",
      "313 [0.00815464 0.09504519 0.11721962]\n",
      "\n",
      "Excedeu as interações limite\n",
      "314 [0.01451791 0.0651857  0.09801028]\n",
      "\n",
      "Excedeu as interações limite\n",
      "315 [0.01180898 0.06562111 0.11347339]\n",
      "\n",
      "Excedeu as interações limite\n",
      "318 [0.00228002 0.14145473 0.14075939]\n",
      "\n",
      "Excedeu as interações limite\n",
      "319 [0.01139395 0.06167191 0.10939306]\n",
      "\n",
      "Excedeu as interações limite\n",
      "320 [0.0107901  0.08398149 0.11900886]\n",
      "\n",
      "Excedeu as interações limite\n",
      "322 [0.01222597 0.06246272 0.11033049]\n",
      "\n",
      "Excedeu as interações limite\n",
      "326 [0.00689311 0.09713546 0.12292718]\n",
      "\n",
      "Excedeu as interações limite\n",
      "327 [0.01000416 0.06517649 0.11260935]\n",
      "\n",
      "Excedeu as interações limite\n",
      "328 [0.01096952 0.08593832 0.10765965]\n",
      "\n",
      "Excedeu as interações limite\n",
      "329 [0.00694108 0.1053027  0.12480381]\n",
      "\n",
      "Excedeu as interações limite\n",
      "330 [0.01216568 0.08002695 0.11203967]\n",
      "\n",
      "Excedeu as interações limite\n",
      "331 [0.01216256 0.07950568 0.11205163]\n",
      "\n",
      "Excedeu as interações limite\n",
      "332 [0.01028238 0.06424065 0.11181092]\n",
      "\n",
      "Excedeu as interações limite\n",
      "333 [0.01193452 0.06446156 0.11255409]\n",
      "\n",
      "Excedeu as interações limite\n",
      "334 [0.01024526 0.06434462 0.11195195]\n",
      "\n",
      "Excedeu as interações limite\n",
      "335 [0.01179004 0.06577499 0.1135935 ]\n",
      "\n"
     ]
    },
    {
     "name": "stdout",
     "output_type": "stream",
     "text": [
      "Excedeu as interações limite\n",
      "336 [0.00629253 0.10886008 0.12537712]\n",
      "\n",
      "Excedeu as interações limite\n",
      "338 [0.01087195 0.09190607 0.10553795]\n",
      "\n",
      "Excedeu as interações limite\n",
      "339 [0.01141612 0.06157577 0.10933411]\n",
      "\n",
      "Excedeu as interações limite\n",
      "340 [0.00490535 0.12145073 0.13130432]\n",
      "\n",
      "Excedeu as interações limite\n",
      "341 [0.01019871 0.0644739  0.11212745]\n",
      "\n",
      "Excedeu as interações limite\n",
      "342 [0.01076311 0.08311376 0.11903373]\n",
      "\n",
      "Excedeu as interações limite\n",
      "343 [0.00930438 0.07176797 0.11238547]\n",
      "\n",
      "Excedeu as interações limite\n",
      "344 [0.01066546 0.08354641 0.11933721]\n",
      "\n",
      "Excedeu as interações limite\n",
      "347 [0.00388726 0.13018483 0.13677598]\n",
      "\n",
      "Excedeu as interações limite\n",
      "348 [0.00998838 0.09445076 0.11735063]\n",
      "\n",
      "Excedeu as interações limite\n",
      "351 [0.0083438  0.09233324 0.11561226]\n",
      "\n",
      "Excedeu as interações limite\n",
      "352 [0.01171656 0.1325382  0.08240126]\n",
      "\n",
      "Excedeu as interações limite\n",
      "354 [0.00851019 0.09958232 0.12103719]\n",
      "\n",
      "Excedeu as interações limite\n",
      "356 [0.00731907 0.09786411 0.12073862]\n",
      "\n",
      "Excedeu as interações limite\n",
      "358 [0.00933808 0.08074071 0.11164624]\n",
      "\n",
      "Excedeu as interações limite\n",
      "359 [0.00750433 0.10085718 0.12145057]\n",
      "\n",
      "Excedeu as interações limite\n",
      "360 [0.00970232 0.11288497 0.10510044]\n",
      "\n",
      "Excedeu as interações limite\n",
      "362 [0.00878161 0.14309901 0.11754529]\n",
      "\n",
      "Excedeu as interações limite\n",
      "363 [0.01069988 0.0857006  0.11926644]\n",
      "\n",
      "Excedeu as interações limite\n",
      "364 [0.00886577 0.09332551 0.12326327]\n",
      "\n",
      "Excedeu as interações limite\n",
      "366 [0.00934173 0.08030702 0.11160079]\n",
      "\n",
      "Excedeu as interações limite\n",
      "367 [0.00618615 0.10957357 0.12572417]\n",
      "\n",
      "Excedeu as interações limite\n",
      "368 [0.01292038 0.06508687 0.10814037]\n",
      "\n",
      "Excedeu as interações limite\n",
      "369 [0.00932577 0.07993933 0.11161955]\n",
      "\n",
      "Excedeu as interações limite\n",
      "370 [0.01046516 0.08759615 0.11965663]\n",
      "\n",
      "Excedeu as interações limite\n",
      "372 [0.01056251 0.08506578 0.11115488]\n",
      "\n",
      "Excedeu as interações limite\n",
      "373 [0.01222758 0.07752129 0.11152948]\n",
      "\n",
      "Excedeu as interações limite\n",
      "374 [0.0164813  0.04300378 0.09627864]\n",
      "\n",
      "Excedeu as interações limite\n",
      "375 [0.01140522 0.07050202 0.11615208]\n",
      "\n",
      "Excedeu as interações limite\n",
      "378 [0.0074335  0.10659848 0.12448708]\n",
      "\n",
      "Excedeu as interações limite\n",
      "379 [0.00557889 0.11867107 0.13073121]\n",
      "\n",
      "Excedeu as interações limite\n",
      "380 [0.01084522 0.08456754 0.11886677]\n",
      "\n",
      "Excedeu as interações limite\n",
      "381 [0.0082047  0.09423967 0.11673163]\n",
      "\n",
      "Excedeu as interações limite\n",
      "382 [0.00938152 0.07867417 0.11133207]\n",
      "\n",
      "Excedeu as interações limite\n",
      "383 [0.0115683  0.09679418 0.09818477]\n",
      "\n",
      "Excedeu as interações limite\n",
      "384 [0.01296852 0.06641871 0.10766331]\n",
      "\n",
      "Excedeu as interações limite\n",
      "385 [0.01296659 0.0662269  0.1076963 ]\n",
      "\n",
      "Excedeu as interações limite\n",
      "386 [0.00757585 0.09041786 0.11938589]\n",
      "\n",
      "Excedeu as interações limite\n",
      "387 [0.01065842 0.08668362 0.1191818 ]\n",
      "\n",
      "Excedeu as interações limite\n",
      "388 [0.01216974 0.07481869 0.11211591]\n",
      "\n",
      "Excedeu as interações limite\n",
      "389 [0.01375571 0.07621653 0.09613758]\n",
      "\n",
      "Excedeu as interações limite\n",
      "390 [0.01065055 0.09174718 0.10727354]\n",
      "\n",
      "Excedeu as interações limite\n",
      "391 [0.00448802 0.12196153 0.13296827]\n",
      "\n",
      "Excedeu as interações limite\n",
      "392 [0.00844258 0.07011508 0.12857364]\n",
      "\n",
      "Excedeu as interações limite\n",
      "393 [0.01656453 0.04341739 0.09720569]\n",
      "\n",
      "Excedeu as interações limite\n",
      "394 [0.01354092 0.05579106 0.10585284]\n",
      "\n",
      "Excedeu as interações limite\n",
      "395 [0.00868079 0.09739481 0.12317396]\n",
      "\n",
      "Excedeu as interações limite\n",
      "396 [0.01189049 0.06459917 0.11274029]\n",
      "\n",
      "Excedeu as interações limite\n",
      "397 [0.01032412 0.09293109 0.11651274]\n",
      "\n",
      "Excedeu as interações limite\n",
      "398 [0.01438064 0.05224394 0.10342436]\n",
      "\n",
      "Excedeu as interações limite\n",
      "399 [0.010314   0.06415464 0.11170117]\n",
      "\n",
      "Excedeu as interações limite\n",
      "401 [0.01404247 0.05673593 0.10473012]\n",
      "\n",
      "Excedeu as interações limite\n",
      "402 [0.00948933 0.07732979 0.11089866]\n",
      "\n",
      "Excedeu as interações limite\n",
      "403 [0.01167067 0.10280432 0.09477964]\n",
      "\n",
      "Excedeu as interações limite\n",
      "405 [0.015232   0.04754908 0.09902203]\n",
      "\n",
      "Excedeu as interações limite\n",
      "406 [0.01216643 0.08000981 0.11203646]\n",
      "\n",
      "Excedeu as interações limite\n",
      "407 [0.00746861 0.1016585  0.12297825]\n",
      "\n",
      "Excedeu as interações limite\n",
      "408 [0.01032214 0.14167165 0.08979824]\n",
      "\n",
      "Excedeu as interações limite\n",
      "410 [0.0088002  0.07039953 0.11556866]\n",
      "\n",
      "Excedeu as interações limite\n",
      "411 [0.01171332 0.06022926 0.10847309]\n",
      "\n",
      "Excedeu as interações limite\n",
      "412 [0.00579532 0.11210027 0.12702493]\n",
      "\n",
      "Excedeu as interações limite\n",
      "413 [0.00899084 0.0981294  0.12164702]\n",
      "\n",
      "Excedeu as interações limite\n",
      "414 [0.00616618 0.11769864 0.1267854 ]\n",
      "\n",
      "Excedeu as interações limite\n",
      "415 [0.00694286 0.09513913 0.12290289]\n",
      "\n",
      "Excedeu as interações limite\n",
      "418 [0.0091043  0.12159486 0.11382324]\n",
      "\n",
      "Excedeu as interações limite\n",
      "421 [0.01211446 0.06343584 0.11148559]\n",
      "\n",
      "Excedeu as interações limite\n",
      "422 [0.00913374 0.09781607 0.1197616 ]\n",
      "\n",
      "Excedeu as interações limite\n",
      "423 [0.00872019 0.0986626  0.12054429]\n",
      "\n",
      "Excedeu as interações limite\n",
      "424 [0.01054426 0.06345234 0.11105689]\n",
      "\n",
      "Excedeu as interações limite\n",
      "427 [0.01011027 0.09391028 0.11709205]\n",
      "\n",
      "Excedeu as interações limite\n",
      "428 [0.01257953 0.06715443 0.11002509]\n",
      "\n",
      "Excedeu as interações limite\n",
      "430 [0.01000138 0.06518768 0.11261568]\n",
      "\n",
      "Excedeu as interações limite\n",
      "431 [0.01094007 0.08573412 0.10792597]\n",
      "\n",
      "Excedeu as interações limite\n",
      "432 [0.01015595 0.06461322 0.11227283]\n",
      "\n",
      "Excedeu as interações limite\n",
      "434 [0.00786743 0.08053615 0.11834549]\n",
      "\n",
      "Excedeu as interações limite\n",
      "436 [0.01224034 0.0578277  0.10691818]\n",
      "\n",
      "Excedeu as interações limite\n",
      "438 [0.01077404 0.08474066 0.11908677]\n",
      "\n",
      "Excedeu as interações limite\n",
      "439 [0.01366421 0.06693165 0.10166526]\n",
      "\n",
      "Excedeu as interações limite\n",
      "440 [0.01439727 0.05219867 0.10338742]\n",
      "\n",
      "Excedeu as interações limite\n",
      "442 [0.01012723 0.069249   0.1187799 ]\n",
      "\n",
      "Excedeu as interações limite\n",
      "444 [0.00933518 0.07364417 0.11149049]\n",
      "\n",
      "Excedeu as interações limite\n",
      "445 [0.01269854 0.0659702  0.10936479]\n",
      "\n",
      "Excedeu as interações limite\n",
      "446 [0.01147225 0.06226706 0.10735903]\n",
      "\n",
      "Excedeu as interações limite\n",
      "447 [0.01190693 0.06454841 0.11267582]\n",
      "\n",
      "Excedeu as interações limite\n",
      "449 [0.01123537 0.07051301 0.11660788]\n",
      "\n",
      "Excedeu as interações limite\n",
      "451 [0.01027264 0.06426767 0.11184862]\n",
      "\n",
      "Excedeu as interações limite\n",
      "452 [0.01072333 0.08830261 0.10835953]\n",
      "\n",
      "Excedeu as interações limite\n",
      "453 [0.01671227 0.04197893 0.09564048]\n",
      "\n",
      "Excedeu as interações limite\n",
      "455 [0.01219033 0.07922511 0.11184029]\n",
      "\n",
      "Excedeu as interações limite\n",
      "456 [0.01980998 0.02973443 0.08775171]\n",
      "\n",
      "Excedeu as interações limite\n",
      "457 [0.00997925 0.06592997 0.1117436 ]\n",
      "\n",
      "Excedeu as interações limite\n",
      "458 [0.00751811 0.09260409 0.119112  ]\n",
      "\n",
      "Excedeu as interações limite\n",
      "459 [0.01166932 0.06043568 0.10860477]\n",
      "\n",
      "Excedeu as interações limite\n",
      "461 [0.0043223  0.12174547 0.13213161]\n",
      "\n",
      "Excedeu as interações limite\n",
      "462 [0.00783036 0.08054146 0.11856811]\n",
      "\n",
      "Excedeu as interações limite\n",
      "463 [0.00866534 0.09623204 0.12339623]\n",
      "\n",
      "Excedeu as interações limite\n",
      "465 [0.00826592 0.15385574 0.12360961]\n",
      "\n",
      "Excedeu as interações limite\n",
      "466 [0.00688225 0.09674544 0.12305953]\n",
      "\n",
      "Excedeu as interações limite\n",
      "467 [0.00378379 0.1286319  0.13534298]\n",
      "\n",
      "Excedeu as interações limite\n",
      "468 [0.00991404 0.06958158 0.10986014]\n",
      "\n",
      "Excedeu as interações limite\n",
      "469 [0.00763091 0.08874635 0.11944267]\n",
      "\n",
      "Excedeu as interações limite\n",
      "470 [0.00764332 0.09997071 0.12100392]\n",
      "\n",
      "Excedeu as interações limite\n",
      "471 [0.00553292 0.11897115 0.13088998]\n",
      "\n",
      "Excedeu as interações limite\n",
      "473 [0.00879022 0.07041984 0.11563005]\n",
      "\n",
      "Excedeu as interações limite\n",
      "474 [0.01182628 0.06546061 0.11335124]\n",
      "\n",
      "Excedeu as interações limite\n",
      "475 [0.01217431 0.0778088  0.11192374]\n",
      "\n",
      "Excedeu as interações limite\n",
      "476 [0.01226792 0.07201808 0.11123287]\n",
      "\n",
      "Excedeu as interações limite\n",
      "477 [0.00798464 0.10879494 0.12114674]\n",
      "\n",
      "Excedeu as interações limite\n",
      "478 [0.00897245 0.09506917 0.1227109 ]\n",
      "\n",
      "Excedeu as interações limite\n",
      "479 [0.01690762 0.04127093 0.09520959]\n",
      "\n",
      "Excedeu as interações limite\n",
      "484 [0.01006734 0.09410636 0.1171966 ]\n",
      "\n",
      "Excedeu as interações limite\n",
      "485 [0.01250806 0.06035069 0.1088162 ]\n",
      "\n",
      "Excedeu as interações limite\n",
      "486 [0.0122385  0.07693457 0.11143185]\n",
      "\n",
      "Excedeu as interações limite\n",
      "487 [0.01199757 0.06422219 0.11223358]\n",
      "\n",
      "Excedeu as interações limite\n",
      "489 [0.01010666 0.13791159 0.0938582 ]\n",
      "\n",
      "Excedeu as interações limite\n",
      "491 [0.01138711 0.06463118 0.10700516]\n",
      "\n",
      "Excedeu as interações limite\n",
      "494 [0.01227521 0.07149796 0.11130857]\n",
      "\n",
      "Excedeu as interações limite\n",
      "495 [0.00762259 0.08834059 0.11958067]\n",
      "\n",
      "Excedeu as interações limite\n",
      "496 [0.00910883 0.14164041 0.11141383]\n",
      "\n"
     ]
    },
    {
     "name": "stdout",
     "output_type": "stream",
     "text": [
      "Excedeu as interações limite\n",
      "497 [0.00944458 0.11399763 0.10834432]\n",
      "\n",
      "Excedeu as interações limite\n",
      "499 [0.00945705 0.07869277 0.11111264]\n",
      "\n"
     ]
    }
   ],
   "source": [
    "pontos = []\n",
    "pontos_y = []\n",
    "for i in range(values.shape[0]):\n",
    "    try:\n",
    "        x, y = grad_steps(values[i,:])\n",
    "        pontos.append(x)\n",
    "        pontos_y.append(net.objetivo(x))\n",
    "        print(i, x)\n",
    "        print()\n",
    "    except:\n",
    "        continue"
   ]
  },
  {
   "cell_type": "code",
   "execution_count": 61,
   "metadata": {},
   "outputs": [],
   "source": [
    "pontos = np.array(pontos)\n",
    "pontos_y = np.array(pontos_y)"
   ]
  },
  {
   "cell_type": "code",
   "execution_count": 62,
   "metadata": {},
   "outputs": [],
   "source": [
    "arq = open(\"teste2/result.txt\", 'w')\n",
    "np.savetxt(arq, pontos)\n",
    "arq.close()"
   ]
  },
  {
   "cell_type": "code",
   "execution_count": 63,
   "metadata": {},
   "outputs": [],
   "source": [
    "v = calc_centroide(pontos)"
   ]
  },
  {
   "cell_type": "code",
   "execution_count": 64,
   "metadata": {},
   "outputs": [
    {
     "data": {
      "text/plain": [
       "0.005971095993946788"
      ]
     },
     "execution_count": 64,
     "metadata": {},
     "output_type": "execute_result"
    }
   ],
   "source": [
    "net.get_dist(v) # isso tem que tender a 0"
   ]
  },
  {
   "cell_type": "code",
   "execution_count": 65,
   "metadata": {},
   "outputs": [
    {
     "data": {
      "text/plain": [
       "[0.010300934066713474, 0.08473241877854609, 0.11335598023010951]"
      ]
     },
     "execution_count": 65,
     "metadata": {},
     "output_type": "execute_result"
    }
   ],
   "source": [
    "#values[40,:]\n",
    "v"
   ]
  },
  {
   "cell_type": "code",
   "execution_count": 68,
   "metadata": {},
   "outputs": [
    {
     "data": {
      "text/plain": [
       "array([0.01 , 0.085, 0.113])"
      ]
     },
     "execution_count": 68,
     "metadata": {},
     "output_type": "execute_result"
    }
   ],
   "source": [
    "np.array(v).round(3)"
   ]
  },
  {
   "cell_type": "code",
   "execution_count": null,
   "metadata": {},
   "outputs": [],
   "source": []
  }
 ],
 "metadata": {
  "kernelspec": {
   "display_name": "Python 3",
   "language": "python",
   "name": "python3"
  },
  "language_info": {
   "codemirror_mode": {
    "name": "ipython",
    "version": 3
   },
   "file_extension": ".py",
   "mimetype": "text/x-python",
   "name": "python",
   "nbconvert_exporter": "python",
   "pygments_lexer": "ipython3",
   "version": "3.8.5"
  }
 },
 "nbformat": 4,
 "nbformat_minor": 4
}
