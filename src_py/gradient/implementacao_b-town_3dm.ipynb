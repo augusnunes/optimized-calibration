{
 "cells": [
  {
   "cell_type": "code",
   "execution_count": 1,
   "metadata": {},
   "outputs": [],
   "source": [
    "import numpy as np\n",
    "import matplotlib.pyplot as plt\n",
    "import pandas as pd\n",
    "import epanet as epa\n",
    "import epamodule as em\n",
    "import seaborn as sns\n",
    "from scipy import optimize"
   ]
  },
  {
   "cell_type": "code",
   "execution_count": 2,
   "metadata": {},
   "outputs": [],
   "source": [
    "links = [\"../../networks/b-town/nodes\", \n",
    "         \"../../networks/b-town/links\", \n",
    "         \"../../networks/b-town/rede.inp\", \n",
    "         \"../../networks/b-town/3dim.csv\"]"
   ]
  },
  {
   "cell_type": "code",
   "execution_count": 3,
   "metadata": {},
   "outputs": [],
   "source": [
    "group_links = [[1,2,14,13,12,11,10,9,20],[15,16,17,18,19],[4,3,5,6,7,8]]\n",
    "# 2 => [15, 16, 17, 18, 19]\n",
    "# 3 => [4, 3, 5, 6, 7, 8]\n",
    "# 1 => [1, 2, 14, 13, 12, 11, 10, 9, 20]"
   ]
  },
  {
   "cell_type": "code",
   "execution_count": 4,
   "metadata": {},
   "outputs": [],
   "source": [
    "t = np.array([0.01, 0.079,0.115])\n",
    "bound = [0.001,0.2]"
   ]
  },
  {
   "cell_type": "code",
   "execution_count": 5,
   "metadata": {},
   "outputs": [
    {
     "name": "stdout",
     "output_type": "stream",
     "text": [
      "Começando simulação\n"
     ]
    }
   ],
   "source": [
    "net = epa.Rede(links, group_links, t, bound)"
   ]
  },
  {
   "cell_type": "markdown",
   "metadata": {},
   "source": [
    "# Usando SciPy"
   ]
  },
  {
   "cell_type": "code",
   "execution_count": 6,
   "metadata": {},
   "outputs": [
    {
     "data": {
      "text/plain": [
       "array([0.009, 0.078, 0.114])"
      ]
     },
     "execution_count": 6,
     "metadata": {},
     "output_type": "execute_result"
    }
   ],
   "source": [
    "net.target -0.001"
   ]
  },
  {
   "cell_type": "code",
   "execution_count": 7,
   "metadata": {},
   "outputs": [],
   "source": [
    "b = optimize.Bounds(0.001,0.2)"
   ]
  },
  {
   "cell_type": "code",
   "execution_count": 8,
   "metadata": {},
   "outputs": [
    {
     "data": {
      "text/plain": [
       "Bounds(0.001, 0.2)"
      ]
     },
     "execution_count": 8,
     "metadata": {},
     "output_type": "execute_result"
    }
   ],
   "source": [
    "b"
   ]
  },
  {
   "cell_type": "code",
   "execution_count": 26,
   "metadata": {},
   "outputs": [],
   "source": [
    "x0 = np.random.random((100,3))*0.2 +0.001"
   ]
  },
  {
   "cell_type": "code",
   "execution_count": 27,
   "metadata": {
    "scrolled": true
   },
   "outputs": [],
   "source": [
    "o = optimize.minimize(net.objetivo, x0[51,:], method='Nelder-Mead')"
   ]
  },
  {
   "cell_type": "code",
   "execution_count": 28,
   "metadata": {},
   "outputs": [
    {
     "data": {
      "text/plain": [
       " final_simplex: (array([[0.01000425, 0.0789728 , 0.11497502],\n",
       "       [0.00998814, 0.07903412, 0.11504173],\n",
       "       [0.01000858, 0.07889832, 0.11497824],\n",
       "       [0.0100141 , 0.07897175, 0.11494949]]), array([2.22644303e-09, 4.50017978e-09, 5.15865395e-09, 8.12360668e-09]))\n",
       "           fun: 2.2264430299672334e-09\n",
       "       message: 'Optimization terminated successfully.'\n",
       "          nfev: 141\n",
       "           nit: 80\n",
       "        status: 0\n",
       "       success: True\n",
       "             x: array([0.01000425, 0.0789728 , 0.11497502])"
      ]
     },
     "execution_count": 28,
     "metadata": {},
     "output_type": "execute_result"
    }
   ],
   "source": [
    "o"
   ]
  },
  {
   "cell_type": "code",
   "execution_count": 29,
   "metadata": {},
   "outputs": [
    {
     "data": {
      "text/plain": [
       "array([0.01 , 0.079, 0.115])"
      ]
     },
     "execution_count": 29,
     "metadata": {},
     "output_type": "execute_result"
    }
   ],
   "source": [
    "np.round(o.x, decimals=3)"
   ]
  },
  {
   "cell_type": "code",
   "execution_count": 34,
   "metadata": {},
   "outputs": [],
   "source": [
    "dc = []\n",
    "c = 0\n",
    "for i in range(100):\n",
    "    try:\n",
    "        o = optimize.minimize(net.objetivo, x0[i,:], method='Nelder-Mead')\n",
    "        dc.append(np.round(o.x,decimals=3))\n",
    "    except:\n",
    "        c+=1\n"
   ]
  },
  {
   "cell_type": "code",
   "execution_count": 35,
   "metadata": {},
   "outputs": [
    {
     "data": {
      "text/plain": [
       "0.99"
      ]
     },
     "execution_count": 35,
     "metadata": {},
     "output_type": "execute_result"
    }
   ],
   "source": [
    "i/100"
   ]
  },
  {
   "cell_type": "code",
   "execution_count": 36,
   "metadata": {},
   "outputs": [
    {
     "data": {
      "text/plain": [
       "[array([0.01 , 0.079, 0.115]),\n",
       " array([ 0.021, -0.308,  0.086]),\n",
       " array([0.01 , 0.079, 0.115]),\n",
       " array([0.01 , 0.079, 0.115]),\n",
       " array([-0.037,  0.14 ,  0.147]),\n",
       " array([0.01 , 0.079, 0.115]),\n",
       " array([0.01 , 0.079, 0.115]),\n",
       " array([-0.005,  3.386,  0.143]),\n",
       " array([0.01 , 0.079, 0.115]),\n",
       " array([ 0.021, -5.57 ,  0.086]),\n",
       " array([0.01 , 0.079, 0.115]),\n",
       " array([-0.049,  0.293,  0.143]),\n",
       " array([-0.036,  0.094,  0.221]),\n",
       " array([0.01 , 0.079, 0.115]),\n",
       " array([0.01 , 0.079, 0.115]),\n",
       " array([ 0.021, -0.09 ,  0.086]),\n",
       " array([-0.   ,  2.155,  0.143]),\n",
       " array([0.01 , 0.079, 0.115]),\n",
       " array([0.01 , 0.079, 0.115]),\n",
       " array([0.01 , 0.079, 0.115]),\n",
       " array([0.01 , 0.079, 0.115]),\n",
       " array([ 0.021, -0.051,  0.086]),\n",
       " array([0.01 , 0.079, 0.115]),\n",
       " array([-0.008,  0.282,  0.143]),\n",
       " array([-0.128,  0.294,  0.143]),\n",
       " array([-4.377,  0.14 ,  0.147]),\n",
       " array([0.01 , 0.079, 0.115]),\n",
       " array([0.01 , 0.079, 0.115]),\n",
       " array([0.   , 0.298, 0.143]),\n",
       " array([0.01 , 0.079, 0.115]),\n",
       " array([0.01 , 0.079, 0.115]),\n",
       " array([0.01 , 0.079, 0.115]),\n",
       " array([0.01 , 0.079, 0.115]),\n",
       " array([0.014, 0.054, 0.101]),\n",
       " array([0.001, 0.344, 0.143]),\n",
       " array([0.01 , 0.079, 0.115]),\n",
       " array([0.01 , 0.08 , 0.115]),\n",
       " array([0.01 , 0.079, 0.115]),\n",
       " array([-0.018,  0.228,  0.143]),\n",
       " array([-0.058,  0.225,  0.143]),\n",
       " array([-0.032,  0.14 ,  0.147]),\n",
       " array([0.01 , 0.079, 0.115]),\n",
       " array([ 0.021, -0.438,  0.086]),\n",
       " array([-0.037,  0.227,  0.143]),\n",
       " array([0.01 , 0.079, 0.115]),\n",
       " array([ 0.021, -0.045,  0.086]),\n",
       " array([0.01 , 0.079, 0.115]),\n",
       " array([0.01 , 0.079, 0.115]),\n",
       " array([0.01 , 0.079, 0.115]),\n",
       " array([0.01 , 0.079, 0.115]),\n",
       " array([0.01 , 0.079, 0.115]),\n",
       " array([0.01 , 0.079, 0.115]),\n",
       " array([0.01 , 0.079, 0.115]),\n",
       " array([0.01 , 0.079, 0.115]),\n",
       " array([-0.001,  0.312,  0.143]),\n",
       " array([-0.003,  0.095,  0.247]),\n",
       " array([0.01 , 0.079, 0.115]),\n",
       " array([0.01 , 0.079, 0.115]),\n",
       " array([0.01 , 0.079, 0.115]),\n",
       " array([-0.922,  0.095,  0.364]),\n",
       " array([-0.081,  0.094,  0.277]),\n",
       " array([-0.055,  0.095,  0.281]),\n",
       " array([0.01 , 0.079, 0.115]),\n",
       " array([0.01 , 0.079, 0.115]),\n",
       " array([ 0.021, -0.017,  0.086]),\n",
       " array([0.01 , 0.079, 0.115]),\n",
       " array([0.01 , 0.079, 0.115]),\n",
       " array([0.01 , 0.079, 0.115]),\n",
       " array([-0.016,  0.14 ,  0.147]),\n",
       " array([0.01 , 0.079, 0.115]),\n",
       " array([0.01 , 0.079, 0.115]),\n",
       " array([0.01 , 0.079, 0.115]),\n",
       " array([-0.04 ,  0.234,  0.143]),\n",
       " array([-0.004,  0.207,  0.143]),\n",
       " array([0.01 , 0.079, 0.115]),\n",
       " array([-0.014,  0.14 ,  0.147]),\n",
       " array([0.01 , 0.079, 0.115]),\n",
       " array([0.01 , 0.079, 0.115]),\n",
       " array([ 0.021, -0.005,  0.086]),\n",
       " array([0.001, 0.312, 0.143]),\n",
       " array([-0.077,  0.298,  0.143]),\n",
       " array([0.01 , 0.079, 0.115]),\n",
       " array([-0.111,  0.315,  0.143]),\n",
       " array([-0.558,  0.14 ,  0.147]),\n",
       " array([0.01 , 0.079, 0.115]),\n",
       " array([0.01 , 0.077, 0.116]),\n",
       " array([-3.086,  0.095,  1.135]),\n",
       " array([ 0.021, -0.243,  0.086]),\n",
       " array([-0.051,  0.094,  0.292]),\n",
       " array([0.01 , 0.079, 0.115]),\n",
       " array([0.01 , 0.079, 0.115]),\n",
       " array([0.006, 0.14 , 0.123]),\n",
       " array([0.01 , 0.079, 0.115]),\n",
       " array([-0.02 ,  0.225,  0.143]),\n",
       " array([0.01 , 0.079, 0.115]),\n",
       " array([0.011, 0.072, 0.113]),\n",
       " array([-0.026,  0.214,  0.143]),\n",
       " array([-0.141,  0.227,  0.143]),\n",
       " array([0.01 , 0.079, 0.115]),\n",
       " array([-0.1  ,  0.224,  0.143])]"
      ]
     },
     "execution_count": 36,
     "metadata": {},
     "output_type": "execute_result"
    }
   ],
   "source": [
    "dc"
   ]
  },
  {
   "cell_type": "markdown",
   "metadata": {},
   "source": [
    "# Calculando Centroide"
   ]
  },
  {
   "cell_type": "code",
   "execution_count": null,
   "metadata": {
    "scrolled": true
   },
   "outputs": [],
   "source": [
    "net.gradient(t)"
   ]
  },
  {
   "cell_type": "code",
   "execution_count": null,
   "metadata": {},
   "outputs": [],
   "source": [
    "sum(net.gradient(t))"
   ]
  },
  {
   "cell_type": "code",
   "execution_count": null,
   "metadata": {},
   "outputs": [],
   "source": [
    "net.target"
   ]
  },
  {
   "cell_type": "code",
   "execution_count": null,
   "metadata": {
    "scrolled": true
   },
   "outputs": [],
   "source": [
    "x,y,z = np.mgrid[0.002:0.2:0.001,0.002:0.2:0.001,0.002:0.2:0.001]\n",
    "xyz = np.vstack((x.flatten(), y.flatten(), z.flatten())).T\n",
    "xyz"
   ]
  },
  {
   "cell_type": "code",
   "execution_count": null,
   "metadata": {
    "scrolled": true
   },
   "outputs": [],
   "source": [
    "xyz.shape"
   ]
  },
  {
   "cell_type": "code",
   "execution_count": null,
   "metadata": {},
   "outputs": [],
   "source": [
    "res = np.zeros((xyz.shape[0],))\n",
    "res"
   ]
  },
  {
   "cell_type": "code",
   "execution_count": null,
   "metadata": {},
   "outputs": [],
   "source": [
    "for i in range(xyz.shape[0]):\n",
    "    res[i] += abs(sum(net.gradient(xyz[i,:])))\n",
    "    net.restart()"
   ]
  },
  {
   "cell_type": "code",
   "execution_count": null,
   "metadata": {},
   "outputs": [],
   "source": [
    "plt.plot(res)"
   ]
  },
  {
   "cell_type": "code",
   "execution_count": null,
   "metadata": {},
   "outputs": [],
   "source": [
    "interacoes = 100\n",
    "lr = 0.001\n",
    "dim = 3\n",
    "x0 = np.array([0.002,0.1,0.100])\n",
    "x = np.zeros((interacoes,dim))\n",
    "x[0,:] = x0\n",
    "y = np.zeros((interacoes,))\n",
    "y[0] = net.objetivo(x0)\n",
    "for i in range(1,interacoes):\n",
    "    x[i,:] += x[i-1,:] - lr*net.gradient(x[i-1,:])\n",
    "    y[i] += net.objetivo(x[i,:]) "
   ]
  },
  {
   "cell_type": "code",
   "execution_count": null,
   "metadata": {
    "scrolled": true
   },
   "outputs": [],
   "source": [
    "plt.plot(y)"
   ]
  },
  {
   "cell_type": "code",
   "execution_count": null,
   "metadata": {},
   "outputs": [],
   "source": [
    "min(y)"
   ]
  },
  {
   "cell_type": "code",
   "execution_count": null,
   "metadata": {},
   "outputs": [],
   "source": [
    "lr = 0.001\n",
    "dim = 3\n",
    "x0 = np.array([0.002,0.1,0.100])\n",
    "x = x0\n",
    "y = [net.objetivo(x0)]de\n",
    "i = 0\n",
    "values = [x0]\n",
    "while sum(abs(net.gradient(x)) > 0.1):\n",
    "    x -= lr*net.gradient(x)    \n",
    "    y.append(net.objetivo(x)) \n",
    "    values.append(x)\n",
    "    i+=1\n",
    "    if i > 200:\n",
    "        break"
   ]
  },
  {
   "cell_type": "code",
   "execution_count": null,
   "metadata": {},
   "outputs": [],
   "source": [
    "plt.plot(y[:90:])"
   ]
  },
  {
   "cell_type": "code",
   "execution_count": null,
   "metadata": {},
   "outputs": [],
   "source": [
    "values[y.index(min(y))]"
   ]
  },
  {
   "cell_type": "code",
   "execution_count": null,
   "metadata": {},
   "outputs": [],
   "source": [
    "bool(sum(x > 0))"
   ]
  },
  {
   "cell_type": "markdown",
   "metadata": {},
   "source": [
    "# Fazendo a função para aplicar em múltiplos pontos iniciais"
   ]
  },
  {
   "cell_type": "code",
   "execution_count": null,
   "metadata": {},
   "outputs": [],
   "source": [
    "a = np.array([1,-2,3])\n",
    "f = lambda x: -1 if x < 0 else 1\n",
    "np.vectorize(f)(a)"
   ]
  },
  {
   "cell_type": "code",
   "execution_count": null,
   "metadata": {},
   "outputs": [],
   "source": [
    "def grad_steps(x0, lr=0.001, max_interacoes=400):\n",
    "    try:\n",
    "        dim = len(x0)\n",
    "        x = x0\n",
    "        y = [net.objetivo(x0)]\n",
    "        caminho = [net.get_dist(x0)]\n",
    "        i = 0\n",
    "        values = [x0]\n",
    "        while np.sqrt(sum(net.gradient(x)**2))>0:\n",
    "            increment = np.vectorize(lambda x: 1 if x>0 else -1)\n",
    "            g = increment(net.gradient(x))\n",
    "            x -= lr*g\n",
    "            caminho.append(net.get_dist(x))\n",
    "            y.append(net.objetivo(x)) \n",
    "            values.append(x)\n",
    "            i+=1\n",
    "            if i > max_interacoes:\n",
    "                print(\"Excedeu as interações limite\")\n",
    "                break\n",
    "            if sum(x<0):\n",
    "                print(\"Escapou do intervalo de confiança\")\n",
    "                break\n",
    "    finally:\n",
    "        net.restart()\n",
    "        return values, y, caminho"
   ]
  },
  {
   "cell_type": "code",
   "execution_count": null,
   "metadata": {},
   "outputs": [],
   "source": [
    "net.gradient(net.target)"
   ]
  },
  {
   "cell_type": "code",
   "execution_count": null,
   "metadata": {},
   "outputs": [],
   "source": [
    "x0 = np.round(np.random.random(3)*0.2 +0.001, decimals=3)\n",
    "#x0 = np.array([0.09435675, 0.18852395, 0.14145076])\n",
    "x0"
   ]
  },
  {
   "cell_type": "code",
   "execution_count": null,
   "metadata": {},
   "outputs": [],
   "source": [
    "net.get_dist(x0)"
   ]
  },
  {
   "cell_type": "code",
   "execution_count": null,
   "metadata": {},
   "outputs": [],
   "source": [
    "x, y, caminho = grad_steps(x0, lr=0.001)"
   ]
  },
  {
   "cell_type": "code",
   "execution_count": null,
   "metadata": {
    "scrolled": false
   },
   "outputs": [],
   "source": [
    "plt.plot(y)\n",
    "plt.yscale('log')"
   ]
  },
  {
   "cell_type": "code",
   "execution_count": null,
   "metadata": {
    "scrolled": true
   },
   "outputs": [],
   "source": [
    "y[150:160]"
   ]
  },
  {
   "cell_type": "code",
   "execution_count": null,
   "metadata": {
    "scrolled": true
   },
   "outputs": [],
   "source": [
    "net.gradient(x[0])"
   ]
  },
  {
   "cell_type": "code",
   "execution_count": null,
   "metadata": {},
   "outputs": [],
   "source": [
    "net.objetivo(x[2])"
   ]
  },
  {
   "cell_type": "code",
   "execution_count": null,
   "metadata": {},
   "outputs": [],
   "source": [
    "plt.plot(caminho[150:200])\n",
    "plt.yscale('log')"
   ]
  },
  {
   "cell_type": "code",
   "execution_count": null,
   "metadata": {},
   "outputs": [],
   "source": [
    "caminho[150:160]"
   ]
  },
  {
   "cell_type": "code",
   "execution_count": null,
   "metadata": {
    "scrolled": false
   },
   "outputs": [],
   "source": [
    "net.get_dist(x)"
   ]
  },
  {
   "cell_type": "code",
   "execution_count": null,
   "metadata": {},
   "outputs": [],
   "source": [
    "net.objetivo(x)"
   ]
  },
  {
   "cell_type": "code",
   "execution_count": null,
   "metadata": {},
   "outputs": [],
   "source": [
    "net.gradient(x)"
   ]
  },
  {
   "cell_type": "code",
   "execution_count": null,
   "metadata": {},
   "outputs": [],
   "source": [
    "net.get_dist(x)"
   ]
  },
  {
   "cell_type": "code",
   "execution_count": null,
   "metadata": {},
   "outputs": [],
   "source": []
  },
  {
   "cell_type": "code",
   "execution_count": null,
   "metadata": {},
   "outputs": [],
   "source": []
  },
  {
   "cell_type": "code",
   "execution_count": null,
   "metadata": {},
   "outputs": [],
   "source": [
    "x, y = grad_steps(x0, max_interacoes=400)"
   ]
  },
  {
   "cell_type": "code",
   "execution_count": null,
   "metadata": {},
   "outputs": [],
   "source": [
    "plt.plot(y)"
   ]
  },
  {
   "cell_type": "code",
   "execution_count": null,
   "metadata": {},
   "outputs": [],
   "source": [
    "x"
   ]
  },
  {
   "cell_type": "code",
   "execution_count": null,
   "metadata": {},
   "outputs": [],
   "source": [
    "net.restart()"
   ]
  },
  {
   "cell_type": "markdown",
   "metadata": {},
   "source": [
    "# Gerando os números aleatórios"
   ]
  },
  {
   "cell_type": "code",
   "execution_count": null,
   "metadata": {},
   "outputs": [],
   "source": [
    "#values = np.random.random((100,3))*0.2 +0.001"
   ]
  },
  {
   "cell_type": "code",
   "execution_count": null,
   "metadata": {},
   "outputs": [],
   "source": [
    "# arq = open(\"teste1.txt\", 'w')\n",
    "# np.savetxt(arq, values)\n",
    "# arq.close()"
   ]
  },
  {
   "cell_type": "code",
   "execution_count": null,
   "metadata": {},
   "outputs": [],
   "source": [
    "arq = open(\"teste1.txt\")\n",
    "values = np.loadtxt(arq)\n",
    "arq.close()"
   ]
  },
  {
   "cell_type": "code",
   "execution_count": null,
   "metadata": {},
   "outputs": [],
   "source": [
    "net.restart()"
   ]
  },
  {
   "cell_type": "code",
   "execution_count": null,
   "metadata": {},
   "outputs": [],
   "source": [
    "pontos = []\n",
    "pontos_y = []\n",
    "for i in range(values.shape[0]):\n",
    "    try:\n",
    "        x, y = grad_steps(values[i,:])\n",
    "        pontos.append(x)\n",
    "        pontos_y.append(net.objetivo(x))\n",
    "        print(i, x)\n",
    "        print()\n",
    "    except:\n",
    "        continue"
   ]
  },
  {
   "cell_type": "code",
   "execution_count": null,
   "metadata": {
    "scrolled": true
   },
   "outputs": [],
   "source": [
    "pontos = np.array(pontos)\n",
    "pontos_y = np.array(pontos_y)"
   ]
  },
  {
   "cell_type": "code",
   "execution_count": null,
   "metadata": {},
   "outputs": [],
   "source": [
    "# arq = open(\"teste1/result.txt\", 'w')\n",
    "# np.savetxt(arq, pontos)\n",
    "# arq.close()"
   ]
  },
  {
   "cell_type": "code",
   "execution_count": null,
   "metadata": {},
   "outputs": [],
   "source": [
    "arq = open(\"teste1/result.txt\")\n",
    "pontos = np.loadtxt(arq)\n",
    "pontos"
   ]
  },
  {
   "cell_type": "code",
   "execution_count": null,
   "metadata": {},
   "outputs": [],
   "source": [
    "plt.plot(pontos_y)"
   ]
  },
  {
   "cell_type": "code",
   "execution_count": null,
   "metadata": {},
   "outputs": [],
   "source": [
    "pontos_y.mean()"
   ]
  },
  {
   "cell_type": "code",
   "execution_count": null,
   "metadata": {},
   "outputs": [],
   "source": []
  },
  {
   "cell_type": "code",
   "execution_count": null,
   "metadata": {
    "scrolled": true
   },
   "outputs": [],
   "source": [
    "plt.plot(pontos_y[np.where(pontos_y<=pontos_y.mean())])"
   ]
  },
  {
   "cell_type": "code",
   "execution_count": null,
   "metadata": {},
   "outputs": [],
   "source": [
    "indices = np.where(pontos_y<=pontos_y.mean())"
   ]
  },
  {
   "cell_type": "markdown",
   "metadata": {},
   "source": [
    "# Calculando Centróide dos pontos resultantes"
   ]
  },
  {
   "cell_type": "markdown",
   "metadata": {},
   "source": [
    "## Centróide:"
   ]
  },
  {
   "cell_type": "code",
   "execution_count": null,
   "metadata": {},
   "outputs": [],
   "source": [
    "def calc_centroide(vetor_pontos):\n",
    "    tamanho = vetor_pontos.shape[0]\n",
    "    v = []\n",
    "    for i in range(vetor_pontos.shape[1]):\n",
    "        v.append(vetor_pontos[:,i].sum()/tamanho)\n",
    "    return v\n",
    "    "
   ]
  },
  {
   "cell_type": "code",
   "execution_count": null,
   "metadata": {},
   "outputs": [],
   "source": [
    "v = calc_centroide(pontos)"
   ]
  },
  {
   "cell_type": "code",
   "execution_count": null,
   "metadata": {},
   "outputs": [],
   "source": [
    "v"
   ]
  },
  {
   "cell_type": "code",
   "execution_count": null,
   "metadata": {},
   "outputs": [],
   "source": [
    "net.target"
   ]
  },
  {
   "cell_type": "markdown",
   "metadata": {},
   "source": [
    "### Calculando Centróide dos pontos abaixo da média"
   ]
  },
  {
   "cell_type": "code",
   "execution_count": null,
   "metadata": {
    "scrolled": true
   },
   "outputs": [],
   "source": [
    "calc_centroide(pontos[indices])"
   ]
  },
  {
   "cell_type": "markdown",
   "metadata": {},
   "source": [
    "## Distancia do Centróide ao ponto Target"
   ]
  },
  {
   "cell_type": "code",
   "execution_count": null,
   "metadata": {},
   "outputs": [],
   "source": [
    "net.get_dist(v) # isso tem que tender a 0"
   ]
  },
  {
   "cell_type": "code",
   "execution_count": null,
   "metadata": {},
   "outputs": [],
   "source": [
    "net.get_dist(calc_centroide(pontos[indices]))"
   ]
  },
  {
   "cell_type": "markdown",
   "metadata": {},
   "source": [
    "# Gerando uma quantidade maior de pontos - Teste 2"
   ]
  },
  {
   "cell_type": "code",
   "execution_count": null,
   "metadata": {},
   "outputs": [],
   "source": [
    "# values = np.random.random((500,3))*0.2 +0.001"
   ]
  },
  {
   "cell_type": "code",
   "execution_count": null,
   "metadata": {},
   "outputs": [],
   "source": [
    "# arq = open(\"teste2/teste2.txt\", 'w')\n",
    "# np.savetxt(arq, values)\n",
    "# arq.close()"
   ]
  },
  {
   "cell_type": "code",
   "execution_count": null,
   "metadata": {},
   "outputs": [],
   "source": [
    "arq = open(\"teste2/teste2.txt\")\n",
    "values = np.loadtxt(arq)\n",
    "arq.close()"
   ]
  },
  {
   "cell_type": "code",
   "execution_count": null,
   "metadata": {},
   "outputs": [],
   "source": [
    "net.restart()"
   ]
  },
  {
   "cell_type": "code",
   "execution_count": null,
   "metadata": {},
   "outputs": [],
   "source": [
    "pontos = []\n",
    "pontos_y = []\n",
    "for i in range(values.shape[0]):\n",
    "    try:\n",
    "        x, y = grad_steps(values[i,:])\n",
    "        pontos.append(x)\n",
    "        pontos_y.append(net.objetivo(x))\n",
    "        print(i, x)\n",
    "        print()\n",
    "    except:\n",
    "        continue"
   ]
  },
  {
   "cell_type": "code",
   "execution_count": null,
   "metadata": {},
   "outputs": [],
   "source": [
    "pontos = np.array(pontos)\n",
    "pontos_y = np.array(pontos_y)"
   ]
  },
  {
   "cell_type": "code",
   "execution_count": null,
   "metadata": {},
   "outputs": [],
   "source": [
    "#arq = open(\"teste2/result.txt\", 'w')\n",
    "#np.savetxt(arq, pontos)\n",
    "#arq.close()"
   ]
  },
  {
   "cell_type": "code",
   "execution_count": null,
   "metadata": {},
   "outputs": [],
   "source": [
    "arq = open(\"teste2/result.txt\")\n",
    "pontos = np.loadtxt(arq)"
   ]
  },
  {
   "cell_type": "code",
   "execution_count": null,
   "metadata": {},
   "outputs": [],
   "source": [
    "v = calc_centroide(pontos)"
   ]
  },
  {
   "cell_type": "code",
   "execution_count": null,
   "metadata": {
    "scrolled": true
   },
   "outputs": [],
   "source": [
    "net.get_dist(v) # isso tem que tender a 0"
   ]
  },
  {
   "cell_type": "code",
   "execution_count": null,
   "metadata": {},
   "outputs": [],
   "source": [
    "pontos[:,0]"
   ]
  },
  {
   "cell_type": "code",
   "execution_count": null,
   "metadata": {},
   "outputs": [],
   "source": [
    "sns.boxplot(pontos[:,1])"
   ]
  },
  {
   "cell_type": "code",
   "execution_count": null,
   "metadata": {},
   "outputs": [],
   "source": [
    "sns.displot(pontos[:,1])"
   ]
  },
  {
   "cell_type": "code",
   "execution_count": null,
   "metadata": {},
   "outputs": [],
   "source": [
    "df = pd.DataFrame(pontos, columns=['g1', 'g2', 'g3'])"
   ]
  },
  {
   "cell_type": "code",
   "execution_count": null,
   "metadata": {},
   "outputs": [],
   "source": [
    "df"
   ]
  },
  {
   "cell_type": "code",
   "execution_count": null,
   "metadata": {},
   "outputs": [],
   "source": [
    "df.median()"
   ]
  },
  {
   "cell_type": "code",
   "execution_count": null,
   "metadata": {},
   "outputs": [],
   "source": [
    "net.get_dist(df.median())"
   ]
  },
  {
   "cell_type": "code",
   "execution_count": null,
   "metadata": {},
   "outputs": [],
   "source": [
    "net.get_dist(df.mean())"
   ]
  },
  {
   "cell_type": "code",
   "execution_count": null,
   "metadata": {},
   "outputs": [],
   "source": [
    "sns.violinplot(df['g1'])"
   ]
  },
  {
   "cell_type": "code",
   "execution_count": null,
   "metadata": {},
   "outputs": [],
   "source": [
    "sns.violinplot(df['g2'])"
   ]
  },
  {
   "cell_type": "code",
   "execution_count": null,
   "metadata": {},
   "outputs": [],
   "source": [
    "sns.violinplot(df['g3'])"
   ]
  },
  {
   "cell_type": "code",
   "execution_count": null,
   "metadata": {},
   "outputs": [],
   "source": [
    "df.describe()"
   ]
  },
  {
   "cell_type": "code",
   "execution_count": null,
   "metadata": {},
   "outputs": [],
   "source": []
  }
 ],
 "metadata": {
  "kernelspec": {
   "display_name": "Python 3",
   "language": "python",
   "name": "python3"
  },
  "language_info": {
   "codemirror_mode": {
    "name": "ipython",
    "version": 3
   },
   "file_extension": ".py",
   "mimetype": "text/x-python",
   "name": "python",
   "nbconvert_exporter": "python",
   "pygments_lexer": "ipython3",
   "version": "3.8.5"
  }
 },
 "nbformat": 4,
 "nbformat_minor": 4
}
