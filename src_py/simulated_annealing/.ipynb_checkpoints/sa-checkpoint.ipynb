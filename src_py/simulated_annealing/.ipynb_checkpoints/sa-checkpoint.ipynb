{
 "cells": [
  {
   "cell_type": "code",
   "execution_count": 1,
   "metadata": {},
   "outputs": [],
   "source": [
    "import numpy as np\n",
    "import matplotlib.pyplot as plt\n",
    "import pandas as pd\n",
    "import epanet as epa\n",
    "import epamodule as em\n",
    "import seaborn as sns\n",
    "from cjsbot import CjsBot\n",
    "from scipy import optimize\n",
    "from scipy import stats\n",
    "import time\n",
    "import os \n",
    "from multiprocessing import Process, Lock"
   ]
  },
  {
   "cell_type": "markdown",
   "metadata": {},
   "source": [
    "## On the acceleration of simulated annealing\n",
    "James D. Cohoow"
   ]
  },
  {
   "cell_type": "code",
   "execution_count": 2,
   "metadata": {},
   "outputs": [
    {
     "data": {
      "text/plain": [
       "False"
      ]
     },
     "execution_count": 2,
     "metadata": {},
     "output_type": "execute_result"
    }
   ],
   "source": [
    "1 == 1 == 1 == 0"
   ]
  },
  {
   "cell_type": "code",
   "execution_count": 3,
   "metadata": {},
   "outputs": [],
   "source": [
    "def simulated_annealing(x0, f, min_score=0.001, t0=100, dt=1, iter_MAX=50):\n",
    "    x = x0\n",
    "    x_bsf = x0\n",
    "    t = t0 #aquece até a temperatura t0\n",
    "    energia = f(x)\n",
    "    imagem = []\n",
    "    caminho = [x0]\n",
    "    caminho2 = [x0]\n",
    "    validation = []\n",
    "    std = 0.01\n",
    "    while t > dt and f(x_bsf)>min_score: # até que atinja a temperatura mínima para parar\n",
    "        if len(validation) > 4:\n",
    "            if validation[-1] == validation[-2] and validation[-1] == validation[-3]:\n",
    "                return x_bsf, imagem, caminho, caminho2\n",
    "        for i in range(iter_MAX):# até que atinja o equilíbrio na temperatura atual\n",
    "            y = x + np.random.normal(0,std,len(x)) # perturbe o x \n",
    "            delta_xy = f(y) - f(x) # faça a variação do custo, se negativa, então y tem um custo menor\n",
    "            if (delta_xy <= 0) or np.random.uniform(0,1) < np.exp(-delta_xy/t): # a aceitação do novo ponto segue o critério de metropolis\n",
    "                x = y\n",
    "                caminho2.append(x)\n",
    "                if f(x) < f(x_bsf): # caso o ponto seja aceito pelo critério de metropolis, ele é avaliado\n",
    "                    x_bsf = x \n",
    "                    caminho.append(x_bsf)\n",
    "            imagem.append(f(x_bsf))\n",
    "        validation.append(f(x_bsf))\n",
    "        print(f\"t={t}\\tf(x)={f(x_bsf)}\")\n",
    "        t -= dt\n",
    "    return x_bsf, imagem, caminho, caminho2"
   ]
  },
  {
   "cell_type": "code",
   "execution_count": 5,
   "metadata": {},
   "outputs": [
    {
     "name": "stdout",
     "output_type": "stream",
     "text": [
      "Começando simulação\n"
     ]
    }
   ],
   "source": [
    "t = np.array([0.075, 0.812, 0.317, 0.581, 0.752, 0.994, 0.967, 0.511, 0.851,\n",
    "              0.925, 0.842, 0.295, 0.633, 0.522, 0.306])\n",
    "seeds = [661, 308, 769, 343, 491]\n",
    "posicao_nos = [0.1, 0.3, 0.5, 0.7, 0.9]\n",
    "q_nos = [10, 20, 30, 40, 50]   \n",
    "dim=2\n",
    "seed = seeds[0]\n",
    "posicao_no = posicao_nos[2]\n",
    "q_no = q_nos[3]\n",
    "links = [\"../../networks/c-town/nodes\", \n",
    "        \"../../networks/c-town/links\", \n",
    "        \"../../networks/c-town/rede.inp\", \n",
    "        f\"../../networks/c-town/{dim}dim_{posicao_no}_{q_no}.csv\"]\n",
    "\n",
    "diretorio = f'./teste/'\n",
    "if not os.path.isdir(diretorio):\n",
    "    os.mkdir(diretorio)\n",
    "rv = epa.RealValuesNos(links, t[:dim], nos_dim=q_no, posicao=posicao_no)\n",
    "rv.getRealValue()\n",
    "rv.close_sim()\n",
    "net = epa.Rede(links, rv.groups, t[:dim], [0.001,1])"
   ]
  },
  {
   "cell_type": "code",
   "execution_count": 6,
   "metadata": {},
   "outputs": [
    {
     "data": {
      "text/plain": [
       "array([0.85680745, 0.87710884])"
      ]
     },
     "execution_count": 6,
     "metadata": {},
     "output_type": "execute_result"
    }
   ],
   "source": [
    "x0 = np.random.random((dim,))*1+0.001\n",
    "x0"
   ]
  },
  {
   "cell_type": "code",
   "execution_count": 7,
   "metadata": {
    "scrolled": true
   },
   "outputs": [
    {
     "name": "stdout",
     "output_type": "stream",
     "text": [
      "t=5\tf(x)=966.0502655185009\n",
      "t=4.9\tf(x)=474.03612325218086\n",
      "t=4.800000000000001\tf(x)=257.0082794765103\n",
      "t=4.700000000000001\tf(x)=21.76183652511826\n",
      "t=4.600000000000001\tf(x)=4.656097609485189\n",
      "t=4.500000000000002\tf(x)=1.454100800958259\n",
      "t=4.400000000000002\tf(x)=1.4279531995962313\n",
      "t=4.3000000000000025\tf(x)=1.4279531995962313\n",
      "t=4.200000000000003\tf(x)=1.4279531995962313\n",
      "t=4.100000000000003\tf(x)=0.19225772311074335\n",
      "t=4.0000000000000036\tf(x)=0.01331822634710965\n",
      "t=3.9000000000000035\tf(x)=0.01331822634710965\n",
      "t=3.8000000000000034\tf(x)=0.01331822634710965\n",
      "t=3.7000000000000033\tf(x)=0.006581388107406184\n",
      "t=3.600000000000003\tf(x)=0.006581388107406184\n",
      "t=3.500000000000003\tf(x)=0.006581388107406184\n",
      "t=3.400000000000003\tf(x)=0.006581388107406184\n",
      "t=3.300000000000003\tf(x)=0.006581388107406184\n",
      "t=3.200000000000003\tf(x)=0.003960388031373567\n",
      "t=3.1000000000000028\tf(x)=0.003960388031373567\n",
      "t=3.0000000000000027\tf(x)=0.003960388031373567\n",
      "t=2.9000000000000026\tf(x)=0.003960388031373567\n",
      "t=2.8000000000000025\tf(x)=0.003960388031373567\n",
      "t=2.7000000000000024\tf(x)=0.003960388031373567\n",
      "t=2.6000000000000023\tf(x)=0.003960388031373567\n",
      "t=2.500000000000002\tf(x)=0.003960388031373567\n",
      "t=2.400000000000002\tf(x)=0.003960388031373567\n",
      "t=2.300000000000002\tf(x)=0.003960388031373567\n",
      "t=2.200000000000002\tf(x)=0.003960388031373567\n",
      "t=2.100000000000002\tf(x)=0.003960388031373567\n",
      "t=2.0000000000000018\tf(x)=0.003960388031373567\n",
      "t=1.9000000000000017\tf(x)=0.003960388031373567\n",
      "t=1.8000000000000016\tf(x)=0.003960388031373567\n",
      "t=1.7000000000000015\tf(x)=0.003960388031373567\n",
      "t=1.6000000000000014\tf(x)=0.003960388031373567\n",
      "t=1.5000000000000013\tf(x)=0.003960388031373567\n",
      "t=1.4000000000000012\tf(x)=0.0027801013329735976\n",
      "t=1.3000000000000012\tf(x)=0.0027801013329735976\n",
      "t=1.200000000000001\tf(x)=0.0027801013329735976\n",
      "t=1.100000000000001\tf(x)=0.0027801013329735976\n",
      "t=1.0000000000000009\tf(x)=0.0027801013329735976\n",
      "t=0.9000000000000009\tf(x)=0.0027801013329735976\n",
      "t=0.8000000000000009\tf(x)=0.0027801013329735976\n",
      "t=0.700000000000001\tf(x)=0.0027801013329735976\n",
      "t=0.600000000000001\tf(x)=0.0027801013329735976\n",
      "t=0.500000000000001\tf(x)=0.0027801013329735976\n",
      "t=0.400000000000001\tf(x)=0.0027801013329735976\n",
      "t=0.30000000000000104\tf(x)=0.0027801013329735976\n",
      "t=0.20000000000000104\tf(x)=0.0027801013329735976\n",
      "t=0.10000000000000103\tf(x)=0.0027801013329735976\n"
     ]
    },
    {
     "data": {
      "text/plain": [
       "[<matplotlib.lines.Line2D at 0x7fcc6ce362b0>]"
      ]
     },
     "execution_count": 7,
     "metadata": {},
     "output_type": "execute_result"
    },
    {
     "data": {
      "image/png": "[encoded data removed]",
      "text/plain": [
       "<Figure size 432x288 with 1 Axes>"
      ]
     },
     "metadata": {
      "needs_background": "light"
     },
     "output_type": "display_data"
    }
   ],
   "source": [
    "x, imagem, caminho, caminho2 = simulated_annealing(x0, net.objetivo, min_score=0.001, t0=5, dt=0.1, iter_MAX=50)\n",
    "plt.plot(imagem)"
   ]
  },
  {
   "cell_type": "code",
   "execution_count": null,
   "metadata": {},
   "outputs": [],
   "source": []
  },
  {
   "cell_type": "code",
   "execution_count": null,
   "metadata": {},
   "outputs": [],
   "source": [
    "net.objetivo(x)"
   ]
  },
  {
   "cell_type": "code",
   "execution_count": 8,
   "metadata": {},
   "outputs": [
    {
     "data": {
      "text/plain": [
       "0.004625403940152816"
      ]
     },
     "execution_count": 8,
     "metadata": {},
     "output_type": "execute_result"
    }
   ],
   "source": [
    "net.get_dist(x)"
   ]
  },
  {
   "cell_type": "code",
   "execution_count": 36,
   "metadata": {},
   "outputs": [
    {
     "data": {
      "text/plain": [
       "array([0.07500083, 0.81163314])"
      ]
     },
     "execution_count": 36,
     "metadata": {},
     "output_type": "execute_result"
    }
   ],
   "source": [
    "x"
   ]
  },
  {
   "cell_type": "code",
   "execution_count": 37,
   "metadata": {},
   "outputs": [
    {
     "data": {
      "text/plain": [
       "array([0.075, 0.812])"
      ]
     },
     "execution_count": 37,
     "metadata": {},
     "output_type": "execute_result"
    }
   ],
   "source": [
    "net.target"
   ]
  },
  {
   "cell_type": "code",
   "execution_count": 87,
   "metadata": {
    "scrolled": true
   },
   "outputs": [
    {
     "data": {
      "image/png": "[encoded data removed]",
      "text/plain": [
       "<Figure size 432x288 with 1 Axes>"
      ]
     },
     "metadata": {
      "needs_background": "light"
     },
     "output_type": "display_data"
    }
   ],
   "source": [
    "fig, ax = plt.subplots()\n",
    "\n",
    "xvec = np.linspace(0.001, 1, 50)\n",
    "yvec = np.linspace(0.001, 1, 50)\n",
    "\n",
    "\n",
    "obj1 = np.zeros((50,50))\n",
    "x11, x21 = np.meshgrid(xvec, yvec)\n",
    "\n",
    "for i in range(50):\n",
    "    for j in range(50):\n",
    "        obj[j, i] += net.objetivo([xvec[i], yvec[j]])\n",
    "cntr = ax.contour(x1, x2, obj,[0.1, 5, 50, 500],\n",
    "                  colors='black')\n",
    "ax.clabel(cntr, use_clabeltext=True)\n",
    "plt.show()"
   ]
  },
  {
   "cell_type": "code",
   "execution_count": 89,
   "metadata": {},
   "outputs": [
    {
     "data": {
      "image/png": "[encoded data removed]",
      "text/plain": [
       "<Figure size 432x288 with 1 Axes>"
      ]
     },
     "metadata": {
      "needs_background": "light"
     },
     "output_type": "display_data"
    }
   ],
   "source": [
    "fig, ax = plt.subplots()\n",
    "\n",
    "xvec = np.linspace(0.001, 0.2, 50)\n",
    "yvec = np.linspace(0.7, 0.9, 50)\n",
    "\n",
    "\n",
    "obj = np.zeros((50,50))\n",
    "x1, x2 = np.meshgrid(xvec, yvec)\n",
    "\n",
    "for i in range(50):\n",
    "    for j in range(50):\n",
    "        obj[j, i] += net.objetivo([xvec[i], yvec[j]])\n",
    "cntr = ax.contour(x1, x2, obj,[0.1, 5, 50, 500],\n",
    "                  colors='black')\n",
    "ax.clabel(cntr, use_clabeltext=True)\n",
    "plt.show()"
   ]
  },
  {
   "cell_type": "code",
   "execution_count": 73,
   "metadata": {},
   "outputs": [
    {
     "data": {
      "text/plain": [
       "0.9"
      ]
     },
     "execution_count": 73,
     "metadata": {},
     "output_type": "execute_result"
    }
   ],
   "source": [
    "xvec[i]"
   ]
  },
  {
   "cell_type": "code",
   "execution_count": 93,
   "metadata": {},
   "outputs": [
    {
     "data": {
      "image/png": "[encoded data removed]",
      "text/plain": [
       "<Figure size 432x288 with 1 Axes>"
      ]
     },
     "metadata": {
      "needs_background": "light"
     },
     "output_type": "display_data"
    }
   ],
   "source": [
    "fig, ax = plt.subplots()\n",
    "cntr = ax.contour(x1, x2, obj,[0.1, 5, 50, 500],\n",
    "                  colors='black')\n",
    "ax.clabel(cntr, use_clabeltext=True)\n",
    "plt.show()"
   ]
  },
  {
   "cell_type": "code",
   "execution_count": 94,
   "metadata": {},
   "outputs": [],
   "source": [
    "dist = []\n",
    "for c in caminho:\n",
    "    dist.append(net.get_dist(c))"
   ]
  },
  {
   "cell_type": "code",
   "execution_count": 95,
   "metadata": {},
   "outputs": [
    {
     "data": {
      "text/plain": [
       "[<matplotlib.lines.Line2D at 0x7f6146b058b0>]"
      ]
     },
     "execution_count": 95,
     "metadata": {},
     "output_type": "execute_result"
    },
    {
     "data": {
      "image/png": "[encoded data removed]",
      "text/plain": [
       "<Figure size 432x288 with 1 Axes>"
      ]
     },
     "metadata": {
      "needs_background": "light"
     },
     "output_type": "display_data"
    }
   ],
   "source": [
    "plt.plot(dist)"
   ]
  },
  {
   "cell_type": "code",
   "execution_count": null,
   "metadata": {},
   "outputs": [],
   "source": []
  },
  {
   "cell_type": "code",
   "execution_count": 96,
   "metadata": {},
   "outputs": [],
   "source": [
    "dim=4\n",
    "seed = seeds[0]\n",
    "posicao_no = posicao_nos[2]\n",
    "q_no = q_nos[3]\n",
    "links = [\"../../networks/c-town/nodes\", \n",
    "        \"../../networks/c-town/links\", \n",
    "        \"../../networks/c-town/rede.inp\", \n",
    "        f\"../../networks/c-town/{dim}dim_{posicao_no}_{q_no}.csv\"]\n",
    "\n",
    "diretorio = f'./teste/'\n",
    "if not os.path.isdir(diretorio):\n",
    "    os.mkdir(diretorio)"
   ]
  },
  {
   "cell_type": "code",
   "execution_count": 97,
   "metadata": {},
   "outputs": [],
   "source": [
    "rv = epa.RealValuesNos(links, t[:dim], nos_dim=q_no, posicao=posicao_no)\n",
    "rv.getRealValue()\n",
    "rv.close_sim()"
   ]
  },
  {
   "cell_type": "code",
   "execution_count": 98,
   "metadata": {},
   "outputs": [
    {
     "name": "stdout",
     "output_type": "stream",
     "text": [
      "Começando simulação\n"
     ]
    }
   ],
   "source": [
    "net = epa.Rede(links, rv.groups, t[:dim], [0.001,1])"
   ]
  },
  {
   "cell_type": "code",
   "execution_count": 99,
   "metadata": {},
   "outputs": [
    {
     "data": {
      "text/plain": [
       "array([0.67225113, 0.45833063, 0.49872979, 0.70702656])"
      ]
     },
     "execution_count": 99,
     "metadata": {},
     "output_type": "execute_result"
    }
   ],
   "source": [
    "x0 = np.random.random((dim,))*1+0.001\n",
    "x0"
   ]
  },
  {
   "cell_type": "code",
   "execution_count": 100,
   "metadata": {},
   "outputs": [
    {
     "name": "stdout",
     "output_type": "stream",
     "text": [
      "t=50\tx=535.9033737535608\n",
      "t=49\tx=424.0793903329665\n",
      "t=48\tx=357.85695897851446\n",
      "t=47\tx=239.99283392469334\n",
      "t=46\tx=148.31687680580112\n",
      "t=45\tx=171.70896721823175\n",
      "t=44\tx=149.22430645691463\n",
      "t=43\tx=144.74504056437118\n",
      "t=42\tx=112.96953793035932\n",
      "t=41\tx=124.75889941089274\n",
      "t=40\tx=139.50070826008135\n",
      "t=39\tx=169.14596994031305\n",
      "t=38\tx=184.38693772038278\n",
      "t=37\tx=183.97899319697078\n",
      "t=36\tx=188.96534851532397\n",
      "t=35\tx=197.31089549489485\n",
      "t=34\tx=218.4615803076186\n",
      "t=33\tx=146.28857796630393\n",
      "t=32\tx=187.86210912067514\n",
      "t=31\tx=132.89405823190742\n",
      "t=30\tx=92.74130954094389\n",
      "t=29\tx=158.06112576715535\n",
      "t=28\tx=116.02772984141305\n",
      "t=27\tx=111.10398302291206\n",
      "t=26\tx=139.72599434064813\n",
      "t=25\tx=153.6617627439365\n",
      "t=24\tx=112.89088299506798\n",
      "t=23\tx=74.7170079393291\n",
      "t=22\tx=84.98169963223526\n",
      "t=21\tx=160.2980782044044\n",
      "t=20\tx=103.49723476649453\n",
      "t=19\tx=66.53369144667174\n",
      "t=18\tx=38.414094449821405\n",
      "t=17\tx=31.392745351736345\n",
      "t=16\tx=45.210356937152106\n",
      "t=15\tx=37.800187455616694\n",
      "t=14\tx=50.633437870126855\n",
      "t=13\tx=9.392752492630294\n",
      "t=12\tx=12.950250976225101\n",
      "t=11\tx=39.29892033587115\n",
      "t=10\tx=26.91094011844513\n",
      "t=9\tx=45.28680915774306\n",
      "t=8\tx=13.533074173806236\n",
      "t=7\tx=4.603651534773255\n",
      "t=6\tx=7.483295119966861\n",
      "t=5\tx=8.938111962117594\n",
      "t=4\tx=3.7665405989464533\n",
      "t=3\tx=7.149828384677684\n",
      "t=2\tx=9.096679047259427\n"
     ]
    },
    {
     "data": {
      "text/plain": [
       "[<matplotlib.lines.Line2D at 0x7f61476b20a0>]"
      ]
     },
     "execution_count": 100,
     "metadata": {},
     "output_type": "execute_result"
    },
    {
     "data": {
      "image/png": "[encoded data removed]",
      "text/plain": [
       "<Figure size 432x288 with 1 Axes>"
      ]
     },
     "metadata": {
      "needs_background": "light"
     },
     "output_type": "display_data"
    }
   ],
   "source": [
    "x, imagem, caminho = simulated_annealing(x0, net.objetivo, t0=50, dt=1, iter_MAX=50)\n",
    "plt.plot(imagem)"
   ]
  },
  {
   "cell_type": "code",
   "execution_count": 102,
   "metadata": {},
   "outputs": [
    {
     "data": {
      "text/plain": [
       "0.14732053862978428"
      ]
     },
     "execution_count": 102,
     "metadata": {},
     "output_type": "execute_result"
    }
   ],
   "source": [
    "net.get_dist(x)"
   ]
  },
  {
   "cell_type": "code",
   "execution_count": 103,
   "metadata": {},
   "outputs": [
    {
     "data": {
      "text/plain": [
       "2.4940007132681847"
      ]
     },
     "execution_count": 103,
     "metadata": {},
     "output_type": "execute_result"
    }
   ],
   "source": [
    "net.objetivo(x)"
   ]
  },
  {
   "cell_type": "code",
   "execution_count": 104,
   "metadata": {},
   "outputs": [
    {
     "data": {
      "text/plain": [
       "array([0.075, 0.812, 0.317, 0.581])"
      ]
     },
     "execution_count": 104,
     "metadata": {},
     "output_type": "execute_result"
    }
   ],
   "source": [
    "net.target"
   ]
  },
  {
   "cell_type": "code",
   "execution_count": 105,
   "metadata": {},
   "outputs": [
    {
     "data": {
      "text/plain": [
       "array([0.08017815, 0.73499845, 0.3052796 , 0.70593967])"
      ]
     },
     "execution_count": 105,
     "metadata": {},
     "output_type": "execute_result"
    }
   ],
   "source": [
    "x"
   ]
  },
  {
   "cell_type": "code",
   "execution_count": 107,
   "metadata": {},
   "outputs": [],
   "source": [
    "o = optimize.minimize(net.objetivo, x0, method='Nelder-Mead')"
   ]
  },
  {
   "cell_type": "code",
   "execution_count": 108,
   "metadata": {},
   "outputs": [
    {
     "data": {
      "text/plain": [
       " final_simplex: (array([[0.07499663, 0.81198777, 0.3170265 , 0.58102597],\n",
       "       [0.07499517, 0.81195486, 0.31700775, 0.58109689],\n",
       "       [0.07499411, 0.81203957, 0.31698261, 0.58102929],\n",
       "       [0.07499896, 0.81191628, 0.3170197 , 0.58099405],\n",
       "       [0.07501369, 0.81193696, 0.31700689, 0.58098657]]), array([6.14861165e-07, 6.40634426e-07, 1.03441198e-06, 1.52857956e-06,\n",
       "       1.85625049e-06]))\n",
       "           fun: 6.148611646314749e-07\n",
       "       message: 'Optimization terminated successfully.'\n",
       "          nfev: 312\n",
       "           nit: 181\n",
       "        status: 0\n",
       "       success: True\n",
       "             x: array([0.07499663, 0.81198777, 0.3170265 , 0.58102597])"
      ]
     },
     "execution_count": 108,
     "metadata": {},
     "output_type": "execute_result"
    }
   ],
   "source": [
    "o"
   ]
  },
  {
   "cell_type": "code",
   "execution_count": 109,
   "metadata": {},
   "outputs": [
    {
     "data": {
      "text/plain": [
       "3.9210070542127646e-05"
      ]
     },
     "execution_count": 109,
     "metadata": {},
     "output_type": "execute_result"
    }
   ],
   "source": [
    "net.get_dist(o.x)"
   ]
  },
  {
   "cell_type": "code",
   "execution_count": null,
   "metadata": {},
   "outputs": [],
   "source": []
  }
 ],
 "metadata": {
  "kernelspec": {
   "display_name": "Python 3",
   "language": "python",
   "name": "python3"
  },
  "language_info": {
   "codemirror_mode": {
    "name": "ipython",
    "version": 3
   },
   "file_extension": ".py",
   "mimetype": "text/x-python",
   "name": "python",
   "nbconvert_exporter": "python",
   "pygments_lexer": "ipython3",
   "version": "3.8.6"
  }
 },
 "nbformat": 4,
 "nbformat_minor": 2
}
