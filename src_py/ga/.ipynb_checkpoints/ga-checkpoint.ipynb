{
 "cells": [
  {
   "cell_type": "code",
   "execution_count": 3,
   "metadata": {},
   "outputs": [],
   "source": [
    "import numpy as np\n",
    "import matplotlib.pyplot as plt\n",
    "import pandas as pd\n",
    "import epanet as epa\n",
    "import epamodule as em\n",
    "import seaborn as sns\n",
    "from cjsbot import CjsBot\n",
    "from scipy import optimize\n",
    "from scipy import stats\n",
    "import time\n",
    "import os \n",
    "from multiprocessing import Process, Lock"
   ]
  },
  {
   "cell_type": "code",
   "execution_count": 5,
   "metadata": {},
   "outputs": [
    {
     "name": "stdout",
     "output_type": "stream",
     "text": [
      "Começando simulação\n"
     ]
    }
   ],
   "source": [
    "t = np.array([0.075, 0.812, 0.317, 0.581, 0.752, 0.994, 0.967, 0.511, 0.851,\n",
    "              0.925, 0.842, 0.295, 0.633, 0.522, 0.306])\n",
    "seeds = [661, 308, 769, 343, 491]\n",
    "posicao_nos = [0.1, 0.3, 0.5, 0.7, 0.9]\n",
    "q_nos = [10, 20, 30, 40, 50]   \n",
    "dim=14\n",
    "seed = seeds[0]\n",
    "posicao_no = posicao_nos[2]\n",
    "q_no = q_nos[3]\n",
    "links = [\"../../networks/c-town/nodes\", \n",
    "        \"../../networks/c-town/links\", \n",
    "        \"../../networks/c-town/rede.inp\", \n",
    "        f\"../../networks/c-town/{dim}dim_{posicao_no}_{q_no}.csv\"]\n",
    "\n",
    "diretorio = f'./teste/'\n",
    "if not os.path.isdir(diretorio):\n",
    "    os.mkdir(diretorio)\n",
    "rv = epa.RealValuesNos(links, t[:dim], nos_dim=q_no, posicao=posicao_no)\n",
    "rv.getRealValue()\n",
    "rv.close_sim()\n",
    "net = epa.Rede(links, rv.groups, t[:dim], [0.001,1])"
   ]
  },
  {
   "cell_type": "code",
   "execution_count": 11,
   "metadata": {},
   "outputs": [],
   "source": [
    "pop = np.random.random((30,dim))*1+0.001"
   ]
  },
  {
   "cell_type": "code",
   "execution_count": 15,
   "metadata": {},
   "outputs": [
    {
     "data": {
      "text/plain": [
       "[0.8411439560868255,\n",
       " 0.3734780553887328,\n",
       " 0.851207089390792,\n",
       " 0.2688379906840258,\n",
       " 0.5235006642383084,\n",
       " 0.13225976212560753,\n",
       " 0.18926821273430805,\n",
       " 0.6191201261686831,\n",
       " 0.16826205611931133,\n",
       " 0.0502617346768327,\n",
       " 0.4606473390571161,\n",
       " 0.11826232678070348,\n",
       " 0.1146437769586226,\n",
       " 0.4937801351291785]"
      ]
     },
     "execution_count": 15,
     "metadata": {},
     "output_type": "execute_result"
    }
   ],
   "source": [
    "pop = [list(i) for i in list(pop)]"
   ]
  },
  {
   "cell_type": "code",
   "execution_count": 20,
   "metadata": {},
   "outputs": [],
   "source": [
    "def selecao(pop, f):\n",
    "    r = []\n",
    "    for i in np.arange(len(pop)):\n",
    "        r.append(f(pop[i]))\n",
    "    indices = np.arange(len(pop))\n",
    "    best_i = sorted(indices, key=lambda x: r[x])[:int(len(pop)/2)]\n",
    "    pais = []\n",
    "    for i in best_i:\n",
    "        pais.append(pop[i])\n",
    "    return pais[0], pais\n",
    "\n",
    "def reproducao(pais, p_mut):\n",
    "    aux = np.copy(pais)\n",
    "    filhos = []\n",
    "    n = len(pais)/2\n",
    "    for i in np.arange(n):\n",
    "        # acasalamento\n",
    "        a = np.random.choice(pais)\n",
    "        pais.remove(a)\n",
    "        b = np.random.choice(pais)\n",
    "        pais.remove(b)\n",
    "\n",
    "        # recombinação\n",
    "        comb_a = np.random.randint(0,2, size=(len(a),))\n",
    "        comb_b = np.ones((len(a),)) - comb_a\n",
    "        filho_a = a*comb_a + b*comb_b \n",
    "        \n",
    "        comb_a = np.random.randint(0,2, size=(len(a),))\n",
    "        comb_b = np.ones((len(a),)) - comb_a\n",
    "        filho_b = a*comb_a + b*comb_b \n",
    "        \n",
    "        # mutação\n",
    "        if np.random.uniform(0,1) < p_mut:\n",
    "            filho_a[np.random.randint(0, len(filho_a))] = np.random.random()\n",
    "        if np.random.uniform(0,1) < p_mut:\n",
    "            filho_b[np.random.randint(0, len(filho_b))] = np.random.random()\n",
    "\n",
    "        filhos.append(filho_a)\n",
    "        filhos.append(filho_b)\n",
    "    return aux+filhos\n",
    "        \n",
    "\n",
    "def ga(objetivo, population, gens, p_mut = 0.15, best_score=1e-10):\n",
    "    population = list(population)\n",
    "    for i in range(gens):\n",
    "        x_bsf, pais = selecao(population, objetivo)\n",
    "        print(pais)\n",
    "        population = reproducao(pais, p_mut)\n",
    "        score = objetivo(x_bsf)\n",
    "        print(i, score)\n",
    "        if score < best_score:\n",
    "            break\n",
    "    return x_bsf"
   ]
  },
  {
   "cell_type": "code",
   "execution_count": 21,
   "metadata": {},
   "outputs": [
    {
     "name": "stdout",
     "output_type": "stream",
     "text": [
      "[[0.006051662614460661, 0.07462248553696538, 0.4887524894821804, 0.6329789739028124, 0.9388112896452271, 0.5809535033771297, 0.8274409473967806, 0.18109434088416854, 0.37931532420839786, 0.9050707391363655, 0.9752731092384999, 0.9550379624874289, 0.26254388129450756, 0.6885096215536389], [0.5516397271142274, 0.4249493771951218, 0.39319705856875964, 0.9120883067828963, 0.36021093995836895, 0.6979753442099944, 0.6665890489470812, 0.30758451841312284, 0.4396850623141232, 0.9883133136149692, 0.8198064089771296, 0.23854819110769643, 0.30599158935018067, 0.16962102444658944], [0.21106845169906951, 0.5561638326140478, 0.8516522260014855, 0.573846171721332, 0.5922346032953552, 0.5854209205635046, 0.38688188669690193, 0.6477019069839003, 0.9040435090276968, 0.8644849574358392, 0.9906549652468339, 0.44220961190250196, 0.09708667267410542, 0.8106769270018362], [0.45880876707758156, 0.509217398392565, 0.47435683344940627, 0.5508510162743909, 0.18898955820563523, 0.9662696081177109, 0.8611724251274282, 0.6793388695723291, 0.7540468234018787, 0.7615040180106724, 0.7960385400471168, 0.32365240405626416, 0.8984462315366039, 0.5247772289064636], [0.27027049218282584, 0.05212762829208506, 0.9312963474648424, 0.19437247695583992, 0.5432745570094296, 0.7671687027820707, 0.6757460573522148, 0.4866443083916112, 0.8295217818630125, 0.3553374574279803, 0.3434026976474741, 0.12868904841612727, 0.08882670877638854, 0.6157663895103047], [0.30656734519753703, 0.28827838425778696, 0.6852322273416115, 0.07623601580868922, 0.5442929546327344, 0.537181220635827, 0.3599884820753877, 0.4141635448743941, 0.7331171612593427, 0.6173221571126961, 0.6864860980120134, 0.18669138183747802, 0.3417262997424163, 0.29773198427432357], [0.8121407791260534, 0.13456623643214038, 0.7504566884528869, 0.4838947509413186, 0.6143431514411247, 0.4543928050978985, 0.6692706327434935, 0.02109937942050366, 0.8228106676652276, 0.6940961084914837, 0.9672692828036602, 0.8470076440211668, 0.20986794672113174, 0.2943636706955258], [0.3663986210729465, 0.35141402030970337, 0.9087173555283506, 0.5357671655082266, 0.6166769738395653, 0.5619293619496364, 0.853198077184812, 0.41623738442226677, 0.8884811462087429, 0.8305064719413894, 0.9041581500372526, 0.9785253588667745, 0.4644471251965664, 0.5033471106514582], [0.3548205571735128, 0.13611122726309766, 0.7700865267043263, 0.2336043871139043, 0.745537246808861, 0.5403487844970218, 0.49952996298972163, 0.5533447048788727, 0.4486260173111817, 0.3444889422214523, 0.9971364193848766, 0.25898696869765303, 0.9593505683991361, 0.1299758289290106], [0.43947515050408226, 0.3919267453790649, 0.6031865683644893, 0.9598675374996771, 0.8169018821697792, 0.09388881283505701, 0.5166973047302, 0.5093957202339274, 0.06756279902013651, 0.9714856982704219, 0.8732092253032449, 0.05026525848495156, 0.2684089919498416, 0.2939539476963038], [0.28987378096451377, 0.9736230454859712, 0.2958194705031386, 0.4631101450477264, 0.8494044599230831, 0.12936699560032272, 0.5553383369009884, 0.00823552419372986, 0.6281966867390709, 0.6537773623404581, 0.2661551392102075, 0.1171456033248246, 0.5057839627977053, 0.7721753902491817], [0.7772485922652665, 0.7156941699162037, 0.8664792497571316, 0.5146840563290271, 0.843496702455984, 0.33468966825673563, 0.3650998188993819, 0.4085458613517222, 0.38242338039173307, 0.30628373143853027, 0.40599897948160246, 0.33337616822410676, 0.051749908163700176, 0.08864979894902114], [0.6657146894504479, 0.8520753868492261, 0.890219312451203, 0.8300075866399216, 0.5333747232503815, 0.3199708170130964, 0.49871070920543825, 0.5410671933053728, 0.7966122257483862, 0.9199435564257034, 0.5194355325242624, 0.5422959474920874, 0.9177261729649803, 0.09866332409373646], [0.4157488939020513, 0.001984583123435523, 0.8830656634085264, 0.27033441202941133, 0.20065515467054573, 0.17881503851377312, 0.07084260327769987, 0.11359079845505682, 0.9027860896624033, 0.5813295844559121, 0.4320066119443755, 0.8940309493129416, 0.16684278356005255, 0.23059057015459827], [0.9547084818083885, 0.7556818416013036, 0.7329066245550169, 0.04232768636436368, 0.5090015519526299, 0.22715400765673577, 0.34586787235321237, 0.18569017810916455, 0.6201722467668743, 0.5685508826789644, 0.4347436824791465, 0.09916354662994209, 0.9591965069475384, 0.21323972367113386]]\n"
     ]
    },
    {
     "ename": "ValueError",
     "evalue": "low >= high",
     "output_type": "error",
     "traceback": [
      "\u001b[0;31m---------------------------------------------------------------------------\u001b[0m",
      "\u001b[0;31mValueError\u001b[0m                                Traceback (most recent call last)",
      "\u001b[0;32m<ipython-input-21-8bdc87f7bce3>\u001b[0m in \u001b[0;36m<module>\u001b[0;34m\u001b[0m\n\u001b[0;32m----> 1\u001b[0;31m \u001b[0mga\u001b[0m\u001b[0;34m(\u001b[0m\u001b[0mnet\u001b[0m\u001b[0;34m.\u001b[0m\u001b[0mobjetivo\u001b[0m\u001b[0;34m,\u001b[0m \u001b[0mpop\u001b[0m\u001b[0;34m,\u001b[0m \u001b[0;36m10\u001b[0m\u001b[0;34m)\u001b[0m\u001b[0;34m\u001b[0m\u001b[0;34m\u001b[0m\u001b[0m\n\u001b[0m",
      "\u001b[0;32m<ipython-input-20-8f8acbb62e86>\u001b[0m in \u001b[0;36mga\u001b[0;34m(objetivo, population, gens, p_mut, best_score)\u001b[0m\n\u001b[1;32m     46\u001b[0m         \u001b[0mx_bsf\u001b[0m\u001b[0;34m,\u001b[0m \u001b[0mpais\u001b[0m \u001b[0;34m=\u001b[0m \u001b[0mselecao\u001b[0m\u001b[0;34m(\u001b[0m\u001b[0mpopulation\u001b[0m\u001b[0;34m,\u001b[0m \u001b[0mobjetivo\u001b[0m\u001b[0;34m)\u001b[0m\u001b[0;34m\u001b[0m\u001b[0;34m\u001b[0m\u001b[0m\n\u001b[1;32m     47\u001b[0m         \u001b[0mprint\u001b[0m\u001b[0;34m(\u001b[0m\u001b[0mpais\u001b[0m\u001b[0;34m)\u001b[0m\u001b[0;34m\u001b[0m\u001b[0;34m\u001b[0m\u001b[0m\n\u001b[0;32m---> 48\u001b[0;31m         \u001b[0mpopulation\u001b[0m \u001b[0;34m=\u001b[0m \u001b[0mreproducao\u001b[0m\u001b[0;34m(\u001b[0m\u001b[0mpais\u001b[0m\u001b[0;34m,\u001b[0m \u001b[0mp_mut\u001b[0m\u001b[0;34m)\u001b[0m\u001b[0;34m\u001b[0m\u001b[0;34m\u001b[0m\u001b[0m\n\u001b[0m\u001b[1;32m     49\u001b[0m         \u001b[0mscore\u001b[0m \u001b[0;34m=\u001b[0m \u001b[0mobjetivo\u001b[0m\u001b[0;34m(\u001b[0m\u001b[0mx_bsf\u001b[0m\u001b[0;34m)\u001b[0m\u001b[0;34m\u001b[0m\u001b[0;34m\u001b[0m\u001b[0m\n\u001b[1;32m     50\u001b[0m         \u001b[0mprint\u001b[0m\u001b[0;34m(\u001b[0m\u001b[0mi\u001b[0m\u001b[0;34m,\u001b[0m \u001b[0mscore\u001b[0m\u001b[0;34m)\u001b[0m\u001b[0;34m\u001b[0m\u001b[0;34m\u001b[0m\u001b[0m\n",
      "\u001b[0;32m<ipython-input-20-8f8acbb62e86>\u001b[0m in \u001b[0;36mreproducao\u001b[0;34m(pais, p_mut)\u001b[0m\n\u001b[1;32m     18\u001b[0m         \u001b[0ma\u001b[0m \u001b[0;34m=\u001b[0m \u001b[0mpais\u001b[0m\u001b[0;34m[\u001b[0m\u001b[0mnp\u001b[0m\u001b[0;34m.\u001b[0m\u001b[0mrandom\u001b[0m\u001b[0;34m.\u001b[0m\u001b[0mrandint\u001b[0m\u001b[0;34m(\u001b[0m\u001b[0;36m0\u001b[0m\u001b[0;34m,\u001b[0m \u001b[0mlen\u001b[0m\u001b[0;34m(\u001b[0m\u001b[0mpais\u001b[0m\u001b[0;34m)\u001b[0m\u001b[0;34m)\u001b[0m\u001b[0;34m]\u001b[0m\u001b[0;34m\u001b[0m\u001b[0;34m\u001b[0m\u001b[0m\n\u001b[1;32m     19\u001b[0m         \u001b[0mpais\u001b[0m\u001b[0;34m.\u001b[0m\u001b[0mremove\u001b[0m\u001b[0;34m(\u001b[0m\u001b[0ma\u001b[0m\u001b[0;34m)\u001b[0m\u001b[0;34m\u001b[0m\u001b[0;34m\u001b[0m\u001b[0m\n\u001b[0;32m---> 20\u001b[0;31m         \u001b[0mb\u001b[0m \u001b[0;34m=\u001b[0m \u001b[0mpais\u001b[0m\u001b[0;34m[\u001b[0m\u001b[0mnp\u001b[0m\u001b[0;34m.\u001b[0m\u001b[0mrandom\u001b[0m\u001b[0;34m.\u001b[0m\u001b[0mrandint\u001b[0m\u001b[0;34m(\u001b[0m\u001b[0;36m0\u001b[0m\u001b[0;34m,\u001b[0m \u001b[0mlen\u001b[0m\u001b[0;34m(\u001b[0m\u001b[0mpais\u001b[0m\u001b[0;34m)\u001b[0m\u001b[0;34m)\u001b[0m\u001b[0;34m]\u001b[0m\u001b[0;34m\u001b[0m\u001b[0;34m\u001b[0m\u001b[0m\n\u001b[0m\u001b[1;32m     21\u001b[0m         \u001b[0mpais\u001b[0m\u001b[0;34m.\u001b[0m\u001b[0mremove\u001b[0m\u001b[0;34m(\u001b[0m\u001b[0mb\u001b[0m\u001b[0;34m)\u001b[0m\u001b[0;34m\u001b[0m\u001b[0;34m\u001b[0m\u001b[0m\n\u001b[1;32m     22\u001b[0m \u001b[0;34m\u001b[0m\u001b[0m\n",
      "\u001b[0;32mmtrand.pyx\u001b[0m in \u001b[0;36mnumpy.random.mtrand.RandomState.randint\u001b[0;34m()\u001b[0m\n",
      "\u001b[0;32m_bounded_integers.pyx\u001b[0m in \u001b[0;36mnumpy.random._bounded_integers._rand_int64\u001b[0;34m()\u001b[0m\n",
      "\u001b[0;31mValueError\u001b[0m: low >= high"
     ]
    }
   ],
   "source": [
    "ga(net.objetivo, pop, 10)"
   ]
  },
  {
   "cell_type": "code",
   "execution_count": null,
   "metadata": {},
   "outputs": [],
   "source": []
  }
 ],
 "metadata": {
  "kernelspec": {
   "display_name": "Python 3",
   "language": "python",
   "name": "python3"
  },
  "language_info": {
   "codemirror_mode": {
    "name": "ipython",
    "version": 3
   },
   "file_extension": ".py",
   "mimetype": "text/x-python",
   "name": "python",
   "nbconvert_exporter": "python",
   "pygments_lexer": "ipython3",
   "version": "3.8.6"
  }
 },
 "nbformat": 4,
 "nbformat_minor": 4
}
