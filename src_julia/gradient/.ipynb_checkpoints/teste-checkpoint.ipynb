{
 "cells": [
  {
   "cell_type": "code",
   "execution_count": 1,
   "metadata": {
    "scrolled": true
   },
   "outputs": [
    {
     "data": {
      "text/plain": [
       "Main.epamodule"
      ]
     },
     "execution_count": 1,
     "metadata": {},
     "output_type": "execute_result"
    }
   ],
   "source": [
    "include(\"../epamodule/epamodule.jl\")\n",
    "include(\"../epanet/epanet.jl\")\n",
    "using Main.epanet\n",
    "em = Main.epamodule"
   ]
  },
  {
   "cell_type": "code",
   "execution_count": 2,
   "metadata": {},
   "outputs": [
    {
     "data": {
      "text/plain": [
       "Paths(\"/home/augusto/Documents/IC-2020/optimized-calibration/networks/c-town/nodes\", \"/home/augusto/Documents/IC-2020/optimized-calibration/networks/c-town/links\", \"/home/augusto/Documents/IC-2020/optimized-calibration/networks/c-town/rede.inp\", \"/home/augusto/Documents/IC-2020/optimized-calibration/networks/c-town/teste.csv\")"
      ]
     },
     "execution_count": 2,
     "metadata": {},
     "output_type": "execute_result"
    }
   ],
   "source": [
    "paths = Paths(\"/home/augusto/Documents/IC-2020/optimized-calibration/networks/c-town/nodes\",\n",
    "    \"/home/augusto/Documents/IC-2020/optimized-calibration/networks/c-town/links\",\n",
    "    \"/home/augusto/Documents/IC-2020/optimized-calibration/networks/c-town/rede.inp\",\n",
    "    \"/home/augusto/Documents/IC-2020/optimized-calibration/networks/c-town/teste.csv\")"
   ]
  },
  {
   "cell_type": "code",
   "execution_count": 3,
   "metadata": {
    "scrolled": false
   },
   "outputs": [
    {
     "name": "stdout",
     "output_type": "stream",
     "text": [
      "  Page 1                                    Fri Feb 19 14:47:31 2021\n",
      "\n",
      "  ******************************************************************\n",
      "  *                           E P A N E T                          *\n",
      "  *                   Hydraulic and Water Quality                  *\n",
      "  *                   Analysis for Pipe Networks                   *\n",
      "  *                         Version 2.2                            *\n",
      "  ******************************************************************\n",
      "  \n",
      "  Analysis begun Fri Feb 19 14:47:31 2021\n",
      "\n",
      "  Analysis ended Fri Feb 19 14:47:42 2021\n"
     ]
    },
    {
     "data": {
      "text/plain": [
       "SimulationValues(\u001b[1m180×3 DataFrame\u001b[0m\n",
       "\u001b[1m Row \u001b[0m│\u001b[1m node  \u001b[0m\u001b[1m vazao \u001b[0m\u001b[1m pressure \u001b[0m\n",
       "\u001b[1m     \u001b[0m│\u001b[90m Int64 \u001b[0m\u001b[90m Int64 \u001b[0m\u001b[90m Float64  \u001b[0m\n",
       "─────┼────────────────────────\n",
       "   1 │   270     20   63.7026\n",
       "   2 │   143     20   66.2905\n",
       "   3 │    16     20   62.497\n",
       "   4 │    63     20   50.7953\n",
       "   5 │   267     20   63.2691\n",
       "   6 │    86     20   72.0072\n",
       "   7 │     2     20   66.5445\n",
       "   8 │    44     20   68.8534\n",
       "   9 │   119     20   80.7897\n",
       "  10 │    88     20   40.0\n",
       "  11 │   362     20   49.9983\n",
       "  ⋮  │   ⋮      ⋮       ⋮\n",
       " 171 │   318     70   99.2232\n",
       " 172 │   328     70  113.434\n",
       " 173 │   241     70   84.22\n",
       " 174 │   216     70   70.7078\n",
       " 175 │   124     70   35.1855\n",
       " 176 │   163     70   86.939\n",
       " 177 │   311     70  111.453\n",
       " 178 │   303     70   34.9998\n",
       " 179 │   258     70   58.4851\n",
       " 180 │    29     70   51.6642\n",
       "\u001b[36m              159 rows omitted\u001b[0m, [0.01, 0.1, 0.001], [1, 2, 3, 4, 5, 6, 7, 8, 9, 10  …  379, 380, 381, 382, 383, 384, 385, 386, 387, 388], [[1, 2, 3, 4, 5, 6, 7, 8, 9, 10  …  134, 135, 136, 137, 138, 139, 140, 141, 142, 143], [144, 145, 146, 147, 148, 149, 150, 151, 152, 153  …  277, 278, 279, 280, 281, 282, 283, 284, 285, 286], [287, 288, 289, 290, 291, 292, 293, 294, 295, 296  …  420, 421, 422, 423, 424, 425, 426, 427, 428, 429]], 3, Paths(\"/home/augusto/Documents/IC-2020/optimized-calibration/networks/c-town/nodes\", \"/home/augusto/Documents/IC-2020/optimized-calibration/networks/c-town/links\", \"/home/augusto/Documents/IC-2020/optimized-calibration/networks/c-town/rede.inp\", \"/home/augusto/Documents/IC-2020/optimized-calibration/networks/c-town/teste.csv\"))"
      ]
     },
     "execution_count": 3,
     "metadata": {},
     "output_type": "execute_result"
    }
   ],
   "source": [
    "sm = SimulationValues(paths, [0.01,0.1,0.001], 30, 0.5)"
   ]
  },
  {
   "cell_type": "code",
   "execution_count": 4,
   "metadata": {
    "scrolled": true
   },
   "outputs": [
    {
     "data": {
      "text/plain": [
       "Main.epanet"
      ]
     },
     "execution_count": 4,
     "metadata": {},
     "output_type": "execute_result"
    }
   ],
   "source": [
    "epa = Main.epanet"
   ]
  },
  {
   "cell_type": "code",
   "execution_count": 5,
   "metadata": {
    "scrolled": true
   },
   "outputs": [
    {
     "data": {
      "text/plain": [
       "SimulationValues(\u001b[1m180×3 DataFrame\u001b[0m\n",
       "\u001b[1m Row \u001b[0m│\u001b[1m node  \u001b[0m\u001b[1m vazao \u001b[0m\u001b[1m pressure \u001b[0m\n",
       "\u001b[1m     \u001b[0m│\u001b[90m Int64 \u001b[0m\u001b[90m Int64 \u001b[0m\u001b[90m Float64  \u001b[0m\n",
       "─────┼────────────────────────\n",
       "   1 │   270     20   63.7026\n",
       "   2 │   143     20   66.2905\n",
       "   3 │    16     20   62.497\n",
       "   4 │    63     20   50.7953\n",
       "   5 │   267     20   63.2691\n",
       "   6 │    86     20   72.0072\n",
       "   7 │     2     20   66.5445\n",
       "   8 │    44     20   68.8534\n",
       "   9 │   119     20   80.7897\n",
       "  10 │    88     20   40.0\n",
       "  11 │   362     20   49.9983\n",
       "  ⋮  │   ⋮      ⋮       ⋮\n",
       " 171 │   318     70   99.2232\n",
       " 172 │   328     70  113.434\n",
       " 173 │   241     70   84.22\n",
       " 174 │   216     70   70.7078\n",
       " 175 │   124     70   35.1855\n",
       " 176 │   163     70   86.939\n",
       " 177 │   311     70  111.453\n",
       " 178 │   303     70   34.9998\n",
       " 179 │   258     70   58.4851\n",
       " 180 │    29     70   51.6642\n",
       "\u001b[36m              159 rows omitted\u001b[0m, [0.01, 0.1, 0.001], [1, 2, 3, 4, 5, 6, 7, 8, 9, 10  …  379, 380, 381, 382, 383, 384, 385, 386, 387, 388], [[1, 2, 3, 4, 5, 6, 7, 8, 9, 10  …  134, 135, 136, 137, 138, 139, 140, 141, 142, 143], [144, 145, 146, 147, 148, 149, 150, 151, 152, 153  …  277, 278, 279, 280, 281, 282, 283, 284, 285, 286], [287, 288, 289, 290, 291, 292, 293, 294, 295, 296  …  420, 421, 422, 423, 424, 425, 426, 427, 428, 429]], 3, Paths(\"/home/augusto/Documents/IC-2020/optimized-calibration/networks/c-town/nodes\", \"/home/augusto/Documents/IC-2020/optimized-calibration/networks/c-town/links\", \"/home/augusto/Documents/IC-2020/optimized-calibration/networks/c-town/rede.inp\", \"/home/augusto/Documents/IC-2020/optimized-calibration/networks/c-town/teste.csv\"))"
      ]
     },
     "execution_count": 5,
     "metadata": {},
     "output_type": "execute_result"
    }
   ],
   "source": [
    "global net = sm"
   ]
  },
  {
   "cell_type": "code",
   "execution_count": 6,
   "metadata": {},
   "outputs": [
    {
     "name": "stdout",
     "output_type": "stream",
     "text": [
      "  Page 1                                    Fri Feb 19 14:47:46 2021\n",
      "\n",
      "  ******************************************************************\n",
      "  *                           E P A N E T                          *\n",
      "  *                   Hydraulic and Water Quality                  *\n",
      "  *                   Analysis for Pipe Networks                   *\n",
      "  *                         Version 2.2                            *\n",
      "  ******************************************************************\n",
      "  \n",
      "  Analysis begun Fri Feb 19 14:47:46 2021\n"
     ]
    }
   ],
   "source": [
    "epa.start_sim(paths)"
   ]
  },
  {
   "cell_type": "code",
   "execution_count": 9,
   "metadata": {},
   "outputs": [
    {
     "ename": "MethodError",
     "evalue": "MethodError: no method matching objetivo(::Array{Float64,1}, ::SimulationValues)\nClosest candidates are:\n  objetivo(::Array{Float64,1}) at /home/augusto/Documents/IC-2020/optimized-calibration/src_julia/epanet/epanet.jl:120",
     "output_type": "error",
     "traceback": [
      "MethodError: no method matching objetivo(::Array{Float64,1}, ::SimulationValues)\nClosest candidates are:\n  objetivo(::Array{Float64,1}) at /home/augusto/Documents/IC-2020/optimized-calibration/src_julia/epanet/epanet.jl:120",
      "",
      "Stacktrace:",
      " [1] top-level scope at In[9]:1"
     ]
    }
   ],
   "source": [
    "epa.objetivo([0.05,0.05,0.05], sm)"
   ]
  },
  {
   "cell_type": "code",
   "execution_count": 8,
   "metadata": {},
   "outputs": [
    {
     "data": {
      "text/plain": [
       "#3 (generic function with 1 method)"
      ]
     },
     "execution_count": 8,
     "metadata": {},
     "output_type": "execute_result"
    }
   ],
   "source": []
  },
  {
   "cell_type": "code",
   "execution_count": null,
   "metadata": {},
   "outputs": [],
   "source": []
  }
 ],
 "metadata": {
  "kernelspec": {
   "display_name": "Julia 1.4.1",
   "language": "julia",
   "name": "julia-1.4"
  },
  "language_info": {
   "file_extension": ".jl",
   "mimetype": "application/julia",
   "name": "julia",
   "version": "1.4.1"
  }
 },
 "nbformat": 4,
 "nbformat_minor": 4
}
