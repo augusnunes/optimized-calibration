{
 "cells": [
  {
   "cell_type": "code",
   "execution_count": 1,
   "metadata": {
    "scrolled": true
   },
   "outputs": [
    {
     "data": {
      "text/plain": [
       "Main.epamodule"
      ]
     },
     "execution_count": 1,
     "metadata": {},
     "output_type": "execute_result"
    }
   ],
   "source": [
    "include(\"../epamodule/epamodule.jl\")\n",
    "include(\"../epanet/epanet.jl\")\n",
    "using Main.epanet\n",
    "em = Main.epamodule"
   ]
  },
  {
   "cell_type": "code",
   "execution_count": 2,
   "metadata": {},
   "outputs": [
    {
     "data": {
      "text/plain": [
       "Paths(\"/home/augusto/Documents/IC-2020/optimized-calibration/networks/c-town/nodes\", \"/home/augusto/Documents/IC-2020/optimized-calibration/networks/c-town/links\", \"/home/augusto/Documents/IC-2020/optimized-calibration/networks/c-town/rede.inp\", \"/home/augusto/Documents/IC-2020/optimized-calibration/networks/c-town/teste.csv\")"
      ]
     },
     "execution_count": 2,
     "metadata": {},
     "output_type": "execute_result"
    }
   ],
   "source": [
    "paths = Paths(\"/home/augusto/Documents/IC-2020/optimized-calibration/networks/c-town/nodes\",\n",
    "    \"/home/augusto/Documents/IC-2020/optimized-calibration/networks/c-town/links\",\n",
    "    \"/home/augusto/Documents/IC-2020/optimized-calibration/networks/c-town/rede.inp\",\n",
    "    \"/home/augusto/Documents/IC-2020/optimized-calibration/networks/c-town/teste.csv\")"
   ]
  },
  {
   "cell_type": "code",
   "execution_count": 3,
   "metadata": {
    "scrolled": false
   },
   "outputs": [
    {
     "name": "stdout",
     "output_type": "stream",
     "text": [
      "  Page 1                                    Fri Feb 19 18:27:50 2021\n",
      "\n",
      "  ******************************************************************\n",
      "  *                           E P A N E T                          *\n",
      "  *                   Hydraulic and Water Quality                  *\n",
      "  *                   Analysis for Pipe Networks                   *\n",
      "  *                         Version 2.2                            *\n",
      "  ******************************************************************\n",
      "  \n",
      "  Analysis begun Fri Feb 19 18:27:50 2021\n",
      "\n",
      "  Analysis ended Fri Feb 19 18:28:04 2021\n"
     ]
    },
    {
     "data": {
      "text/plain": [
       "SimulationValues(\u001b[1m180×3 DataFrame\u001b[0m\n",
       "\u001b[1m Row \u001b[0m│\u001b[1m node  \u001b[0m\u001b[1m vazao \u001b[0m\u001b[1m pressure \u001b[0m\n",
       "\u001b[1m     \u001b[0m│\u001b[90m Int64 \u001b[0m\u001b[90m Int64 \u001b[0m\u001b[90m Float64  \u001b[0m\n",
       "─────┼────────────────────────\n",
       "   1 │   270     20   63.7026\n",
       "   2 │   143     20   66.2905\n",
       "   3 │    16     20   62.497\n",
       "   4 │    63     20   50.7953\n",
       "   5 │   267     20   63.2691\n",
       "   6 │    86     20   72.0072\n",
       "   7 │     2     20   66.5445\n",
       "   8 │    44     20   68.8534\n",
       "   9 │   119     20   80.7897\n",
       "  10 │    88     20   40.0\n",
       "  11 │   362     20   49.9983\n",
       "  ⋮  │   ⋮      ⋮       ⋮\n",
       " 171 │   318     70   99.2232\n",
       " 172 │   328     70  113.434\n",
       " 173 │   241     70   84.22\n",
       " 174 │   216     70   70.7078\n",
       " 175 │   124     70   35.1855\n",
       " 176 │   163     70   86.939\n",
       " 177 │   311     70  111.453\n",
       " 178 │   303     70   34.9998\n",
       " 179 │   258     70   58.4851\n",
       " 180 │    29     70   51.6642\n",
       "\u001b[36m              159 rows omitted\u001b[0m, [0.01, 0.1, 0.001], [1, 2, 3, 4, 5, 6, 7, 8, 9, 10  …  379, 380, 381, 382, 383, 384, 385, 386, 387, 388], [[1, 2, 3, 4, 5, 6, 7, 8, 9, 10  …  134, 135, 136, 137, 138, 139, 140, 141, 142, 143], [144, 145, 146, 147, 148, 149, 150, 151, 152, 153  …  277, 278, 279, 280, 281, 282, 283, 284, 285, 286], [287, 288, 289, 290, 291, 292, 293, 294, 295, 296  …  420, 421, 422, 423, 424, 425, 426, 427, 428, 429]], 3, Paths(\"/home/augusto/Documents/IC-2020/optimized-calibration/networks/c-town/nodes\", \"/home/augusto/Documents/IC-2020/optimized-calibration/networks/c-town/links\", \"/home/augusto/Documents/IC-2020/optimized-calibration/networks/c-town/rede.inp\", \"/home/augusto/Documents/IC-2020/optimized-calibration/networks/c-town/teste.csv\"))"
      ]
     },
     "execution_count": 3,
     "metadata": {},
     "output_type": "execute_result"
    }
   ],
   "source": [
    "sm = SimulationValues(paths, [0.01,0.1,0.001], 30, 0.5)"
   ]
  },
  {
   "cell_type": "code",
   "execution_count": 4,
   "metadata": {
    "scrolled": true
   },
   "outputs": [
    {
     "data": {
      "text/plain": [
       "Main.epanet"
      ]
     },
     "execution_count": 4,
     "metadata": {},
     "output_type": "execute_result"
    }
   ],
   "source": [
    "epa = Main.epanet"
   ]
  },
  {
   "cell_type": "code",
   "execution_count": 5,
   "metadata": {
    "scrolled": true
   },
   "outputs": [
    {
     "data": {
      "text/plain": [
       "SimulationValues(\u001b[1m180×3 DataFrame\u001b[0m\n",
       "\u001b[1m Row \u001b[0m│\u001b[1m node  \u001b[0m\u001b[1m vazao \u001b[0m\u001b[1m pressure \u001b[0m\n",
       "\u001b[1m     \u001b[0m│\u001b[90m Int64 \u001b[0m\u001b[90m Int64 \u001b[0m\u001b[90m Float64  \u001b[0m\n",
       "─────┼────────────────────────\n",
       "   1 │   270     20   63.7026\n",
       "   2 │   143     20   66.2905\n",
       "   3 │    16     20   62.497\n",
       "   4 │    63     20   50.7953\n",
       "   5 │   267     20   63.2691\n",
       "   6 │    86     20   72.0072\n",
       "   7 │     2     20   66.5445\n",
       "   8 │    44     20   68.8534\n",
       "   9 │   119     20   80.7897\n",
       "  10 │    88     20   40.0\n",
       "  11 │   362     20   49.9983\n",
       "  ⋮  │   ⋮      ⋮       ⋮\n",
       " 171 │   318     70   99.2232\n",
       " 172 │   328     70  113.434\n",
       " 173 │   241     70   84.22\n",
       " 174 │   216     70   70.7078\n",
       " 175 │   124     70   35.1855\n",
       " 176 │   163     70   86.939\n",
       " 177 │   311     70  111.453\n",
       " 178 │   303     70   34.9998\n",
       " 179 │   258     70   58.4851\n",
       " 180 │    29     70   51.6642\n",
       "\u001b[36m              159 rows omitted\u001b[0m, [0.01, 0.1, 0.001], [1, 2, 3, 4, 5, 6, 7, 8, 9, 10  …  379, 380, 381, 382, 383, 384, 385, 386, 387, 388], [[1, 2, 3, 4, 5, 6, 7, 8, 9, 10  …  134, 135, 136, 137, 138, 139, 140, 141, 142, 143], [144, 145, 146, 147, 148, 149, 150, 151, 152, 153  …  277, 278, 279, 280, 281, 282, 283, 284, 285, 286], [287, 288, 289, 290, 291, 292, 293, 294, 295, 296  …  420, 421, 422, 423, 424, 425, 426, 427, 428, 429]], 3, Paths(\"/home/augusto/Documents/IC-2020/optimized-calibration/networks/c-town/nodes\", \"/home/augusto/Documents/IC-2020/optimized-calibration/networks/c-town/links\", \"/home/augusto/Documents/IC-2020/optimized-calibration/networks/c-town/rede.inp\", \"/home/augusto/Documents/IC-2020/optimized-calibration/networks/c-town/teste.csv\"))"
      ]
     },
     "execution_count": 5,
     "metadata": {},
     "output_type": "execute_result"
    }
   ],
   "source": [
    "global net = sm"
   ]
  },
  {
   "cell_type": "code",
   "execution_count": 6,
   "metadata": {},
   "outputs": [
    {
     "name": "stdout",
     "output_type": "stream",
     "text": [
      "  Page 1                                    Fri Feb 19 18:28:10 2021\n",
      "\n",
      "  ******************************************************************\n",
      "  *                           E P A N E T                          *\n",
      "  *                   Hydraulic and Water Quality                  *\n",
      "  *                   Analysis for Pipe Networks                   *\n",
      "  *                         Version 2.2                            *\n",
      "  ******************************************************************\n",
      "  \n",
      "  Analysis begun Fri Feb 19 18:28:10 2021\n"
     ]
    }
   ],
   "source": [
    "epa.start_sim(paths)"
   ]
  },
  {
   "cell_type": "code",
   "execution_count": 7,
   "metadata": {},
   "outputs": [
    {
     "data": {
      "text/plain": [
       "4.2283073865295097e-10"
      ]
     },
     "execution_count": 7,
     "metadata": {},
     "output_type": "execute_result"
    }
   ],
   "source": [
    "epa.objetivo([0.01,0.1,0.001], net)"
   ]
  },
  {
   "cell_type": "code",
   "execution_count": 8,
   "metadata": {},
   "outputs": [
    {
     "data": {
      "text/plain": [
       "0.9839720524486456"
      ]
     },
     "execution_count": 8,
     "metadata": {},
     "output_type": "execute_result"
    }
   ],
   "source": [
    "epa.get_dist([0.01,0.5,0.9], net)"
   ]
  },
  {
   "cell_type": "code",
   "execution_count": 9,
   "metadata": {},
   "outputs": [
    {
     "data": {
      "text/plain": [
       "PyObject <module 'scipy.optimize' from '/usr/lib/python3/dist-packages/scipy/optimize/__init__.py'>"
      ]
     },
     "execution_count": 9,
     "metadata": {},
     "output_type": "execute_result"
    }
   ],
   "source": [
    "using PyCall\n",
    "opt = pyimport(\"scipy.optimize\")"
   ]
  },
  {
   "cell_type": "code",
   "execution_count": 10,
   "metadata": {},
   "outputs": [
    {
     "ename": "UndefVarError",
     "evalue": "UndefVarError: g not defined",
     "output_type": "error",
     "traceback": [
      "UndefVarError: g not defined",
      "",
      "Stacktrace:",
      " [1] top-level scope at In[10]:1"
     ]
    }
   ],
   "source": [
    "g([1.0,2.0,3.0])"
   ]
  },
  {
   "cell_type": "code",
   "execution_count": 11,
   "metadata": {},
   "outputs": [
    {
     "data": {
      "text/plain": [
       "Dict{Any,Any} with 8 entries:\n",
       "  \"fun\"           => 38.5256\n",
       "  \"nit\"           => 120\n",
       "  \"nfev\"          => 227\n",
       "  \"status\"        => 0\n",
       "  \"success\"       => true\n",
       "  \"message\"       => \"Optimization terminated successfully.\"\n",
       "  \"x\"             => [0.155922, 0.027786, 1.22634e-10]\n",
       "  \"final_simplex\" => ([0.155922 0.027786 1.22634e-10; 0.155922 0.0277857 1.9548…"
      ]
     },
     "execution_count": 11,
     "metadata": {},
     "output_type": "execute_result"
    }
   ],
   "source": [
    "g(x) = epa.objetivo(x, net)\n",
    "opt.minimize(g, [0.1,0.8,0.9], method=\"Nelder-Mead\")"
   ]
  },
  {
   "cell_type": "code",
   "execution_count": 13,
   "metadata": {},
   "outputs": [
    {
     "data": {
      "text/plain": [
       "PyObject <module 'numpy' from '/usr/lib/python3/dist-packages/numpy/__init__.py'>"
      ]
     },
     "execution_count": 13,
     "metadata": {},
     "output_type": "execute_result"
    }
   ],
   "source": [
    "numpy  =pyimport(\"numpy\")"
   ]
  },
  {
   "cell_type": "code",
   "execution_count": 17,
   "metadata": {},
   "outputs": [
    {
     "data": {
      "text/plain": [
       "500×3 Array{Float64,2}:\n",
       " 0.168575   0.0209961  0.13295\n",
       " 0.116005   0.160386   0.196149\n",
       " 0.164394   0.0973446  0.170719\n",
       " 0.0880024  0.0222788  0.190239\n",
       " 0.0844672  0.193042   0.03684\n",
       " 0.116121   0.158706   0.120535\n",
       " 0.126178   0.0514462  0.189653\n",
       " 0.165972   0.126068   0.150525\n",
       " 0.111388   0.0576508  0.118233\n",
       " 0.191323   0.131046   0.0500181\n",
       " 0.0444431  0.142167   0.176915\n",
       " 0.169428   0.0237173  0.116163\n",
       " 0.0166973  0.102956   0.0346589\n",
       " ⋮                     \n",
       " 0.0853018  0.129753   0.166572\n",
       " 0.0635548  0.153431   0.0547026\n",
       " 0.0732102  0.168927   0.0416885\n",
       " 0.196477   0.0720618  0.0620544\n",
       " 0.107517   0.121713   0.128792\n",
       " 0.0158904  0.13932    0.131921\n",
       " 0.0769405  0.171176   0.0851748\n",
       " 0.0396684  0.123979   0.0705058\n",
       " 0.0854276  0.0458845  0.106359\n",
       " 0.0246164  0.100233   0.0722713\n",
       " 0.158986   0.156431   0.107475\n",
       " 0.119121   0.172824   0.0901052"
      ]
     },
     "execution_count": 17,
     "metadata": {},
     "output_type": "execute_result"
    }
   ],
   "source": [
    "pontos = numpy.random.random((500,3))*0.2 .+0.001"
   ]
  },
  {
   "cell_type": "code",
   "execution_count": null,
   "metadata": {},
   "outputs": [
    {
     "name": "stdout",
     "output_type": "stream",
     "text": [
      "1\n",
      "2\n",
      "3\n",
      "4\n",
      "5\n",
      "6\n",
      "7\n",
      "8\n",
      "9\n",
      "10\n",
      "11\n",
      "12\n",
      "13\n",
      "14\n",
      "15\n",
      "16\n",
      "17\n",
      "18\n",
      "19\n",
      "20\n",
      "21\n",
      "22\n",
      "23\n",
      "24\n",
      "25\n",
      "26\n",
      "27\n",
      "28\n",
      "29\n",
      "30\n",
      "31\n",
      "32\n",
      "33\n",
      "34\n",
      "35\n",
      "36\n",
      "37\n",
      "38\n",
      "39\n",
      "40\n",
      "41\n",
      "42\n",
      "43\n",
      "44\n",
      "45\n",
      "46\n",
      "47\n",
      "48\n",
      "49\n",
      "50\n",
      "51\n",
      "52\n",
      "53\n",
      "54\n",
      "55\n",
      "56\n",
      "57\n",
      "58\n",
      "59\n",
      "60\n",
      "61\n",
      "62\n",
      "63\n",
      "64\n",
      "65\n",
      "66\n",
      "67\n",
      "68\n",
      "69\n",
      "70\n",
      "71\n",
      "72\n",
      "73\n",
      "74\n",
      "75\n",
      "76\n",
      "77\n",
      "78\n",
      "79\n",
      "80\n",
      "81\n",
      "82\n",
      "83\n",
      "84\n",
      "85\n",
      "86\n",
      "87\n",
      "88\n",
      "89\n",
      "90\n",
      "91\n",
      "92\n",
      "93\n",
      "94\n",
      "95\n",
      "96\n",
      "97\n",
      "98\n",
      "99\n",
      "100\n",
      "101\n",
      "102\n",
      "103\n",
      "104\n",
      "105\n",
      "106\n",
      "107\n",
      "108\n",
      "109\n",
      "110\n",
      "111\n",
      "112\n",
      "113\n",
      "114\n",
      "115\n",
      "116\n",
      "117\n",
      "118\n",
      "119\n",
      "120\n",
      "121\n",
      "122\n",
      "123\n",
      "124\n",
      "125\n",
      "126\n",
      "127\n",
      "128\n",
      "129\n",
      "130\n",
      "131\n",
      "132\n",
      "133\n",
      "134\n",
      "135\n",
      "136\n",
      "137\n",
      "138\n",
      "139\n",
      "140\n",
      "141\n",
      "142\n",
      "143\n",
      "144\n",
      "145\n"
     ]
    }
   ],
   "source": [
    "c = 0\n",
    "for i in 1:(length(pontos)/3 |> round |> Int64)\n",
    "    try\n",
    "        opt.minimize(g, pontos[i,:], method=\"Nelder-Mead\")\n",
    "        c+=1\n",
    "    finally\n",
    "        println(i)\n",
    "    end\n",
    "end"
   ]
  },
  {
   "cell_type": "code",
   "execution_count": 21,
   "metadata": {},
   "outputs": [
    {
     "data": {
      "text/plain": [
       "500.0"
      ]
     },
     "execution_count": 21,
     "metadata": {},
     "output_type": "execute_result"
    }
   ],
   "source": [
    "length(pontos)/3"
   ]
  },
  {
   "cell_type": "code",
   "execution_count": 22,
   "metadata": {},
   "outputs": [
    {
     "data": {
      "text/plain": [
       "3-element Array{Float64,1}:\n",
       " 0.1685753147887172\n",
       " 0.02099613041304378\n",
       " 0.13295019290340357"
      ]
     },
     "execution_count": 22,
     "metadata": {},
     "output_type": "execute_result"
    }
   ],
   "source": [
    "pontos[1,:]"
   ]
  },
  {
   "cell_type": "code",
   "execution_count": null,
   "metadata": {},
   "outputs": [],
   "source": []
  }
 ],
 "metadata": {
  "kernelspec": {
   "display_name": "Julia 1.4.1",
   "language": "julia",
   "name": "julia-1.4"
  },
  "language_info": {
   "file_extension": ".jl",
   "mimetype": "application/julia",
   "name": "julia",
   "version": "1.4.1"
  }
 },
 "nbformat": 4,
 "nbformat_minor": 4
}
