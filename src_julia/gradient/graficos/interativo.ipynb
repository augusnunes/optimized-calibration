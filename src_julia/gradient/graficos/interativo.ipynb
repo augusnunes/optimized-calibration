{
 "cells": [
  {
   "cell_type": "markdown",
   "metadata": {},
   "source": [
    "# Código para inicialização do modelo"
   ]
  },
  {
   "cell_type": "code",
   "execution_count": 1,
   "metadata": {},
   "outputs": [
    {
     "data": {
      "text/plain": [
       "Main.simulation"
      ]
     },
     "execution_count": 1,
     "metadata": {},
     "output_type": "execute_result"
    }
   ],
   "source": [
    "# Including epamodule.jl\n",
    "include(\"/home/augusto/Documents/IC-2020/epanet-julia/epamodule.jl\")\n",
    "em = Main.epamodule\n",
    "\n",
    "#Including epanet.jl\n",
    "include(\"/home/augusto/Documents/IC-2020/optimized-calibration/epanet/epanet.jl\")\n",
    "sm = Main.simulation\n"
   ]
  },
  {
   "cell_type": "code",
   "execution_count": 2,
   "metadata": {},
   "outputs": [
    {
     "data": {
      "text/plain": [
       "\"/home/augusto/Documents/IC-2020/optimized-calibration/gradient/f_b/other2/socorro.csv\""
      ]
     },
     "execution_count": 2,
     "metadata": {},
     "output_type": "execute_result"
    }
   ],
   "source": [
    "path_nodes = \"/home/augusto/Documents/IC-2020/optimized-calibration/networks/b-town/nodes\"\n",
    "path_links = \"/home/augusto/Documents/IC-2020/optimized-calibration/networks/b-town/links\"\n",
    "path_inp = \"/home/augusto/Documents/IC-2020/optimized-calibration/networks/b-town/rede.inp\"\n",
    "path_saida = \"/home/augusto/Documents/IC-2020/optimized-calibration/gradient/f_b/other2/socorro.csv\""
   ]
  },
  {
   "cell_type": "code",
   "execution_count": 3,
   "metadata": {},
   "outputs": [
    {
     "name": "stdout",
     "output_type": "stream",
     "text": [
      "  Page 1                                    Thu Jul 30 07:51:43 2020\n",
      "\n",
      "  ******************************************************************\n",
      "  *                           E P A N E T                          *\n",
      "  *                   Hydraulic and Water Quality                  *\n",
      "  *                   Analysis for Pipe Networks                   *\n",
      "  *                         Version 2.2                            *\n",
      "  ******************************************************************\n",
      "  \n",
      "  Analysis begun Thu Jul 30 07:51:43 2020\n"
     ]
    },
    {
     "data": {
      "text/plain": [
       "Dict{Int64,Array{Int64,1}} with 3 entries:\n",
       "  2 => [15, 16, 17, 18, 19]\n",
       "  3 => [4, 3, 5, 6, 7, 8]\n",
       "  1 => [1, 2, 14, 13, 12, 11, 10, 9, 20]"
      ]
     },
     "execution_count": 3,
     "metadata": {},
     "output_type": "execute_result"
    }
   ],
   "source": [
    "paths = sm.Paths(path_nodes, path_links, path_inp, path_saida)\n",
    "sm.start(paths)\n",
    "group_link = Dict{Int64, Array{Int64,1}}(1 => em.ENgetlinkindex.([\"2\",\"3\",\"15\",\"14\",\"13\",\"12\",\"11\",\"10\",\"1\"]), 2=>em.ENgetlinkindex.([\"16\",\"17\",\"18\",\"19\",\"20\"]), 3=> em.ENgetlinkindex.([\"5\",\"4\",\"6\",\"7\",\"8\",\"9\"]))\n"
   ]
  },
  {
   "cell_type": "code",
   "execution_count": 4,
   "metadata": {},
   "outputs": [
    {
     "data": {
      "text/plain": [
       "Main.simulation.Network([1, 2, 3, 4, 5, 6, 7, 8, 9, 10, 11, 12, 13, 14, 15, 16, 17], Dict(2 => [15, 16, 17, 18, 19],3 => [4, 3, 5, 6, 7, 8],1 => [1, 2, 14, 13, 12, 11, 10, 9, 20]), Dict(30.0 => Dict(11 => 34.08491516113281,15 => 31.50044059753418,6 => 26.037752151489258),50.0 => Dict(11 => 33.45237731933594,15 => 29.963409423828125,6 => 24.853008270263672),55.0 => Dict(11 => 33.25362014770508,15 => 29.47846031188965,6 => 24.47783660888672),60.0 => Dict(11 => 33.03902816772461,15 => 28.954042434692383,6 => 24.071619033813477),70.0 => Dict(11 => 32.56293487548828,15 => 27.788007736206055,6 => 23.16685676574707),20.0 => Dict(11 => 34.299713134765625,15 => 32.01907730102539,6 => 26.434926986694336)))"
      ]
     },
     "execution_count": 4,
     "metadata": {},
     "output_type": "execute_result"
    }
   ],
   "source": [
    "v = Dict{Float64, Dict{Int64, Float64}}(\n",
    "    20.0 => Dict(6 =>26.434926986694336,11 => 34.299713134765625,15 => 32.01907730102539), \n",
    "    30.0 => Dict(6 =>26.037752151489258,11 => 34.08491516113281, 15 => 31.50044059753418), \n",
    "    50.0 => Dict(6 =>24.853008270263672,11 => 33.45237731933594, 15 => 29.963409423828125 ), \n",
    "    55.0 => Dict(6 =>24.47783660888672, 11 => 33.25362014770508, 15 => 29.47846031188965 ),\n",
    "    60.0 => Dict(6 =>24.071619033813477,11 => 33.03902816772461, 15 => 28.954042434692383),\n",
    "    70.0 => Dict(6 =>23.16685676574707, 11 => 32.56293487548828, 15 => 27.788007736206055))\n",
    "net = sm.Network(paths, 3, group_link, v)"
   ]
  },
  {
   "cell_type": "code",
   "execution_count": 5,
   "metadata": {},
   "outputs": [
    {
     "data": {
      "text/plain": [
       "0.115"
      ]
     },
     "execution_count": 5,
     "metadata": {},
     "output_type": "execute_result"
    }
   ],
   "source": [
    "a = 0.01 # 0.01\n",
    "b = 0.079 # 0.079\n",
    "c = 0.115 # 0.115"
   ]
  },
  {
   "cell_type": "code",
   "execution_count": 6,
   "metadata": {},
   "outputs": [
    {
     "data": {
      "text/plain": [
       "Main.simulation.Simulation(Dict(2 => 0.079,3 => 0.115,1 => 0.01))"
      ]
     },
     "execution_count": 6,
     "metadata": {},
     "output_type": "execute_result"
    }
   ],
   "source": [
    "intime_smvalues = sm.Simulation(Dict{Int64,Float64}(1 => a, 2=>b, 3 => c)) "
   ]
  },
  {
   "cell_type": "code",
   "execution_count": 7,
   "metadata": {},
   "outputs": [],
   "source": [
    "sm.update_network_values(net,intime_smvalues)"
   ]
  },
  {
   "cell_type": "markdown",
   "metadata": {},
   "source": [
    "# Começando a fazer Gráfico"
   ]
  },
  {
   "cell_type": "code",
   "execution_count": 8,
   "metadata": {},
   "outputs": [],
   "source": [
    "using Makie"
   ]
  },
  {
   "cell_type": "code",
   "execution_count": 9,
   "metadata": {},
   "outputs": [
    {
     "data": {
      "text/plain": [
       "get_data (generic function with 1 method)"
      ]
     },
     "execution_count": 9,
     "metadata": {},
     "output_type": "execute_result"
    }
   ],
   "source": [
    "function get_data(rugo_g2, rugo_g3, v)\n",
    "    # Atualizando valores das rugo das tubulações\n",
    "    v.link_values[2] = rugo_g2\n",
    "    v.link_values[3] = rugo_g3\n",
    "    sm.update_network_values(net,intime_smvalues)\n",
    "    \n",
    "    # Puxando valores para Rugo g1\n",
    "    erro = Array{Float64,1}([])\n",
    "    for i in 1e-3:1e-3:0.2\n",
    "        sm.f(net, i, 1) |> valor -> append!(erro, valor)\n",
    "    end\n",
    "    return erro\n",
    "end"
   ]
  },
  {
   "cell_type": "code",
   "execution_count": 10,
   "metadata": {},
   "outputs": [
    {
     "data": {
      "text/plain": [
       "(Scene(nothing, Events(Observable{GeometryBasics.HyperRectangle{2,Int64}} with 1 listeners. Value:\n",
       "GeometryBasics.HyperRectangle{2,Int64}([0, 0], [0, 0]), Observable{Float64} with 0 listeners. Value:\n",
       "100.0, Observable{Bool} with 0 listeners. Value:\n",
       "false, Observable{Set{AbstractPlotting.Mouse.Button}} with 0 listeners. Value:\n",
       "Set(AbstractPlotting.Mouse.Button[]), Observable{Tuple{Float64,Float64}} with 1 listeners. Value:\n",
       "(0.0, 0.0), Observable{AbstractPlotting.Mouse.DragEnum} with 1 listeners. Value:\n",
       "AbstractPlotting.Mouse.notpressed, Observable{Tuple{Float64,Float64}} with 0 listeners. Value:\n",
       "(0.0, 0.0), Observable{Set{AbstractPlotting.Keyboard.Button}} with 0 listeners. Value:\n",
       "Set(AbstractPlotting.Keyboard.Button[]), Observable{Array{Char,1}} with 0 listeners. Value:\n",
       "Char[], Observable{Array{String,1}} with 0 listeners. Value:\n",
       "String[], Observable{Bool} with 0 listeners. Value:\n",
       "false, Observable{Bool} with 0 listeners. Value:\n",
       "false), Observable{GeometryBasics.HyperRectangle{2,Int64}} with 8 listeners. Value:\n",
       "GeometryBasics.HyperRectangle{2,Int64}([0, 0], [960, 540]), true, Camera(Observable{StaticArrays.SArray{Tuple{4,4},Float32,2,16}} with 0 listeners. Value:\n",
       "Float32[0.0020833334 0.0 0.0 -1.0; 0.0 0.0037037036 0.0 -1.0; 0.0 0.0 -0.0001 -0.0; 0.0 0.0 0.0 1.0], Observable{StaticArrays.SArray{Tuple{4,4},Float32,2,16}} with 0 listeners. Value:\n",
       "Float32[1.0 0.0 0.0 0.0; 0.0 1.0 0.0 0.0; 0.0 0.0 1.0 0.0; 0.0 0.0 0.0 1.0], Observable{StaticArrays.SArray{Tuple{4,4},Float32,2,16}} with 0 listeners. Value:\n",
       "Float32[0.0020833334 0.0 0.0 -1.0; 0.0 0.0037037036 0.0 -1.0; 0.0 0.0 -0.0001 -0.0; 0.0 0.0 0.0 1.0], Observable{StaticArrays.SArray{Tuple{4,4},Float32,2,16}} with 0 listeners. Value:\n",
       "Float32[0.0020833334 0.0 0.0 -1.0; 0.0 0.0037037036 0.0 -1.0; 0.0 0.0 -0.0001 -0.0; 0.0 0.0 0.0 1.0], Observable{Vec{2,Float32}} with 0 listeners. Value:\n",
       "Float32[960.0, 540.0], Observable{Vec{3,Float32}} with 0 listeners. Value:\n",
       "Float32[1.0, 1.0, 1.0], Any[Observable{Bool} with 1 listeners. Value:\n",
       "true, Observable{GeometryBasics.HyperRectangle{2,Int64}} with 8 listeners. Value:\n",
       "GeometryBasics.HyperRectangle{2,Int64}([0, 0], [960, 540]), Observable{Bool} with 1 listeners. Value:\n",
       "true, Observable{GeometryBasics.HyperRectangle{2,Int64}} with 8 listeners. Value:\n",
       "GeometryBasics.HyperRectangle{2,Int64}([0, 0], [960, 540]), Observable{Bool} with 1 listeners. Value:\n",
       "true, Observable{GeometryBasics.HyperRectangle{2,Int64}} with 8 listeners. Value:\n",
       "GeometryBasics.HyperRectangle{2,Int64}([0, 0], [960, 540])]), Base.RefValue{Any}(AbstractPlotting.PixelCamera()), Observable{Union{Nothing, GeometryBasics.HyperRectangle{3,Float32}}} with 0 listeners. Value:\n",
       "nothing, Transformation(Base.RefValue{AbstractPlotting.Transformable}(Scene(#= circular reference @-3 =#)), Observable{Vec{3,Float32}} with 1 listeners. Value:\n",
       "Float32[0.0, 0.0, 0.0], Observable{Vec{3,Float32}} with 1 listeners. Value:\n",
       "Float32[1.0, 1.0, 1.0], Observable{Quaternion{Float32}} with 1 listeners. Value:\n",
       "1.0 + 0.0im + 0.0jm + 0.0km, Observable{StaticArrays.SArray{Tuple{4,4},Float32,2,16}} with 2 listeners. Value:\n",
       "Float32[1.0 0.0 0.0 0.0; 0.0 1.0 0.0 0.0; 0.0 0.0 1.0 0.0; 0.0 0.0 0.0 1.0], Observable{Tuple{Bool,Bool,Bool}} with 2 listeners. Value:\n",
       "(false, false, false), Observable{Vec{2,Float32}} with 1 listeners. Value:\n",
       "Float32[0.0, 0.0], Observable{Any} with 2 listeners. Value:\n",
       "identity), AbstractPlot[Text{...}\n",
       "attributes:\n",
       "  colormap : Symbol\n",
       "  visible : Bool\n",
       "  axis : Attributes\n",
       "  axis2d : Attributes\n",
       "  markersize : Float64\n",
       "  camera : typeof(campixel!)\n",
       "  linestyle : Nothing\n",
       "  font : String\n",
       "  axis_type : AbstractPlotting.Automatic\n",
       "  raw : Bool\n",
       "  clear : Bool\n",
       "  legend : Attributes\n",
       "  axis3d : Attributes\n",
       "  resolution : Tuple{Int64,Int64}\n",
       "  update_limits : Bool\n",
       "  center : Bool\n",
       "  marker : UnionAll\n",
       "  color : Symbol\n",
       "  show_legend : Bool\n",
       "  padding : Vec{3,Float32}\n",
       "  SSAO : Attributes\n",
       "  palette : Attributes\n",
       "  backgroundcolor : Symbol\n",
       "  show_axis : Bool\n",
       "  scale_plot : Bool\n",
       "  limits : AbstractPlotting.Automatic, Slider{...}\n",
       "plots:\n",
       "   *Text{...}\n",
       "   *Poly{...}\n",
       "   *LineSegments{...}\n",
       "   *Scatter{...}\n",
       "attributes:\n",
       "  colormap : Symbol\n",
       "  visible : Bool\n",
       "  axis : Attributes\n",
       "  axis2d : Attributes\n",
       "  markersize : Float64\n",
       "  camera : typeof(campixel!)\n",
       "  linestyle : Nothing\n",
       "  font : String\n",
       "  axis_type : AbstractPlotting.Automatic\n",
       "  raw : Bool\n",
       "  clear : Bool\n",
       "  legend : Attributes\n",
       "  axis3d : Attributes\n",
       "  resolution : Tuple{Int64,Int64}\n",
       "  update_limits : Bool\n",
       "  center : Bool\n",
       "  marker : UnionAll\n",
       "  color : Symbol\n",
       "  show_legend : Bool\n",
       "  padding : Vec{3,Float32}\n",
       "  SSAO : Attributes\n",
       "  palette : Attributes\n",
       "  backgroundcolor : Symbol\n",
       "  show_axis : Bool\n",
       "  scale_plot : Bool\n",
       "  limits : AbstractPlotting.Automatic], Dict{Any,Any} with 26 entries:\n",
       "  :colormap => :viridis\n",
       "  :visible => true\n",
       "  :axis => Dict{Any,Any} with 0 entries\n",
       "  :axis2d => Dict{Any,Any} with 0 entries\n",
       "  :markersize => 0.1\n",
       "  :camera => campixel!\n",
       "  :linestyle => nothing\n",
       "  :font => \"Dejavu Sans\"\n",
       "  :axis_type => Automatic()\n",
       "  :raw => false\n",
       "  :clear => true\n",
       "  :legend => Dict{Any,Any} with 0 entries\n",
       "  :axis3d => Dict{Any,Any} with 0 entries\n",
       "  :resolution => (960, 540)\n",
       "  :update_limits => true\n",
       "  :center => true\n",
       "  :marker => HyperSphere{2,T} where T\n",
       "  :color => :black\n",
       "  :show_legend => false\n",
       "  :padding => Float32[0.05, 0.05, 0.05]\n",
       "  :SSAO => Dict{Any,Any} with 3 entries:\n",
       "  :blur => 2\n",
       "  :bias => 0.025\n",
       "  :radius => 0.5\n",
       "  :palette => Dict{Any,Any} with 4 entries:\n",
       "  :color => ColorTypes.RGB{Float64}[RGB{Float64}(0.901961,0.623529,0.0), RGB{Float64}(0.337255,0.705882,0.913725), RGB{Float64}(0.0,0.619608,0.45098), RGB{Float64}(0.941176,0.894118,0.258824), RGB{Float64}(0.0,0.447059,0.698039), RGB{Float64}(0.835294,0.368627,0.0), RGB{Float64}(0.8,0.47451,0.654902)]\n",
       "  :marker => [:circle, :xcross, :utriangle, :diamond, :dtriangle, :star8, :pentagon, :rect]\n",
       "  :linestyle => Union{Nothing, Symbol}[nothing, :dash, :dot, :dashdot, :dashdotdot]\n",
       "  :side => [:left, :right]\n",
       "  :backgroundcolor => :white\n",
       "  :show_axis => true\n",
       "  :scale_plot => true\n",
       "  :limits => Automatic(), Dict{Any,Any} with 26 entries:\n",
       "  :colormap => :viridis\n",
       "  :visible => true\n",
       "  :axis => Dict{Any,Any} with 0 entries\n",
       "  :axis2d => Dict{Any,Any} with 0 entries\n",
       "  :markersize => 0.1\n",
       "  :camera => campixel!\n",
       "  :linestyle => nothing\n",
       "  :font => \"Dejavu Sans\"\n",
       "  :axis_type => Automatic()\n",
       "  :raw => true\n",
       "  :clear => true\n",
       "  :legend => Dict{Any,Any} with 0 entries\n",
       "  :axis3d => Dict{Any,Any} with 0 entries\n",
       "  :resolution => (960, 540)\n",
       "  :update_limits => true\n",
       "  :center => true\n",
       "  :marker => HyperSphere{2,T} where T\n",
       "  :color => :black\n",
       "  :show_legend => false\n",
       "  :padding => Float32[0.05, 0.05, 0.05]\n",
       "  :SSAO => Dict{Any,Any} with 3 entries:\n",
       "  :blur => 2\n",
       "  :bias => 0.025\n",
       "  :radius => 0.5\n",
       "  :palette => Dict{Any,Any} with 4 entries:\n",
       "  :color => ColorTypes.RGB{Float64}[RGB{Float64}(0.901961,0.623529,0.0), RGB{Float64}(0.337255,0.705882,0.913725), RGB{Float64}(0.0,0.619608,0.45098), RGB{Float64}(0.941176,0.894118,0.258824), RGB{Float64}(0.0,0.447059,0.698039), RGB{Float64}(0.835294,0.368627,0.0), RGB{Float64}(0.8,0.47451,0.654902)]\n",
       "  :side => [:left, :right]\n",
       "  :linestyle => Union{Nothing, Symbol}[nothing, :dash, :dot, :dashdot, :dashdotdot]\n",
       "  :marker => [:circle, :xcross, :utriangle, :diamond, :dtriangle, :star8, :pentagon, :rect]\n",
       "  :backgroundcolor => :white\n",
       "  :show_axis => true\n",
       "  :scale_plot => true\n",
       "  :limits => Automatic(), Scene[], AbstractScreen[], Observable{Bool} with 0 listeners. Value:\n",
       "false), Observable{Any} with 1 listeners. Value:\n",
       "0.115)"
      ]
     },
     "execution_count": 10,
     "metadata": {},
     "output_type": "execute_result"
    }
   ],
   "source": [
    "g2_i = 0.079 #0.079\n",
    "g3_i = 0.115 #0.115\n",
    "xr = 0.001:0.001:0.2\n",
    "## setup sliders \n",
    "sg2, g2 = textslider(xr, \"Rugo g2\", start = g2_i)\n",
    "sg3, g3 = textslider(xr, \"Rugo g3\", start = g3_i)"
   ]
  },
  {
   "cell_type": "code",
   "execution_count": 11,
   "metadata": {
    "scrolled": false
   },
   "outputs": [
    {
     "data": {
      "text/plain": [
       "Observable{Array{Float64,1}} with 0 listeners. Value:\n",
       "[0.02719296349419488, 0.024059719509548612, 0.02095635732014974, 0.01788149939643012, 0.014835357666015625, 0.011815812852647569, 0.00882328881157769, 0.0058566199408637155, 0.0029160181681315103, 0.0  …  0.3379977544148763, 0.33932940165201825, 0.34065818786621094, 0.3419837951660156, 0.34330548180474174, 0.3446246253119575, 0.34594037797715926, 0.3472527398003472, 0.3485614988538954, 0.3498678207397461]"
      ]
     },
     "execution_count": 11,
     "metadata": {},
     "output_type": "execute_result"
    }
   ],
   "source": [
    "## setup lifts\n",
    "erro = lift((g2, g3) -> get_data(g2,g3, intime_smvalues), g2, g3)\n"
   ]
  },
  {
   "cell_type": "code",
   "execution_count": 12,
   "metadata": {},
   "outputs": [
    {
     "data": {
      "text/plain": [
       "Observable{Array{Float64,1}} with 0 listeners. Value:\n",
       "[0.02719296349419488, 0.024059719509548612, 0.02095635732014974, 0.01788149939643012, 0.014835357666015625, 0.011815812852647569, 0.00882328881157769, 0.0058566199408637155, 0.0029160181681315103, 0.0  …  0.3379977544148763, 0.33932940165201825, 0.34065818786621094, 0.3419837951660156, 0.34330548180474174, 0.3446246253119575, 0.34594037797715926, 0.3472527398003472, 0.3485614988538954, 0.3498678207397461]"
      ]
     },
     "execution_count": 12,
     "metadata": {},
     "output_type": "execute_result"
    }
   ],
   "source": [
    "erro"
   ]
  },
  {
   "cell_type": "code",
   "execution_count": 13,
   "metadata": {},
   "outputs": [
    {
     "data": {},
     "execution_count": 13,
     "metadata": {},
     "output_type": "execute_result"
    }
   ],
   "source": [
    "## setup plot\n",
    "scene = lines(               # plot x=y, the bisector line\n",
    "    xr,                   # xs\n",
    "    erro,                 # ys\n",
    "    #linestyle = :dash,    # style of line\n",
    "    linewidth = 2,        # width of line\n",
    "    color = :green         # colour of line\n",
    ")\n"
   ]
  },
  {
   "cell_type": "code",
   "execution_count": 14,
   "metadata": {},
   "outputs": [
    {
     "data": {},
     "execution_count": 14,
     "metadata": {},
     "output_type": "execute_result"
    }
   ],
   "source": [
    "scene[Axis][:names][:axisnames] = (\"Rugosidade g1\", \"Erro\") # set axis names\n",
    "\n",
    "final = hbox(scene, vbox(sg2, sg3))\n",
    "\n"
   ]
  },
  {
   "cell_type": "code",
   "execution_count": 15,
   "metadata": {},
   "outputs": [
    {
     "data": {
      "text/plain": [
       "GLMakie.Screen(...)"
      ]
     },
     "execution_count": 15,
     "metadata": {},
     "output_type": "execute_result"
    }
   ],
   "source": [
    "display(final)"
   ]
  },
  {
   "cell_type": "markdown",
   "metadata": {},
   "source": [
    "# Rugosidade 2"
   ]
  },
  {
   "cell_type": "code",
   "execution_count": 21,
   "metadata": {},
   "outputs": [
    {
     "data": {
      "text/plain": [
       "get_data_r2 (generic function with 1 method)"
      ]
     },
     "execution_count": 21,
     "metadata": {},
     "output_type": "execute_result"
    }
   ],
   "source": [
    "function get_data_r2(rugo_g1, rugo_g3, v)\n",
    "    # Atualizando valores das rugo das tubulações\n",
    "    v.link_values[1] = rugo_g1\n",
    "    v.link_values[3] = rugo_g3\n",
    "    sm.update_network_values(net,intime_smvalues)\n",
    "    \n",
    "    # Puxando valores para Rugo g1\n",
    "    erro = Array{Float64,2}([])\n",
    "    for i in 1e-3:1e-3:0.2\n",
    "        sm.f(net, i, 2) |> valor -> append!(erro, valor)\n",
    "    end\n",
    "    return erro\n",
    "end"
   ]
  },
  {
   "cell_type": "code",
   "execution_count": 22,
   "metadata": {},
   "outputs": [
    {
     "data": {
      "text/plain": [
       "(Scene(nothing, Events(Observable{GeometryBasics.HyperRectangle{2,Int64}} with 1 listeners. Value:\n",
       "GeometryBasics.HyperRectangle{2,Int64}([0, 0], [0, 0]), Observable{Float64} with 0 listeners. Value:\n",
       "100.0, Observable{Bool} with 0 listeners. Value:\n",
       "false, Observable{Set{AbstractPlotting.Mouse.Button}} with 0 listeners. Value:\n",
       "Set(AbstractPlotting.Mouse.Button[]), Observable{Tuple{Float64,Float64}} with 1 listeners. Value:\n",
       "(0.0, 0.0), Observable{AbstractPlotting.Mouse.DragEnum} with 1 listeners. Value:\n",
       "AbstractPlotting.Mouse.notpressed, Observable{Tuple{Float64,Float64}} with 0 listeners. Value:\n",
       "(0.0, 0.0), Observable{Set{AbstractPlotting.Keyboard.Button}} with 0 listeners. Value:\n",
       "Set(AbstractPlotting.Keyboard.Button[]), Observable{Array{Char,1}} with 0 listeners. Value:\n",
       "Char[], Observable{Array{String,1}} with 0 listeners. Value:\n",
       "String[], Observable{Bool} with 0 listeners. Value:\n",
       "false, Observable{Bool} with 0 listeners. Value:\n",
       "false), Observable{GeometryBasics.HyperRectangle{2,Int64}} with 8 listeners. Value:\n",
       "GeometryBasics.HyperRectangle{2,Int64}([0, 0], [960, 540]), true, Camera(Observable{StaticArrays.SArray{Tuple{4,4},Float32,2,16}} with 0 listeners. Value:\n",
       "Float32[0.0020833334 0.0 0.0 -1.0; 0.0 0.0037037036 0.0 -1.0; 0.0 0.0 -0.0001 -0.0; 0.0 0.0 0.0 1.0], Observable{StaticArrays.SArray{Tuple{4,4},Float32,2,16}} with 0 listeners. Value:\n",
       "Float32[1.0 0.0 0.0 0.0; 0.0 1.0 0.0 0.0; 0.0 0.0 1.0 0.0; 0.0 0.0 0.0 1.0], Observable{StaticArrays.SArray{Tuple{4,4},Float32,2,16}} with 0 listeners. Value:\n",
       "Float32[0.0020833334 0.0 0.0 -1.0; 0.0 0.0037037036 0.0 -1.0; 0.0 0.0 -0.0001 -0.0; 0.0 0.0 0.0 1.0], Observable{StaticArrays.SArray{Tuple{4,4},Float32,2,16}} with 0 listeners. Value:\n",
       "Float32[0.0020833334 0.0 0.0 -1.0; 0.0 0.0037037036 0.0 -1.0; 0.0 0.0 -0.0001 -0.0; 0.0 0.0 0.0 1.0], Observable{Vec{2,Float32}} with 0 listeners. Value:\n",
       "Float32[960.0, 540.0], Observable{Vec{3,Float32}} with 0 listeners. Value:\n",
       "Float32[1.0, 1.0, 1.0], Any[Observable{Bool} with 1 listeners. Value:\n",
       "true, Observable{GeometryBasics.HyperRectangle{2,Int64}} with 8 listeners. Value:\n",
       "GeometryBasics.HyperRectangle{2,Int64}([0, 0], [960, 540]), Observable{Bool} with 1 listeners. Value:\n",
       "true, Observable{GeometryBasics.HyperRectangle{2,Int64}} with 8 listeners. Value:\n",
       "GeometryBasics.HyperRectangle{2,Int64}([0, 0], [960, 540]), Observable{Bool} with 1 listeners. Value:\n",
       "true, Observable{GeometryBasics.HyperRectangle{2,Int64}} with 8 listeners. Value:\n",
       "GeometryBasics.HyperRectangle{2,Int64}([0, 0], [960, 540])]), Base.RefValue{Any}(AbstractPlotting.PixelCamera()), Observable{Union{Nothing, GeometryBasics.HyperRectangle{3,Float32}}} with 0 listeners. Value:\n",
       "nothing, Transformation(Base.RefValue{AbstractPlotting.Transformable}(Scene(#= circular reference @-3 =#)), Observable{Vec{3,Float32}} with 1 listeners. Value:\n",
       "Float32[0.0, 0.0, 0.0], Observable{Vec{3,Float32}} with 1 listeners. Value:\n",
       "Float32[1.0, 1.0, 1.0], Observable{Quaternion{Float32}} with 1 listeners. Value:\n",
       "1.0 + 0.0im + 0.0jm + 0.0km, Observable{StaticArrays.SArray{Tuple{4,4},Float32,2,16}} with 2 listeners. Value:\n",
       "Float32[1.0 0.0 0.0 0.0; 0.0 1.0 0.0 0.0; 0.0 0.0 1.0 0.0; 0.0 0.0 0.0 1.0], Observable{Tuple{Bool,Bool,Bool}} with 2 listeners. Value:\n",
       "(false, false, false), Observable{Vec{2,Float32}} with 1 listeners. Value:\n",
       "Float32[0.0, 0.0], Observable{Any} with 2 listeners. Value:\n",
       "identity), AbstractPlot[Text{...}\n",
       "attributes:\n",
       "  colormap : Symbol\n",
       "  visible : Bool\n",
       "  axis : Attributes\n",
       "  axis2d : Attributes\n",
       "  markersize : Float64\n",
       "  camera : typeof(campixel!)\n",
       "  linestyle : Nothing\n",
       "  font : String\n",
       "  axis_type : AbstractPlotting.Automatic\n",
       "  raw : Bool\n",
       "  clear : Bool\n",
       "  legend : Attributes\n",
       "  axis3d : Attributes\n",
       "  resolution : Tuple{Int64,Int64}\n",
       "  update_limits : Bool\n",
       "  center : Bool\n",
       "  marker : UnionAll\n",
       "  color : Symbol\n",
       "  show_legend : Bool\n",
       "  padding : Vec{3,Float32}\n",
       "  SSAO : Attributes\n",
       "  palette : Attributes\n",
       "  backgroundcolor : Symbol\n",
       "  show_axis : Bool\n",
       "  scale_plot : Bool\n",
       "  limits : AbstractPlotting.Automatic, Slider{...}\n",
       "plots:\n",
       "   *Text{...}\n",
       "   *Poly{...}\n",
       "   *LineSegments{...}\n",
       "   *Scatter{...}\n",
       "attributes:\n",
       "  colormap : Symbol\n",
       "  visible : Bool\n",
       "  axis : Attributes\n",
       "  axis2d : Attributes\n",
       "  markersize : Float64\n",
       "  camera : typeof(campixel!)\n",
       "  linestyle : Nothing\n",
       "  font : String\n",
       "  axis_type : AbstractPlotting.Automatic\n",
       "  raw : Bool\n",
       "  clear : Bool\n",
       "  legend : Attributes\n",
       "  axis3d : Attributes\n",
       "  resolution : Tuple{Int64,Int64}\n",
       "  update_limits : Bool\n",
       "  center : Bool\n",
       "  marker : UnionAll\n",
       "  color : Symbol\n",
       "  show_legend : Bool\n",
       "  padding : Vec{3,Float32}\n",
       "  SSAO : Attributes\n",
       "  palette : Attributes\n",
       "  backgroundcolor : Symbol\n",
       "  show_axis : Bool\n",
       "  scale_plot : Bool\n",
       "  limits : AbstractPlotting.Automatic], Dict{Any,Any} with 26 entries:\n",
       "  :colormap => :viridis\n",
       "  :visible => true\n",
       "  :axis => Dict{Any,Any} with 0 entries\n",
       "  :axis2d => Dict{Any,Any} with 0 entries\n",
       "  :markersize => 0.1\n",
       "  :camera => campixel!\n",
       "  :linestyle => nothing\n",
       "  :font => \"Dejavu Sans\"\n",
       "  :axis_type => Automatic()\n",
       "  :raw => false\n",
       "  :clear => true\n",
       "  :legend => Dict{Any,Any} with 0 entries\n",
       "  :axis3d => Dict{Any,Any} with 0 entries\n",
       "  :resolution => (960, 540)\n",
       "  :update_limits => true\n",
       "  :center => true\n",
       "  :marker => HyperSphere{2,T} where T\n",
       "  :color => :black\n",
       "  :show_legend => false\n",
       "  :padding => Float32[0.05, 0.05, 0.05]\n",
       "  :SSAO => Dict{Any,Any} with 3 entries:\n",
       "  :blur => 2\n",
       "  :bias => 0.025\n",
       "  :radius => 0.5\n",
       "  :palette => Dict{Any,Any} with 4 entries:\n",
       "  :color => ColorTypes.RGB{Float64}[RGB{Float64}(0.901961,0.623529,0.0), RGB{Float64}(0.337255,0.705882,0.913725), RGB{Float64}(0.0,0.619608,0.45098), RGB{Float64}(0.941176,0.894118,0.258824), RGB{Float64}(0.0,0.447059,0.698039), RGB{Float64}(0.835294,0.368627,0.0), RGB{Float64}(0.8,0.47451,0.654902)]\n",
       "  :marker => [:circle, :xcross, :utriangle, :diamond, :dtriangle, :star8, :pentagon, :rect]\n",
       "  :linestyle => Union{Nothing, Symbol}[nothing, :dash, :dot, :dashdot, :dashdotdot]\n",
       "  :side => [:left, :right]\n",
       "  :backgroundcolor => :white\n",
       "  :show_axis => true\n",
       "  :scale_plot => true\n",
       "  :limits => Automatic(), Dict{Any,Any} with 26 entries:\n",
       "  :colormap => :viridis\n",
       "  :visible => true\n",
       "  :axis => Dict{Any,Any} with 0 entries\n",
       "  :axis2d => Dict{Any,Any} with 0 entries\n",
       "  :markersize => 0.1\n",
       "  :camera => campixel!\n",
       "  :linestyle => nothing\n",
       "  :font => \"Dejavu Sans\"\n",
       "  :axis_type => Automatic()\n",
       "  :raw => true\n",
       "  :clear => true\n",
       "  :legend => Dict{Any,Any} with 0 entries\n",
       "  :axis3d => Dict{Any,Any} with 0 entries\n",
       "  :resolution => (960, 540)\n",
       "  :update_limits => true\n",
       "  :center => true\n",
       "  :marker => HyperSphere{2,T} where T\n",
       "  :color => :black\n",
       "  :show_legend => false\n",
       "  :padding => Float32[0.05, 0.05, 0.05]\n",
       "  :SSAO => Dict{Any,Any} with 3 entries:\n",
       "  :blur => 2\n",
       "  :bias => 0.025\n",
       "  :radius => 0.5\n",
       "  :palette => Dict{Any,Any} with 4 entries:\n",
       "  :color => ColorTypes.RGB{Float64}[RGB{Float64}(0.901961,0.623529,0.0), RGB{Float64}(0.337255,0.705882,0.913725), RGB{Float64}(0.0,0.619608,0.45098), RGB{Float64}(0.941176,0.894118,0.258824), RGB{Float64}(0.0,0.447059,0.698039), RGB{Float64}(0.835294,0.368627,0.0), RGB{Float64}(0.8,0.47451,0.654902)]\n",
       "  :side => [:left, :right]\n",
       "  :linestyle => Union{Nothing, Symbol}[nothing, :dash, :dot, :dashdot, :dashdotdot]\n",
       "  :marker => [:circle, :xcross, :utriangle, :diamond, :dtriangle, :star8, :pentagon, :rect]\n",
       "  :backgroundcolor => :white\n",
       "  :show_axis => true\n",
       "  :scale_plot => true\n",
       "  :limits => Automatic(), Scene[], AbstractScreen[], Observable{Bool} with 0 listeners. Value:\n",
       "false), Observable{Any} with 1 listeners. Value:\n",
       "0.115)"
      ]
     },
     "execution_count": 22,
     "metadata": {},
     "output_type": "execute_result"
    }
   ],
   "source": [
    "g1_i = 0.01 #0.01\n",
    "g3_i = 0.115 #0.115\n",
    "xr = 0.001:0.001:0.2\n",
    "## setup sliders \n",
    "sg1, g1 = textslider(xr, \"Rugo g1\", start = g1_i)\n",
    "sg3, g3 = textslider(xr, \"Rugo g3\", start= g3_i)"
   ]
  },
  {
   "cell_type": "code",
   "execution_count": 23,
   "metadata": {},
   "outputs": [
    {
     "data": {
      "text/plain": [
       "Observable{Array{Float64,1}} with 0 listeners. Value:\n",
       "[0.03428236643473307, 0.031166182623969182, 0.028079880608452693, 0.02502208285861545, 0.021992471483018663, 0.018993695576985676, 0.016715897454155818, 0.015611012776692709, 0.014514499240451388, 0.013428052266438803  …  0.3285047743055556, 0.3298264609442817, 0.3311452865600586, 0.3324601915147569, 0.33377212948269314, 0.3350813123914931, 0.33638646867540145, 0.3376884460449219, 0.33898788028293186, 0.340283817715115]"
      ]
     },
     "execution_count": 23,
     "metadata": {},
     "output_type": "execute_result"
    }
   ],
   "source": [
    "erro = lift((g1, g3) -> get_data_r2(g1,g3, intime_smvalues), g1, g3)"
   ]
  },
  {
   "cell_type": "code",
   "execution_count": 24,
   "metadata": {},
   "outputs": [
    {
     "data": {},
     "execution_count": 24,
     "metadata": {},
     "output_type": "execute_result"
    }
   ],
   "source": [
    "scene = lines(               # plot x=y, the bisector line\n",
    "    xr,                   # xs\n",
    "    erro,                 # ys\n",
    "    #linestyle = :dash,    # style of line\n",
    "    linewidth = 2,        # width of line\n",
    "    color = :green         # colour of line\n",
    ")\n"
   ]
  },
  {
   "cell_type": "code",
   "execution_count": 26,
   "metadata": {},
   "outputs": [
    {
     "data": {
      "text/plain": [
       "GLMakie.Screen(...)"
      ]
     },
     "execution_count": 26,
     "metadata": {},
     "output_type": "execute_result"
    }
   ],
   "source": [
    "scene[Axis][:names][:axisnames] = (\"Rugosidade g2\", \"Erro\") # set axis names\n",
    "final = hbox(scene, vbox(sg1, sg3))\n",
    "display(final)"
   ]
  },
  {
   "cell_type": "markdown",
   "metadata": {},
   "source": [
    "# Rugosidade 3"
   ]
  },
  {
   "cell_type": "code",
   "execution_count": 34,
   "metadata": {},
   "outputs": [
    {
     "data": {
      "text/plain": [
       "get_data_r3 (generic function with 1 method)"
      ]
     },
     "execution_count": 34,
     "metadata": {},
     "output_type": "execute_result"
    }
   ],
   "source": [
    "function get_data_r3(rugo_g1, rugo_g2, v)\n",
    "    # Atualizando valores das rugo das tubulações\n",
    "    v.link_values[1] = rugo_g1\n",
    "    v.link_values[2] = rugo_g2\n",
    "    sm.update_network_values(net,intime_smvalues)\n",
    "    \n",
    "    # Puxando valores para Rugo g3\n",
    "    erro = Array{Float64,1}([])\n",
    "    for i in 1e-3:1e-3:0.2\n",
    "        sm.f(net, i, 3) |> valor -> append!(erro, valor)\n",
    "    end\n",
    "    return erro\n",
    "end"
   ]
  },
  {
   "cell_type": "code",
   "execution_count": 47,
   "metadata": {},
   "outputs": [
    {
     "data": {
      "text/plain": [
       "(Scene(nothing, Events(Observable{GeometryBasics.HyperRectangle{2,Int64}} with 1 listeners. Value:\n",
       "GeometryBasics.HyperRectangle{2,Int64}([0, 0], [0, 0]), Observable{Float64} with 0 listeners. Value:\n",
       "100.0, Observable{Bool} with 0 listeners. Value:\n",
       "false, Observable{Set{AbstractPlotting.Mouse.Button}} with 0 listeners. Value:\n",
       "Set(AbstractPlotting.Mouse.Button[]), Observable{Tuple{Float64,Float64}} with 1 listeners. Value:\n",
       "(0.0, 0.0), Observable{AbstractPlotting.Mouse.DragEnum} with 1 listeners. Value:\n",
       "AbstractPlotting.Mouse.notpressed, Observable{Tuple{Float64,Float64}} with 0 listeners. Value:\n",
       "(0.0, 0.0), Observable{Set{AbstractPlotting.Keyboard.Button}} with 0 listeners. Value:\n",
       "Set(AbstractPlotting.Keyboard.Button[]), Observable{Array{Char,1}} with 0 listeners. Value:\n",
       "Char[], Observable{Array{String,1}} with 0 listeners. Value:\n",
       "String[], Observable{Bool} with 0 listeners. Value:\n",
       "false, Observable{Bool} with 0 listeners. Value:\n",
       "false), Observable{GeometryBasics.HyperRectangle{2,Int64}} with 8 listeners. Value:\n",
       "GeometryBasics.HyperRectangle{2,Int64}([0, 0], [960, 540]), true, Camera(Observable{StaticArrays.SArray{Tuple{4,4},Float32,2,16}} with 0 listeners. Value:\n",
       "Float32[0.0020833334 0.0 0.0 -1.0; 0.0 0.0037037036 0.0 -1.0; 0.0 0.0 -0.0001 -0.0; 0.0 0.0 0.0 1.0], Observable{StaticArrays.SArray{Tuple{4,4},Float32,2,16}} with 0 listeners. Value:\n",
       "Float32[1.0 0.0 0.0 0.0; 0.0 1.0 0.0 0.0; 0.0 0.0 1.0 0.0; 0.0 0.0 0.0 1.0], Observable{StaticArrays.SArray{Tuple{4,4},Float32,2,16}} with 0 listeners. Value:\n",
       "Float32[0.0020833334 0.0 0.0 -1.0; 0.0 0.0037037036 0.0 -1.0; 0.0 0.0 -0.0001 -0.0; 0.0 0.0 0.0 1.0], Observable{StaticArrays.SArray{Tuple{4,4},Float32,2,16}} with 0 listeners. Value:\n",
       "Float32[0.0020833334 0.0 0.0 -1.0; 0.0 0.0037037036 0.0 -1.0; 0.0 0.0 -0.0001 -0.0; 0.0 0.0 0.0 1.0], Observable{Vec{2,Float32}} with 0 listeners. Value:\n",
       "Float32[960.0, 540.0], Observable{Vec{3,Float32}} with 0 listeners. Value:\n",
       "Float32[1.0, 1.0, 1.0], Any[Observable{Bool} with 1 listeners. Value:\n",
       "true, Observable{GeometryBasics.HyperRectangle{2,Int64}} with 8 listeners. Value:\n",
       "GeometryBasics.HyperRectangle{2,Int64}([0, 0], [960, 540]), Observable{Bool} with 1 listeners. Value:\n",
       "true, Observable{GeometryBasics.HyperRectangle{2,Int64}} with 8 listeners. Value:\n",
       "GeometryBasics.HyperRectangle{2,Int64}([0, 0], [960, 540]), Observable{Bool} with 1 listeners. Value:\n",
       "true, Observable{GeometryBasics.HyperRectangle{2,Int64}} with 8 listeners. Value:\n",
       "GeometryBasics.HyperRectangle{2,Int64}([0, 0], [960, 540])]), Base.RefValue{Any}(AbstractPlotting.PixelCamera()), Observable{Union{Nothing, GeometryBasics.HyperRectangle{3,Float32}}} with 0 listeners. Value:\n",
       "nothing, Transformation(Base.RefValue{AbstractPlotting.Transformable}(Scene(#= circular reference @-3 =#)), Observable{Vec{3,Float32}} with 1 listeners. Value:\n",
       "Float32[0.0, 0.0, 0.0], Observable{Vec{3,Float32}} with 1 listeners. Value:\n",
       "Float32[1.0, 1.0, 1.0], Observable{Quaternion{Float32}} with 1 listeners. Value:\n",
       "1.0 + 0.0im + 0.0jm + 0.0km, Observable{StaticArrays.SArray{Tuple{4,4},Float32,2,16}} with 2 listeners. Value:\n",
       "Float32[1.0 0.0 0.0 0.0; 0.0 1.0 0.0 0.0; 0.0 0.0 1.0 0.0; 0.0 0.0 0.0 1.0], Observable{Tuple{Bool,Bool,Bool}} with 2 listeners. Value:\n",
       "(false, false, false), Observable{Vec{2,Float32}} with 1 listeners. Value:\n",
       "Float32[0.0, 0.0], Observable{Any} with 2 listeners. Value:\n",
       "identity), AbstractPlot[Text{...}\n",
       "attributes:\n",
       "  colormap : Symbol\n",
       "  visible : Bool\n",
       "  axis : Attributes\n",
       "  axis2d : Attributes\n",
       "  markersize : Float64\n",
       "  camera : typeof(campixel!)\n",
       "  linestyle : Nothing\n",
       "  font : String\n",
       "  axis_type : AbstractPlotting.Automatic\n",
       "  raw : Bool\n",
       "  clear : Bool\n",
       "  legend : Attributes\n",
       "  axis3d : Attributes\n",
       "  resolution : Tuple{Int64,Int64}\n",
       "  update_limits : Bool\n",
       "  center : Bool\n",
       "  marker : UnionAll\n",
       "  color : Symbol\n",
       "  show_legend : Bool\n",
       "  padding : Vec{3,Float32}\n",
       "  SSAO : Attributes\n",
       "  palette : Attributes\n",
       "  backgroundcolor : Symbol\n",
       "  show_axis : Bool\n",
       "  scale_plot : Bool\n",
       "  limits : AbstractPlotting.Automatic, Slider{...}\n",
       "plots:\n",
       "   *Text{...}\n",
       "   *Poly{...}\n",
       "   *LineSegments{...}\n",
       "   *Scatter{...}\n",
       "attributes:\n",
       "  colormap : Symbol\n",
       "  visible : Bool\n",
       "  axis : Attributes\n",
       "  axis2d : Attributes\n",
       "  markersize : Float64\n",
       "  camera : typeof(campixel!)\n",
       "  linestyle : Nothing\n",
       "  font : String\n",
       "  axis_type : AbstractPlotting.Automatic\n",
       "  raw : Bool\n",
       "  clear : Bool\n",
       "  legend : Attributes\n",
       "  axis3d : Attributes\n",
       "  resolution : Tuple{Int64,Int64}\n",
       "  update_limits : Bool\n",
       "  center : Bool\n",
       "  marker : UnionAll\n",
       "  color : Symbol\n",
       "  show_legend : Bool\n",
       "  padding : Vec{3,Float32}\n",
       "  SSAO : Attributes\n",
       "  palette : Attributes\n",
       "  backgroundcolor : Symbol\n",
       "  show_axis : Bool\n",
       "  scale_plot : Bool\n",
       "  limits : AbstractPlotting.Automatic], Dict{Any,Any} with 26 entries:\n",
       "  :colormap => :viridis\n",
       "  :visible => true\n",
       "  :axis => Dict{Any,Any} with 0 entries\n",
       "  :axis2d => Dict{Any,Any} with 0 entries\n",
       "  :markersize => 0.1\n",
       "  :camera => campixel!\n",
       "  :linestyle => nothing\n",
       "  :font => \"Dejavu Sans\"\n",
       "  :axis_type => Automatic()\n",
       "  :raw => false\n",
       "  :clear => true\n",
       "  :legend => Dict{Any,Any} with 0 entries\n",
       "  :axis3d => Dict{Any,Any} with 0 entries\n",
       "  :resolution => (960, 540)\n",
       "  :update_limits => true\n",
       "  :center => true\n",
       "  :marker => HyperSphere{2,T} where T\n",
       "  :color => :black\n",
       "  :show_legend => false\n",
       "  :padding => Float32[0.05, 0.05, 0.05]\n",
       "  :SSAO => Dict{Any,Any} with 3 entries:\n",
       "  :blur => 2\n",
       "  :bias => 0.025\n",
       "  :radius => 0.5\n",
       "  :palette => Dict{Any,Any} with 4 entries:\n",
       "  :color => ColorTypes.RGB{Float64}[RGB{Float64}(0.901961,0.623529,0.0), RGB{Float64}(0.337255,0.705882,0.913725), RGB{Float64}(0.0,0.619608,0.45098), RGB{Float64}(0.941176,0.894118,0.258824), RGB{Float64}(0.0,0.447059,0.698039), RGB{Float64}(0.835294,0.368627,0.0), RGB{Float64}(0.8,0.47451,0.654902)]\n",
       "  :marker => [:circle, :xcross, :utriangle, :diamond, :dtriangle, :star8, :pentagon, :rect]\n",
       "  :linestyle => Union{Nothing, Symbol}[nothing, :dash, :dot, :dashdot, :dashdotdot]\n",
       "  :side => [:left, :right]\n",
       "  :backgroundcolor => :white\n",
       "  :show_axis => true\n",
       "  :scale_plot => true\n",
       "  :limits => Automatic(), Dict{Any,Any} with 26 entries:\n",
       "  :colormap => :viridis\n",
       "  :visible => true\n",
       "  :axis => Dict{Any,Any} with 0 entries\n",
       "  :axis2d => Dict{Any,Any} with 0 entries\n",
       "  :markersize => 0.1\n",
       "  :camera => campixel!\n",
       "  :linestyle => nothing\n",
       "  :font => \"Dejavu Sans\"\n",
       "  :axis_type => Automatic()\n",
       "  :raw => true\n",
       "  :clear => true\n",
       "  :legend => Dict{Any,Any} with 0 entries\n",
       "  :axis3d => Dict{Any,Any} with 0 entries\n",
       "  :resolution => (960, 540)\n",
       "  :update_limits => true\n",
       "  :center => true\n",
       "  :marker => HyperSphere{2,T} where T\n",
       "  :color => :black\n",
       "  :show_legend => false\n",
       "  :padding => Float32[0.05, 0.05, 0.05]\n",
       "  :SSAO => Dict{Any,Any} with 3 entries:\n",
       "  :blur => 2\n",
       "  :bias => 0.025\n",
       "  :radius => 0.5\n",
       "  :palette => Dict{Any,Any} with 4 entries:\n",
       "  :color => ColorTypes.RGB{Float64}[RGB{Float64}(0.901961,0.623529,0.0), RGB{Float64}(0.337255,0.705882,0.913725), RGB{Float64}(0.0,0.619608,0.45098), RGB{Float64}(0.941176,0.894118,0.258824), RGB{Float64}(0.0,0.447059,0.698039), RGB{Float64}(0.835294,0.368627,0.0), RGB{Float64}(0.8,0.47451,0.654902)]\n",
       "  :side => [:left, :right]\n",
       "  :linestyle => Union{Nothing, Symbol}[nothing, :dash, :dot, :dashdot, :dashdotdot]\n",
       "  :marker => [:circle, :xcross, :utriangle, :diamond, :dtriangle, :star8, :pentagon, :rect]\n",
       "  :backgroundcolor => :white\n",
       "  :show_axis => true\n",
       "  :scale_plot => true\n",
       "  :limits => Automatic(), Scene[], AbstractScreen[], Observable{Bool} with 0 listeners. Value:\n",
       "false), Observable{Any} with 1 listeners. Value:\n",
       "0.079)"
      ]
     },
     "execution_count": 47,
     "metadata": {},
     "output_type": "execute_result"
    }
   ],
   "source": [
    "g1_i = 0.01 #0.01\n",
    "g3_i = 0.079 #0.079\n",
    "xr = 0.001:0.001:0.2\n",
    "## setup sliders \n",
    "sg1, g1 = textslider(xr, \"Rugo g1\", start = g1_i)\n",
    "sg2, g2 = textslider(xr, \"Rugo g2\", start = g2_i)"
   ]
  },
  {
   "cell_type": "code",
   "execution_count": 48,
   "metadata": {},
   "outputs": [
    {
     "data": {
      "text/plain": [
       "Observable{Array{Float64,1}} with 0 listeners. Value:\n",
       "[0.09440633985731336, 0.09321488274468316, 0.09203529357910156, 0.09086714850531684, 0.08970970577663845, 0.08856349521213108, 0.08742745717366536, 0.0863024393717448, 0.0851864284939236, 0.0840809080335829  …  0.04127375284830729, 0.04175811343722873, 0.04224003685845269, 0.04272100660536024, 0.043200916714138456, 0.04367891947428385, 0.04415575663248698, 0.0446319580078125, 0.04510667588975695, 0.04557991027832031]"
      ]
     },
     "execution_count": 48,
     "metadata": {},
     "output_type": "execute_result"
    }
   ],
   "source": [
    "erro = lift((g1, g2) -> get_data_r3(g1,g2, intime_smvalues), g1, g2)"
   ]
  },
  {
   "cell_type": "code",
   "execution_count": 49,
   "metadata": {},
   "outputs": [
    {
     "data": {},
     "execution_count": 49,
     "metadata": {},
     "output_type": "execute_result"
    }
   ],
   "source": [
    "scene = lines(               # plot x=y, the bisector line\n",
    "    xr,                   # xs\n",
    "    erro,                 # ys\n",
    "    #linestyle = :dash,    # style of line\n",
    "    linewidth = 2,        # width of line\n",
    "    color = :green         # colour of line\n",
    ")\n"
   ]
  },
  {
   "cell_type": "code",
   "execution_count": 50,
   "metadata": {},
   "outputs": [
    {
     "data": {
      "text/plain": [
       "GLMakie.Screen(...)"
      ]
     },
     "execution_count": 50,
     "metadata": {},
     "output_type": "execute_result"
    }
   ],
   "source": [
    "scene[Axis][:names][:axisnames] = (\"Rugosidade g3\", \"Erro\") # set axis names\n",
    "final = hbox(scene, vbox(sg1, sg2))\n",
    "display(final)"
   ]
  },
  {
   "cell_type": "markdown",
   "metadata": {},
   "source": [
    "# Com Derivada"
   ]
  },
  {
   "cell_type": "code",
   "execution_count": 28,
   "metadata": {},
   "outputs": [
    {
     "data": {
      "text/plain": [
       "get_derivada (generic function with 1 method)"
      ]
     },
     "execution_count": 28,
     "metadata": {},
     "output_type": "execute_result"
    }
   ],
   "source": [
    "function get_derivada(rugo_g2, rugo_g3, v)\n",
    "    # Atualizando valores das rugo das tubulações\n",
    "    v.link_values[2] = rugo_g2\n",
    "    v.link_values[3] = rugo_g3\n",
    "    sm.update_network_values(net,v)\n",
    "    \n",
    "    # Puxando valores para Rugo g3\n",
    "    erro = Array{Float64,1}([])\n",
    "    for i in 1e-3:1e-3:0.2\n",
    "        sm.calcula_derivada(net, i, 1) |> valor -> append!(erro, valor)\n",
    "    end\n",
    "    return erro\n",
    "end"
   ]
  },
  {
   "cell_type": "code",
   "execution_count": 29,
   "metadata": {},
   "outputs": [
    {
     "data": {
      "text/plain": [
       "(Scene(nothing, Events(Observable{GeometryBasics.HyperRectangle{2,Int64}} with 1 listeners. Value:\n",
       "GeometryBasics.HyperRectangle{2,Int64}([0, 0], [0, 0]), Observable{Float64} with 0 listeners. Value:\n",
       "100.0, Observable{Bool} with 0 listeners. Value:\n",
       "false, Observable{Set{AbstractPlotting.Mouse.Button}} with 0 listeners. Value:\n",
       "Set(AbstractPlotting.Mouse.Button[]), Observable{Tuple{Float64,Float64}} with 1 listeners. Value:\n",
       "(0.0, 0.0), Observable{AbstractPlotting.Mouse.DragEnum} with 1 listeners. Value:\n",
       "AbstractPlotting.Mouse.notpressed, Observable{Tuple{Float64,Float64}} with 0 listeners. Value:\n",
       "(0.0, 0.0), Observable{Set{AbstractPlotting.Keyboard.Button}} with 0 listeners. Value:\n",
       "Set(AbstractPlotting.Keyboard.Button[]), Observable{Array{Char,1}} with 0 listeners. Value:\n",
       "Char[], Observable{Array{String,1}} with 0 listeners. Value:\n",
       "String[], Observable{Bool} with 0 listeners. Value:\n",
       "false, Observable{Bool} with 0 listeners. Value:\n",
       "false), Observable{GeometryBasics.HyperRectangle{2,Int64}} with 8 listeners. Value:\n",
       "GeometryBasics.HyperRectangle{2,Int64}([0, 0], [960, 540]), true, Camera(Observable{StaticArrays.SArray{Tuple{4,4},Float32,2,16}} with 0 listeners. Value:\n",
       "Float32[0.0020833334 0.0 0.0 -1.0; 0.0 0.0037037036 0.0 -1.0; 0.0 0.0 -0.0001 -0.0; 0.0 0.0 0.0 1.0], Observable{StaticArrays.SArray{Tuple{4,4},Float32,2,16}} with 0 listeners. Value:\n",
       "Float32[1.0 0.0 0.0 0.0; 0.0 1.0 0.0 0.0; 0.0 0.0 1.0 0.0; 0.0 0.0 0.0 1.0], Observable{StaticArrays.SArray{Tuple{4,4},Float32,2,16}} with 0 listeners. Value:\n",
       "Float32[0.0020833334 0.0 0.0 -1.0; 0.0 0.0037037036 0.0 -1.0; 0.0 0.0 -0.0001 -0.0; 0.0 0.0 0.0 1.0], Observable{StaticArrays.SArray{Tuple{4,4},Float32,2,16}} with 0 listeners. Value:\n",
       "Float32[0.0020833334 0.0 0.0 -1.0; 0.0 0.0037037036 0.0 -1.0; 0.0 0.0 -0.0001 -0.0; 0.0 0.0 0.0 1.0], Observable{Vec{2,Float32}} with 0 listeners. Value:\n",
       "Float32[960.0, 540.0], Observable{Vec{3,Float32}} with 0 listeners. Value:\n",
       "Float32[1.0, 1.0, 1.0], Any[Observable{Bool} with 1 listeners. Value:\n",
       "true, Observable{GeometryBasics.HyperRectangle{2,Int64}} with 8 listeners. Value:\n",
       "GeometryBasics.HyperRectangle{2,Int64}([0, 0], [960, 540]), Observable{Bool} with 1 listeners. Value:\n",
       "true, Observable{GeometryBasics.HyperRectangle{2,Int64}} with 8 listeners. Value:\n",
       "GeometryBasics.HyperRectangle{2,Int64}([0, 0], [960, 540]), Observable{Bool} with 1 listeners. Value:\n",
       "true, Observable{GeometryBasics.HyperRectangle{2,Int64}} with 8 listeners. Value:\n",
       "GeometryBasics.HyperRectangle{2,Int64}([0, 0], [960, 540])]), Base.RefValue{Any}(AbstractPlotting.PixelCamera()), Observable{Union{Nothing, GeometryBasics.HyperRectangle{3,Float32}}} with 0 listeners. Value:\n",
       "nothing, Transformation(Base.RefValue{AbstractPlotting.Transformable}(Scene(#= circular reference @-3 =#)), Observable{Vec{3,Float32}} with 1 listeners. Value:\n",
       "Float32[0.0, 0.0, 0.0], Observable{Vec{3,Float32}} with 1 listeners. Value:\n",
       "Float32[1.0, 1.0, 1.0], Observable{Quaternion{Float32}} with 1 listeners. Value:\n",
       "1.0 + 0.0im + 0.0jm + 0.0km, Observable{StaticArrays.SArray{Tuple{4,4},Float32,2,16}} with 2 listeners. Value:\n",
       "Float32[1.0 0.0 0.0 0.0; 0.0 1.0 0.0 0.0; 0.0 0.0 1.0 0.0; 0.0 0.0 0.0 1.0], Observable{Tuple{Bool,Bool,Bool}} with 2 listeners. Value:\n",
       "(false, false, false), Observable{Vec{2,Float32}} with 1 listeners. Value:\n",
       "Float32[0.0, 0.0], Observable{Any} with 2 listeners. Value:\n",
       "identity), AbstractPlot[Text{...}\n",
       "attributes:\n",
       "  colormap : Symbol\n",
       "  visible : Bool\n",
       "  axis : Attributes\n",
       "  axis2d : Attributes\n",
       "  markersize : Float64\n",
       "  camera : typeof(campixel!)\n",
       "  linestyle : Nothing\n",
       "  font : String\n",
       "  axis_type : AbstractPlotting.Automatic\n",
       "  raw : Bool\n",
       "  clear : Bool\n",
       "  legend : Attributes\n",
       "  axis3d : Attributes\n",
       "  resolution : Tuple{Int64,Int64}\n",
       "  update_limits : Bool\n",
       "  center : Bool\n",
       "  marker : UnionAll\n",
       "  color : Symbol\n",
       "  show_legend : Bool\n",
       "  padding : Vec{3,Float32}\n",
       "  SSAO : Attributes\n",
       "  palette : Attributes\n",
       "  backgroundcolor : Symbol\n",
       "  show_axis : Bool\n",
       "  scale_plot : Bool\n",
       "  limits : AbstractPlotting.Automatic, Slider{...}\n",
       "plots:\n",
       "   *Text{...}\n",
       "   *Poly{...}\n",
       "   *LineSegments{...}\n",
       "   *Scatter{...}\n",
       "attributes:\n",
       "  colormap : Symbol\n",
       "  visible : Bool\n",
       "  axis : Attributes\n",
       "  axis2d : Attributes\n",
       "  markersize : Float64\n",
       "  camera : typeof(campixel!)\n",
       "  linestyle : Nothing\n",
       "  font : String\n",
       "  axis_type : AbstractPlotting.Automatic\n",
       "  raw : Bool\n",
       "  clear : Bool\n",
       "  legend : Attributes\n",
       "  axis3d : Attributes\n",
       "  resolution : Tuple{Int64,Int64}\n",
       "  update_limits : Bool\n",
       "  center : Bool\n",
       "  marker : UnionAll\n",
       "  color : Symbol\n",
       "  show_legend : Bool\n",
       "  padding : Vec{3,Float32}\n",
       "  SSAO : Attributes\n",
       "  palette : Attributes\n",
       "  backgroundcolor : Symbol\n",
       "  show_axis : Bool\n",
       "  scale_plot : Bool\n",
       "  limits : AbstractPlotting.Automatic], Dict{Any,Any} with 26 entries:\n",
       "  :colormap => :viridis\n",
       "  :visible => true\n",
       "  :axis => Dict{Any,Any} with 0 entries\n",
       "  :axis2d => Dict{Any,Any} with 0 entries\n",
       "  :markersize => 0.1\n",
       "  :camera => campixel!\n",
       "  :linestyle => nothing\n",
       "  :font => \"Dejavu Sans\"\n",
       "  :axis_type => Automatic()\n",
       "  :raw => false\n",
       "  :clear => true\n",
       "  :legend => Dict{Any,Any} with 0 entries\n",
       "  :axis3d => Dict{Any,Any} with 0 entries\n",
       "  :resolution => (960, 540)\n",
       "  :update_limits => true\n",
       "  :center => true\n",
       "  :marker => HyperSphere{2,T} where T\n",
       "  :color => :black\n",
       "  :show_legend => false\n",
       "  :padding => Float32[0.05, 0.05, 0.05]\n",
       "  :SSAO => Dict{Any,Any} with 3 entries:\n",
       "  :blur => 2\n",
       "  :bias => 0.025\n",
       "  :radius => 0.5\n",
       "  :palette => Dict{Any,Any} with 4 entries:\n",
       "  :color => ColorTypes.RGB{Float64}[RGB{Float64}(0.901961,0.623529,0.0), RGB{Float64}(0.337255,0.705882,0.913725), RGB{Float64}(0.0,0.619608,0.45098), RGB{Float64}(0.941176,0.894118,0.258824), RGB{Float64}(0.0,0.447059,0.698039), RGB{Float64}(0.835294,0.368627,0.0), RGB{Float64}(0.8,0.47451,0.654902)]\n",
       "  :marker => [:circle, :xcross, :utriangle, :diamond, :dtriangle, :star8, :pentagon, :rect]\n",
       "  :linestyle => Union{Nothing, Symbol}[nothing, :dash, :dot, :dashdot, :dashdotdot]\n",
       "  :side => [:left, :right]\n",
       "  :backgroundcolor => :white\n",
       "  :show_axis => true\n",
       "  :scale_plot => true\n",
       "  :limits => Automatic(), Dict{Any,Any} with 26 entries:\n",
       "  :colormap => :viridis\n",
       "  :visible => true\n",
       "  :axis => Dict{Any,Any} with 0 entries\n",
       "  :axis2d => Dict{Any,Any} with 0 entries\n",
       "  :markersize => 0.1\n",
       "  :camera => campixel!\n",
       "  :linestyle => nothing\n",
       "  :font => \"Dejavu Sans\"\n",
       "  :axis_type => Automatic()\n",
       "  :raw => true\n",
       "  :clear => true\n",
       "  :legend => Dict{Any,Any} with 0 entries\n",
       "  :axis3d => Dict{Any,Any} with 0 entries\n",
       "  :resolution => (960, 540)\n",
       "  :update_limits => true\n",
       "  :center => true\n",
       "  :marker => HyperSphere{2,T} where T\n",
       "  :color => :black\n",
       "  :show_legend => false\n",
       "  :padding => Float32[0.05, 0.05, 0.05]\n",
       "  :SSAO => Dict{Any,Any} with 3 entries:\n",
       "  :blur => 2\n",
       "  :bias => 0.025\n",
       "  :radius => 0.5\n",
       "  :palette => Dict{Any,Any} with 4 entries:\n",
       "  :color => ColorTypes.RGB{Float64}[RGB{Float64}(0.901961,0.623529,0.0), RGB{Float64}(0.337255,0.705882,0.913725), RGB{Float64}(0.0,0.619608,0.45098), RGB{Float64}(0.941176,0.894118,0.258824), RGB{Float64}(0.0,0.447059,0.698039), RGB{Float64}(0.835294,0.368627,0.0), RGB{Float64}(0.8,0.47451,0.654902)]\n",
       "  :side => [:left, :right]\n",
       "  :linestyle => Union{Nothing, Symbol}[nothing, :dash, :dot, :dashdot, :dashdotdot]\n",
       "  :marker => [:circle, :xcross, :utriangle, :diamond, :dtriangle, :star8, :pentagon, :rect]\n",
       "  :backgroundcolor => :white\n",
       "  :show_axis => true\n",
       "  :scale_plot => true\n",
       "  :limits => Automatic(), Scene[], AbstractScreen[], Observable{Bool} with 0 listeners. Value:\n",
       "false), Observable{Any} with 1 listeners. Value:\n",
       "0.115)"
      ]
     },
     "execution_count": 29,
     "metadata": {},
     "output_type": "execute_result"
    }
   ],
   "source": [
    "g2_i = 0.079 \n",
    "g3_i = 0.115\n",
    "xr = 0.001:0.001:0.2\n",
    "## setup sliders \n",
    "sg2, g2 = textslider(xr, \"Rugo g2\", start = g2_i)\n",
    "sg3, g3 = textslider(xr, \"Rugo g3\", start = g3_i)"
   ]
  },
  {
   "cell_type": "code",
   "execution_count": 30,
   "metadata": {},
   "outputs": [
    {
     "data": {
      "text/plain": [
       "Observable{Array{Float64,1}} with 0 listeners. Value:\n",
       "[-3.148714701334647, -3.1137466430664062, -3.0888451470269076, -3.0612945556640625, -3.0342737833658884, -3.0077828301323764, -2.978112962510847, -2.9574500189887125, -2.926190694173176, -0.001059638129340222  …  1.3346142239042955, 1.3309054904514506, 1.3261371188691418, 1.3256072998046875, 1.320309109158202, 1.317130194769811, 1.3128916422525116, 1.3102425469291301, 1.3065338134765625, 1.3054741753470989]"
      ]
     },
     "execution_count": 30,
     "metadata": {},
     "output_type": "execute_result"
    }
   ],
   "source": [
    "erro = lift((g2, g3) -> get_derivada(g2,g3, intime_smvalues), g2, g3)"
   ]
  },
  {
   "cell_type": "code",
   "execution_count": 31,
   "metadata": {},
   "outputs": [
    {
     "data": {},
     "execution_count": 31,
     "metadata": {},
     "output_type": "execute_result"
    }
   ],
   "source": [
    "scene = lines(               # plot x=y, the bisector line\n",
    "    xr,                   # xs\n",
    "    erro,                 # ys\n",
    "    #linestyle = :dash,    # style of line\n",
    "    linewidth = 2,        # width of line\n",
    "    color = :green         # colour of line\n",
    ")\n"
   ]
  },
  {
   "cell_type": "code",
   "execution_count": 32,
   "metadata": {},
   "outputs": [
    {
     "data": {
      "text/plain": [
       "GLMakie.Screen(...)"
      ]
     },
     "execution_count": 32,
     "metadata": {},
     "output_type": "execute_result"
    }
   ],
   "source": [
    "scene[Axis][:names][:axisnames] = (\"Rugosidade g1\", \"Erro\") # set axis names\n",
    "final = hbox(scene, vbox(sg2, sg3))\n",
    "display(final)"
   ]
  },
  {
   "cell_type": "code",
   "execution_count": null,
   "metadata": {},
   "outputs": [],
   "source": []
  }
 ],
 "metadata": {
  "@webio": {
   "lastCommId": null,
   "lastKernelId": null
  },
  "kernelspec": {
   "display_name": "Julia 1.4.1",
   "language": "julia",
   "name": "julia-1.4"
  },
  "language_info": {
   "file_extension": ".jl",
   "mimetype": "application/julia",
   "name": "julia",
   "version": "1.4.1"
  }
 },
 "nbformat": 4,
 "nbformat_minor": 4
}
