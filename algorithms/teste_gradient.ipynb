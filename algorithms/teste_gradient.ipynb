{
 "cells": [
  {
   "cell_type": "markdown",
   "metadata": {},
   "source": [
    "# Notebook para testar gradient discent"
   ]
  },
  {
   "cell_type": "code",
   "execution_count": 14,
   "metadata": {},
   "outputs": [
    {
     "name": "stderr",
     "output_type": "stream",
     "text": [
      "WARNING: replacing module epamodule.\n",
      "WARNING: replacing module simulation.\n"
     ]
    },
    {
     "data": {
      "text/plain": [
       "Main.simulation"
      ]
     },
     "execution_count": 14,
     "metadata": {},
     "output_type": "execute_result"
    }
   ],
   "source": [
    "# Including epamodule.jl\n",
    "include(\"/home/augusto/Documents/IC-2020/epanet-julia/epamodule.jl\")\n",
    "em = Main.epamodule\n",
    "\n",
    "#Including epanet.jl\n",
    "include(\"/home/augusto/Documents/IC-2020/optimized-calibration/algorithms/epanet/epanet.jl\")\n",
    "sm = Main.simulation"
   ]
  },
  {
   "cell_type": "code",
   "execution_count": 3,
   "metadata": {},
   "outputs": [
    {
     "data": {
      "text/plain": [
       "printa_dados (generic function with 1 method)"
      ]
     },
     "execution_count": 3,
     "metadata": {},
     "output_type": "execute_result"
    }
   ],
   "source": [
    "function printa_dados(i, numero_grupo, derivada, delta, r, erro)\n",
    "    s = string(i, \",\", numero_grupo, \",\", derivada, \",\", delta, \",\")\n",
    "    for i in keys(r)\n",
    "        s *= string(r[i],\",\")\n",
    "    end\n",
    "    s *= string(erro,\"\\n\")\n",
    "    arq = open(\"/home/augusto/Documents/IC-2020/optimized-calibration/gradient-teste/teste2/dados.csv\",\"a\")\n",
    "    write(arq,s)\n",
    "    close(arq)\n",
    "end"
   ]
  },
  {
   "cell_type": "code",
   "execution_count": 4,
   "metadata": {},
   "outputs": [
    {
     "data": {
      "text/plain": [
       "Dict{Float64,Dict{Int64,Float64}} with 6 entries:\n",
       "  30.0 => Dict(11=>34.0849,15=>31.5004,6=>26.0378)\n",
       "  50.0 => Dict(11=>33.4524,15=>29.9634,6=>24.853)\n",
       "  55.0 => Dict(11=>33.2536,15=>29.4785,6=>24.4778)\n",
       "  60.0 => Dict(11=>33.039,15=>28.954,6=>24.0716)\n",
       "  70.0 => Dict(11=>32.5629,15=>27.788,6=>23.1669)\n",
       "  20.0 => Dict(11=>34.2997,15=>32.0191,6=>26.4349)"
      ]
     },
     "execution_count": 4,
     "metadata": {},
     "output_type": "execute_result"
    }
   ],
   "source": [
    "values = Dict{Float64, Dict{Int64, Float64}}(20.0 => Dict(6 =>26.434926986694336,11 => 34.299713134765625,15 => 32.01907730102539), \n",
    "    30.0 => Dict(6 =>26.037752151489258,11 => 34.08491516113281, 15 => 31.50044059753418), \n",
    "    50.0 => Dict(6 =>24.853008270263672,11 => 33.45237731933594, 15 => 29.963409423828125 ), \n",
    "    55.0 => Dict(6 =>24.47783660888672, 11 => 33.25362014770508, 15 => 29.47846031188965 ),\n",
    "    60.0 => Dict(6 =>24.071619033813477,11 => 33.03902816772461, 15 => 28.954042434692383),\n",
    "    70.0 => Dict(6 =>23.16685676574707, 11 => 32.56293487548828, 15 => 27.788007736206055))  "
   ]
  },
  {
   "cell_type": "code",
   "execution_count": 19,
   "metadata": {},
   "outputs": [
    {
     "data": {
      "text/plain": [
       "Main.simulation.Paths(\"/home/augusto/Documents/IC-2020/optimized-calibration/networks/b-town/nodes\", \"/home/augusto/Documents/IC-2020/optimized-calibration/networks/b-town/links\", \"/home/augusto/Documents/IC-2020/optimized-calibration/networks/b-town/rede.inp\", \"/home/augusto/Documents/IC-2020/optimized-calibration/gradient-teste/teste2/\")"
      ]
     },
     "execution_count": 19,
     "metadata": {},
     "output_type": "execute_result"
    }
   ],
   "source": [
    "path_nodes = \"/home/augusto/Documents/IC-2020/optimized-calibration/networks/b-town/nodes\"\n",
    "path_links = \"/home/augusto/Documents/IC-2020/optimized-calibration/networks/b-town/links\"\n",
    "path_inp = \"/home/augusto/Documents/IC-2020/optimized-calibration/networks/b-town/rede.inp\"\n",
    "path_saida = \"/home/augusto/Documents/IC-2020/optimized-calibration/gradient-teste/teste2/\"\n",
    "\n",
    "paths = sm.Paths(path_nodes, path_links, path_inp, path_saida)"
   ]
  },
  {
   "cell_type": "code",
   "execution_count": 7,
   "metadata": {},
   "outputs": [
    {
     "name": "stdout",
     "output_type": "stream",
     "text": [
      "  Page 1                                    Fri Jun 12 19:39:43 2020\n",
      "\n",
      "  ******************************************************************\n",
      "  *                           E P A N E T                          *\n",
      "  *                   Hydraulic and Water Quality                  *\n",
      "  *                   Analysis for Pipe Networks                   *\n",
      "  *                         Version 2.2                            *\n",
      "  ******************************************************************\n",
      "  \n",
      "  Analysis begun Fri Jun 12 19:39:43 2020\n"
     ]
    }
   ],
   "source": [
    "sm.start(paths)"
   ]
  },
  {
   "cell_type": "code",
   "execution_count": 20,
   "metadata": {},
   "outputs": [
    {
     "name": "stdout",
     "output_type": "stream",
     "text": [
      "Pegando links\n",
      "Dict{Int64,Array{Int64,N} where N}(2 => [8, 9, 10, 11, 12, 13, 14],3 => [15, 16, 17, 18, 19, 20],1 => [1, 2, 3, 4, 5, 6, 7])\n"
     ]
    },
    {
     "data": {
      "text/plain": [
       "Main.simulation.Network([1, 2, 3, 4, 5, 6, 7, 8, 9, 10, 11, 12, 13, 14, 15, 16, 17], Dict(2 => [8, 9, 10, 11, 12, 13, 14],3 => [15, 16, 17, 18, 19, 20],1 => [1, 2, 3, 4, 5, 6, 7]), Dict(30.0 => Dict(11 => 34.08491516113281,15 => 31.50044059753418,6 => 26.037752151489258),50.0 => Dict(11 => 33.45237731933594,15 => 29.963409423828125,6 => 24.853008270263672),55.0 => Dict(11 => 33.25362014770508,15 => 29.47846031188965,6 => 24.47783660888672),60.0 => Dict(11 => 33.03902816772461,15 => 28.954042434692383,6 => 24.071619033813477),70.0 => Dict(11 => 32.56293487548828,15 => 27.788007736206055,6 => 23.16685676574707),20.0 => Dict(11 => 34.299713134765625,15 => 32.01907730102539,6 => 26.434926986694336)))"
      ]
     },
     "execution_count": 20,
     "metadata": {},
     "output_type": "execute_result"
    }
   ],
   "source": [
    "net = sm.Network(paths, 3, values)"
   ]
  },
  {
   "cell_type": "code",
   "execution_count": 9,
   "metadata": {},
   "outputs": [
    {
     "data": {
      "text/plain": [
       "0.001"
      ]
     },
     "execution_count": 9,
     "metadata": {},
     "output_type": "execute_result"
    }
   ],
   "source": [
    "    a = 0.001\n",
    "    b = 0.08\n",
    "    c = 0.001"
   ]
  },
  {
   "cell_type": "code",
   "execution_count": 10,
   "metadata": {},
   "outputs": [
    {
     "data": {
      "text/plain": [
       "Main.simulation.Simulation(Dict(2 => 0.08,3 => 0.001,1 => 0.001))"
      ]
     },
     "execution_count": 10,
     "metadata": {},
     "output_type": "execute_result"
    }
   ],
   "source": [
    "intime_smvalues = sm.Simulation(Dict{Int64,Float64}(1 => a, 2=>b, 3 => c)) "
   ]
  },
  {
   "cell_type": "code",
   "execution_count": 11,
   "metadata": {},
   "outputs": [
    {
     "name": "stdout",
     "output_type": "stream",
     "text": [
      "Criando arquivo de saída\n",
      "Criado arquivo de saída\n"
     ]
    }
   ],
   "source": [
    "    sm.update_network_values(net,intime_smvalues)\n",
    "    sm.cria_saida(paths)"
   ]
  },
  {
   "cell_type": "code",
   "execution_count": 12,
   "metadata": {},
   "outputs": [
    {
     "data": {
      "text/plain": [
       "1"
      ]
     },
     "execution_count": 12,
     "metadata": {},
     "output_type": "execute_result"
    }
   ],
   "source": [
    "i = 1"
   ]
  },
  {
   "cell_type": "code",
   "execution_count": 21,
   "metadata": {},
   "outputs": [
    {
     "name": "stdout",
     "output_type": "stream",
     "text": [
      "0.1463190714518229\n"
     ]
    },
    {
     "data": {
      "text/plain": [
       "0.0"
      ]
     },
     "execution_count": 21,
     "metadata": {},
     "output_type": "execute_result"
    }
   ],
   "source": [
    "∂f = sm.calcula_derivada(net, intime_smvalues.link_values[i], i)"
   ]
  },
  {
   "cell_type": "code",
   "execution_count": 24,
   "metadata": {},
   "outputs": [
    {
     "data": {
      "text/plain": [
       "0.1463190714518229"
      ]
     },
     "execution_count": 24,
     "metadata": {},
     "output_type": "execute_result"
    }
   ],
   "source": [
    "sm.simula(net, intime_smvalues.link_values[1],1)"
   ]
  },
  {
   "cell_type": "code",
   "execution_count": 25,
   "metadata": {},
   "outputs": [
    {
     "data": {
      "text/plain": [
       "0.1463190714518229"
      ]
     },
     "execution_count": 25,
     "metadata": {},
     "output_type": "execute_result"
    }
   ],
   "source": [
    "sm.simula(net, intime_smvalues.link_values[1]-0.01,1)"
   ]
  },
  {
   "cell_type": "code",
   "execution_count": 26,
   "metadata": {},
   "outputs": [
    {
     "data": {
      "text/plain": [
       "0.1463190714518229"
      ]
     },
     "execution_count": 26,
     "metadata": {},
     "output_type": "execute_result"
    }
   ],
   "source": [
    "sm.simula(net, intime_smvalues.link_values[1]-0.1,1)"
   ]
  },
  {
   "cell_type": "code",
   "execution_count": 27,
   "metadata": {},
   "outputs": [
    {
     "data": {
      "text/plain": [
       "0.18833753797743055"
      ]
     },
     "execution_count": 27,
     "metadata": {},
     "output_type": "execute_result"
    }
   ],
   "source": [
    "sm.simula(net, intime_smvalues.link_values[1]+0.1,1)"
   ]
  },
  {
   "cell_type": "code",
   "execution_count": 28,
   "metadata": {},
   "outputs": [
    {
     "data": {
      "text/plain": [
       "0.14636611938476562"
      ]
     },
     "execution_count": 28,
     "metadata": {},
     "output_type": "execute_result"
    }
   ],
   "source": [
    "sm.simula(net, intime_smvalues.link_values[1]-0.00001,1)"
   ]
  },
  {
   "cell_type": "code",
   "execution_count": null,
   "metadata": {},
   "outputs": [],
   "source": []
  },
  {
   "cell_type": "code",
   "execution_count": null,
   "metadata": {},
   "outputs": [],
   "source": []
  },
  {
   "cell_type": "code",
   "execution_count": null,
   "metadata": {},
   "outputs": [],
   "source": []
  },
  {
   "cell_type": "code",
   "execution_count": null,
   "metadata": {},
   "outputs": [],
   "source": []
  }
 ],
 "metadata": {
  "kernelspec": {
   "display_name": "Julia 1.4.1",
   "language": "julia",
   "name": "julia-1.4"
  },
  "language_info": {
   "file_extension": ".jl",
   "mimetype": "application/julia",
   "name": "julia",
   "version": "1.4.1"
  }
 },
 "nbformat": 4,
 "nbformat_minor": 4
}
