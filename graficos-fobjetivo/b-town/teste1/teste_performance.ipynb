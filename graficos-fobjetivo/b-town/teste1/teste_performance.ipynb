{
 "cells": [
  {
   "cell_type": "code",
   "execution_count": 7,
   "metadata": {
    "scrolled": true
   },
   "outputs": [
    {
     "name": "stdout",
     "output_type": "stream",
     "text": [
      "  Page 1                                    Sun Jun  7 10:21:28 2020\n",
      "\n",
      "  ******************************************************************\n",
      "  *                           E P A N E T                          *\n",
      "  *                   Hydraulic and Water Quality                  *\n",
      "  *                   Analysis for Pipe Networks                   *\n",
      "  *                         Version 2.2                            *\n",
      "  ******************************************************************\n",
      "  \n",
      "  Analysis begun Sun Jun  7 10:21:28 2020\n"
     ]
    },
    {
     "name": "stderr",
     "output_type": "stream",
     "text": [
      "WARNING: replacing module epamodule.\n"
     ]
    }
   ],
   "source": [
    "include(\"/home/augusto/Documents/IC-2020/epanet-julia/epamodule.jl\")\n",
    "em = Main.epamodule\n",
    "em.ENopen(\"/home/augusto/Documents/IC-2020/optimized-calibration/networks/b-town/teste21.inp\")\n",
    "em.ENopenH()"
   ]
  },
  {
   "cell_type": "code",
   "execution_count": 9,
   "metadata": {},
   "outputs": [],
   "source": [
    "using BenchmarkTools"
   ]
  },
  {
   "cell_type": "code",
   "execution_count": 2,
   "metadata": {},
   "outputs": [
    {
     "data": {
      "text/plain": [
       "mudaRugosidade (generic function with 1 method)"
      ]
     },
     "execution_count": 2,
     "metadata": {},
     "output_type": "execute_result"
    }
   ],
   "source": [
    "function mudaRugosidade(grupo, rugosidade)\n",
    "    for i in grupo\n",
    "        linkindex = em.ENgetlinkindex(i)\n",
    "        em.ENsetlinkvalue(linkindex, em.EN_ROUGHNESS, rugosidade)\n",
    "    end\n",
    "end"
   ]
  },
  {
   "cell_type": "code",
   "execution_count": 3,
   "metadata": {},
   "outputs": [
    {
     "data": {
      "text/plain": [
       "9-element Array{String,1}:\n",
       " \"2\"\n",
       " \"3\"\n",
       " \"15\"\n",
       " \"14\"\n",
       " \"13\"\n",
       " \"12\"\n",
       " \"11\"\n",
       " \"10\"\n",
       " \"1\""
      ]
     },
     "execution_count": 3,
     "metadata": {},
     "output_type": "execute_result"
    }
   ],
   "source": [
    "g1 = [\"2\",\"3\",\"15\",\"14\",\"13\",\"12\",\"11\",\"10\",\"1\"]"
   ]
  },
  {
   "cell_type": "code",
   "execution_count": 19,
   "metadata": {},
   "outputs": [
    {
     "data": {
      "text/plain": [
       "BenchmarkTools.Trial: \n",
       "  memory estimate:  432 bytes\n",
       "  allocs estimate:  27\n",
       "  --------------\n",
       "  minimum time:     4.079 μs (0.00% GC)\n",
       "  median time:      4.389 μs (0.00% GC)\n",
       "  mean time:        4.691 μs (0.00% GC)\n",
       "  maximum time:     54.844 μs (0.00% GC)\n",
       "  --------------\n",
       "  samples:          10000\n",
       "  evals/sample:     7"
      ]
     },
     "execution_count": 19,
     "metadata": {},
     "output_type": "execute_result"
    }
   ],
   "source": [
    "@benchmark mudaRugosidade(g1,0.001)"
   ]
  },
  {
   "cell_type": "code",
   "execution_count": 20,
   "metadata": {},
   "outputs": [
    {
     "data": {
      "text/plain": [
       "9-element Array{Int64,1}:\n",
       "  1\n",
       "  2\n",
       " 14\n",
       " 13\n",
       " 12\n",
       " 11\n",
       " 10\n",
       "  9\n",
       " 20"
      ]
     },
     "execution_count": 20,
     "metadata": {},
     "output_type": "execute_result"
    }
   ],
   "source": [
    "g1 = em.ENgetlinkindex.(g1)"
   ]
  },
  {
   "cell_type": "code",
   "execution_count": 21,
   "metadata": {},
   "outputs": [
    {
     "data": {
      "text/plain": [
       "mudaRugosidade (generic function with 1 method)"
      ]
     },
     "execution_count": 21,
     "metadata": {},
     "output_type": "execute_result"
    }
   ],
   "source": [
    "function mudaRugosidade(grupo, rugosidade)\n",
    "    for i in grupo\n",
    "        em.ENsetlinkvalue(i, em.EN_ROUGHNESS, rugosidade)\n",
    "    end\n",
    "end"
   ]
  },
  {
   "cell_type": "code",
   "execution_count": 22,
   "metadata": {},
   "outputs": [
    {
     "data": {
      "text/plain": [
       "BenchmarkTools.Trial: \n",
       "  memory estimate:  288 bytes\n",
       "  allocs estimate:  18\n",
       "  --------------\n",
       "  minimum time:     2.301 μs (0.00% GC)\n",
       "  median time:      2.563 μs (0.00% GC)\n",
       "  mean time:        2.680 μs (0.00% GC)\n",
       "  maximum time:     8.063 μs (0.00% GC)\n",
       "  --------------\n",
       "  samples:          10000\n",
       "  evals/sample:     9"
      ]
     },
     "execution_count": 22,
     "metadata": {},
     "output_type": "execute_result"
    }
   ],
   "source": [
    "@benchmark mudaRugosidade(g1,0.001)"
   ]
  },
  {
   "cell_type": "code",
   "execution_count": 23,
   "metadata": {},
   "outputs": [
    {
     "data": {
      "text/plain": [
       "mudaRugosidade (generic function with 1 method)"
      ]
     },
     "execution_count": 23,
     "metadata": {},
     "output_type": "execute_result"
    }
   ],
   "source": [
    "function mudaRugosidade(grupo, rugosidade)\n",
    "    @simd for i in grupo\n",
    "        em.ENsetlinkvalue(i, em.EN_ROUGHNESS, rugosidade)\n",
    "    end\n",
    "end"
   ]
  },
  {
   "cell_type": "code",
   "execution_count": 24,
   "metadata": {},
   "outputs": [
    {
     "data": {
      "text/plain": [
       "BenchmarkTools.Trial: \n",
       "  memory estimate:  288 bytes\n",
       "  allocs estimate:  18\n",
       "  --------------\n",
       "  minimum time:     2.284 μs (0.00% GC)\n",
       "  median time:      2.532 μs (0.00% GC)\n",
       "  mean time:        2.602 μs (0.00% GC)\n",
       "  maximum time:     7.974 μs (0.00% GC)\n",
       "  --------------\n",
       "  samples:          10000\n",
       "  evals/sample:     9"
      ]
     },
     "execution_count": 24,
     "metadata": {},
     "output_type": "execute_result"
    }
   ],
   "source": [
    "@benchmark mudaRugosidade(g1,0.001)"
   ]
  },
  {
   "cell_type": "code",
   "execution_count": 25,
   "metadata": {},
   "outputs": [
    {
     "name": "stdout",
     "output_type": "stream",
     "text": [
      "\n",
      ";  @ In[23]:2 within `mudaRugosidade'\n",
      "define void @julia_mudaRugosidade_17991(%jl_value_t addrspace(10)* nonnull align 16 dereferenceable(40), double) {\n",
      "top:\n",
      "  %2 = alloca %jl_value_t addrspace(10)*, i32 3\n",
      "  %gcframe = alloca %jl_value_t addrspace(10)*, i32 6, align 16\n",
      "  %3 = bitcast %jl_value_t addrspace(10)** %gcframe to i8*\n",
      "  call void @llvm.memset.p0i8.i32(i8* align 16 %3, i8 0, i32 48, i1 false)\n",
      "  %thread_ptr = call i8* asm \"movq %fs:0, $0\", \"=r\"()\n",
      "  %ptls_i8 = getelementptr i8, i8* %thread_ptr, i64 -15712\n",
      "  %ptls = bitcast i8* %ptls_i8 to %jl_value_t***\n",
      "; ┌ @ simdloop.jl:71 within `macro expansion'\n",
      "; │┌ @ simdloop.jl:51 within `simd_inner_length'\n",
      "; ││┌ @ array.jl:221 within `length'\n",
      "     %4 = getelementptr %jl_value_t addrspace(10)*, %jl_value_t addrspace(10)** %gcframe, i32 0\n",
      "     %5 = bitcast %jl_value_t addrspace(10)** %4 to i64*\n",
      "     store i64 16, i64* %5\n",
      "     %6 = getelementptr %jl_value_t**, %jl_value_t*** %ptls, i32 0\n",
      "     %7 = getelementptr %jl_value_t addrspace(10)*, %jl_value_t addrspace(10)** %gcframe, i32 1\n",
      "     %8 = bitcast %jl_value_t addrspace(10)** %7 to %jl_value_t***\n",
      "     %9 = load %jl_value_t**, %jl_value_t*** %6\n",
      "     store %jl_value_t** %9, %jl_value_t*** %8\n",
      "     %10 = bitcast %jl_value_t*** %6 to %jl_value_t addrspace(10)***\n",
      "     store %jl_value_t addrspace(10)** %gcframe, %jl_value_t addrspace(10)*** %10\n",
      "     %11 = addrspacecast %jl_value_t addrspace(10)* %0 to %jl_value_t addrspace(11)*\n",
      "     %12 = bitcast %jl_value_t addrspace(11)* %11 to %jl_array_t addrspace(11)*\n",
      "     %13 = getelementptr inbounds %jl_array_t, %jl_array_t addrspace(11)* %12, i64 0, i32 1\n",
      "     %14 = load i64, i64 addrspace(11)* %13, align 8\n",
      "; │└└\n",
      "; │ @ simdloop.jl:72 within `macro expansion'\n",
      "; │┌ @ int.jl:49 within `<'\n",
      "    %15 = icmp slt i64 %14, 1\n",
      "; │└\n",
      "   br i1 %15, label %L19, label %L9.lr.ph\n",
      "\n",
      "L9.lr.ph:                                         ; preds = %top\n",
      "   %16 = bitcast %jl_value_t addrspace(11)* %11 to i64 addrspace(13)* addrspace(11)*\n",
      "   %17 = bitcast %jl_value_t*** %ptls to i8*\n",
      "; │ @ simdloop.jl:75 within `macro expansion'\n",
      "   br label %L9\n",
      "\n",
      "L9:                                               ; preds = %L9, %L9.lr.ph\n",
      "   %value_phi2 = phi i64 [ 0, %L9.lr.ph ], [ %44, %L9 ]\n",
      "; │ @ simdloop.jl:76 within `macro expansion'\n",
      "; │┌ @ simdloop.jl:54 within `simd_index'\n",
      "; ││┌ @ array.jl:788 within `getindex'\n",
      "     %18 = load i64 addrspace(13)*, i64 addrspace(13)* addrspace(11)* %16, align 8\n",
      "     %19 = getelementptr inbounds i64, i64 addrspace(13)* %18, i64 %value_phi2\n",
      "     %20 = load i64, i64 addrspace(13)* %19, align 8\n",
      "; │└└\n",
      "; │ @ simdloop.jl:77 within `macro expansion' @ In[23]:3\n",
      "   %21 = load %jl_value_t addrspace(10)*, %jl_value_t addrspace(10)** inttoptr (i64 139926568339208 to %jl_value_t addrspace(10)**), align 8\n",
      "   %22 = getelementptr %jl_value_t addrspace(10)*, %jl_value_t addrspace(10)** %gcframe, i32 2\n",
      "   store %jl_value_t addrspace(10)* %21, %jl_value_t addrspace(10)** %22\n",
      "   %23 = getelementptr %jl_value_t addrspace(10)*, %jl_value_t addrspace(10)** %2, i32 0\n",
      "   store %jl_value_t addrspace(10)* %21, %jl_value_t addrspace(10)** %23\n",
      "   %24 = getelementptr %jl_value_t addrspace(10)*, %jl_value_t addrspace(10)** %2, i32 1\n",
      "   store %jl_value_t addrspace(10)* addrspacecast (%jl_value_t* inttoptr (i64 139927019947848 to %jl_value_t*) to %jl_value_t addrspace(10)*), %jl_value_t addrspace(10)** %24\n",
      "   %25 = call nonnull %jl_value_t addrspace(10)* @jl_apply_generic(%jl_value_t addrspace(10)* addrspacecast (%jl_value_t* inttoptr (i64 139927154082032 to %jl_value_t*) to %jl_value_t addrspace(10)*), %jl_value_t addrspace(10)** %2, i32 2)\n",
      "   %26 = load %jl_value_t addrspace(10)*, %jl_value_t addrspace(10)** inttoptr (i64 139926568339208 to %jl_value_t addrspace(10)**), align 8\n",
      "   %27 = getelementptr %jl_value_t addrspace(10)*, %jl_value_t addrspace(10)** %gcframe, i32 3\n",
      "   store %jl_value_t addrspace(10)* %25, %jl_value_t addrspace(10)** %27\n",
      "   %28 = getelementptr %jl_value_t addrspace(10)*, %jl_value_t addrspace(10)** %gcframe, i32 2\n",
      "   store %jl_value_t addrspace(10)* %26, %jl_value_t addrspace(10)** %28\n",
      "   %29 = getelementptr %jl_value_t addrspace(10)*, %jl_value_t addrspace(10)** %2, i32 0\n",
      "   store %jl_value_t addrspace(10)* %26, %jl_value_t addrspace(10)** %29\n",
      "   %30 = getelementptr %jl_value_t addrspace(10)*, %jl_value_t addrspace(10)** %2, i32 1\n",
      "   store %jl_value_t addrspace(10)* addrspacecast (%jl_value_t* inttoptr (i64 139927019949136 to %jl_value_t*) to %jl_value_t addrspace(10)*), %jl_value_t addrspace(10)** %30\n",
      "   %31 = call nonnull %jl_value_t addrspace(10)* @jl_apply_generic(%jl_value_t addrspace(10)* addrspacecast (%jl_value_t* inttoptr (i64 139927154082032 to %jl_value_t*) to %jl_value_t addrspace(10)*), %jl_value_t addrspace(10)** %2, i32 2)\n",
      "   %32 = getelementptr %jl_value_t addrspace(10)*, %jl_value_t addrspace(10)** %gcframe, i32 4\n",
      "   store %jl_value_t addrspace(10)* %31, %jl_value_t addrspace(10)** %32\n",
      "   %33 = call %jl_value_t addrspace(10)* @jl_box_int64(i64 signext %20)\n",
      "   %34 = getelementptr %jl_value_t addrspace(10)*, %jl_value_t addrspace(10)** %gcframe, i32 5\n",
      "   store %jl_value_t addrspace(10)* %33, %jl_value_t addrspace(10)** %34\n",
      "   %35 = call noalias nonnull %jl_value_t addrspace(10)* @jl_gc_pool_alloc(i8* %17, i32 1400, i32 16) #1\n",
      "   %36 = bitcast %jl_value_t addrspace(10)* %35 to %jl_value_t addrspace(10)* addrspace(10)*\n",
      "   %37 = getelementptr %jl_value_t addrspace(10)*, %jl_value_t addrspace(10)* addrspace(10)* %36, i64 -1\n",
      "   store %jl_value_t addrspace(10)* addrspacecast (%jl_value_t* inttoptr (i64 139927109933872 to %jl_value_t*) to %jl_value_t addrspace(10)*), %jl_value_t addrspace(10)* addrspace(10)* %37\n",
      "   %38 = bitcast %jl_value_t addrspace(10)* %35 to double addrspace(10)*\n",
      "   store double %1, double addrspace(10)* %38, align 8\n",
      "   %39 = getelementptr %jl_value_t addrspace(10)*, %jl_value_t addrspace(10)** %gcframe, i32 2\n",
      "   store %jl_value_t addrspace(10)* %35, %jl_value_t addrspace(10)** %39\n",
      "   %40 = getelementptr %jl_value_t addrspace(10)*, %jl_value_t addrspace(10)** %2, i32 0\n",
      "   store %jl_value_t addrspace(10)* %33, %jl_value_t addrspace(10)** %40\n",
      "   %41 = getelementptr %jl_value_t addrspace(10)*, %jl_value_t addrspace(10)** %2, i32 1\n",
      "   store %jl_value_t addrspace(10)* %31, %jl_value_t addrspace(10)** %41\n",
      "   %42 = getelementptr %jl_value_t addrspace(10)*, %jl_value_t addrspace(10)** %2, i32 2\n",
      "   store %jl_value_t addrspace(10)* %35, %jl_value_t addrspace(10)** %42\n",
      "   %43 = call nonnull %jl_value_t addrspace(10)* @jl_apply_generic(%jl_value_t addrspace(10)* %25, %jl_value_t addrspace(10)** %2, i32 3)\n",
      "; │ @ simdloop.jl:78 within `macro expansion'\n",
      "; │┌ @ int.jl:53 within `+'\n",
      "    %44 = add nuw nsw i64 %value_phi2, 1\n",
      "; │└\n",
      "; │ @ simdloop.jl:75 within `macro expansion'\n",
      "; │┌ @ int.jl:49 within `<'\n",
      "    %exitcond = icmp eq i64 %44, %14\n",
      "; │└\n",
      "   br i1 %exitcond, label %L19, label %L9\n",
      "\n",
      "L19:                                              ; preds = %L9, %top\n",
      "   %45 = getelementptr %jl_value_t addrspace(10)*, %jl_value_t addrspace(10)** %gcframe, i32 1\n",
      "   %46 = load %jl_value_t addrspace(10)*, %jl_value_t addrspace(10)** %45\n",
      "   %47 = getelementptr %jl_value_t**, %jl_value_t*** %ptls, i32 0\n",
      "   %48 = bitcast %jl_value_t*** %47 to %jl_value_t addrspace(10)**\n",
      "   store %jl_value_t addrspace(10)* %46, %jl_value_t addrspace(10)** %48\n",
      "; └\n",
      "  ret void\n",
      "}\n"
     ]
    }
   ],
   "source": [
    "@code_llvm mudaRugosidade(g1,0.001)"
   ]
  },
  {
   "cell_type": "code",
   "execution_count": 26,
   "metadata": {},
   "outputs": [
    {
     "data": {
      "text/plain": [
       "BenchmarkTools.Trial: \n",
       "  memory estimate:  288 bytes\n",
       "  allocs estimate:  18\n",
       "  --------------\n",
       "  minimum time:     2.278 μs (0.00% GC)\n",
       "  median time:      2.533 μs (0.00% GC)\n",
       "  mean time:        2.597 μs (0.00% GC)\n",
       "  maximum time:     8.785 μs (0.00% GC)\n",
       "  --------------\n",
       "  samples:          10000\n",
       "  evals/sample:     9"
      ]
     },
     "execution_count": 26,
     "metadata": {},
     "output_type": "execute_result"
    }
   ],
   "source": [
    "@benchmark mudaRugosidade(g1,0.02)"
   ]
  },
  {
   "cell_type": "code",
   "execution_count": null,
   "metadata": {},
   "outputs": [],
   "source": []
  }
 ],
 "metadata": {
  "kernelspec": {
   "display_name": "Julia 1.4.1",
   "language": "julia",
   "name": "julia-1.4"
  },
  "language_info": {
   "file_extension": ".jl",
   "mimetype": "application/julia",
   "name": "julia",
   "version": "1.4.1"
  }
 },
 "nbformat": 4,
 "nbformat_minor": 4
}
